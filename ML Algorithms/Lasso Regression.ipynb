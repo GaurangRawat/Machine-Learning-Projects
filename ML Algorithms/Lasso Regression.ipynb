{
  "nbformat": 4,
  "nbformat_minor": 0,
  "metadata": {
    "colab": {
      "provenance": [],
      "authorship_tag": "ABX9TyP8BnaWAEGWH51cwNSEzVcr",
      "include_colab_link": true
    },
    "kernelspec": {
      "name": "python3",
      "display_name": "Python 3"
    },
    "language_info": {
      "name": "python"
    }
  },
  "cells": [
    {
      "cell_type": "markdown",
      "metadata": {
        "id": "view-in-github",
        "colab_type": "text"
      },
      "source": [
        "<a href=\"https://colab.research.google.com/github/GaurangRawat/Machine-Learning-Projects/blob/main/ML%20Algorithms/Lasso%20Regression.ipynb\" target=\"_parent\"><img src=\"https://colab.research.google.com/assets/colab-badge.svg\" alt=\"Open In Colab\"/></a>"
      ]
    },
    {
      "cell_type": "code",
      "execution_count": 1,
      "metadata": {
        "id": "y3GYggCXCdW8"
      },
      "outputs": [],
      "source": [
        "import numpy as np\n",
        "import pandas as pd\n",
        "import matplotlib.pyplot as plt\n",
        "\n",
        "from sklearn.datasets import load_diabetes\n",
        "from sklearn.model_selection import train_test_split\n",
        "from sklearn.linear_model import Lasso , LinearRegression\n",
        "from sklearn.metrics import mean_squared_error, r2_score"
      ]
    },
    {
      "cell_type": "code",
      "source": [
        "diabetes = load_diabetes()\n",
        "\n",
        "data = pd.DataFrame(diabetes.data, columns=diabetes.feature_names)\n",
        "data['target'] = diabetes.target"
      ],
      "metadata": {
        "id": "YTffTwA-CuN8"
      },
      "execution_count": 2,
      "outputs": []
    },
    {
      "cell_type": "code",
      "source": [
        "data.head()\n"
      ],
      "metadata": {
        "colab": {
          "base_uri": "https://localhost:8080/",
          "height": 206
        },
        "id": "a-k5zqZVC1wU",
        "outputId": "7cedb78f-44f0-4006-f2ba-11a392f33c7c"
      },
      "execution_count": 4,
      "outputs": [
        {
          "output_type": "execute_result",
          "data": {
            "text/plain": [
              "        age       sex       bmi        bp        s1        s2        s3  \\\n",
              "0  0.038076  0.050680  0.061696  0.021872 -0.044223 -0.034821 -0.043401   \n",
              "1 -0.001882 -0.044642 -0.051474 -0.026328 -0.008449 -0.019163  0.074412   \n",
              "2  0.085299  0.050680  0.044451 -0.005670 -0.045599 -0.034194 -0.032356   \n",
              "3 -0.089063 -0.044642 -0.011595 -0.036656  0.012191  0.024991 -0.036038   \n",
              "4  0.005383 -0.044642 -0.036385  0.021872  0.003935  0.015596  0.008142   \n",
              "\n",
              "         s4        s5        s6  target  \n",
              "0 -0.002592  0.019907 -0.017646   151.0  \n",
              "1 -0.039493 -0.068332 -0.092204    75.0  \n",
              "2 -0.002592  0.002861 -0.025930   141.0  \n",
              "3  0.034309  0.022688 -0.009362   206.0  \n",
              "4 -0.002592 -0.031988 -0.046641   135.0  "
            ],
            "text/html": [
              "\n",
              "  <div id=\"df-8c6772a5-3809-48d7-be82-3c99451d77c6\" class=\"colab-df-container\">\n",
              "    <div>\n",
              "<style scoped>\n",
              "    .dataframe tbody tr th:only-of-type {\n",
              "        vertical-align: middle;\n",
              "    }\n",
              "\n",
              "    .dataframe tbody tr th {\n",
              "        vertical-align: top;\n",
              "    }\n",
              "\n",
              "    .dataframe thead th {\n",
              "        text-align: right;\n",
              "    }\n",
              "</style>\n",
              "<table border=\"1\" class=\"dataframe\">\n",
              "  <thead>\n",
              "    <tr style=\"text-align: right;\">\n",
              "      <th></th>\n",
              "      <th>age</th>\n",
              "      <th>sex</th>\n",
              "      <th>bmi</th>\n",
              "      <th>bp</th>\n",
              "      <th>s1</th>\n",
              "      <th>s2</th>\n",
              "      <th>s3</th>\n",
              "      <th>s4</th>\n",
              "      <th>s5</th>\n",
              "      <th>s6</th>\n",
              "      <th>target</th>\n",
              "    </tr>\n",
              "  </thead>\n",
              "  <tbody>\n",
              "    <tr>\n",
              "      <th>0</th>\n",
              "      <td>0.038076</td>\n",
              "      <td>0.050680</td>\n",
              "      <td>0.061696</td>\n",
              "      <td>0.021872</td>\n",
              "      <td>-0.044223</td>\n",
              "      <td>-0.034821</td>\n",
              "      <td>-0.043401</td>\n",
              "      <td>-0.002592</td>\n",
              "      <td>0.019907</td>\n",
              "      <td>-0.017646</td>\n",
              "      <td>151.0</td>\n",
              "    </tr>\n",
              "    <tr>\n",
              "      <th>1</th>\n",
              "      <td>-0.001882</td>\n",
              "      <td>-0.044642</td>\n",
              "      <td>-0.051474</td>\n",
              "      <td>-0.026328</td>\n",
              "      <td>-0.008449</td>\n",
              "      <td>-0.019163</td>\n",
              "      <td>0.074412</td>\n",
              "      <td>-0.039493</td>\n",
              "      <td>-0.068332</td>\n",
              "      <td>-0.092204</td>\n",
              "      <td>75.0</td>\n",
              "    </tr>\n",
              "    <tr>\n",
              "      <th>2</th>\n",
              "      <td>0.085299</td>\n",
              "      <td>0.050680</td>\n",
              "      <td>0.044451</td>\n",
              "      <td>-0.005670</td>\n",
              "      <td>-0.045599</td>\n",
              "      <td>-0.034194</td>\n",
              "      <td>-0.032356</td>\n",
              "      <td>-0.002592</td>\n",
              "      <td>0.002861</td>\n",
              "      <td>-0.025930</td>\n",
              "      <td>141.0</td>\n",
              "    </tr>\n",
              "    <tr>\n",
              "      <th>3</th>\n",
              "      <td>-0.089063</td>\n",
              "      <td>-0.044642</td>\n",
              "      <td>-0.011595</td>\n",
              "      <td>-0.036656</td>\n",
              "      <td>0.012191</td>\n",
              "      <td>0.024991</td>\n",
              "      <td>-0.036038</td>\n",
              "      <td>0.034309</td>\n",
              "      <td>0.022688</td>\n",
              "      <td>-0.009362</td>\n",
              "      <td>206.0</td>\n",
              "    </tr>\n",
              "    <tr>\n",
              "      <th>4</th>\n",
              "      <td>0.005383</td>\n",
              "      <td>-0.044642</td>\n",
              "      <td>-0.036385</td>\n",
              "      <td>0.021872</td>\n",
              "      <td>0.003935</td>\n",
              "      <td>0.015596</td>\n",
              "      <td>0.008142</td>\n",
              "      <td>-0.002592</td>\n",
              "      <td>-0.031988</td>\n",
              "      <td>-0.046641</td>\n",
              "      <td>135.0</td>\n",
              "    </tr>\n",
              "  </tbody>\n",
              "</table>\n",
              "</div>\n",
              "    <div class=\"colab-df-buttons\">\n",
              "\n",
              "  <div class=\"colab-df-container\">\n",
              "    <button class=\"colab-df-convert\" onclick=\"convertToInteractive('df-8c6772a5-3809-48d7-be82-3c99451d77c6')\"\n",
              "            title=\"Convert this dataframe to an interactive table.\"\n",
              "            style=\"display:none;\">\n",
              "\n",
              "  <svg xmlns=\"http://www.w3.org/2000/svg\" height=\"24px\" viewBox=\"0 -960 960 960\">\n",
              "    <path d=\"M120-120v-720h720v720H120Zm60-500h600v-160H180v160Zm220 220h160v-160H400v160Zm0 220h160v-160H400v160ZM180-400h160v-160H180v160Zm440 0h160v-160H620v160ZM180-180h160v-160H180v160Zm440 0h160v-160H620v160Z\"/>\n",
              "  </svg>\n",
              "    </button>\n",
              "\n",
              "  <style>\n",
              "    .colab-df-container {\n",
              "      display:flex;\n",
              "      gap: 12px;\n",
              "    }\n",
              "\n",
              "    .colab-df-convert {\n",
              "      background-color: #E8F0FE;\n",
              "      border: none;\n",
              "      border-radius: 50%;\n",
              "      cursor: pointer;\n",
              "      display: none;\n",
              "      fill: #1967D2;\n",
              "      height: 32px;\n",
              "      padding: 0 0 0 0;\n",
              "      width: 32px;\n",
              "    }\n",
              "\n",
              "    .colab-df-convert:hover {\n",
              "      background-color: #E2EBFA;\n",
              "      box-shadow: 0px 1px 2px rgba(60, 64, 67, 0.3), 0px 1px 3px 1px rgba(60, 64, 67, 0.15);\n",
              "      fill: #174EA6;\n",
              "    }\n",
              "\n",
              "    .colab-df-buttons div {\n",
              "      margin-bottom: 4px;\n",
              "    }\n",
              "\n",
              "    [theme=dark] .colab-df-convert {\n",
              "      background-color: #3B4455;\n",
              "      fill: #D2E3FC;\n",
              "    }\n",
              "\n",
              "    [theme=dark] .colab-df-convert:hover {\n",
              "      background-color: #434B5C;\n",
              "      box-shadow: 0px 1px 3px 1px rgba(0, 0, 0, 0.15);\n",
              "      filter: drop-shadow(0px 1px 2px rgba(0, 0, 0, 0.3));\n",
              "      fill: #FFFFFF;\n",
              "    }\n",
              "  </style>\n",
              "\n",
              "    <script>\n",
              "      const buttonEl =\n",
              "        document.querySelector('#df-8c6772a5-3809-48d7-be82-3c99451d77c6 button.colab-df-convert');\n",
              "      buttonEl.style.display =\n",
              "        google.colab.kernel.accessAllowed ? 'block' : 'none';\n",
              "\n",
              "      async function convertToInteractive(key) {\n",
              "        const element = document.querySelector('#df-8c6772a5-3809-48d7-be82-3c99451d77c6');\n",
              "        const dataTable =\n",
              "          await google.colab.kernel.invokeFunction('convertToInteractive',\n",
              "                                                    [key], {});\n",
              "        if (!dataTable) return;\n",
              "\n",
              "        const docLinkHtml = 'Like what you see? Visit the ' +\n",
              "          '<a target=\"_blank\" href=https://colab.research.google.com/notebooks/data_table.ipynb>data table notebook</a>'\n",
              "          + ' to learn more about interactive tables.';\n",
              "        element.innerHTML = '';\n",
              "        dataTable['output_type'] = 'display_data';\n",
              "        await google.colab.output.renderOutput(dataTable, element);\n",
              "        const docLink = document.createElement('div');\n",
              "        docLink.innerHTML = docLinkHtml;\n",
              "        element.appendChild(docLink);\n",
              "      }\n",
              "    </script>\n",
              "  </div>\n",
              "\n",
              "\n",
              "<div id=\"df-a47a39e1-c0f5-4370-9b35-1da6bc204400\">\n",
              "  <button class=\"colab-df-quickchart\" onclick=\"quickchart('df-a47a39e1-c0f5-4370-9b35-1da6bc204400')\"\n",
              "            title=\"Suggest charts\"\n",
              "            style=\"display:none;\">\n",
              "\n",
              "<svg xmlns=\"http://www.w3.org/2000/svg\" height=\"24px\"viewBox=\"0 0 24 24\"\n",
              "     width=\"24px\">\n",
              "    <g>\n",
              "        <path d=\"M19 3H5c-1.1 0-2 .9-2 2v14c0 1.1.9 2 2 2h14c1.1 0 2-.9 2-2V5c0-1.1-.9-2-2-2zM9 17H7v-7h2v7zm4 0h-2V7h2v10zm4 0h-2v-4h2v4z\"/>\n",
              "    </g>\n",
              "</svg>\n",
              "  </button>\n",
              "\n",
              "<style>\n",
              "  .colab-df-quickchart {\n",
              "      --bg-color: #E8F0FE;\n",
              "      --fill-color: #1967D2;\n",
              "      --hover-bg-color: #E2EBFA;\n",
              "      --hover-fill-color: #174EA6;\n",
              "      --disabled-fill-color: #AAA;\n",
              "      --disabled-bg-color: #DDD;\n",
              "  }\n",
              "\n",
              "  [theme=dark] .colab-df-quickchart {\n",
              "      --bg-color: #3B4455;\n",
              "      --fill-color: #D2E3FC;\n",
              "      --hover-bg-color: #434B5C;\n",
              "      --hover-fill-color: #FFFFFF;\n",
              "      --disabled-bg-color: #3B4455;\n",
              "      --disabled-fill-color: #666;\n",
              "  }\n",
              "\n",
              "  .colab-df-quickchart {\n",
              "    background-color: var(--bg-color);\n",
              "    border: none;\n",
              "    border-radius: 50%;\n",
              "    cursor: pointer;\n",
              "    display: none;\n",
              "    fill: var(--fill-color);\n",
              "    height: 32px;\n",
              "    padding: 0;\n",
              "    width: 32px;\n",
              "  }\n",
              "\n",
              "  .colab-df-quickchart:hover {\n",
              "    background-color: var(--hover-bg-color);\n",
              "    box-shadow: 0 1px 2px rgba(60, 64, 67, 0.3), 0 1px 3px 1px rgba(60, 64, 67, 0.15);\n",
              "    fill: var(--button-hover-fill-color);\n",
              "  }\n",
              "\n",
              "  .colab-df-quickchart-complete:disabled,\n",
              "  .colab-df-quickchart-complete:disabled:hover {\n",
              "    background-color: var(--disabled-bg-color);\n",
              "    fill: var(--disabled-fill-color);\n",
              "    box-shadow: none;\n",
              "  }\n",
              "\n",
              "  .colab-df-spinner {\n",
              "    border: 2px solid var(--fill-color);\n",
              "    border-color: transparent;\n",
              "    border-bottom-color: var(--fill-color);\n",
              "    animation:\n",
              "      spin 1s steps(1) infinite;\n",
              "  }\n",
              "\n",
              "  @keyframes spin {\n",
              "    0% {\n",
              "      border-color: transparent;\n",
              "      border-bottom-color: var(--fill-color);\n",
              "      border-left-color: var(--fill-color);\n",
              "    }\n",
              "    20% {\n",
              "      border-color: transparent;\n",
              "      border-left-color: var(--fill-color);\n",
              "      border-top-color: var(--fill-color);\n",
              "    }\n",
              "    30% {\n",
              "      border-color: transparent;\n",
              "      border-left-color: var(--fill-color);\n",
              "      border-top-color: var(--fill-color);\n",
              "      border-right-color: var(--fill-color);\n",
              "    }\n",
              "    40% {\n",
              "      border-color: transparent;\n",
              "      border-right-color: var(--fill-color);\n",
              "      border-top-color: var(--fill-color);\n",
              "    }\n",
              "    60% {\n",
              "      border-color: transparent;\n",
              "      border-right-color: var(--fill-color);\n",
              "    }\n",
              "    80% {\n",
              "      border-color: transparent;\n",
              "      border-right-color: var(--fill-color);\n",
              "      border-bottom-color: var(--fill-color);\n",
              "    }\n",
              "    90% {\n",
              "      border-color: transparent;\n",
              "      border-bottom-color: var(--fill-color);\n",
              "    }\n",
              "  }\n",
              "</style>\n",
              "\n",
              "  <script>\n",
              "    async function quickchart(key) {\n",
              "      const quickchartButtonEl =\n",
              "        document.querySelector('#' + key + ' button');\n",
              "      quickchartButtonEl.disabled = true;  // To prevent multiple clicks.\n",
              "      quickchartButtonEl.classList.add('colab-df-spinner');\n",
              "      try {\n",
              "        const charts = await google.colab.kernel.invokeFunction(\n",
              "            'suggestCharts', [key], {});\n",
              "      } catch (error) {\n",
              "        console.error('Error during call to suggestCharts:', error);\n",
              "      }\n",
              "      quickchartButtonEl.classList.remove('colab-df-spinner');\n",
              "      quickchartButtonEl.classList.add('colab-df-quickchart-complete');\n",
              "    }\n",
              "    (() => {\n",
              "      let quickchartButtonEl =\n",
              "        document.querySelector('#df-a47a39e1-c0f5-4370-9b35-1da6bc204400 button');\n",
              "      quickchartButtonEl.style.display =\n",
              "        google.colab.kernel.accessAllowed ? 'block' : 'none';\n",
              "    })();\n",
              "  </script>\n",
              "</div>\n",
              "\n",
              "    </div>\n",
              "  </div>\n"
            ],
            "application/vnd.google.colaboratory.intrinsic+json": {
              "type": "dataframe",
              "variable_name": "data",
              "summary": "{\n  \"name\": \"data\",\n  \"rows\": 442,\n  \"fields\": [\n    {\n      \"column\": \"age\",\n      \"properties\": {\n        \"dtype\": \"number\",\n        \"std\": 0.0476190476190476,\n        \"min\": -0.1072256316073538,\n        \"max\": 0.11072667545381144,\n        \"num_unique_values\": 58,\n        \"samples\": [\n          0.038075906433423026,\n          -0.09269547780327612,\n          0.01991321417832592\n        ],\n        \"semantic_type\": \"\",\n        \"description\": \"\"\n      }\n    },\n    {\n      \"column\": \"sex\",\n      \"properties\": {\n        \"dtype\": \"number\",\n        \"std\": 0.0476190476190478,\n        \"min\": -0.044641636506989144,\n        \"max\": 0.05068011873981862,\n        \"num_unique_values\": 2,\n        \"samples\": [\n          -0.044641636506989144,\n          0.05068011873981862\n        ],\n        \"semantic_type\": \"\",\n        \"description\": \"\"\n      }\n    },\n    {\n      \"column\": \"bmi\",\n      \"properties\": {\n        \"dtype\": \"number\",\n        \"std\": 0.04761904761904761,\n        \"min\": -0.09027529589850945,\n        \"max\": 0.17055522598064407,\n        \"num_unique_values\": 163,\n        \"samples\": [\n          0.008883414898524095,\n          -0.05470749746044306\n        ],\n        \"semantic_type\": \"\",\n        \"description\": \"\"\n      }\n    },\n    {\n      \"column\": \"bp\",\n      \"properties\": {\n        \"dtype\": \"number\",\n        \"std\": 0.04761904761904762,\n        \"min\": -0.11239880254408448,\n        \"max\": 0.13204361674121307,\n        \"num_unique_values\": 100,\n        \"samples\": [\n          0.03333707926361473,\n          0.02531523648988596\n        ],\n        \"semantic_type\": \"\",\n        \"description\": \"\"\n      }\n    },\n    {\n      \"column\": \"s1\",\n      \"properties\": {\n        \"dtype\": \"number\",\n        \"std\": 0.047619047619047554,\n        \"min\": -0.12678066991651324,\n        \"max\": 0.15391371315651542,\n        \"num_unique_values\": 141,\n        \"samples\": [\n          0.041085578784023497,\n          0.08374011738825825\n        ],\n        \"semantic_type\": \"\",\n        \"description\": \"\"\n      }\n    },\n    {\n      \"column\": \"s2\",\n      \"properties\": {\n        \"dtype\": \"number\",\n        \"std\": 0.047619047619047644,\n        \"min\": -0.11561306597939897,\n        \"max\": 0.19878798965729408,\n        \"num_unique_values\": 302,\n        \"samples\": [\n          0.07415490186505921,\n          0.07008397186179521\n        ],\n        \"semantic_type\": \"\",\n        \"description\": \"\"\n      }\n    },\n    {\n      \"column\": \"s3\",\n      \"properties\": {\n        \"dtype\": \"number\",\n        \"std\": 0.04761904761904758,\n        \"min\": -0.10230705051741597,\n        \"max\": 0.18117906039727852,\n        \"num_unique_values\": 63,\n        \"samples\": [\n          0.09281975309919192,\n          0.15908923357275687\n        ],\n        \"semantic_type\": \"\",\n        \"description\": \"\"\n      }\n    },\n    {\n      \"column\": \"s4\",\n      \"properties\": {\n        \"dtype\": \"number\",\n        \"std\": 0.047619047619047554,\n        \"min\": -0.0763945037500033,\n        \"max\": 0.18523444326019867,\n        \"num_unique_values\": 66,\n        \"samples\": [\n          0.08670845052151895,\n          -0.024732934523729287\n        ],\n        \"semantic_type\": \"\",\n        \"description\": \"\"\n      }\n    },\n    {\n      \"column\": \"s5\",\n      \"properties\": {\n        \"dtype\": \"number\",\n        \"std\": 0.04761904761904763,\n        \"min\": -0.12609712083330468,\n        \"max\": 0.13359728192191356,\n        \"num_unique_values\": 184,\n        \"samples\": [\n          -0.07213275338232743,\n          -0.021395309255276825\n        ],\n        \"semantic_type\": \"\",\n        \"description\": \"\"\n      }\n    },\n    {\n      \"column\": \"s6\",\n      \"properties\": {\n        \"dtype\": \"number\",\n        \"std\": 0.04761904761904766,\n        \"min\": -0.13776722569000302,\n        \"max\": 0.13561183068907107,\n        \"num_unique_values\": 56,\n        \"samples\": [\n          -0.01764612515980379,\n          -0.09634615654165846\n        ],\n        \"semantic_type\": \"\",\n        \"description\": \"\"\n      }\n    },\n    {\n      \"column\": \"target\",\n      \"properties\": {\n        \"dtype\": \"number\",\n        \"std\": 77.09300453299109,\n        \"min\": 25.0,\n        \"max\": 346.0,\n        \"num_unique_values\": 214,\n        \"samples\": [\n          310.0,\n          140.0\n        ],\n        \"semantic_type\": \"\",\n        \"description\": \"\"\n      }\n    }\n  ]\n}"
            }
          },
          "metadata": {},
          "execution_count": 4
        }
      ]
    },
    {
      "cell_type": "code",
      "source": [
        "X = data.drop('target', axis=1)\n",
        "y = data['target']\n",
        "\n",
        "X_train, X_test, y_train, y_test = train_test_split(X, y, test_size=0.2, random_state=42)"
      ],
      "metadata": {
        "id": "FSyG0UiAC6FS"
      },
      "execution_count": 5,
      "outputs": []
    },
    {
      "cell_type": "markdown",
      "source": [
        "#**Applying Linear Regression**\n",
        "\n",
        "---"
      ],
      "metadata": {
        "id": "BITOD1-0DBIJ"
      }
    },
    {
      "cell_type": "code",
      "source": [
        "lr = LinearRegression()\n",
        "\n",
        "lr.fit(X_train, y_train)\n",
        "\n",
        "y_pred = lr.predict(X_test)"
      ],
      "metadata": {
        "id": "QCnveol8C_Gh"
      },
      "execution_count": 6,
      "outputs": []
    },
    {
      "cell_type": "code",
      "source": [
        "y_pred"
      ],
      "metadata": {
        "colab": {
          "base_uri": "https://localhost:8080/"
        },
        "id": "0B4tQHVRDQIX",
        "outputId": "93d3786e-2fa1-49e5-e9ec-e50f72275b32"
      },
      "execution_count": 7,
      "outputs": [
        {
          "output_type": "execute_result",
          "data": {
            "text/plain": [
              "array([139.5475584 , 179.51720835, 134.03875572, 291.41702925,\n",
              "       123.78965872,  92.1723465 , 258.23238899, 181.33732057,\n",
              "        90.22411311, 108.63375858,  94.13865744, 168.43486358,\n",
              "        53.5047888 , 206.63081659, 100.12925869, 130.66657085,\n",
              "       219.53071499, 250.7803234 , 196.3688346 , 218.57511815,\n",
              "       207.35050182,  88.48340941,  70.43285917, 188.95914235,\n",
              "       154.8868162 , 159.36170122, 188.31263363, 180.39094033,\n",
              "        47.99046561, 108.97453871, 174.77897633,  86.36406656,\n",
              "       132.95761215, 184.53819483, 173.83220911, 190.35858492,\n",
              "       124.4156176 , 119.65110656, 147.95168682,  59.05405241,\n",
              "        71.62331856, 107.68284704, 165.45365458, 155.00975931,\n",
              "       171.04799096,  61.45761356,  71.66672581, 114.96732206,\n",
              "        51.57975523, 167.57599528, 152.52291955,  62.95568515,\n",
              "       103.49741722, 109.20751489, 175.64118426, 154.60296242,\n",
              "        94.41704366, 210.74209145, 120.2566205 ,  77.61585399,\n",
              "       187.93203995, 206.49337474, 140.63167076, 105.59678023,\n",
              "       130.70432536, 202.18534537, 171.13039501, 164.91423047,\n",
              "       124.72472569, 144.81030894, 181.99635452, 199.41369642,\n",
              "       234.21436188, 145.95665512,  79.86703276, 157.36941275,\n",
              "       192.74412541, 208.89814032, 158.58722555, 206.02195855,\n",
              "       107.47971675, 140.93598906,  54.82129332,  55.92573195,\n",
              "       115.01180018,  78.95584188,  81.56087285,  54.37997256,\n",
              "       166.2543518 ])"
            ]
          },
          "metadata": {},
          "execution_count": 7
        }
      ]
    },
    {
      "cell_type": "code",
      "source": [
        "mse = mean_squared_error(y_test, y_pred)\n",
        "r2 = r2_score(y_test, y_pred)\n",
        "\n",
        "print(f\"Mean Squared Error: {mse}\")\n",
        "print(f\"R^2 Score: {r2}\")"
      ],
      "metadata": {
        "colab": {
          "base_uri": "https://localhost:8080/"
        },
        "id": "rM8NHBp5DS4n",
        "outputId": "f77d7694-ba18-4c73-e655-58113f5561bc"
      },
      "execution_count": 8,
      "outputs": [
        {
          "output_type": "stream",
          "name": "stdout",
          "text": [
            "Mean Squared Error: 2900.193628493482\n",
            "R^2 Score: 0.4526027629719195\n"
          ]
        }
      ]
    },
    {
      "cell_type": "code",
      "source": [
        "# Display the coefficients\n",
        "coef = pd.Series(lr.coef_, index=X.columns)"
      ],
      "metadata": {
        "id": "CB-jIz0eDVwP"
      },
      "execution_count": 9,
      "outputs": []
    },
    {
      "cell_type": "code",
      "source": [
        "coef"
      ],
      "metadata": {
        "colab": {
          "base_uri": "https://localhost:8080/",
          "height": 397
        },
        "id": "A6_ZS27ZDYR-",
        "outputId": "35bba574-57a2-4e62-9d75-f67961c07d45"
      },
      "execution_count": 10,
      "outputs": [
        {
          "output_type": "execute_result",
          "data": {
            "text/plain": [
              "age     37.904021\n",
              "sex   -241.964362\n",
              "bmi    542.428759\n",
              "bp     347.703844\n",
              "s1    -931.488846\n",
              "s2     518.062277\n",
              "s3     163.419983\n",
              "s4     275.317902\n",
              "s5     736.198859\n",
              "s6      48.670657\n",
              "dtype: float64"
            ],
            "text/html": [
              "<div>\n",
              "<style scoped>\n",
              "    .dataframe tbody tr th:only-of-type {\n",
              "        vertical-align: middle;\n",
              "    }\n",
              "\n",
              "    .dataframe tbody tr th {\n",
              "        vertical-align: top;\n",
              "    }\n",
              "\n",
              "    .dataframe thead th {\n",
              "        text-align: right;\n",
              "    }\n",
              "</style>\n",
              "<table border=\"1\" class=\"dataframe\">\n",
              "  <thead>\n",
              "    <tr style=\"text-align: right;\">\n",
              "      <th></th>\n",
              "      <th>0</th>\n",
              "    </tr>\n",
              "  </thead>\n",
              "  <tbody>\n",
              "    <tr>\n",
              "      <th>age</th>\n",
              "      <td>37.904021</td>\n",
              "    </tr>\n",
              "    <tr>\n",
              "      <th>sex</th>\n",
              "      <td>-241.964362</td>\n",
              "    </tr>\n",
              "    <tr>\n",
              "      <th>bmi</th>\n",
              "      <td>542.428759</td>\n",
              "    </tr>\n",
              "    <tr>\n",
              "      <th>bp</th>\n",
              "      <td>347.703844</td>\n",
              "    </tr>\n",
              "    <tr>\n",
              "      <th>s1</th>\n",
              "      <td>-931.488846</td>\n",
              "    </tr>\n",
              "    <tr>\n",
              "      <th>s2</th>\n",
              "      <td>518.062277</td>\n",
              "    </tr>\n",
              "    <tr>\n",
              "      <th>s3</th>\n",
              "      <td>163.419983</td>\n",
              "    </tr>\n",
              "    <tr>\n",
              "      <th>s4</th>\n",
              "      <td>275.317902</td>\n",
              "    </tr>\n",
              "    <tr>\n",
              "      <th>s5</th>\n",
              "      <td>736.198859</td>\n",
              "    </tr>\n",
              "    <tr>\n",
              "      <th>s6</th>\n",
              "      <td>48.670657</td>\n",
              "    </tr>\n",
              "  </tbody>\n",
              "</table>\n",
              "</div><br><label><b>dtype:</b> float64</label>"
            ]
          },
          "metadata": {},
          "execution_count": 10
        }
      ]
    },
    {
      "cell_type": "markdown",
      "source": [
        "#**Applying Lasso Regression**\n",
        "\n",
        "---"
      ],
      "metadata": {
        "id": "aVHyHOaiDf2k"
      }
    },
    {
      "cell_type": "code",
      "source": [
        "lasso = Lasso(alpha=0.1)\n",
        "\n",
        "lasso.fit(X_train, y_train)\n",
        "\n",
        "y_pred = lasso.predict(X_test)"
      ],
      "metadata": {
        "id": "wgaabvVJDa4A"
      },
      "execution_count": 11,
      "outputs": []
    },
    {
      "cell_type": "code",
      "source": [
        "mse = mean_squared_error(y_test, y_pred)\n",
        "r2 = r2_score(y_test, y_pred)\n",
        "\n",
        "print(f\"Mean Squared Error: {mse}\")\n",
        "print(f\"R^2 Score: {r2}\")"
      ],
      "metadata": {
        "colab": {
          "base_uri": "https://localhost:8080/"
        },
        "id": "HuPi88sLDovD",
        "outputId": "913e2983-b12d-4955-d8f3-c45f5f455014"
      },
      "execution_count": 12,
      "outputs": [
        {
          "output_type": "stream",
          "name": "stdout",
          "text": [
            "Mean Squared Error: 2798.193485169719\n",
            "R^2 Score: 0.4718547867276227\n"
          ]
        }
      ]
    },
    {
      "cell_type": "code",
      "source": [
        "# Display the coefficients\n",
        "coef = pd.Series(lasso.coef_, index=X.columns)"
      ],
      "metadata": {
        "id": "oE5JBJbDDrUT"
      },
      "execution_count": 13,
      "outputs": []
    },
    {
      "cell_type": "code",
      "source": [
        "lasso.intercept_"
      ],
      "metadata": {
        "colab": {
          "base_uri": "https://localhost:8080/"
        },
        "id": "lKR1xOp6Dw6C",
        "outputId": "ec3c4dac-9395-41d3-f65d-d9427cb03c43"
      },
      "execution_count": 14,
      "outputs": [
        {
          "output_type": "execute_result",
          "data": {
            "text/plain": [
              "151.57485282893947"
            ]
          },
          "metadata": {},
          "execution_count": 14
        }
      ]
    },
    {
      "cell_type": "code",
      "source": [
        "coef"
      ],
      "metadata": {
        "colab": {
          "base_uri": "https://localhost:8080/",
          "height": 397
        },
        "id": "AfbQKHmbDzMt",
        "outputId": "72bbf526-da38-4e21-bbeb-cc7667ce5012"
      },
      "execution_count": 15,
      "outputs": [
        {
          "output_type": "execute_result",
          "data": {
            "text/plain": [
              "age      0.000000\n",
              "sex   -152.664779\n",
              "bmi    552.697775\n",
              "bp     303.365158\n",
              "s1     -81.365007\n",
              "s2      -0.000000\n",
              "s3    -229.255776\n",
              "s4       0.000000\n",
              "s5     447.919525\n",
              "s6      29.642617\n",
              "dtype: float64"
            ],
            "text/html": [
              "<div>\n",
              "<style scoped>\n",
              "    .dataframe tbody tr th:only-of-type {\n",
              "        vertical-align: middle;\n",
              "    }\n",
              "\n",
              "    .dataframe tbody tr th {\n",
              "        vertical-align: top;\n",
              "    }\n",
              "\n",
              "    .dataframe thead th {\n",
              "        text-align: right;\n",
              "    }\n",
              "</style>\n",
              "<table border=\"1\" class=\"dataframe\">\n",
              "  <thead>\n",
              "    <tr style=\"text-align: right;\">\n",
              "      <th></th>\n",
              "      <th>0</th>\n",
              "    </tr>\n",
              "  </thead>\n",
              "  <tbody>\n",
              "    <tr>\n",
              "      <th>age</th>\n",
              "      <td>0.000000</td>\n",
              "    </tr>\n",
              "    <tr>\n",
              "      <th>sex</th>\n",
              "      <td>-152.664779</td>\n",
              "    </tr>\n",
              "    <tr>\n",
              "      <th>bmi</th>\n",
              "      <td>552.697775</td>\n",
              "    </tr>\n",
              "    <tr>\n",
              "      <th>bp</th>\n",
              "      <td>303.365158</td>\n",
              "    </tr>\n",
              "    <tr>\n",
              "      <th>s1</th>\n",
              "      <td>-81.365007</td>\n",
              "    </tr>\n",
              "    <tr>\n",
              "      <th>s2</th>\n",
              "      <td>-0.000000</td>\n",
              "    </tr>\n",
              "    <tr>\n",
              "      <th>s3</th>\n",
              "      <td>-229.255776</td>\n",
              "    </tr>\n",
              "    <tr>\n",
              "      <th>s4</th>\n",
              "      <td>0.000000</td>\n",
              "    </tr>\n",
              "    <tr>\n",
              "      <th>s5</th>\n",
              "      <td>447.919525</td>\n",
              "    </tr>\n",
              "    <tr>\n",
              "      <th>s6</th>\n",
              "      <td>29.642617</td>\n",
              "    </tr>\n",
              "  </tbody>\n",
              "</table>\n",
              "</div><br><label><b>dtype:</b> float64</label>"
            ]
          },
          "metadata": {},
          "execution_count": 15
        }
      ]
    },
    {
      "cell_type": "markdown",
      "source": [
        "#**Sparcity In Lasso**\n",
        "\n",
        "---"
      ],
      "metadata": {
        "id": "iyZ8zsrUD2bK"
      }
    },
    {
      "cell_type": "code",
      "source": [
        "from sklearn.datasets import make_regression\n",
        "from sklearn.preprocessing import StandardScaler\n"
      ],
      "metadata": {
        "id": "CvGLo5EqD1bF"
      },
      "execution_count": 16,
      "outputs": []
    },
    {
      "cell_type": "code",
      "source": [
        "np.random.seed()"
      ],
      "metadata": {
        "id": "COvAlhtXENwX"
      },
      "execution_count": 17,
      "outputs": []
    },
    {
      "cell_type": "code",
      "source": [
        "X, y = make_regression(n_samples=1000, n_features=100, n_informative=10, noise=0.1, random_state=42)"
      ],
      "metadata": {
        "id": "-q-aPok5ERSh"
      },
      "execution_count": 18,
      "outputs": []
    },
    {
      "cell_type": "code",
      "source": [
        "feature_names = [f'feature_{i}' for i in range(X.shape[1])]\n",
        "data = pd.DataFrame(X, columns=feature_names)\n",
        "data['target'] = y\n",
        "\n",
        "data.head()"
      ],
      "metadata": {
        "colab": {
          "base_uri": "https://localhost:8080/",
          "height": 255
        },
        "id": "326gWXnrEUdR",
        "outputId": "f090230e-33f4-4e61-91e8-887697e1eee6"
      },
      "execution_count": 19,
      "outputs": [
        {
          "output_type": "execute_result",
          "data": {
            "text/plain": [
              "   feature_0  feature_1  feature_2  feature_3  feature_4  feature_5  \\\n",
              "0  -0.353273  -1.469201  -0.748674   0.568326   0.442359  -0.209873   \n",
              "1   0.257256   2.140309  -0.630692  -0.572608  -0.171383   0.338625   \n",
              "2   0.781233  -0.657438   1.976438  -0.169421  -0.920985   0.474556   \n",
              "3  -2.358464   0.204154  -1.579345   0.289784  -0.174711  -0.024830   \n",
              "4  -0.448543   1.635798   0.564842   0.211397  -0.318748  -1.472037   \n",
              "\n",
              "   feature_6  feature_7  feature_8  feature_9  ...  feature_91  feature_92  \\\n",
              "0   0.482965  -0.086548  -0.276123   0.328453  ...   -0.721595   -0.627373   \n",
              "1   1.846603  -0.085243  -0.202000   0.927974  ...    0.347883   -0.447221   \n",
              "2  -0.210418   0.612659  -0.205452   0.967930  ...   -0.151687   -0.320438   \n",
              "3  -1.862864  -0.585063  -0.133526   0.454331  ...   -0.825769   -0.228151   \n",
              "4   0.644518   0.808036  -1.389299  -0.114802  ...    0.305243   -0.048965   \n",
              "\n",
              "   feature_93  feature_94  feature_95  feature_96  feature_97  feature_98  \\\n",
              "0    2.202578    1.795924   -0.397011    1.392781   -0.719678    0.244672   \n",
              "1   -0.185935    0.549527    0.739119   -1.233837   -1.265086   -0.095604   \n",
              "2    0.389994    1.184124   -1.637070   -0.513537    1.676920   -0.630121   \n",
              "3   -0.014925    0.435048    0.362451   -0.488274    0.282450    2.384598   \n",
              "4   -0.739771   -0.143259    1.040062   -1.400071    0.711411    1.122374   \n",
              "\n",
              "   feature_99      target  \n",
              "0   -2.457507 -234.747811  \n",
              "1   -0.745764   51.233025  \n",
              "2   -1.034070 -106.716029  \n",
              "3   -0.429833  -55.619155  \n",
              "4    1.378470 -111.074505  \n",
              "\n",
              "[5 rows x 101 columns]"
            ],
            "text/html": [
              "\n",
              "  <div id=\"df-75a844a8-fe8f-4452-bafe-6f2dc5024c36\" class=\"colab-df-container\">\n",
              "    <div>\n",
              "<style scoped>\n",
              "    .dataframe tbody tr th:only-of-type {\n",
              "        vertical-align: middle;\n",
              "    }\n",
              "\n",
              "    .dataframe tbody tr th {\n",
              "        vertical-align: top;\n",
              "    }\n",
              "\n",
              "    .dataframe thead th {\n",
              "        text-align: right;\n",
              "    }\n",
              "</style>\n",
              "<table border=\"1\" class=\"dataframe\">\n",
              "  <thead>\n",
              "    <tr style=\"text-align: right;\">\n",
              "      <th></th>\n",
              "      <th>feature_0</th>\n",
              "      <th>feature_1</th>\n",
              "      <th>feature_2</th>\n",
              "      <th>feature_3</th>\n",
              "      <th>feature_4</th>\n",
              "      <th>feature_5</th>\n",
              "      <th>feature_6</th>\n",
              "      <th>feature_7</th>\n",
              "      <th>feature_8</th>\n",
              "      <th>feature_9</th>\n",
              "      <th>...</th>\n",
              "      <th>feature_91</th>\n",
              "      <th>feature_92</th>\n",
              "      <th>feature_93</th>\n",
              "      <th>feature_94</th>\n",
              "      <th>feature_95</th>\n",
              "      <th>feature_96</th>\n",
              "      <th>feature_97</th>\n",
              "      <th>feature_98</th>\n",
              "      <th>feature_99</th>\n",
              "      <th>target</th>\n",
              "    </tr>\n",
              "  </thead>\n",
              "  <tbody>\n",
              "    <tr>\n",
              "      <th>0</th>\n",
              "      <td>-0.353273</td>\n",
              "      <td>-1.469201</td>\n",
              "      <td>-0.748674</td>\n",
              "      <td>0.568326</td>\n",
              "      <td>0.442359</td>\n",
              "      <td>-0.209873</td>\n",
              "      <td>0.482965</td>\n",
              "      <td>-0.086548</td>\n",
              "      <td>-0.276123</td>\n",
              "      <td>0.328453</td>\n",
              "      <td>...</td>\n",
              "      <td>-0.721595</td>\n",
              "      <td>-0.627373</td>\n",
              "      <td>2.202578</td>\n",
              "      <td>1.795924</td>\n",
              "      <td>-0.397011</td>\n",
              "      <td>1.392781</td>\n",
              "      <td>-0.719678</td>\n",
              "      <td>0.244672</td>\n",
              "      <td>-2.457507</td>\n",
              "      <td>-234.747811</td>\n",
              "    </tr>\n",
              "    <tr>\n",
              "      <th>1</th>\n",
              "      <td>0.257256</td>\n",
              "      <td>2.140309</td>\n",
              "      <td>-0.630692</td>\n",
              "      <td>-0.572608</td>\n",
              "      <td>-0.171383</td>\n",
              "      <td>0.338625</td>\n",
              "      <td>1.846603</td>\n",
              "      <td>-0.085243</td>\n",
              "      <td>-0.202000</td>\n",
              "      <td>0.927974</td>\n",
              "      <td>...</td>\n",
              "      <td>0.347883</td>\n",
              "      <td>-0.447221</td>\n",
              "      <td>-0.185935</td>\n",
              "      <td>0.549527</td>\n",
              "      <td>0.739119</td>\n",
              "      <td>-1.233837</td>\n",
              "      <td>-1.265086</td>\n",
              "      <td>-0.095604</td>\n",
              "      <td>-0.745764</td>\n",
              "      <td>51.233025</td>\n",
              "    </tr>\n",
              "    <tr>\n",
              "      <th>2</th>\n",
              "      <td>0.781233</td>\n",
              "      <td>-0.657438</td>\n",
              "      <td>1.976438</td>\n",
              "      <td>-0.169421</td>\n",
              "      <td>-0.920985</td>\n",
              "      <td>0.474556</td>\n",
              "      <td>-0.210418</td>\n",
              "      <td>0.612659</td>\n",
              "      <td>-0.205452</td>\n",
              "      <td>0.967930</td>\n",
              "      <td>...</td>\n",
              "      <td>-0.151687</td>\n",
              "      <td>-0.320438</td>\n",
              "      <td>0.389994</td>\n",
              "      <td>1.184124</td>\n",
              "      <td>-1.637070</td>\n",
              "      <td>-0.513537</td>\n",
              "      <td>1.676920</td>\n",
              "      <td>-0.630121</td>\n",
              "      <td>-1.034070</td>\n",
              "      <td>-106.716029</td>\n",
              "    </tr>\n",
              "    <tr>\n",
              "      <th>3</th>\n",
              "      <td>-2.358464</td>\n",
              "      <td>0.204154</td>\n",
              "      <td>-1.579345</td>\n",
              "      <td>0.289784</td>\n",
              "      <td>-0.174711</td>\n",
              "      <td>-0.024830</td>\n",
              "      <td>-1.862864</td>\n",
              "      <td>-0.585063</td>\n",
              "      <td>-0.133526</td>\n",
              "      <td>0.454331</td>\n",
              "      <td>...</td>\n",
              "      <td>-0.825769</td>\n",
              "      <td>-0.228151</td>\n",
              "      <td>-0.014925</td>\n",
              "      <td>0.435048</td>\n",
              "      <td>0.362451</td>\n",
              "      <td>-0.488274</td>\n",
              "      <td>0.282450</td>\n",
              "      <td>2.384598</td>\n",
              "      <td>-0.429833</td>\n",
              "      <td>-55.619155</td>\n",
              "    </tr>\n",
              "    <tr>\n",
              "      <th>4</th>\n",
              "      <td>-0.448543</td>\n",
              "      <td>1.635798</td>\n",
              "      <td>0.564842</td>\n",
              "      <td>0.211397</td>\n",
              "      <td>-0.318748</td>\n",
              "      <td>-1.472037</td>\n",
              "      <td>0.644518</td>\n",
              "      <td>0.808036</td>\n",
              "      <td>-1.389299</td>\n",
              "      <td>-0.114802</td>\n",
              "      <td>...</td>\n",
              "      <td>0.305243</td>\n",
              "      <td>-0.048965</td>\n",
              "      <td>-0.739771</td>\n",
              "      <td>-0.143259</td>\n",
              "      <td>1.040062</td>\n",
              "      <td>-1.400071</td>\n",
              "      <td>0.711411</td>\n",
              "      <td>1.122374</td>\n",
              "      <td>1.378470</td>\n",
              "      <td>-111.074505</td>\n",
              "    </tr>\n",
              "  </tbody>\n",
              "</table>\n",
              "<p>5 rows × 101 columns</p>\n",
              "</div>\n",
              "    <div class=\"colab-df-buttons\">\n",
              "\n",
              "  <div class=\"colab-df-container\">\n",
              "    <button class=\"colab-df-convert\" onclick=\"convertToInteractive('df-75a844a8-fe8f-4452-bafe-6f2dc5024c36')\"\n",
              "            title=\"Convert this dataframe to an interactive table.\"\n",
              "            style=\"display:none;\">\n",
              "\n",
              "  <svg xmlns=\"http://www.w3.org/2000/svg\" height=\"24px\" viewBox=\"0 -960 960 960\">\n",
              "    <path d=\"M120-120v-720h720v720H120Zm60-500h600v-160H180v160Zm220 220h160v-160H400v160Zm0 220h160v-160H400v160ZM180-400h160v-160H180v160Zm440 0h160v-160H620v160ZM180-180h160v-160H180v160Zm440 0h160v-160H620v160Z\"/>\n",
              "  </svg>\n",
              "    </button>\n",
              "\n",
              "  <style>\n",
              "    .colab-df-container {\n",
              "      display:flex;\n",
              "      gap: 12px;\n",
              "    }\n",
              "\n",
              "    .colab-df-convert {\n",
              "      background-color: #E8F0FE;\n",
              "      border: none;\n",
              "      border-radius: 50%;\n",
              "      cursor: pointer;\n",
              "      display: none;\n",
              "      fill: #1967D2;\n",
              "      height: 32px;\n",
              "      padding: 0 0 0 0;\n",
              "      width: 32px;\n",
              "    }\n",
              "\n",
              "    .colab-df-convert:hover {\n",
              "      background-color: #E2EBFA;\n",
              "      box-shadow: 0px 1px 2px rgba(60, 64, 67, 0.3), 0px 1px 3px 1px rgba(60, 64, 67, 0.15);\n",
              "      fill: #174EA6;\n",
              "    }\n",
              "\n",
              "    .colab-df-buttons div {\n",
              "      margin-bottom: 4px;\n",
              "    }\n",
              "\n",
              "    [theme=dark] .colab-df-convert {\n",
              "      background-color: #3B4455;\n",
              "      fill: #D2E3FC;\n",
              "    }\n",
              "\n",
              "    [theme=dark] .colab-df-convert:hover {\n",
              "      background-color: #434B5C;\n",
              "      box-shadow: 0px 1px 3px 1px rgba(0, 0, 0, 0.15);\n",
              "      filter: drop-shadow(0px 1px 2px rgba(0, 0, 0, 0.3));\n",
              "      fill: #FFFFFF;\n",
              "    }\n",
              "  </style>\n",
              "\n",
              "    <script>\n",
              "      const buttonEl =\n",
              "        document.querySelector('#df-75a844a8-fe8f-4452-bafe-6f2dc5024c36 button.colab-df-convert');\n",
              "      buttonEl.style.display =\n",
              "        google.colab.kernel.accessAllowed ? 'block' : 'none';\n",
              "\n",
              "      async function convertToInteractive(key) {\n",
              "        const element = document.querySelector('#df-75a844a8-fe8f-4452-bafe-6f2dc5024c36');\n",
              "        const dataTable =\n",
              "          await google.colab.kernel.invokeFunction('convertToInteractive',\n",
              "                                                    [key], {});\n",
              "        if (!dataTable) return;\n",
              "\n",
              "        const docLinkHtml = 'Like what you see? Visit the ' +\n",
              "          '<a target=\"_blank\" href=https://colab.research.google.com/notebooks/data_table.ipynb>data table notebook</a>'\n",
              "          + ' to learn more about interactive tables.';\n",
              "        element.innerHTML = '';\n",
              "        dataTable['output_type'] = 'display_data';\n",
              "        await google.colab.output.renderOutput(dataTable, element);\n",
              "        const docLink = document.createElement('div');\n",
              "        docLink.innerHTML = docLinkHtml;\n",
              "        element.appendChild(docLink);\n",
              "      }\n",
              "    </script>\n",
              "  </div>\n",
              "\n",
              "\n",
              "<div id=\"df-a49454fb-5bd6-4e0e-9503-90c2f9e04149\">\n",
              "  <button class=\"colab-df-quickchart\" onclick=\"quickchart('df-a49454fb-5bd6-4e0e-9503-90c2f9e04149')\"\n",
              "            title=\"Suggest charts\"\n",
              "            style=\"display:none;\">\n",
              "\n",
              "<svg xmlns=\"http://www.w3.org/2000/svg\" height=\"24px\"viewBox=\"0 0 24 24\"\n",
              "     width=\"24px\">\n",
              "    <g>\n",
              "        <path d=\"M19 3H5c-1.1 0-2 .9-2 2v14c0 1.1.9 2 2 2h14c1.1 0 2-.9 2-2V5c0-1.1-.9-2-2-2zM9 17H7v-7h2v7zm4 0h-2V7h2v10zm4 0h-2v-4h2v4z\"/>\n",
              "    </g>\n",
              "</svg>\n",
              "  </button>\n",
              "\n",
              "<style>\n",
              "  .colab-df-quickchart {\n",
              "      --bg-color: #E8F0FE;\n",
              "      --fill-color: #1967D2;\n",
              "      --hover-bg-color: #E2EBFA;\n",
              "      --hover-fill-color: #174EA6;\n",
              "      --disabled-fill-color: #AAA;\n",
              "      --disabled-bg-color: #DDD;\n",
              "  }\n",
              "\n",
              "  [theme=dark] .colab-df-quickchart {\n",
              "      --bg-color: #3B4455;\n",
              "      --fill-color: #D2E3FC;\n",
              "      --hover-bg-color: #434B5C;\n",
              "      --hover-fill-color: #FFFFFF;\n",
              "      --disabled-bg-color: #3B4455;\n",
              "      --disabled-fill-color: #666;\n",
              "  }\n",
              "\n",
              "  .colab-df-quickchart {\n",
              "    background-color: var(--bg-color);\n",
              "    border: none;\n",
              "    border-radius: 50%;\n",
              "    cursor: pointer;\n",
              "    display: none;\n",
              "    fill: var(--fill-color);\n",
              "    height: 32px;\n",
              "    padding: 0;\n",
              "    width: 32px;\n",
              "  }\n",
              "\n",
              "  .colab-df-quickchart:hover {\n",
              "    background-color: var(--hover-bg-color);\n",
              "    box-shadow: 0 1px 2px rgba(60, 64, 67, 0.3), 0 1px 3px 1px rgba(60, 64, 67, 0.15);\n",
              "    fill: var(--button-hover-fill-color);\n",
              "  }\n",
              "\n",
              "  .colab-df-quickchart-complete:disabled,\n",
              "  .colab-df-quickchart-complete:disabled:hover {\n",
              "    background-color: var(--disabled-bg-color);\n",
              "    fill: var(--disabled-fill-color);\n",
              "    box-shadow: none;\n",
              "  }\n",
              "\n",
              "  .colab-df-spinner {\n",
              "    border: 2px solid var(--fill-color);\n",
              "    border-color: transparent;\n",
              "    border-bottom-color: var(--fill-color);\n",
              "    animation:\n",
              "      spin 1s steps(1) infinite;\n",
              "  }\n",
              "\n",
              "  @keyframes spin {\n",
              "    0% {\n",
              "      border-color: transparent;\n",
              "      border-bottom-color: var(--fill-color);\n",
              "      border-left-color: var(--fill-color);\n",
              "    }\n",
              "    20% {\n",
              "      border-color: transparent;\n",
              "      border-left-color: var(--fill-color);\n",
              "      border-top-color: var(--fill-color);\n",
              "    }\n",
              "    30% {\n",
              "      border-color: transparent;\n",
              "      border-left-color: var(--fill-color);\n",
              "      border-top-color: var(--fill-color);\n",
              "      border-right-color: var(--fill-color);\n",
              "    }\n",
              "    40% {\n",
              "      border-color: transparent;\n",
              "      border-right-color: var(--fill-color);\n",
              "      border-top-color: var(--fill-color);\n",
              "    }\n",
              "    60% {\n",
              "      border-color: transparent;\n",
              "      border-right-color: var(--fill-color);\n",
              "    }\n",
              "    80% {\n",
              "      border-color: transparent;\n",
              "      border-right-color: var(--fill-color);\n",
              "      border-bottom-color: var(--fill-color);\n",
              "    }\n",
              "    90% {\n",
              "      border-color: transparent;\n",
              "      border-bottom-color: var(--fill-color);\n",
              "    }\n",
              "  }\n",
              "</style>\n",
              "\n",
              "  <script>\n",
              "    async function quickchart(key) {\n",
              "      const quickchartButtonEl =\n",
              "        document.querySelector('#' + key + ' button');\n",
              "      quickchartButtonEl.disabled = true;  // To prevent multiple clicks.\n",
              "      quickchartButtonEl.classList.add('colab-df-spinner');\n",
              "      try {\n",
              "        const charts = await google.colab.kernel.invokeFunction(\n",
              "            'suggestCharts', [key], {});\n",
              "      } catch (error) {\n",
              "        console.error('Error during call to suggestCharts:', error);\n",
              "      }\n",
              "      quickchartButtonEl.classList.remove('colab-df-spinner');\n",
              "      quickchartButtonEl.classList.add('colab-df-quickchart-complete');\n",
              "    }\n",
              "    (() => {\n",
              "      let quickchartButtonEl =\n",
              "        document.querySelector('#df-a49454fb-5bd6-4e0e-9503-90c2f9e04149 button');\n",
              "      quickchartButtonEl.style.display =\n",
              "        google.colab.kernel.accessAllowed ? 'block' : 'none';\n",
              "    })();\n",
              "  </script>\n",
              "</div>\n",
              "\n",
              "    </div>\n",
              "  </div>\n"
            ],
            "application/vnd.google.colaboratory.intrinsic+json": {
              "type": "dataframe",
              "variable_name": "data"
            }
          },
          "metadata": {},
          "execution_count": 19
        }
      ]
    },
    {
      "cell_type": "code",
      "source": [
        "len(data.columns)"
      ],
      "metadata": {
        "colab": {
          "base_uri": "https://localhost:8080/"
        },
        "id": "7-8Ic90IEXS6",
        "outputId": "cb6263d5-3600-4381-b67a-6e9596f1c9c8"
      },
      "execution_count": 20,
      "outputs": [
        {
          "output_type": "execute_result",
          "data": {
            "text/plain": [
              "101"
            ]
          },
          "metadata": {},
          "execution_count": 20
        }
      ]
    },
    {
      "cell_type": "code",
      "source": [
        "X = data.drop('target', axis=1)\n",
        "y = data['target']\n",
        "X_train, X_test, y_train, y_test = train_test_split(X, y, test_size=0.2, random_state=42)"
      ],
      "metadata": {
        "id": "aO7agsRhEb2C"
      },
      "execution_count": 21,
      "outputs": []
    },
    {
      "cell_type": "code",
      "source": [
        "scaler = StandardScaler()\n",
        "X_train_scaled = scaler.fit_transform(X_train)\n",
        "X_test_scaled = scaler.transform(X_test)"
      ],
      "metadata": {
        "id": "SbU_JmdlEe6a"
      },
      "execution_count": 22,
      "outputs": []
    },
    {
      "cell_type": "code",
      "source": [
        "lasso = Lasso(alpha=0.1)\n",
        "\n",
        "lasso.fit(X_train_scaled, y_train)\n",
        "\n",
        "y_pred = lasso.predict(X_test_scaled)"
      ],
      "metadata": {
        "id": "jkyE_hLPEh2b"
      },
      "execution_count": 23,
      "outputs": []
    },
    {
      "cell_type": "code",
      "source": [
        "coef = pd.Series(lasso.coef_, index=X.columns)"
      ],
      "metadata": {
        "id": "u02aktfdEkw1"
      },
      "execution_count": 24,
      "outputs": []
    },
    {
      "cell_type": "code",
      "source": [
        "coef"
      ],
      "metadata": {
        "colab": {
          "base_uri": "https://localhost:8080/",
          "height": 458
        },
        "id": "-OCybWrsEngZ",
        "outputId": "7f247f3c-d521-4cd6-f756-cb81aa423940"
      },
      "execution_count": 25,
      "outputs": [
        {
          "output_type": "execute_result",
          "data": {
            "text/plain": [
              "feature_0     0.0\n",
              "feature_1     0.0\n",
              "feature_2    -0.0\n",
              "feature_3     0.0\n",
              "feature_4     0.0\n",
              "             ... \n",
              "feature_95   -0.0\n",
              "feature_96   -0.0\n",
              "feature_97    0.0\n",
              "feature_98   -0.0\n",
              "feature_99   -0.0\n",
              "Length: 100, dtype: float64"
            ],
            "text/html": [
              "<div>\n",
              "<style scoped>\n",
              "    .dataframe tbody tr th:only-of-type {\n",
              "        vertical-align: middle;\n",
              "    }\n",
              "\n",
              "    .dataframe tbody tr th {\n",
              "        vertical-align: top;\n",
              "    }\n",
              "\n",
              "    .dataframe thead th {\n",
              "        text-align: right;\n",
              "    }\n",
              "</style>\n",
              "<table border=\"1\" class=\"dataframe\">\n",
              "  <thead>\n",
              "    <tr style=\"text-align: right;\">\n",
              "      <th></th>\n",
              "      <th>0</th>\n",
              "    </tr>\n",
              "  </thead>\n",
              "  <tbody>\n",
              "    <tr>\n",
              "      <th>feature_0</th>\n",
              "      <td>0.0</td>\n",
              "    </tr>\n",
              "    <tr>\n",
              "      <th>feature_1</th>\n",
              "      <td>0.0</td>\n",
              "    </tr>\n",
              "    <tr>\n",
              "      <th>feature_2</th>\n",
              "      <td>-0.0</td>\n",
              "    </tr>\n",
              "    <tr>\n",
              "      <th>feature_3</th>\n",
              "      <td>0.0</td>\n",
              "    </tr>\n",
              "    <tr>\n",
              "      <th>feature_4</th>\n",
              "      <td>0.0</td>\n",
              "    </tr>\n",
              "    <tr>\n",
              "      <th>...</th>\n",
              "      <td>...</td>\n",
              "    </tr>\n",
              "    <tr>\n",
              "      <th>feature_95</th>\n",
              "      <td>-0.0</td>\n",
              "    </tr>\n",
              "    <tr>\n",
              "      <th>feature_96</th>\n",
              "      <td>-0.0</td>\n",
              "    </tr>\n",
              "    <tr>\n",
              "      <th>feature_97</th>\n",
              "      <td>0.0</td>\n",
              "    </tr>\n",
              "    <tr>\n",
              "      <th>feature_98</th>\n",
              "      <td>-0.0</td>\n",
              "    </tr>\n",
              "    <tr>\n",
              "      <th>feature_99</th>\n",
              "      <td>-0.0</td>\n",
              "    </tr>\n",
              "  </tbody>\n",
              "</table>\n",
              "<p>100 rows × 1 columns</p>\n",
              "</div><br><label><b>dtype:</b> float64</label>"
            ]
          },
          "metadata": {},
          "execution_count": 25
        }
      ]
    },
    {
      "cell_type": "code",
      "source": [
        "non_zero_coef = (coef != 0).sum()\n",
        "print(f\"Number of non-zero coefficients: {non_zero_coef}\")"
      ],
      "metadata": {
        "colab": {
          "base_uri": "https://localhost:8080/"
        },
        "id": "biMnV4f-EoIn",
        "outputId": "02e9cfdc-f852-4b52-f2a6-6b04508fd6e0"
      },
      "execution_count": 26,
      "outputs": [
        {
          "output_type": "stream",
          "name": "stdout",
          "text": [
            "Number of non-zero coefficients: 10\n"
          ]
        }
      ]
    },
    {
      "cell_type": "code",
      "source": [
        "### Initially total input columns : 100\n",
        "### Non-zero coefficient columns : 10\n",
        "### Zero coefficient columns : 90"
      ],
      "metadata": {
        "id": "EPZf2KEGErMg"
      },
      "execution_count": 27,
      "outputs": []
    },
    {
      "cell_type": "code",
      "source": [
        "plt.figure(figsize=(14, 6))\n",
        "coef.plot(kind='bar')\n",
        "plt.title('Lasso Coefficients (Sparsity)')\n",
        "plt.xlabel('Features')\n",
        "plt.ylabel('Coefficient Value')\n",
        "plt.show()"
      ],
      "metadata": {
        "colab": {
          "base_uri": "https://localhost:8080/",
          "height": 625
        },
        "id": "AcNOBSjCEtqj",
        "outputId": "ac595837-3f29-4d8b-c735-be0c66e7553b"
      },
      "execution_count": 28,
      "outputs": [
        {
          "output_type": "display_data",
          "data": {
            "text/plain": [
              "<Figure size 1400x600 with 1 Axes>"
            ],
            "image/png": "[encoded data removed]"
          },
          "metadata": {}
        }
      ]
    },
    {
      "cell_type": "code",
      "source": [],
      "metadata": {
        "id": "6xz5stulEwF_"
      },
      "execution_count": null,
      "outputs": []
    }
  ]
}