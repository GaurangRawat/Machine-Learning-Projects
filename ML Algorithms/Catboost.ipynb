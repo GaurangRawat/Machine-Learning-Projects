{
  "nbformat": 4,
  "nbformat_minor": 0,
  "metadata": {
    "colab": {
      "provenance": [],
      "authorship_tag": "ABX9TyMMJP5evpk8TAhryRHQ7+rh",
      "include_colab_link": true
    },
    "kernelspec": {
      "name": "python3",
      "display_name": "Python 3"
    },
    "language_info": {
      "name": "python"
    },
    "widgets": {
      "application/vnd.jupyter.widget-state+json": {
        "7f6b4e439ffd42119bcf1d9d41384fd4": {
          "model_module": "catboost-widget",
          "model_name": "CatboostWidgetModel",
          "model_module_version": "^1.0.0",
          "state": {
            "_dom_classes": [],
            "_model_module": "catboost-widget",
            "_model_module_version": "^1.0.0",
            "_model_name": "CatboostWidgetModel",
            "_view_count": null,
            "_view_module": "catboost-widget",
            "_view_module_version": "^1.0.0",
            "_view_name": "CatboostWidgetView",
            "data": {
              "catboost_info": {
                "path": "catboost_info",
                "name": "catboost_info",
                "content": {
                  "passed_iterations": 99,
                  "total_iterations": 100,
                  "data": {
                    "iterations": [
                      {
                        "learn": [
                          3651.670667
                        ],
                        "iteration": 0,
                        "passed_time": 0.08264940997,
                        "remaining_time": 8.182291587,
                        "test": [
                          3645.288648
                        ]
                      },
                      {
                        "learn": [
                          3351.638791
                        ],
                        "iteration": 1,
                        "passed_time": 0.1214973267,
                        "remaining_time": 5.953369006,
                        "test": [
                          3342.681805
                        ]
                      },
                      {
                        "learn": [
                          3086.466574
                        ],
                        "iteration": 2,
                        "passed_time": 0.148462804,
                        "remaining_time": 4.800297331,
                        "test": [
                          3076.472679
                        ]
                      },
                      {
                        "learn": [
                          2849.382399
                        ],
                        "iteration": 3,
                        "passed_time": 0.17368336,
                        "remaining_time": 4.16840064,
                        "test": [
                          2837.309694
                        ]
                      },
                      {
                        "learn": [
                          2643.670692
                        ],
                        "iteration": 4,
                        "passed_time": 0.2017320534,
                        "remaining_time": 3.832909015,
                        "test": [
                          2630.735072
                        ]
                      },
                      {
                        "learn": [
                          2462.950887
                        ],
                        "iteration": 5,
                        "passed_time": 0.2308296535,
                        "remaining_time": 3.616331238,
                        "test": [
                          2448.744473
                        ]
                      },
                      {
                        "learn": [
                          2303.546348
                        ],
                        "iteration": 6,
                        "passed_time": 0.2583259699,
                        "remaining_time": 3.432045028,
                        "test": [
                          2290.014082
                        ]
                      },
                      {
                        "learn": [
                          2164.763597
                        ],
                        "iteration": 7,
                        "passed_time": 0.2939618984,
                        "remaining_time": 3.380561832,
                        "test": [
                          2150.70646
                        ]
                      },
                      {
                        "learn": [
                          2044.687535
                        ],
                        "iteration": 8,
                        "passed_time": 0.3216885135,
                        "remaining_time": 3.252628303,
                        "test": [
                          2030.546019
                        ]
                      },
                      {
                        "learn": [
                          1941.399484
                        ],
                        "iteration": 9,
                        "passed_time": 0.3498833998,
                        "remaining_time": 3.148950598,
                        "test": [
                          1926.19018
                        ]
                      },
                      {
                        "learn": [
                          1852.195519
                        ],
                        "iteration": 10,
                        "passed_time": 0.3776986574,
                        "remaining_time": 3.055925501,
                        "test": [
                          1837.290898
                        ]
                      },
                      {
                        "learn": [
                          1777.195495
                        ],
                        "iteration": 11,
                        "passed_time": 0.4055992906,
                        "remaining_time": 2.974394798,
                        "test": [
                          1762.952501
                        ]
                      },
                      {
                        "learn": [
                          1711.989527
                        ],
                        "iteration": 12,
                        "passed_time": 0.4311779238,
                        "remaining_time": 2.885575337,
                        "test": [
                          1697.374324
                        ]
                      },
                      {
                        "learn": [
                          1656.981045
                        ],
                        "iteration": 13,
                        "passed_time": 0.4599693302,
                        "remaining_time": 2.825525886,
                        "test": [
                          1642.73134
                        ]
                      },
                      {
                        "learn": [
                          1610.100635
                        ],
                        "iteration": 14,
                        "passed_time": 0.4839185294,
                        "remaining_time": 2.742205,
                        "test": [
                          1595.967367
                        ]
                      },
                      {
                        "learn": [
                          1570.308859
                        ],
                        "iteration": 15,
                        "passed_time": 0.5186725512,
                        "remaining_time": 2.723030894,
                        "test": [
                          1556.251517
                        ]
                      },
                      {
                        "learn": [
                          1538.094156
                        ],
                        "iteration": 16,
                        "passed_time": 0.5435169765,
                        "remaining_time": 2.653641709,
                        "test": [
                          1524.993441
                        ]
                      },
                      {
                        "learn": [
                          1463.653979
                        ],
                        "iteration": 17,
                        "passed_time": 0.5702196341,
                        "remaining_time": 2.597667222,
                        "test": [
                          1452.053271
                        ]
                      },
                      {
                        "learn": [
                          1401.226119
                        ],
                        "iteration": 18,
                        "passed_time": 0.5950822628,
                        "remaining_time": 2.536929647,
                        "test": [
                          1392.44864
                        ]
                      },
                      {
                        "learn": [
                          1346.184682
                        ],
                        "iteration": 19,
                        "passed_time": 0.6172084077,
                        "remaining_time": 2.468833631,
                        "test": [
                          1338.717038
                        ]
                      },
                      {
                        "learn": [
                          1299.26638
                        ],
                        "iteration": 20,
                        "passed_time": 0.6414028133,
                        "remaining_time": 2.412896298,
                        "test": [
                          1292.737589
                        ]
                      },
                      {
                        "learn": [
                          1259.874023
                        ],
                        "iteration": 21,
                        "passed_time": 0.6819319526,
                        "remaining_time": 2.417758741,
                        "test": [
                          1254.344619
                        ]
                      },
                      {
                        "learn": [
                          1226.163176
                        ],
                        "iteration": 22,
                        "passed_time": 0.7250345901,
                        "remaining_time": 2.427289715,
                        "test": [
                          1221.167014
                        ]
                      },
                      {
                        "learn": [
                          1171.582735
                        ],
                        "iteration": 23,
                        "passed_time": 0.7766653316,
                        "remaining_time": 2.459440217,
                        "test": [
                          1164.808863
                        ]
                      },
                      {
                        "learn": [
                          1120.792397
                        ],
                        "iteration": 24,
                        "passed_time": 0.8118889474,
                        "remaining_time": 2.435666842,
                        "test": [
                          1112.689961
                        ]
                      },
                      {
                        "learn": [
                          1079.234433
                        ],
                        "iteration": 25,
                        "passed_time": 0.831974125,
                        "remaining_time": 2.367926356,
                        "test": [
                          1069.304984
                        ]
                      },
                      {
                        "learn": [
                          1043.995073
                        ],
                        "iteration": 26,
                        "passed_time": 0.8661913289,
                        "remaining_time": 2.341924704,
                        "test": [
                          1035.855236
                        ]
                      },
                      {
                        "learn": [
                          1010.128981
                        ],
                        "iteration": 27,
                        "passed_time": 0.9025805666,
                        "remaining_time": 2.320921457,
                        "test": [
                          1003.083924
                        ]
                      },
                      {
                        "learn": [
                          981.7544681
                        ],
                        "iteration": 28,
                        "passed_time": 0.9541044208,
                        "remaining_time": 2.335910823,
                        "test": [
                          973.7165133
                        ]
                      },
                      {
                        "learn": [
                          957.8929718
                        ],
                        "iteration": 29,
                        "passed_time": 0.9949786317,
                        "remaining_time": 2.321616807,
                        "test": [
                          946.2287763
                        ]
                      },
                      {
                        "learn": [
                          935.3461837
                        ],
                        "iteration": 30,
                        "passed_time": 1.04608498,
                        "remaining_time": 2.328382698,
                        "test": [
                          922.9917488
                        ]
                      },
                      {
                        "learn": [
                          916.0869283
                        ],
                        "iteration": 31,
                        "passed_time": 1.090165056,
                        "remaining_time": 2.316600744,
                        "test": [
                          901.990047
                        ]
                      },
                      {
                        "learn": [
                          888.7177581
                        ],
                        "iteration": 32,
                        "passed_time": 1.142281752,
                        "remaining_time": 2.319178103,
                        "test": [
                          874.4754548
                        ]
                      },
                      {
                        "learn": [
                          866.0980967
                        ],
                        "iteration": 33,
                        "passed_time": 1.177566326,
                        "remaining_time": 2.285864045,
                        "test": [
                          851.6843729
                        ]
                      },
                      {
                        "learn": [
                          847.4346188
                        ],
                        "iteration": 34,
                        "passed_time": 1.224426128,
                        "remaining_time": 2.273934237,
                        "test": [
                          831.2918784
                        ]
                      },
                      {
                        "learn": [
                          829.8801664
                        ],
                        "iteration": 35,
                        "passed_time": 1.270614661,
                        "remaining_time": 2.258870509,
                        "test": [
                          812.7661049
                        ]
                      },
                      {
                        "learn": [
                          815.4348621
                        ],
                        "iteration": 36,
                        "passed_time": 1.320306583,
                        "remaining_time": 2.248089588,
                        "test": [
                          797.8295066
                        ]
                      },
                      {
                        "learn": [
                          801.2785727
                        ],
                        "iteration": 37,
                        "passed_time": 1.38445338,
                        "remaining_time": 2.258844988,
                        "test": [
                          784.0030689
                        ]
                      },
                      {
                        "learn": [
                          783.2423979
                        ],
                        "iteration": 38,
                        "passed_time": 1.438676735,
                        "remaining_time": 2.25023797,
                        "test": [
                          766.0353402
                        ]
                      },
                      {
                        "learn": [
                          770.45115
                        ],
                        "iteration": 39,
                        "passed_time": 1.496626027,
                        "remaining_time": 2.244939041,
                        "test": [
                          752.817976
                        ]
                      },
                      {
                        "learn": [
                          758.7291314
                        ],
                        "iteration": 40,
                        "passed_time": 1.552459513,
                        "remaining_time": 2.234027104,
                        "test": [
                          741.1789669
                        ]
                      },
                      {
                        "learn": [
                          745.870005
                        ],
                        "iteration": 41,
                        "passed_time": 1.600083175,
                        "remaining_time": 2.20963867,
                        "test": [
                          729.4349014
                        ]
                      },
                      {
                        "learn": [
                          734.0047626
                        ],
                        "iteration": 42,
                        "passed_time": 1.641988308,
                        "remaining_time": 2.176589152,
                        "test": [
                          717.7152137
                        ]
                      },
                      {
                        "learn": [
                          725.4386715
                        ],
                        "iteration": 43,
                        "passed_time": 1.684495691,
                        "remaining_time": 2.143903607,
                        "test": [
                          709.5736449
                        ]
                      },
                      {
                        "learn": [
                          715.8539271
                        ],
                        "iteration": 44,
                        "passed_time": 1.732531147,
                        "remaining_time": 2.117538068,
                        "test": [
                          700.4250325
                        ]
                      },
                      {
                        "learn": [
                          708.1521148
                        ],
                        "iteration": 45,
                        "passed_time": 1.782121924,
                        "remaining_time": 2.092056171,
                        "test": [
                          692.3380295
                        ]
                      },
                      {
                        "learn": [
                          698.2547539
                        ],
                        "iteration": 46,
                        "passed_time": 1.829532118,
                        "remaining_time": 2.06308941,
                        "test": [
                          682.8566277
                        ]
                      },
                      {
                        "learn": [
                          691.4396983
                        ],
                        "iteration": 47,
                        "passed_time": 1.866029472,
                        "remaining_time": 2.021531928,
                        "test": [
                          676.064996
                        ]
                      },
                      {
                        "learn": [
                          685.7490155
                        ],
                        "iteration": 48,
                        "passed_time": 1.919444592,
                        "remaining_time": 1.997789269,
                        "test": [
                          669.5801354
                        ]
                      },
                      {
                        "learn": [
                          680.702141
                        ],
                        "iteration": 49,
                        "passed_time": 1.95492163,
                        "remaining_time": 1.95492163,
                        "test": [
                          664.559209
                        ]
                      },
                      {
                        "learn": [
                          677.009015
                        ],
                        "iteration": 50,
                        "passed_time": 1.988249499,
                        "remaining_time": 1.91027893,
                        "test": [
                          660.9776538
                        ]
                      },
                      {
                        "learn": [
                          671.8207546
                        ],
                        "iteration": 51,
                        "passed_time": 2.036559916,
                        "remaining_time": 1.879901461,
                        "test": [
                          656.6265868
                        ]
                      },
                      {
                        "learn": [
                          667.8412356
                        ],
                        "iteration": 52,
                        "passed_time": 2.083421565,
                        "remaining_time": 1.84756252,
                        "test": [
                          652.2578231
                        ]
                      },
                      {
                        "learn": [
                          665.0780176
                        ],
                        "iteration": 53,
                        "passed_time": 2.120594507,
                        "remaining_time": 1.806432358,
                        "test": [
                          649.0670535
                        ]
                      },
                      {
                        "learn": [
                          661.1648915
                        ],
                        "iteration": 54,
                        "passed_time": 2.151616753,
                        "remaining_time": 1.760413707,
                        "test": [
                          645.3140536
                        ]
                      },
                      {
                        "learn": [
                          657.1434443
                        ],
                        "iteration": 55,
                        "passed_time": 2.203032888,
                        "remaining_time": 1.730954412,
                        "test": [
                          642.1048355
                        ]
                      },
                      {
                        "learn": [
                          654.0090972
                        ],
                        "iteration": 56,
                        "passed_time": 2.25569009,
                        "remaining_time": 1.701660945,
                        "test": [
                          638.8156307
                        ]
                      },
                      {
                        "learn": [
                          651.4623587
                        ],
                        "iteration": 57,
                        "passed_time": 2.297326679,
                        "remaining_time": 1.663581388,
                        "test": [
                          636.4160216
                        ]
                      },
                      {
                        "learn": [
                          646.3380333
                        ],
                        "iteration": 58,
                        "passed_time": 2.334676282,
                        "remaining_time": 1.622402162,
                        "test": [
                          631.6748902
                        ]
                      },
                      {
                        "learn": [
                          641.5418621
                        ],
                        "iteration": 59,
                        "passed_time": 2.382604421,
                        "remaining_time": 1.588402947,
                        "test": [
                          627.7170662
                        ]
                      },
                      {
                        "learn": [
                          638.2466948
                        ],
                        "iteration": 60,
                        "passed_time": 2.439313645,
                        "remaining_time": 1.559561183,
                        "test": [
                          625.1634454
                        ]
                      },
                      {
                        "learn": [
                          634.8115287
                        ],
                        "iteration": 61,
                        "passed_time": 2.477595395,
                        "remaining_time": 1.51852621,
                        "test": [
                          622.2922545
                        ]
                      },
                      {
                        "learn": [
                          632.0114363
                        ],
                        "iteration": 62,
                        "passed_time": 2.513977576,
                        "remaining_time": 1.476463021,
                        "test": [
                          619.6249381
                        ]
                      },
                      {
                        "learn": [
                          629.7493044
                        ],
                        "iteration": 63,
                        "passed_time": 2.54706141,
                        "remaining_time": 1.432722043,
                        "test": [
                          617.7421673
                        ]
                      },
                      {
                        "learn": [
                          627.8726482
                        ],
                        "iteration": 64,
                        "passed_time": 2.583330813,
                        "remaining_time": 1.391024284,
                        "test": [
                          616.2731187
                        ]
                      },
                      {
                        "learn": [
                          624.7483467
                        ],
                        "iteration": 65,
                        "passed_time": 2.615920173,
                        "remaining_time": 1.347595241,
                        "test": [
                          613.6006308
                        ]
                      },
                      {
                        "learn": [
                          622.9755396
                        ],
                        "iteration": 66,
                        "passed_time": 2.652898696,
                        "remaining_time": 1.306651597,
                        "test": [
                          612.262769
                        ]
                      },
                      {
                        "learn": [
                          621.5404265
                        ],
                        "iteration": 67,
                        "passed_time": 2.695502832,
                        "remaining_time": 1.268471921,
                        "test": [
                          610.8773153
                        ]
                      },
                      {
                        "learn": [
                          619.6590192
                        ],
                        "iteration": 68,
                        "passed_time": 2.731957071,
                        "remaining_time": 1.227401003,
                        "test": [
                          609.2816462
                        ]
                      },
                      {
                        "learn": [
                          617.1730446
                        ],
                        "iteration": 69,
                        "passed_time": 2.780161327,
                        "remaining_time": 1.191497712,
                        "test": [
                          607.2582482
                        ]
                      },
                      {
                        "learn": [
                          614.8850011
                        ],
                        "iteration": 70,
                        "passed_time": 2.831862545,
                        "remaining_time": 1.156676251,
                        "test": [
                          605.4007556
                        ]
                      },
                      {
                        "learn": [
                          612.775225
                        ],
                        "iteration": 71,
                        "passed_time": 2.868379119,
                        "remaining_time": 1.115480768,
                        "test": [
                          603.616862
                        ]
                      },
                      {
                        "learn": [
                          611.3680678
                        ],
                        "iteration": 72,
                        "passed_time": 2.922391239,
                        "remaining_time": 1.080884431,
                        "test": [
                          602.7652015
                        ]
                      },
                      {
                        "learn": [
                          609.0282069
                        ],
                        "iteration": 73,
                        "passed_time": 2.964548595,
                        "remaining_time": 1.041598155,
                        "test": [
                          600.296425
                        ]
                      },
                      {
                        "learn": [
                          607.4611281
                        ],
                        "iteration": 74,
                        "passed_time": 3.002098114,
                        "remaining_time": 1.000699371,
                        "test": [
                          598.4523185
                        ]
                      },
                      {
                        "learn": [
                          605.9368872
                        ],
                        "iteration": 75,
                        "passed_time": 3.035651794,
                        "remaining_time": 0.9586268824,
                        "test": [
                          597.4160416
                        ]
                      },
                      {
                        "learn": [
                          604.9332425
                        ],
                        "iteration": 76,
                        "passed_time": 3.077170164,
                        "remaining_time": 0.9191547243,
                        "test": [
                          596.5267744
                        ]
                      },
                      {
                        "learn": [
                          603.0449688
                        ],
                        "iteration": 77,
                        "passed_time": 3.121818287,
                        "remaining_time": 0.8805128501,
                        "test": [
                          595.1884431
                        ]
                      },
                      {
                        "learn": [
                          602.047667
                        ],
                        "iteration": 78,
                        "passed_time": 3.167692306,
                        "remaining_time": 0.8420447901,
                        "test": [
                          594.5609553
                        ]
                      },
                      {
                        "learn": [
                          600.8241892
                        ],
                        "iteration": 79,
                        "passed_time": 3.205257319,
                        "remaining_time": 0.8013143298,
                        "test": [
                          593.1277786
                        ]
                      },
                      {
                        "learn": [
                          599.9001949
                        ],
                        "iteration": 80,
                        "passed_time": 3.244588138,
                        "remaining_time": 0.7610762299,
                        "test": [
                          592.4906219
                        ]
                      },
                      {
                        "learn": [
                          598.2125964
                        ],
                        "iteration": 81,
                        "passed_time": 3.277906578,
                        "remaining_time": 0.7195404683,
                        "test": [
                          590.3307048
                        ]
                      },
                      {
                        "learn": [
                          597.0902156
                        ],
                        "iteration": 82,
                        "passed_time": 3.311086753,
                        "remaining_time": 0.6781743951,
                        "test": [
                          589.5793724
                        ]
                      },
                      {
                        "learn": [
                          596.2295578
                        ],
                        "iteration": 83,
                        "passed_time": 3.359450346,
                        "remaining_time": 0.639895304,
                        "test": [
                          588.7387426
                        ]
                      },
                      {
                        "learn": [
                          595.4214521
                        ],
                        "iteration": 84,
                        "passed_time": 3.410795588,
                        "remaining_time": 0.6019051037,
                        "test": [
                          587.578178
                        ]
                      },
                      {
                        "learn": [
                          593.9239418
                        ],
                        "iteration": 85,
                        "passed_time": 3.458280276,
                        "remaining_time": 0.5629758589,
                        "test": [
                          586.4740701
                        ]
                      },
                      {
                        "learn": [
                          593.1170372
                        ],
                        "iteration": 86,
                        "passed_time": 3.506232017,
                        "remaining_time": 0.5239197267,
                        "test": [
                          586.07465
                        ]
                      },
                      {
                        "learn": [
                          592.0620675
                        ],
                        "iteration": 87,
                        "passed_time": 3.549723302,
                        "remaining_time": 0.4840531776,
                        "test": [
                          585.2979041
                        ]
                      },
                      {
                        "learn": [
                          591.0677731
                        ],
                        "iteration": 88,
                        "passed_time": 3.603715022,
                        "remaining_time": 0.4454029802,
                        "test": [
                          584.6420133
                        ]
                      },
                      {
                        "learn": [
                          589.0160029
                        ],
                        "iteration": 89,
                        "passed_time": 3.645573499,
                        "remaining_time": 0.4050637221,
                        "test": [
                          583.2552857
                        ]
                      },
                      {
                        "learn": [
                          588.1669093
                        ],
                        "iteration": 90,
                        "passed_time": 3.684744102,
                        "remaining_time": 0.3644252409,
                        "test": [
                          582.6668866
                        ]
                      },
                      {
                        "learn": [
                          586.9732101
                        ],
                        "iteration": 91,
                        "passed_time": 3.735152565,
                        "remaining_time": 0.3247958752,
                        "test": [
                          581.8433257
                        ]
                      },
                      {
                        "learn": [
                          585.6170448
                        ],
                        "iteration": 92,
                        "passed_time": 3.784952296,
                        "remaining_time": 0.2848888825,
                        "test": [
                          580.6312534
                        ]
                      },
                      {
                        "learn": [
                          583.8862028
                        ],
                        "iteration": 93,
                        "passed_time": 3.846897233,
                        "remaining_time": 0.2455466319,
                        "test": [
                          579.2468742
                        ]
                      },
                      {
                        "learn": [
                          583.0675965
                        ],
                        "iteration": 94,
                        "passed_time": 3.9172571,
                        "remaining_time": 0.2061714263,
                        "test": [
                          578.6789358
                        ]
                      },
                      {
                        "learn": [
                          582.3206044
                        ],
                        "iteration": 95,
                        "passed_time": 3.971965993,
                        "remaining_time": 0.1654985831,
                        "test": [
                          578.4642023
                        ]
                      },
                      {
                        "learn": [
                          581.2874911
                        ],
                        "iteration": 96,
                        "passed_time": 4.009906451,
                        "remaining_time": 0.1240177253,
                        "test": [
                          577.5900591
                        ]
                      },
                      {
                        "learn": [
                          579.8858029
                        ],
                        "iteration": 97,
                        "passed_time": 4.065999325,
                        "remaining_time": 0.08297957806,
                        "test": [
                          576.2750536
                        ]
                      },
                      {
                        "learn": [
                          579.0621548
                        ],
                        "iteration": 98,
                        "passed_time": 4.112308141,
                        "remaining_time": 0.04153846607,
                        "test": [
                          575.8627908
                        ]
                      },
                      {
                        "learn": [
                          577.7340465
                        ],
                        "iteration": 99,
                        "passed_time": 4.155055194,
                        "remaining_time": 0,
                        "test": [
                          574.6187276
                        ]
                      }
                    ],
                    "meta": {
                      "test_sets": [
                        "test"
                      ],
                      "test_metrics": [
                        {
                          "best_value": "Min",
                          "name": "RMSE"
                        }
                      ],
                      "learn_metrics": [
                        {
                          "best_value": "Min",
                          "name": "RMSE"
                        }
                      ],
                      "launch_mode": "Train",
                      "parameters": "",
                      "iteration_count": 100,
                      "learn_sets": [
                        "learn"
                      ],
                      "name": "experiment"
                    }
                  }
                }
              }
            },
            "layout": "IPY_MODEL_233ef8a840934a5ab8ba3b2245387f59"
          }
        }
      }
    }
  },
  "cells": [
    {
      "cell_type": "markdown",
      "metadata": {
        "id": "view-in-github",
        "colab_type": "text"
      },
      "source": [
        "<a href=\"https://colab.research.google.com/github/GaurangRawat/Machine-Learning-Projects/blob/main/ML%20Algorithms/Catboost.ipynb\" target=\"_parent\"><img src=\"https://colab.research.google.com/assets/colab-badge.svg\" alt=\"Open In Colab\"/></a>"
      ]
    },
    {
      "cell_type": "code",
      "source": [
        "!pip install catboost"
      ],
      "metadata": {
        "colab": {
          "base_uri": "https://localhost:8080/"
        },
        "id": "WXQFqKp-q_9E",
        "outputId": "1d708058-171e-4695-9108-9082228f46ce"
      },
      "execution_count": 2,
      "outputs": [
        {
          "output_type": "stream",
          "name": "stdout",
          "text": [
            "Collecting catboost\n",
            "  Downloading catboost-1.2.7-cp310-cp310-manylinux2014_x86_64.whl.metadata (1.2 kB)\n",
            "Requirement already satisfied: graphviz in /usr/local/lib/python3.10/dist-packages (from catboost) (0.20.3)\n",
            "Requirement already satisfied: matplotlib in /usr/local/lib/python3.10/dist-packages (from catboost) (3.8.0)\n",
            "Requirement already satisfied: numpy<2.0,>=1.16.0 in /usr/local/lib/python3.10/dist-packages (from catboost) (1.26.4)\n",
            "Requirement already satisfied: pandas>=0.24 in /usr/local/lib/python3.10/dist-packages (from catboost) (2.2.2)\n",
            "Requirement already satisfied: scipy in /usr/local/lib/python3.10/dist-packages (from catboost) (1.13.1)\n",
            "Requirement already satisfied: plotly in /usr/local/lib/python3.10/dist-packages (from catboost) (5.24.1)\n",
            "Requirement already satisfied: six in /usr/local/lib/python3.10/dist-packages (from catboost) (1.17.0)\n",
            "Requirement already satisfied: python-dateutil>=2.8.2 in /usr/local/lib/python3.10/dist-packages (from pandas>=0.24->catboost) (2.8.2)\n",
            "Requirement already satisfied: pytz>=2020.1 in /usr/local/lib/python3.10/dist-packages (from pandas>=0.24->catboost) (2024.2)\n",
            "Requirement already satisfied: tzdata>=2022.7 in /usr/local/lib/python3.10/dist-packages (from pandas>=0.24->catboost) (2024.2)\n",
            "Requirement already satisfied: contourpy>=1.0.1 in /usr/local/lib/python3.10/dist-packages (from matplotlib->catboost) (1.3.1)\n",
            "Requirement already satisfied: cycler>=0.10 in /usr/local/lib/python3.10/dist-packages (from matplotlib->catboost) (0.12.1)\n",
            "Requirement already satisfied: fonttools>=4.22.0 in /usr/local/lib/python3.10/dist-packages (from matplotlib->catboost) (4.55.3)\n",
            "Requirement already satisfied: kiwisolver>=1.0.1 in /usr/local/lib/python3.10/dist-packages (from matplotlib->catboost) (1.4.7)\n",
            "Requirement already satisfied: packaging>=20.0 in /usr/local/lib/python3.10/dist-packages (from matplotlib->catboost) (24.2)\n",
            "Requirement already satisfied: pillow>=6.2.0 in /usr/local/lib/python3.10/dist-packages (from matplotlib->catboost) (11.0.0)\n",
            "Requirement already satisfied: pyparsing>=2.3.1 in /usr/local/lib/python3.10/dist-packages (from matplotlib->catboost) (3.2.0)\n",
            "Requirement already satisfied: tenacity>=6.2.0 in /usr/local/lib/python3.10/dist-packages (from plotly->catboost) (9.0.0)\n",
            "Downloading catboost-1.2.7-cp310-cp310-manylinux2014_x86_64.whl (98.7 MB)\n",
            "\u001b[2K   \u001b[90m━━━━━━━━━━━━━━━━━━━━━━━━━━━━━━━━━━━━━━━━\u001b[0m \u001b[32m98.7/98.7 MB\u001b[0m \u001b[31m8.0 MB/s\u001b[0m eta \u001b[36m0:00:00\u001b[0m\n",
            "\u001b[?25hInstalling collected packages: catboost\n",
            "Successfully installed catboost-1.2.7\n"
          ]
        }
      ]
    },
    {
      "cell_type": "code",
      "execution_count": 3,
      "metadata": {
        "id": "6mdVTagkqQWG"
      },
      "outputs": [],
      "source": [
        "import pandas as pd\n",
        "import numpy as np\n",
        "from catboost import CatBoostRegressor, Pool\n",
        "\n",
        "import shap\n",
        "\n",
        "import seaborn as sns\n",
        "diamonds = sns.load_dataset('diamonds')"
      ]
    },
    {
      "cell_type": "code",
      "source": [
        "df = pd.DataFrame(diamonds)"
      ],
      "metadata": {
        "id": "lYYempHzqwr3"
      },
      "execution_count": 4,
      "outputs": []
    },
    {
      "cell_type": "code",
      "source": [
        "df.head()"
      ],
      "metadata": {
        "colab": {
          "base_uri": "https://localhost:8080/",
          "height": 206
        },
        "id": "Ys6uZX_0rMrO",
        "outputId": "2f5aefa9-ff52-4b7f-d3d0-c0b56f36a772"
      },
      "execution_count": 5,
      "outputs": [
        {
          "output_type": "execute_result",
          "data": {
            "text/plain": [
              "   carat      cut color clarity  depth  table  price     x     y     z\n",
              "0   0.23    Ideal     E     SI2   61.5   55.0    326  3.95  3.98  2.43\n",
              "1   0.21  Premium     E     SI1   59.8   61.0    326  3.89  3.84  2.31\n",
              "2   0.23     Good     E     VS1   56.9   65.0    327  4.05  4.07  2.31\n",
              "3   0.29  Premium     I     VS2   62.4   58.0    334  4.20  4.23  2.63\n",
              "4   0.31     Good     J     SI2   63.3   58.0    335  4.34  4.35  2.75"
            ],
            "text/html": [
              "\n",
              "  <div id=\"df-bdc95a30-b114-4820-8552-e680ddaec529\" class=\"colab-df-container\">\n",
              "    <div>\n",
              "<style scoped>\n",
              "    .dataframe tbody tr th:only-of-type {\n",
              "        vertical-align: middle;\n",
              "    }\n",
              "\n",
              "    .dataframe tbody tr th {\n",
              "        vertical-align: top;\n",
              "    }\n",
              "\n",
              "    .dataframe thead th {\n",
              "        text-align: right;\n",
              "    }\n",
              "</style>\n",
              "<table border=\"1\" class=\"dataframe\">\n",
              "  <thead>\n",
              "    <tr style=\"text-align: right;\">\n",
              "      <th></th>\n",
              "      <th>carat</th>\n",
              "      <th>cut</th>\n",
              "      <th>color</th>\n",
              "      <th>clarity</th>\n",
              "      <th>depth</th>\n",
              "      <th>table</th>\n",
              "      <th>price</th>\n",
              "      <th>x</th>\n",
              "      <th>y</th>\n",
              "      <th>z</th>\n",
              "    </tr>\n",
              "  </thead>\n",
              "  <tbody>\n",
              "    <tr>\n",
              "      <th>0</th>\n",
              "      <td>0.23</td>\n",
              "      <td>Ideal</td>\n",
              "      <td>E</td>\n",
              "      <td>SI2</td>\n",
              "      <td>61.5</td>\n",
              "      <td>55.0</td>\n",
              "      <td>326</td>\n",
              "      <td>3.95</td>\n",
              "      <td>3.98</td>\n",
              "      <td>2.43</td>\n",
              "    </tr>\n",
              "    <tr>\n",
              "      <th>1</th>\n",
              "      <td>0.21</td>\n",
              "      <td>Premium</td>\n",
              "      <td>E</td>\n",
              "      <td>SI1</td>\n",
              "      <td>59.8</td>\n",
              "      <td>61.0</td>\n",
              "      <td>326</td>\n",
              "      <td>3.89</td>\n",
              "      <td>3.84</td>\n",
              "      <td>2.31</td>\n",
              "    </tr>\n",
              "    <tr>\n",
              "      <th>2</th>\n",
              "      <td>0.23</td>\n",
              "      <td>Good</td>\n",
              "      <td>E</td>\n",
              "      <td>VS1</td>\n",
              "      <td>56.9</td>\n",
              "      <td>65.0</td>\n",
              "      <td>327</td>\n",
              "      <td>4.05</td>\n",
              "      <td>4.07</td>\n",
              "      <td>2.31</td>\n",
              "    </tr>\n",
              "    <tr>\n",
              "      <th>3</th>\n",
              "      <td>0.29</td>\n",
              "      <td>Premium</td>\n",
              "      <td>I</td>\n",
              "      <td>VS2</td>\n",
              "      <td>62.4</td>\n",
              "      <td>58.0</td>\n",
              "      <td>334</td>\n",
              "      <td>4.20</td>\n",
              "      <td>4.23</td>\n",
              "      <td>2.63</td>\n",
              "    </tr>\n",
              "    <tr>\n",
              "      <th>4</th>\n",
              "      <td>0.31</td>\n",
              "      <td>Good</td>\n",
              "      <td>J</td>\n",
              "      <td>SI2</td>\n",
              "      <td>63.3</td>\n",
              "      <td>58.0</td>\n",
              "      <td>335</td>\n",
              "      <td>4.34</td>\n",
              "      <td>4.35</td>\n",
              "      <td>2.75</td>\n",
              "    </tr>\n",
              "  </tbody>\n",
              "</table>\n",
              "</div>\n",
              "    <div class=\"colab-df-buttons\">\n",
              "\n",
              "  <div class=\"colab-df-container\">\n",
              "    <button class=\"colab-df-convert\" onclick=\"convertToInteractive('df-bdc95a30-b114-4820-8552-e680ddaec529')\"\n",
              "            title=\"Convert this dataframe to an interactive table.\"\n",
              "            style=\"display:none;\">\n",
              "\n",
              "  <svg xmlns=\"http://www.w3.org/2000/svg\" height=\"24px\" viewBox=\"0 -960 960 960\">\n",
              "    <path d=\"M120-120v-720h720v720H120Zm60-500h600v-160H180v160Zm220 220h160v-160H400v160Zm0 220h160v-160H400v160ZM180-400h160v-160H180v160Zm440 0h160v-160H620v160ZM180-180h160v-160H180v160Zm440 0h160v-160H620v160Z\"/>\n",
              "  </svg>\n",
              "    </button>\n",
              "\n",
              "  <style>\n",
              "    .colab-df-container {\n",
              "      display:flex;\n",
              "      gap: 12px;\n",
              "    }\n",
              "\n",
              "    .colab-df-convert {\n",
              "      background-color: #E8F0FE;\n",
              "      border: none;\n",
              "      border-radius: 50%;\n",
              "      cursor: pointer;\n",
              "      display: none;\n",
              "      fill: #1967D2;\n",
              "      height: 32px;\n",
              "      padding: 0 0 0 0;\n",
              "      width: 32px;\n",
              "    }\n",
              "\n",
              "    .colab-df-convert:hover {\n",
              "      background-color: #E2EBFA;\n",
              "      box-shadow: 0px 1px 2px rgba(60, 64, 67, 0.3), 0px 1px 3px 1px rgba(60, 64, 67, 0.15);\n",
              "      fill: #174EA6;\n",
              "    }\n",
              "\n",
              "    .colab-df-buttons div {\n",
              "      margin-bottom: 4px;\n",
              "    }\n",
              "\n",
              "    [theme=dark] .colab-df-convert {\n",
              "      background-color: #3B4455;\n",
              "      fill: #D2E3FC;\n",
              "    }\n",
              "\n",
              "    [theme=dark] .colab-df-convert:hover {\n",
              "      background-color: #434B5C;\n",
              "      box-shadow: 0px 1px 3px 1px rgba(0, 0, 0, 0.15);\n",
              "      filter: drop-shadow(0px 1px 2px rgba(0, 0, 0, 0.3));\n",
              "      fill: #FFFFFF;\n",
              "    }\n",
              "  </style>\n",
              "\n",
              "    <script>\n",
              "      const buttonEl =\n",
              "        document.querySelector('#df-bdc95a30-b114-4820-8552-e680ddaec529 button.colab-df-convert');\n",
              "      buttonEl.style.display =\n",
              "        google.colab.kernel.accessAllowed ? 'block' : 'none';\n",
              "\n",
              "      async function convertToInteractive(key) {\n",
              "        const element = document.querySelector('#df-bdc95a30-b114-4820-8552-e680ddaec529');\n",
              "        const dataTable =\n",
              "          await google.colab.kernel.invokeFunction('convertToInteractive',\n",
              "                                                    [key], {});\n",
              "        if (!dataTable) return;\n",
              "\n",
              "        const docLinkHtml = 'Like what you see? Visit the ' +\n",
              "          '<a target=\"_blank\" href=https://colab.research.google.com/notebooks/data_table.ipynb>data table notebook</a>'\n",
              "          + ' to learn more about interactive tables.';\n",
              "        element.innerHTML = '';\n",
              "        dataTable['output_type'] = 'display_data';\n",
              "        await google.colab.output.renderOutput(dataTable, element);\n",
              "        const docLink = document.createElement('div');\n",
              "        docLink.innerHTML = docLinkHtml;\n",
              "        element.appendChild(docLink);\n",
              "      }\n",
              "    </script>\n",
              "  </div>\n",
              "\n",
              "\n",
              "<div id=\"df-072f3cd5-d5ec-4c31-9c82-4b1cacb05669\">\n",
              "  <button class=\"colab-df-quickchart\" onclick=\"quickchart('df-072f3cd5-d5ec-4c31-9c82-4b1cacb05669')\"\n",
              "            title=\"Suggest charts\"\n",
              "            style=\"display:none;\">\n",
              "\n",
              "<svg xmlns=\"http://www.w3.org/2000/svg\" height=\"24px\"viewBox=\"0 0 24 24\"\n",
              "     width=\"24px\">\n",
              "    <g>\n",
              "        <path d=\"M19 3H5c-1.1 0-2 .9-2 2v14c0 1.1.9 2 2 2h14c1.1 0 2-.9 2-2V5c0-1.1-.9-2-2-2zM9 17H7v-7h2v7zm4 0h-2V7h2v10zm4 0h-2v-4h2v4z\"/>\n",
              "    </g>\n",
              "</svg>\n",
              "  </button>\n",
              "\n",
              "<style>\n",
              "  .colab-df-quickchart {\n",
              "      --bg-color: #E8F0FE;\n",
              "      --fill-color: #1967D2;\n",
              "      --hover-bg-color: #E2EBFA;\n",
              "      --hover-fill-color: #174EA6;\n",
              "      --disabled-fill-color: #AAA;\n",
              "      --disabled-bg-color: #DDD;\n",
              "  }\n",
              "\n",
              "  [theme=dark] .colab-df-quickchart {\n",
              "      --bg-color: #3B4455;\n",
              "      --fill-color: #D2E3FC;\n",
              "      --hover-bg-color: #434B5C;\n",
              "      --hover-fill-color: #FFFFFF;\n",
              "      --disabled-bg-color: #3B4455;\n",
              "      --disabled-fill-color: #666;\n",
              "  }\n",
              "\n",
              "  .colab-df-quickchart {\n",
              "    background-color: var(--bg-color);\n",
              "    border: none;\n",
              "    border-radius: 50%;\n",
              "    cursor: pointer;\n",
              "    display: none;\n",
              "    fill: var(--fill-color);\n",
              "    height: 32px;\n",
              "    padding: 0;\n",
              "    width: 32px;\n",
              "  }\n",
              "\n",
              "  .colab-df-quickchart:hover {\n",
              "    background-color: var(--hover-bg-color);\n",
              "    box-shadow: 0 1px 2px rgba(60, 64, 67, 0.3), 0 1px 3px 1px rgba(60, 64, 67, 0.15);\n",
              "    fill: var(--button-hover-fill-color);\n",
              "  }\n",
              "\n",
              "  .colab-df-quickchart-complete:disabled,\n",
              "  .colab-df-quickchart-complete:disabled:hover {\n",
              "    background-color: var(--disabled-bg-color);\n",
              "    fill: var(--disabled-fill-color);\n",
              "    box-shadow: none;\n",
              "  }\n",
              "\n",
              "  .colab-df-spinner {\n",
              "    border: 2px solid var(--fill-color);\n",
              "    border-color: transparent;\n",
              "    border-bottom-color: var(--fill-color);\n",
              "    animation:\n",
              "      spin 1s steps(1) infinite;\n",
              "  }\n",
              "\n",
              "  @keyframes spin {\n",
              "    0% {\n",
              "      border-color: transparent;\n",
              "      border-bottom-color: var(--fill-color);\n",
              "      border-left-color: var(--fill-color);\n",
              "    }\n",
              "    20% {\n",
              "      border-color: transparent;\n",
              "      border-left-color: var(--fill-color);\n",
              "      border-top-color: var(--fill-color);\n",
              "    }\n",
              "    30% {\n",
              "      border-color: transparent;\n",
              "      border-left-color: var(--fill-color);\n",
              "      border-top-color: var(--fill-color);\n",
              "      border-right-color: var(--fill-color);\n",
              "    }\n",
              "    40% {\n",
              "      border-color: transparent;\n",
              "      border-right-color: var(--fill-color);\n",
              "      border-top-color: var(--fill-color);\n",
              "    }\n",
              "    60% {\n",
              "      border-color: transparent;\n",
              "      border-right-color: var(--fill-color);\n",
              "    }\n",
              "    80% {\n",
              "      border-color: transparent;\n",
              "      border-right-color: var(--fill-color);\n",
              "      border-bottom-color: var(--fill-color);\n",
              "    }\n",
              "    90% {\n",
              "      border-color: transparent;\n",
              "      border-bottom-color: var(--fill-color);\n",
              "    }\n",
              "  }\n",
              "</style>\n",
              "\n",
              "  <script>\n",
              "    async function quickchart(key) {\n",
              "      const quickchartButtonEl =\n",
              "        document.querySelector('#' + key + ' button');\n",
              "      quickchartButtonEl.disabled = true;  // To prevent multiple clicks.\n",
              "      quickchartButtonEl.classList.add('colab-df-spinner');\n",
              "      try {\n",
              "        const charts = await google.colab.kernel.invokeFunction(\n",
              "            'suggestCharts', [key], {});\n",
              "      } catch (error) {\n",
              "        console.error('Error during call to suggestCharts:', error);\n",
              "      }\n",
              "      quickchartButtonEl.classList.remove('colab-df-spinner');\n",
              "      quickchartButtonEl.classList.add('colab-df-quickchart-complete');\n",
              "    }\n",
              "    (() => {\n",
              "      let quickchartButtonEl =\n",
              "        document.querySelector('#df-072f3cd5-d5ec-4c31-9c82-4b1cacb05669 button');\n",
              "      quickchartButtonEl.style.display =\n",
              "        google.colab.kernel.accessAllowed ? 'block' : 'none';\n",
              "    })();\n",
              "  </script>\n",
              "</div>\n",
              "\n",
              "    </div>\n",
              "  </div>\n"
            ],
            "application/vnd.google.colaboratory.intrinsic+json": {
              "type": "dataframe",
              "variable_name": "df",
              "summary": "{\n  \"name\": \"df\",\n  \"rows\": 53940,\n  \"fields\": [\n    {\n      \"column\": \"carat\",\n      \"properties\": {\n        \"dtype\": \"number\",\n        \"std\": 0.47401124440538067,\n        \"min\": 0.2,\n        \"max\": 5.01,\n        \"num_unique_values\": 273,\n        \"samples\": [\n          0.77,\n          1.58,\n          0.65\n        ],\n        \"semantic_type\": \"\",\n        \"description\": \"\"\n      }\n    },\n    {\n      \"column\": \"cut\",\n      \"properties\": {\n        \"dtype\": \"category\",\n        \"num_unique_values\": 5,\n        \"samples\": [\n          \"Premium\",\n          \"Fair\",\n          \"Good\"\n        ],\n        \"semantic_type\": \"\",\n        \"description\": \"\"\n      }\n    },\n    {\n      \"column\": \"color\",\n      \"properties\": {\n        \"dtype\": \"category\",\n        \"num_unique_values\": 7,\n        \"samples\": [\n          \"E\",\n          \"I\",\n          \"G\"\n        ],\n        \"semantic_type\": \"\",\n        \"description\": \"\"\n      }\n    },\n    {\n      \"column\": \"clarity\",\n      \"properties\": {\n        \"dtype\": \"category\",\n        \"num_unique_values\": 8,\n        \"samples\": [\n          \"SI1\",\n          \"VVS1\",\n          \"SI2\"\n        ],\n        \"semantic_type\": \"\",\n        \"description\": \"\"\n      }\n    },\n    {\n      \"column\": \"depth\",\n      \"properties\": {\n        \"dtype\": \"number\",\n        \"std\": 1.4326213188337733,\n        \"min\": 43.0,\n        \"max\": 79.0,\n        \"num_unique_values\": 184,\n        \"samples\": [\n          61.0,\n          62.9,\n          70.2\n        ],\n        \"semantic_type\": \"\",\n        \"description\": \"\"\n      }\n    },\n    {\n      \"column\": \"table\",\n      \"properties\": {\n        \"dtype\": \"number\",\n        \"std\": 2.234490562820938,\n        \"min\": 43.0,\n        \"max\": 95.0,\n        \"num_unique_values\": 127,\n        \"samples\": [\n          54.8,\n          61.5,\n          57.6\n        ],\n        \"semantic_type\": \"\",\n        \"description\": \"\"\n      }\n    },\n    {\n      \"column\": \"price\",\n      \"properties\": {\n        \"dtype\": \"number\",\n        \"std\": 3989,\n        \"min\": 326,\n        \"max\": 18823,\n        \"num_unique_values\": 11602,\n        \"samples\": [\n          16368,\n          895,\n          748\n        ],\n        \"semantic_type\": \"\",\n        \"description\": \"\"\n      }\n    },\n    {\n      \"column\": \"x\",\n      \"properties\": {\n        \"dtype\": \"number\",\n        \"std\": 1.1217607467924422,\n        \"min\": 0.0,\n        \"max\": 10.74,\n        \"num_unique_values\": 554,\n        \"samples\": [\n          5.88,\n          5.69,\n          4.61\n        ],\n        \"semantic_type\": \"\",\n        \"description\": \"\"\n      }\n    },\n    {\n      \"column\": \"y\",\n      \"properties\": {\n        \"dtype\": \"number\",\n        \"std\": 1.1421346741235396,\n        \"min\": 0.0,\n        \"max\": 58.9,\n        \"num_unique_values\": 552,\n        \"samples\": [\n          5.33,\n          5.61,\n          5.25\n        ],\n        \"semantic_type\": \"\",\n        \"description\": \"\"\n      }\n    },\n    {\n      \"column\": \"z\",\n      \"properties\": {\n        \"dtype\": \"number\",\n        \"std\": 0.7056988469499964,\n        \"min\": 0.0,\n        \"max\": 31.8,\n        \"num_unique_values\": 375,\n        \"samples\": [\n          3.36,\n          2.45,\n          2.7\n        ],\n        \"semantic_type\": \"\",\n        \"description\": \"\"\n      }\n    }\n  ]\n}"
            }
          },
          "metadata": {},
          "execution_count": 5
        }
      ]
    },
    {
      "cell_type": "code",
      "source": [
        "df.dtypes"
      ],
      "metadata": {
        "colab": {
          "base_uri": "https://localhost:8080/",
          "height": 397
        },
        "id": "2HV3T_LWrPnc",
        "outputId": "0f4fa1ad-bad4-42b1-f335-9ec006c8f85e"
      },
      "execution_count": 8,
      "outputs": [
        {
          "output_type": "execute_result",
          "data": {
            "text/plain": [
              "carat       float64\n",
              "cut        category\n",
              "color      category\n",
              "clarity    category\n",
              "depth       float64\n",
              "table       float64\n",
              "price         int64\n",
              "x           float64\n",
              "y           float64\n",
              "z           float64\n",
              "dtype: object"
            ],
            "text/html": [
              "<div>\n",
              "<style scoped>\n",
              "    .dataframe tbody tr th:only-of-type {\n",
              "        vertical-align: middle;\n",
              "    }\n",
              "\n",
              "    .dataframe tbody tr th {\n",
              "        vertical-align: top;\n",
              "    }\n",
              "\n",
              "    .dataframe thead th {\n",
              "        text-align: right;\n",
              "    }\n",
              "</style>\n",
              "<table border=\"1\" class=\"dataframe\">\n",
              "  <thead>\n",
              "    <tr style=\"text-align: right;\">\n",
              "      <th></th>\n",
              "      <th>0</th>\n",
              "    </tr>\n",
              "  </thead>\n",
              "  <tbody>\n",
              "    <tr>\n",
              "      <th>carat</th>\n",
              "      <td>float64</td>\n",
              "    </tr>\n",
              "    <tr>\n",
              "      <th>cut</th>\n",
              "      <td>category</td>\n",
              "    </tr>\n",
              "    <tr>\n",
              "      <th>color</th>\n",
              "      <td>category</td>\n",
              "    </tr>\n",
              "    <tr>\n",
              "      <th>clarity</th>\n",
              "      <td>category</td>\n",
              "    </tr>\n",
              "    <tr>\n",
              "      <th>depth</th>\n",
              "      <td>float64</td>\n",
              "    </tr>\n",
              "    <tr>\n",
              "      <th>table</th>\n",
              "      <td>float64</td>\n",
              "    </tr>\n",
              "    <tr>\n",
              "      <th>price</th>\n",
              "      <td>int64</td>\n",
              "    </tr>\n",
              "    <tr>\n",
              "      <th>x</th>\n",
              "      <td>float64</td>\n",
              "    </tr>\n",
              "    <tr>\n",
              "      <th>y</th>\n",
              "      <td>float64</td>\n",
              "    </tr>\n",
              "    <tr>\n",
              "      <th>z</th>\n",
              "      <td>float64</td>\n",
              "    </tr>\n",
              "  </tbody>\n",
              "</table>\n",
              "</div><br><label><b>dtype:</b> object</label>"
            ]
          },
          "metadata": {},
          "execution_count": 8
        }
      ]
    },
    {
      "cell_type": "code",
      "source": [
        "for col in df.select_dtypes(include=['object']).columns:\n",
        "    df[col] = df[col].astype('category')"
      ],
      "metadata": {
        "id": "EraSzKVBrU1B"
      },
      "execution_count": 9,
      "outputs": []
    },
    {
      "cell_type": "code",
      "source": [
        "df.dtypes"
      ],
      "metadata": {
        "colab": {
          "base_uri": "https://localhost:8080/",
          "height": 397
        },
        "id": "ngiAQyrIrd92",
        "outputId": "9893f26a-ff86-45ed-f005-66ca2dda773d"
      },
      "execution_count": 10,
      "outputs": [
        {
          "output_type": "execute_result",
          "data": {
            "text/plain": [
              "carat       float64\n",
              "cut        category\n",
              "color      category\n",
              "clarity    category\n",
              "depth       float64\n",
              "table       float64\n",
              "price         int64\n",
              "x           float64\n",
              "y           float64\n",
              "z           float64\n",
              "dtype: object"
            ],
            "text/html": [
              "<div>\n",
              "<style scoped>\n",
              "    .dataframe tbody tr th:only-of-type {\n",
              "        vertical-align: middle;\n",
              "    }\n",
              "\n",
              "    .dataframe tbody tr th {\n",
              "        vertical-align: top;\n",
              "    }\n",
              "\n",
              "    .dataframe thead th {\n",
              "        text-align: right;\n",
              "    }\n",
              "</style>\n",
              "<table border=\"1\" class=\"dataframe\">\n",
              "  <thead>\n",
              "    <tr style=\"text-align: right;\">\n",
              "      <th></th>\n",
              "      <th>0</th>\n",
              "    </tr>\n",
              "  </thead>\n",
              "  <tbody>\n",
              "    <tr>\n",
              "      <th>carat</th>\n",
              "      <td>float64</td>\n",
              "    </tr>\n",
              "    <tr>\n",
              "      <th>cut</th>\n",
              "      <td>category</td>\n",
              "    </tr>\n",
              "    <tr>\n",
              "      <th>color</th>\n",
              "      <td>category</td>\n",
              "    </tr>\n",
              "    <tr>\n",
              "      <th>clarity</th>\n",
              "      <td>category</td>\n",
              "    </tr>\n",
              "    <tr>\n",
              "      <th>depth</th>\n",
              "      <td>float64</td>\n",
              "    </tr>\n",
              "    <tr>\n",
              "      <th>table</th>\n",
              "      <td>float64</td>\n",
              "    </tr>\n",
              "    <tr>\n",
              "      <th>price</th>\n",
              "      <td>int64</td>\n",
              "    </tr>\n",
              "    <tr>\n",
              "      <th>x</th>\n",
              "      <td>float64</td>\n",
              "    </tr>\n",
              "    <tr>\n",
              "      <th>y</th>\n",
              "      <td>float64</td>\n",
              "    </tr>\n",
              "    <tr>\n",
              "      <th>z</th>\n",
              "      <td>float64</td>\n",
              "    </tr>\n",
              "  </tbody>\n",
              "</table>\n",
              "</div><br><label><b>dtype:</b> object</label>"
            ]
          },
          "metadata": {},
          "execution_count": 10
        }
      ]
    },
    {
      "cell_type": "code",
      "source": [
        "X = df.drop(['price'], axis=1)\n",
        "y = df['price']"
      ],
      "metadata": {
        "id": "TXOKYrWmriFI"
      },
      "execution_count": 18,
      "outputs": []
    },
    {
      "cell_type": "code",
      "source": [
        "X.head(1)"
      ],
      "metadata": {
        "colab": {
          "base_uri": "https://localhost:8080/",
          "height": 81
        },
        "id": "TEbLZaDvr2LI",
        "outputId": "92af76ba-28b3-4e7a-a59f-e641be43a9ae"
      },
      "execution_count": 20,
      "outputs": [
        {
          "output_type": "execute_result",
          "data": {
            "text/plain": [
              "   carat    cut color clarity  depth  table     x     y     z\n",
              "0   0.23  Ideal     E     SI2   61.5   55.0  3.95  3.98  2.43"
            ],
            "text/html": [
              "\n",
              "  <div id=\"df-a827a09e-3dc5-4434-9f3b-55002a3c01a6\" class=\"colab-df-container\">\n",
              "    <div>\n",
              "<style scoped>\n",
              "    .dataframe tbody tr th:only-of-type {\n",
              "        vertical-align: middle;\n",
              "    }\n",
              "\n",
              "    .dataframe tbody tr th {\n",
              "        vertical-align: top;\n",
              "    }\n",
              "\n",
              "    .dataframe thead th {\n",
              "        text-align: right;\n",
              "    }\n",
              "</style>\n",
              "<table border=\"1\" class=\"dataframe\">\n",
              "  <thead>\n",
              "    <tr style=\"text-align: right;\">\n",
              "      <th></th>\n",
              "      <th>carat</th>\n",
              "      <th>cut</th>\n",
              "      <th>color</th>\n",
              "      <th>clarity</th>\n",
              "      <th>depth</th>\n",
              "      <th>table</th>\n",
              "      <th>x</th>\n",
              "      <th>y</th>\n",
              "      <th>z</th>\n",
              "    </tr>\n",
              "  </thead>\n",
              "  <tbody>\n",
              "    <tr>\n",
              "      <th>0</th>\n",
              "      <td>0.23</td>\n",
              "      <td>Ideal</td>\n",
              "      <td>E</td>\n",
              "      <td>SI2</td>\n",
              "      <td>61.5</td>\n",
              "      <td>55.0</td>\n",
              "      <td>3.95</td>\n",
              "      <td>3.98</td>\n",
              "      <td>2.43</td>\n",
              "    </tr>\n",
              "  </tbody>\n",
              "</table>\n",
              "</div>\n",
              "    <div class=\"colab-df-buttons\">\n",
              "\n",
              "  <div class=\"colab-df-container\">\n",
              "    <button class=\"colab-df-convert\" onclick=\"convertToInteractive('df-a827a09e-3dc5-4434-9f3b-55002a3c01a6')\"\n",
              "            title=\"Convert this dataframe to an interactive table.\"\n",
              "            style=\"display:none;\">\n",
              "\n",
              "  <svg xmlns=\"http://www.w3.org/2000/svg\" height=\"24px\" viewBox=\"0 -960 960 960\">\n",
              "    <path d=\"M120-120v-720h720v720H120Zm60-500h600v-160H180v160Zm220 220h160v-160H400v160Zm0 220h160v-160H400v160ZM180-400h160v-160H180v160Zm440 0h160v-160H620v160ZM180-180h160v-160H180v160Zm440 0h160v-160H620v160Z\"/>\n",
              "  </svg>\n",
              "    </button>\n",
              "\n",
              "  <style>\n",
              "    .colab-df-container {\n",
              "      display:flex;\n",
              "      gap: 12px;\n",
              "    }\n",
              "\n",
              "    .colab-df-convert {\n",
              "      background-color: #E8F0FE;\n",
              "      border: none;\n",
              "      border-radius: 50%;\n",
              "      cursor: pointer;\n",
              "      display: none;\n",
              "      fill: #1967D2;\n",
              "      height: 32px;\n",
              "      padding: 0 0 0 0;\n",
              "      width: 32px;\n",
              "    }\n",
              "\n",
              "    .colab-df-convert:hover {\n",
              "      background-color: #E2EBFA;\n",
              "      box-shadow: 0px 1px 2px rgba(60, 64, 67, 0.3), 0px 1px 3px 1px rgba(60, 64, 67, 0.15);\n",
              "      fill: #174EA6;\n",
              "    }\n",
              "\n",
              "    .colab-df-buttons div {\n",
              "      margin-bottom: 4px;\n",
              "    }\n",
              "\n",
              "    [theme=dark] .colab-df-convert {\n",
              "      background-color: #3B4455;\n",
              "      fill: #D2E3FC;\n",
              "    }\n",
              "\n",
              "    [theme=dark] .colab-df-convert:hover {\n",
              "      background-color: #434B5C;\n",
              "      box-shadow: 0px 1px 3px 1px rgba(0, 0, 0, 0.15);\n",
              "      filter: drop-shadow(0px 1px 2px rgba(0, 0, 0, 0.3));\n",
              "      fill: #FFFFFF;\n",
              "    }\n",
              "  </style>\n",
              "\n",
              "    <script>\n",
              "      const buttonEl =\n",
              "        document.querySelector('#df-a827a09e-3dc5-4434-9f3b-55002a3c01a6 button.colab-df-convert');\n",
              "      buttonEl.style.display =\n",
              "        google.colab.kernel.accessAllowed ? 'block' : 'none';\n",
              "\n",
              "      async function convertToInteractive(key) {\n",
              "        const element = document.querySelector('#df-a827a09e-3dc5-4434-9f3b-55002a3c01a6');\n",
              "        const dataTable =\n",
              "          await google.colab.kernel.invokeFunction('convertToInteractive',\n",
              "                                                    [key], {});\n",
              "        if (!dataTable) return;\n",
              "\n",
              "        const docLinkHtml = 'Like what you see? Visit the ' +\n",
              "          '<a target=\"_blank\" href=https://colab.research.google.com/notebooks/data_table.ipynb>data table notebook</a>'\n",
              "          + ' to learn more about interactive tables.';\n",
              "        element.innerHTML = '';\n",
              "        dataTable['output_type'] = 'display_data';\n",
              "        await google.colab.output.renderOutput(dataTable, element);\n",
              "        const docLink = document.createElement('div');\n",
              "        docLink.innerHTML = docLinkHtml;\n",
              "        element.appendChild(docLink);\n",
              "      }\n",
              "    </script>\n",
              "  </div>\n",
              "\n",
              "\n",
              "    </div>\n",
              "  </div>\n"
            ],
            "application/vnd.google.colaboratory.intrinsic+json": {
              "type": "dataframe",
              "variable_name": "X",
              "summary": "{\n  \"name\": \"X\",\n  \"rows\": 53940,\n  \"fields\": [\n    {\n      \"column\": \"carat\",\n      \"properties\": {\n        \"dtype\": \"number\",\n        \"std\": 0.47401124440538067,\n        \"min\": 0.2,\n        \"max\": 5.01,\n        \"num_unique_values\": 273,\n        \"samples\": [\n          0.77,\n          1.58,\n          0.65\n        ],\n        \"semantic_type\": \"\",\n        \"description\": \"\"\n      }\n    },\n    {\n      \"column\": \"cut\",\n      \"properties\": {\n        \"dtype\": \"category\",\n        \"num_unique_values\": 5,\n        \"samples\": [\n          \"Premium\",\n          \"Fair\",\n          \"Good\"\n        ],\n        \"semantic_type\": \"\",\n        \"description\": \"\"\n      }\n    },\n    {\n      \"column\": \"color\",\n      \"properties\": {\n        \"dtype\": \"category\",\n        \"num_unique_values\": 7,\n        \"samples\": [\n          \"E\",\n          \"I\",\n          \"G\"\n        ],\n        \"semantic_type\": \"\",\n        \"description\": \"\"\n      }\n    },\n    {\n      \"column\": \"clarity\",\n      \"properties\": {\n        \"dtype\": \"category\",\n        \"num_unique_values\": 8,\n        \"samples\": [\n          \"SI1\",\n          \"VVS1\",\n          \"SI2\"\n        ],\n        \"semantic_type\": \"\",\n        \"description\": \"\"\n      }\n    },\n    {\n      \"column\": \"depth\",\n      \"properties\": {\n        \"dtype\": \"number\",\n        \"std\": 1.4326213188337733,\n        \"min\": 43.0,\n        \"max\": 79.0,\n        \"num_unique_values\": 184,\n        \"samples\": [\n          61.0,\n          62.9,\n          70.2\n        ],\n        \"semantic_type\": \"\",\n        \"description\": \"\"\n      }\n    },\n    {\n      \"column\": \"table\",\n      \"properties\": {\n        \"dtype\": \"number\",\n        \"std\": 2.234490562820938,\n        \"min\": 43.0,\n        \"max\": 95.0,\n        \"num_unique_values\": 127,\n        \"samples\": [\n          54.8,\n          61.5,\n          57.6\n        ],\n        \"semantic_type\": \"\",\n        \"description\": \"\"\n      }\n    },\n    {\n      \"column\": \"x\",\n      \"properties\": {\n        \"dtype\": \"number\",\n        \"std\": 1.1217607467924422,\n        \"min\": 0.0,\n        \"max\": 10.74,\n        \"num_unique_values\": 554,\n        \"samples\": [\n          5.88,\n          5.69,\n          4.61\n        ],\n        \"semantic_type\": \"\",\n        \"description\": \"\"\n      }\n    },\n    {\n      \"column\": \"y\",\n      \"properties\": {\n        \"dtype\": \"number\",\n        \"std\": 1.1421346741235396,\n        \"min\": 0.0,\n        \"max\": 58.9,\n        \"num_unique_values\": 552,\n        \"samples\": [\n          5.33,\n          5.61,\n          5.25\n        ],\n        \"semantic_type\": \"\",\n        \"description\": \"\"\n      }\n    },\n    {\n      \"column\": \"z\",\n      \"properties\": {\n        \"dtype\": \"number\",\n        \"std\": 0.7056988469499964,\n        \"min\": 0.0,\n        \"max\": 31.8,\n        \"num_unique_values\": 375,\n        \"samples\": [\n          3.36,\n          2.45,\n          2.7\n        ],\n        \"semantic_type\": \"\",\n        \"description\": \"\"\n      }\n    }\n  ]\n}"
            }
          },
          "metadata": {},
          "execution_count": 20
        }
      ]
    },
    {
      "cell_type": "code",
      "source": [
        "cat_features = X.select_dtypes(include=['category']).columns.tolist()"
      ],
      "metadata": {
        "id": "sa5-pNs_sVIa"
      },
      "execution_count": 21,
      "outputs": []
    },
    {
      "cell_type": "code",
      "source": [
        "cat_features"
      ],
      "metadata": {
        "colab": {
          "base_uri": "https://localhost:8080/"
        },
        "id": "TrZCDcb5seJt",
        "outputId": "d09c94d5-87ac-4d81-b10d-73750c19a400"
      },
      "execution_count": 22,
      "outputs": [
        {
          "output_type": "execute_result",
          "data": {
            "text/plain": [
              "['cut', 'color', 'clarity']"
            ]
          },
          "metadata": {},
          "execution_count": 22
        }
      ]
    },
    {
      "cell_type": "code",
      "source": [
        "from sklearn.model_selection import train_test_split\n",
        "X_train, X_test, y_train, y_test = train_test_split(X, y, test_size=0.2, random_state=42)"
      ],
      "metadata": {
        "id": "xnCFLb8ssi5y"
      },
      "execution_count": 23,
      "outputs": []
    },
    {
      "cell_type": "code",
      "source": [
        "model = CatBoostRegressor(iterations=100, learning_rate=0.1, depth=6)"
      ],
      "metadata": {
        "id": "AYhN2sR4smuh"
      },
      "execution_count": 24,
      "outputs": []
    },
    {
      "cell_type": "code",
      "source": [
        "model.fit(X_train, y_train, cat_features=cat_features, eval_set=(X_test, y_test), plot=True)"
      ],
      "metadata": {
        "colab": {
          "base_uri": "https://localhost:8080/",
          "height": 1000,
          "referenced_widgets": [
            "7f6b4e439ffd42119bcf1d9d41384fd4"
          ]
        },
        "id": "QrR7fCNOsqGH",
        "outputId": "93d63c2e-954a-4475-ad9f-09325570726b"
      },
      "execution_count": 25,
      "outputs": [
        {
          "output_type": "display_data",
          "data": {
            "text/plain": [
              "MetricVisualizer(layout=Layout(align_self='stretch', height='500px'))"
            ],
            "application/vnd.jupyter.widget-view+json": {
              "version_major": 2,
              "version_minor": 0,
              "model_id": "7f6b4e439ffd42119bcf1d9d41384fd4"
            }
          },
          "metadata": {}
        },
        {
          "output_type": "stream",
          "name": "stdout",
          "text": [
            "0:\tlearn: 3651.6706669\ttest: 3645.2886484\tbest: 3645.2886484 (0)\ttotal: 82.6ms\tremaining: 8.18s\n",
            "1:\tlearn: 3351.6387912\ttest: 3342.6818053\tbest: 3342.6818053 (1)\ttotal: 121ms\tremaining: 5.95s\n",
            "2:\tlearn: 3086.4665738\ttest: 3076.4726785\tbest: 3076.4726785 (2)\ttotal: 148ms\tremaining: 4.8s\n",
            "3:\tlearn: 2849.3823989\ttest: 2837.3096937\tbest: 2837.3096937 (3)\ttotal: 174ms\tremaining: 4.17s\n",
            "4:\tlearn: 2643.6706918\ttest: 2630.7350719\tbest: 2630.7350719 (4)\ttotal: 202ms\tremaining: 3.83s\n",
            "5:\tlearn: 2462.9508874\ttest: 2448.7444734\tbest: 2448.7444734 (5)\ttotal: 231ms\tremaining: 3.62s\n",
            "6:\tlearn: 2303.5463482\ttest: 2290.0140823\tbest: 2290.0140823 (6)\ttotal: 258ms\tremaining: 3.43s\n",
            "7:\tlearn: 2164.7635973\ttest: 2150.7064600\tbest: 2150.7064600 (7)\ttotal: 294ms\tremaining: 3.38s\n",
            "8:\tlearn: 2044.6875347\ttest: 2030.5460192\tbest: 2030.5460192 (8)\ttotal: 322ms\tremaining: 3.25s\n",
            "9:\tlearn: 1941.3994840\ttest: 1926.1901799\tbest: 1926.1901799 (9)\ttotal: 350ms\tremaining: 3.15s\n",
            "10:\tlearn: 1852.1955188\ttest: 1837.2908977\tbest: 1837.2908977 (10)\ttotal: 378ms\tremaining: 3.06s\n",
            "11:\tlearn: 1777.1954951\ttest: 1762.9525006\tbest: 1762.9525006 (11)\ttotal: 406ms\tremaining: 2.97s\n",
            "12:\tlearn: 1711.9895274\ttest: 1697.3743241\tbest: 1697.3743241 (12)\ttotal: 431ms\tremaining: 2.88s\n",
            "13:\tlearn: 1656.9810454\ttest: 1642.7313400\tbest: 1642.7313400 (13)\ttotal: 460ms\tremaining: 2.83s\n",
            "14:\tlearn: 1610.1006351\ttest: 1595.9673671\tbest: 1595.9673671 (14)\ttotal: 484ms\tremaining: 2.74s\n",
            "15:\tlearn: 1570.3088586\ttest: 1556.2515169\tbest: 1556.2515169 (15)\ttotal: 519ms\tremaining: 2.72s\n",
            "16:\tlearn: 1538.0941564\ttest: 1524.9934410\tbest: 1524.9934410 (16)\ttotal: 544ms\tremaining: 2.65s\n",
            "17:\tlearn: 1463.6539793\ttest: 1452.0532708\tbest: 1452.0532708 (17)\ttotal: 570ms\tremaining: 2.6s\n",
            "18:\tlearn: 1401.2261191\ttest: 1392.4486405\tbest: 1392.4486405 (18)\ttotal: 595ms\tremaining: 2.54s\n",
            "19:\tlearn: 1346.1846816\ttest: 1338.7170385\tbest: 1338.7170385 (19)\ttotal: 617ms\tremaining: 2.47s\n",
            "20:\tlearn: 1299.2663796\ttest: 1292.7375892\tbest: 1292.7375892 (20)\ttotal: 641ms\tremaining: 2.41s\n",
            "21:\tlearn: 1259.8740233\ttest: 1254.3446186\tbest: 1254.3446186 (21)\ttotal: 682ms\tremaining: 2.42s\n",
            "22:\tlearn: 1226.1631765\ttest: 1221.1670144\tbest: 1221.1670144 (22)\ttotal: 725ms\tremaining: 2.43s\n",
            "23:\tlearn: 1171.5827348\ttest: 1164.8088633\tbest: 1164.8088633 (23)\ttotal: 777ms\tremaining: 2.46s\n",
            "24:\tlearn: 1120.7923967\ttest: 1112.6899607\tbest: 1112.6899607 (24)\ttotal: 812ms\tremaining: 2.44s\n",
            "25:\tlearn: 1079.2344334\ttest: 1069.3049842\tbest: 1069.3049842 (25)\ttotal: 832ms\tremaining: 2.37s\n",
            "26:\tlearn: 1043.9950733\ttest: 1035.8552358\tbest: 1035.8552358 (26)\ttotal: 866ms\tremaining: 2.34s\n",
            "27:\tlearn: 1010.1289807\ttest: 1003.0839244\tbest: 1003.0839244 (27)\ttotal: 903ms\tremaining: 2.32s\n",
            "28:\tlearn: 981.7544681\ttest: 973.7165133\tbest: 973.7165133 (28)\ttotal: 954ms\tremaining: 2.33s\n",
            "29:\tlearn: 957.8929718\ttest: 946.2287763\tbest: 946.2287763 (29)\ttotal: 995ms\tremaining: 2.32s\n",
            "30:\tlearn: 935.3461837\ttest: 922.9917488\tbest: 922.9917488 (30)\ttotal: 1.05s\tremaining: 2.33s\n",
            "31:\tlearn: 916.0869283\ttest: 901.9900470\tbest: 901.9900470 (31)\ttotal: 1.09s\tremaining: 2.32s\n",
            "32:\tlearn: 888.7177581\ttest: 874.4754548\tbest: 874.4754548 (32)\ttotal: 1.14s\tremaining: 2.32s\n",
            "33:\tlearn: 866.0980967\ttest: 851.6843729\tbest: 851.6843729 (33)\ttotal: 1.18s\tremaining: 2.29s\n",
            "34:\tlearn: 847.4346188\ttest: 831.2918784\tbest: 831.2918784 (34)\ttotal: 1.22s\tremaining: 2.27s\n",
            "35:\tlearn: 829.8801664\ttest: 812.7661049\tbest: 812.7661049 (35)\ttotal: 1.27s\tremaining: 2.26s\n",
            "36:\tlearn: 815.4348621\ttest: 797.8295066\tbest: 797.8295066 (36)\ttotal: 1.32s\tremaining: 2.25s\n",
            "37:\tlearn: 801.2785727\ttest: 784.0030689\tbest: 784.0030689 (37)\ttotal: 1.38s\tremaining: 2.26s\n",
            "38:\tlearn: 783.2423979\ttest: 766.0353402\tbest: 766.0353402 (38)\ttotal: 1.44s\tremaining: 2.25s\n",
            "39:\tlearn: 770.4511500\ttest: 752.8179760\tbest: 752.8179760 (39)\ttotal: 1.5s\tremaining: 2.24s\n",
            "40:\tlearn: 758.7291314\ttest: 741.1789669\tbest: 741.1789669 (40)\ttotal: 1.55s\tremaining: 2.23s\n",
            "41:\tlearn: 745.8700050\ttest: 729.4349014\tbest: 729.4349014 (41)\ttotal: 1.6s\tremaining: 2.21s\n",
            "42:\tlearn: 734.0047626\ttest: 717.7152137\tbest: 717.7152137 (42)\ttotal: 1.64s\tremaining: 2.18s\n",
            "43:\tlearn: 725.4386715\ttest: 709.5736449\tbest: 709.5736449 (43)\ttotal: 1.68s\tremaining: 2.14s\n",
            "44:\tlearn: 715.8539271\ttest: 700.4250325\tbest: 700.4250325 (44)\ttotal: 1.73s\tremaining: 2.12s\n",
            "45:\tlearn: 708.1521148\ttest: 692.3380295\tbest: 692.3380295 (45)\ttotal: 1.78s\tremaining: 2.09s\n",
            "46:\tlearn: 698.2547539\ttest: 682.8566277\tbest: 682.8566277 (46)\ttotal: 1.83s\tremaining: 2.06s\n",
            "47:\tlearn: 691.4396983\ttest: 676.0649960\tbest: 676.0649960 (47)\ttotal: 1.87s\tremaining: 2.02s\n",
            "48:\tlearn: 685.7490155\ttest: 669.5801354\tbest: 669.5801354 (48)\ttotal: 1.92s\tremaining: 2s\n",
            "49:\tlearn: 680.7021410\ttest: 664.5592090\tbest: 664.5592090 (49)\ttotal: 1.95s\tremaining: 1.95s\n",
            "50:\tlearn: 677.0090150\ttest: 660.9776538\tbest: 660.9776538 (50)\ttotal: 1.99s\tremaining: 1.91s\n",
            "51:\tlearn: 671.8207546\ttest: 656.6265868\tbest: 656.6265868 (51)\ttotal: 2.04s\tremaining: 1.88s\n",
            "52:\tlearn: 667.8412356\ttest: 652.2578231\tbest: 652.2578231 (52)\ttotal: 2.08s\tremaining: 1.85s\n",
            "53:\tlearn: 665.0780176\ttest: 649.0670535\tbest: 649.0670535 (53)\ttotal: 2.12s\tremaining: 1.81s\n",
            "54:\tlearn: 661.1648915\ttest: 645.3140536\tbest: 645.3140536 (54)\ttotal: 2.15s\tremaining: 1.76s\n",
            "55:\tlearn: 657.1434443\ttest: 642.1048355\tbest: 642.1048355 (55)\ttotal: 2.2s\tremaining: 1.73s\n",
            "56:\tlearn: 654.0090972\ttest: 638.8156307\tbest: 638.8156307 (56)\ttotal: 2.25s\tremaining: 1.7s\n",
            "57:\tlearn: 651.4623587\ttest: 636.4160216\tbest: 636.4160216 (57)\ttotal: 2.3s\tremaining: 1.66s\n",
            "58:\tlearn: 646.3380333\ttest: 631.6748902\tbest: 631.6748902 (58)\ttotal: 2.33s\tremaining: 1.62s\n",
            "59:\tlearn: 641.5418621\ttest: 627.7170662\tbest: 627.7170662 (59)\ttotal: 2.38s\tremaining: 1.59s\n",
            "60:\tlearn: 638.2466948\ttest: 625.1634454\tbest: 625.1634454 (60)\ttotal: 2.44s\tremaining: 1.56s\n",
            "61:\tlearn: 634.8115287\ttest: 622.2922545\tbest: 622.2922545 (61)\ttotal: 2.48s\tremaining: 1.52s\n",
            "62:\tlearn: 632.0114363\ttest: 619.6249381\tbest: 619.6249381 (62)\ttotal: 2.51s\tremaining: 1.48s\n",
            "63:\tlearn: 629.7493044\ttest: 617.7421673\tbest: 617.7421673 (63)\ttotal: 2.55s\tremaining: 1.43s\n",
            "64:\tlearn: 627.8726482\ttest: 616.2731187\tbest: 616.2731187 (64)\ttotal: 2.58s\tremaining: 1.39s\n",
            "65:\tlearn: 624.7483467\ttest: 613.6006308\tbest: 613.6006308 (65)\ttotal: 2.62s\tremaining: 1.35s\n",
            "66:\tlearn: 622.9755396\ttest: 612.2627690\tbest: 612.2627690 (66)\ttotal: 2.65s\tremaining: 1.31s\n",
            "67:\tlearn: 621.5404265\ttest: 610.8773153\tbest: 610.8773153 (67)\ttotal: 2.69s\tremaining: 1.27s\n",
            "68:\tlearn: 619.6590192\ttest: 609.2816462\tbest: 609.2816462 (68)\ttotal: 2.73s\tremaining: 1.23s\n",
            "69:\tlearn: 617.1730446\ttest: 607.2582482\tbest: 607.2582482 (69)\ttotal: 2.78s\tremaining: 1.19s\n",
            "70:\tlearn: 614.8850011\ttest: 605.4007556\tbest: 605.4007556 (70)\ttotal: 2.83s\tremaining: 1.16s\n",
            "71:\tlearn: 612.7752250\ttest: 603.6168620\tbest: 603.6168620 (71)\ttotal: 2.87s\tremaining: 1.11s\n",
            "72:\tlearn: 611.3680678\ttest: 602.7652015\tbest: 602.7652015 (72)\ttotal: 2.92s\tremaining: 1.08s\n",
            "73:\tlearn: 609.0282069\ttest: 600.2964250\tbest: 600.2964250 (73)\ttotal: 2.96s\tremaining: 1.04s\n",
            "74:\tlearn: 607.4611281\ttest: 598.4523185\tbest: 598.4523185 (74)\ttotal: 3s\tremaining: 1s\n",
            "75:\tlearn: 605.9368872\ttest: 597.4160416\tbest: 597.4160416 (75)\ttotal: 3.04s\tremaining: 959ms\n",
            "76:\tlearn: 604.9332425\ttest: 596.5267744\tbest: 596.5267744 (76)\ttotal: 3.08s\tremaining: 919ms\n",
            "77:\tlearn: 603.0449688\ttest: 595.1884431\tbest: 595.1884431 (77)\ttotal: 3.12s\tremaining: 881ms\n",
            "78:\tlearn: 602.0476670\ttest: 594.5609553\tbest: 594.5609553 (78)\ttotal: 3.17s\tremaining: 842ms\n",
            "79:\tlearn: 600.8241892\ttest: 593.1277786\tbest: 593.1277786 (79)\ttotal: 3.21s\tremaining: 801ms\n",
            "80:\tlearn: 599.9001949\ttest: 592.4906219\tbest: 592.4906219 (80)\ttotal: 3.24s\tremaining: 761ms\n",
            "81:\tlearn: 598.2125964\ttest: 590.3307048\tbest: 590.3307048 (81)\ttotal: 3.28s\tremaining: 720ms\n",
            "82:\tlearn: 597.0902156\ttest: 589.5793724\tbest: 589.5793724 (82)\ttotal: 3.31s\tremaining: 678ms\n",
            "83:\tlearn: 596.2295578\ttest: 588.7387426\tbest: 588.7387426 (83)\ttotal: 3.36s\tremaining: 640ms\n",
            "84:\tlearn: 595.4214521\ttest: 587.5781780\tbest: 587.5781780 (84)\ttotal: 3.41s\tremaining: 602ms\n",
            "85:\tlearn: 593.9239418\ttest: 586.4740701\tbest: 586.4740701 (85)\ttotal: 3.46s\tremaining: 563ms\n",
            "86:\tlearn: 593.1170372\ttest: 586.0746500\tbest: 586.0746500 (86)\ttotal: 3.51s\tremaining: 524ms\n",
            "87:\tlearn: 592.0620675\ttest: 585.2979041\tbest: 585.2979041 (87)\ttotal: 3.55s\tremaining: 484ms\n",
            "88:\tlearn: 591.0677731\ttest: 584.6420133\tbest: 584.6420133 (88)\ttotal: 3.6s\tremaining: 445ms\n",
            "89:\tlearn: 589.0160029\ttest: 583.2552857\tbest: 583.2552857 (89)\ttotal: 3.65s\tremaining: 405ms\n",
            "90:\tlearn: 588.1669093\ttest: 582.6668866\tbest: 582.6668866 (90)\ttotal: 3.68s\tremaining: 364ms\n",
            "91:\tlearn: 586.9732101\ttest: 581.8433257\tbest: 581.8433257 (91)\ttotal: 3.73s\tremaining: 325ms\n",
            "92:\tlearn: 585.6170448\ttest: 580.6312534\tbest: 580.6312534 (92)\ttotal: 3.78s\tremaining: 285ms\n",
            "93:\tlearn: 583.8862028\ttest: 579.2468742\tbest: 579.2468742 (93)\ttotal: 3.85s\tremaining: 246ms\n",
            "94:\tlearn: 583.0675965\ttest: 578.6789358\tbest: 578.6789358 (94)\ttotal: 3.92s\tremaining: 206ms\n",
            "95:\tlearn: 582.3206044\ttest: 578.4642023\tbest: 578.4642023 (95)\ttotal: 3.97s\tremaining: 165ms\n",
            "96:\tlearn: 581.2874911\ttest: 577.5900591\tbest: 577.5900591 (96)\ttotal: 4.01s\tremaining: 124ms\n",
            "97:\tlearn: 579.8858029\ttest: 576.2750536\tbest: 576.2750536 (97)\ttotal: 4.07s\tremaining: 83ms\n",
            "98:\tlearn: 579.0621548\ttest: 575.8627908\tbest: 575.8627908 (98)\ttotal: 4.11s\tremaining: 41.5ms\n",
            "99:\tlearn: 577.7340465\ttest: 574.6187276\tbest: 574.6187276 (99)\ttotal: 4.16s\tremaining: 0us\n",
            "\n",
            "bestTest = 574.6187276\n",
            "bestIteration = 99\n",
            "\n"
          ]
        },
        {
          "output_type": "execute_result",
          "data": {
            "text/plain": [
              "<catboost.core.CatBoostRegressor at 0x7cc3b84fd270>"
            ]
          },
          "metadata": {},
          "execution_count": 25
        }
      ]
    },
    {
      "cell_type": "code",
      "source": [
        "preds = model.predict(X_test)\n",
        "\n",
        "\n",
        "from sklearn.metrics import mean_squared_error\n",
        "mse = mean_squared_error(y_test, preds)\n",
        "print(f\"Mean Squared Error: {mse}\")"
      ],
      "metadata": {
        "colab": {
          "base_uri": "https://localhost:8080/"
        },
        "id": "iaAdsGoGstND",
        "outputId": "61b0f3ad-ffd1-4d86-dc51-77d088305012"
      },
      "execution_count": 26,
      "outputs": [
        {
          "output_type": "stream",
          "name": "stdout",
          "text": [
            "Mean Squared Error: 330186.68215597613\n"
          ]
        }
      ]
    },
    {
      "cell_type": "markdown",
      "source": [
        "##External ***SHAP***\n",
        "\n",
        "---\n",
        "\n"
      ],
      "metadata": {
        "id": "DuLpR4_Es44m"
      }
    },
    {
      "cell_type": "code",
      "source": [
        "# Initialize the SHAP explainer\n",
        "explainer = shap.Explainer(model)"
      ],
      "metadata": {
        "id": "IFtK-xcOs1Zx"
      },
      "execution_count": 27,
      "outputs": []
    },
    {
      "cell_type": "code",
      "source": [
        "# Compute SHAP values for the test set\n",
        "shap_values = explainer(X_test)"
      ],
      "metadata": {
        "id": "ICv-DtHItGZ3"
      },
      "execution_count": 28,
      "outputs": []
    },
    {
      "cell_type": "code",
      "source": [
        "shap_values"
      ],
      "metadata": {
        "colab": {
          "base_uri": "https://localhost:8080/"
        },
        "id": "fEIQg7mitJwe",
        "outputId": "5f657496-bb7f-44bf-f3b2-11fba3c60281"
      },
      "execution_count": 29,
      "outputs": [
        {
          "output_type": "execute_result",
          "data": {
            "text/plain": [
              ".values =\n",
              "array([[ -948.3094724 ,    29.74137355,    13.26422408, ...,\n",
              "         -769.58488841, -1260.04005745,  -778.9285485 ],\n",
              "       [ -872.38629094,   -13.79215958,   187.85628655, ...,\n",
              "         -140.52605155,  -777.42756469,  -483.89224251],\n",
              "       [ -803.73116086,    38.9795367 ,   305.60313047, ...,\n",
              "         -667.49984997, -1245.97435532,  -773.12831782],\n",
              "       ...,\n",
              "       [ -807.33036761,   -22.65571613,    11.81629695, ...,\n",
              "         -722.73083087, -1225.59056386,  -752.53397717],\n",
              "       [ 1658.80571382,   108.22992427,   617.74110119, ...,\n",
              "           89.49613946,  1391.70832137,   897.61693551],\n",
              "       [  577.93094046,   -41.81085357,  -971.29378862, ...,\n",
              "          149.44157434,   423.70276493,   444.29577242]])\n",
              "\n",
              ".base_values =\n",
              "array([3939.35853733, 3939.35853733, 3939.35853733, ..., 3939.35853733,\n",
              "       3939.35853733, 3939.35853733])\n",
              "\n",
              ".data =\n",
              "array([[0.24, 'Ideal', 'G', ..., 3.97, 4.0, 2.47],\n",
              "       [0.58, 'Very Good', 'F', ..., 5.44, 5.42, 3.26],\n",
              "       [0.4, 'Ideal', 'E', ..., 4.76, 4.74, 2.95],\n",
              "       ...,\n",
              "       [0.31, 'Good', 'G', ..., 4.42, 4.47, 2.58],\n",
              "       [1.23, 'Ideal', 'F', ..., 6.85, 6.82, 4.27],\n",
              "       [1.08, 'Good', 'J', ..., 6.4, 6.57, 4.1]], dtype=object)"
            ]
          },
          "metadata": {},
          "execution_count": 29
        }
      ]
    },
    {
      "cell_type": "code",
      "source": [
        "shap.summary_plot(shap_values, X_test)"
      ],
      "metadata": {
        "colab": {
          "base_uri": "https://localhost:8080/",
          "height": 516
        },
        "id": "QVKoJcOctOGQ",
        "outputId": "cfbc2d77-f5c2-41bb-9e45-193b8bea23c8"
      },
      "execution_count": 30,
      "outputs": [
        {
          "output_type": "display_data",
          "data": {
            "text/plain": [
              "<Figure size 800x510 with 2 Axes>"
            ],
            "image/png": "[encoded data removed]"
          },
          "metadata": {}
        }
      ]
    },
    {
      "cell_type": "code",
      "source": [
        "\n",
        "shap_df = pd.DataFrame(shap_values.values, columns=X_test.columns)"
      ],
      "metadata": {
        "id": "ScsNCAuFtR5z"
      },
      "execution_count": 31,
      "outputs": []
    },
    {
      "cell_type": "code",
      "source": [
        "shap_df.head()"
      ],
      "metadata": {
        "colab": {
          "base_uri": "https://localhost:8080/",
          "height": 206
        },
        "id": "M4lCyDeGtVG6",
        "outputId": "cc18a9a5-a19a-4336-8fec-319b5258d545"
      },
      "execution_count": 32,
      "outputs": [
        {
          "output_type": "execute_result",
          "data": {
            "text/plain": [
              "         carat         cut       color      clarity      depth      table  \\\n",
              "0  -948.309472   29.741374   13.264224   468.450833  13.774276   4.440762   \n",
              "1  -872.386291  -13.792160  187.856287   494.792624 -21.374457   4.403128   \n",
              "2  -803.731161   38.979537  305.603130   474.399168  13.581703   4.939796   \n",
              "3  -800.171139  -29.980288  306.019324   477.903521   7.919192   4.939796   \n",
              "4  2044.149312  113.501220  756.063096 -2052.375106  49.223020  27.156931   \n",
              "\n",
              "             x            y            z  \n",
              "0  -769.584888 -1260.040057  -778.928549  \n",
              "1  -140.526052  -777.427565  -483.892243  \n",
              "2  -667.499850 -1245.974355  -773.128318  \n",
              "3  -658.677611 -1131.463215  -782.910371  \n",
              "4  1164.615968  2333.085582  1486.637651  "
            ],
            "text/html": [
              "\n",
              "  <div id=\"df-b5713303-f557-4d34-81a3-088f400c2185\" class=\"colab-df-container\">\n",
              "    <div>\n",
              "<style scoped>\n",
              "    .dataframe tbody tr th:only-of-type {\n",
              "        vertical-align: middle;\n",
              "    }\n",
              "\n",
              "    .dataframe tbody tr th {\n",
              "        vertical-align: top;\n",
              "    }\n",
              "\n",
              "    .dataframe thead th {\n",
              "        text-align: right;\n",
              "    }\n",
              "</style>\n",
              "<table border=\"1\" class=\"dataframe\">\n",
              "  <thead>\n",
              "    <tr style=\"text-align: right;\">\n",
              "      <th></th>\n",
              "      <th>carat</th>\n",
              "      <th>cut</th>\n",
              "      <th>color</th>\n",
              "      <th>clarity</th>\n",
              "      <th>depth</th>\n",
              "      <th>table</th>\n",
              "      <th>x</th>\n",
              "      <th>y</th>\n",
              "      <th>z</th>\n",
              "    </tr>\n",
              "  </thead>\n",
              "  <tbody>\n",
              "    <tr>\n",
              "      <th>0</th>\n",
              "      <td>-948.309472</td>\n",
              "      <td>29.741374</td>\n",
              "      <td>13.264224</td>\n",
              "      <td>468.450833</td>\n",
              "      <td>13.774276</td>\n",
              "      <td>4.440762</td>\n",
              "      <td>-769.584888</td>\n",
              "      <td>-1260.040057</td>\n",
              "      <td>-778.928549</td>\n",
              "    </tr>\n",
              "    <tr>\n",
              "      <th>1</th>\n",
              "      <td>-872.386291</td>\n",
              "      <td>-13.792160</td>\n",
              "      <td>187.856287</td>\n",
              "      <td>494.792624</td>\n",
              "      <td>-21.374457</td>\n",
              "      <td>4.403128</td>\n",
              "      <td>-140.526052</td>\n",
              "      <td>-777.427565</td>\n",
              "      <td>-483.892243</td>\n",
              "    </tr>\n",
              "    <tr>\n",
              "      <th>2</th>\n",
              "      <td>-803.731161</td>\n",
              "      <td>38.979537</td>\n",
              "      <td>305.603130</td>\n",
              "      <td>474.399168</td>\n",
              "      <td>13.581703</td>\n",
              "      <td>4.939796</td>\n",
              "      <td>-667.499850</td>\n",
              "      <td>-1245.974355</td>\n",
              "      <td>-773.128318</td>\n",
              "    </tr>\n",
              "    <tr>\n",
              "      <th>3</th>\n",
              "      <td>-800.171139</td>\n",
              "      <td>-29.980288</td>\n",
              "      <td>306.019324</td>\n",
              "      <td>477.903521</td>\n",
              "      <td>7.919192</td>\n",
              "      <td>4.939796</td>\n",
              "      <td>-658.677611</td>\n",
              "      <td>-1131.463215</td>\n",
              "      <td>-782.910371</td>\n",
              "    </tr>\n",
              "    <tr>\n",
              "      <th>4</th>\n",
              "      <td>2044.149312</td>\n",
              "      <td>113.501220</td>\n",
              "      <td>756.063096</td>\n",
              "      <td>-2052.375106</td>\n",
              "      <td>49.223020</td>\n",
              "      <td>27.156931</td>\n",
              "      <td>1164.615968</td>\n",
              "      <td>2333.085582</td>\n",
              "      <td>1486.637651</td>\n",
              "    </tr>\n",
              "  </tbody>\n",
              "</table>\n",
              "</div>\n",
              "    <div class=\"colab-df-buttons\">\n",
              "\n",
              "  <div class=\"colab-df-container\">\n",
              "    <button class=\"colab-df-convert\" onclick=\"convertToInteractive('df-b5713303-f557-4d34-81a3-088f400c2185')\"\n",
              "            title=\"Convert this dataframe to an interactive table.\"\n",
              "            style=\"display:none;\">\n",
              "\n",
              "  <svg xmlns=\"http://www.w3.org/2000/svg\" height=\"24px\" viewBox=\"0 -960 960 960\">\n",
              "    <path d=\"M120-120v-720h720v720H120Zm60-500h600v-160H180v160Zm220 220h160v-160H400v160Zm0 220h160v-160H400v160ZM180-400h160v-160H180v160Zm440 0h160v-160H620v160ZM180-180h160v-160H180v160Zm440 0h160v-160H620v160Z\"/>\n",
              "  </svg>\n",
              "    </button>\n",
              "\n",
              "  <style>\n",
              "    .colab-df-container {\n",
              "      display:flex;\n",
              "      gap: 12px;\n",
              "    }\n",
              "\n",
              "    .colab-df-convert {\n",
              "      background-color: #E8F0FE;\n",
              "      border: none;\n",
              "      border-radius: 50%;\n",
              "      cursor: pointer;\n",
              "      display: none;\n",
              "      fill: #1967D2;\n",
              "      height: 32px;\n",
              "      padding: 0 0 0 0;\n",
              "      width: 32px;\n",
              "    }\n",
              "\n",
              "    .colab-df-convert:hover {\n",
              "      background-color: #E2EBFA;\n",
              "      box-shadow: 0px 1px 2px rgba(60, 64, 67, 0.3), 0px 1px 3px 1px rgba(60, 64, 67, 0.15);\n",
              "      fill: #174EA6;\n",
              "    }\n",
              "\n",
              "    .colab-df-buttons div {\n",
              "      margin-bottom: 4px;\n",
              "    }\n",
              "\n",
              "    [theme=dark] .colab-df-convert {\n",
              "      background-color: #3B4455;\n",
              "      fill: #D2E3FC;\n",
              "    }\n",
              "\n",
              "    [theme=dark] .colab-df-convert:hover {\n",
              "      background-color: #434B5C;\n",
              "      box-shadow: 0px 1px 3px 1px rgba(0, 0, 0, 0.15);\n",
              "      filter: drop-shadow(0px 1px 2px rgba(0, 0, 0, 0.3));\n",
              "      fill: #FFFFFF;\n",
              "    }\n",
              "  </style>\n",
              "\n",
              "    <script>\n",
              "      const buttonEl =\n",
              "        document.querySelector('#df-b5713303-f557-4d34-81a3-088f400c2185 button.colab-df-convert');\n",
              "      buttonEl.style.display =\n",
              "        google.colab.kernel.accessAllowed ? 'block' : 'none';\n",
              "\n",
              "      async function convertToInteractive(key) {\n",
              "        const element = document.querySelector('#df-b5713303-f557-4d34-81a3-088f400c2185');\n",
              "        const dataTable =\n",
              "          await google.colab.kernel.invokeFunction('convertToInteractive',\n",
              "                                                    [key], {});\n",
              "        if (!dataTable) return;\n",
              "\n",
              "        const docLinkHtml = 'Like what you see? Visit the ' +\n",
              "          '<a target=\"_blank\" href=https://colab.research.google.com/notebooks/data_table.ipynb>data table notebook</a>'\n",
              "          + ' to learn more about interactive tables.';\n",
              "        element.innerHTML = '';\n",
              "        dataTable['output_type'] = 'display_data';\n",
              "        await google.colab.output.renderOutput(dataTable, element);\n",
              "        const docLink = document.createElement('div');\n",
              "        docLink.innerHTML = docLinkHtml;\n",
              "        element.appendChild(docLink);\n",
              "      }\n",
              "    </script>\n",
              "  </div>\n",
              "\n",
              "\n",
              "<div id=\"df-fbd1344f-6ca7-4f6a-afc2-64ad427d9bc9\">\n",
              "  <button class=\"colab-df-quickchart\" onclick=\"quickchart('df-fbd1344f-6ca7-4f6a-afc2-64ad427d9bc9')\"\n",
              "            title=\"Suggest charts\"\n",
              "            style=\"display:none;\">\n",
              "\n",
              "<svg xmlns=\"http://www.w3.org/2000/svg\" height=\"24px\"viewBox=\"0 0 24 24\"\n",
              "     width=\"24px\">\n",
              "    <g>\n",
              "        <path d=\"M19 3H5c-1.1 0-2 .9-2 2v14c0 1.1.9 2 2 2h14c1.1 0 2-.9 2-2V5c0-1.1-.9-2-2-2zM9 17H7v-7h2v7zm4 0h-2V7h2v10zm4 0h-2v-4h2v4z\"/>\n",
              "    </g>\n",
              "</svg>\n",
              "  </button>\n",
              "\n",
              "<style>\n",
              "  .colab-df-quickchart {\n",
              "      --bg-color: #E8F0FE;\n",
              "      --fill-color: #1967D2;\n",
              "      --hover-bg-color: #E2EBFA;\n",
              "      --hover-fill-color: #174EA6;\n",
              "      --disabled-fill-color: #AAA;\n",
              "      --disabled-bg-color: #DDD;\n",
              "  }\n",
              "\n",
              "  [theme=dark] .colab-df-quickchart {\n",
              "      --bg-color: #3B4455;\n",
              "      --fill-color: #D2E3FC;\n",
              "      --hover-bg-color: #434B5C;\n",
              "      --hover-fill-color: #FFFFFF;\n",
              "      --disabled-bg-color: #3B4455;\n",
              "      --disabled-fill-color: #666;\n",
              "  }\n",
              "\n",
              "  .colab-df-quickchart {\n",
              "    background-color: var(--bg-color);\n",
              "    border: none;\n",
              "    border-radius: 50%;\n",
              "    cursor: pointer;\n",
              "    display: none;\n",
              "    fill: var(--fill-color);\n",
              "    height: 32px;\n",
              "    padding: 0;\n",
              "    width: 32px;\n",
              "  }\n",
              "\n",
              "  .colab-df-quickchart:hover {\n",
              "    background-color: var(--hover-bg-color);\n",
              "    box-shadow: 0 1px 2px rgba(60, 64, 67, 0.3), 0 1px 3px 1px rgba(60, 64, 67, 0.15);\n",
              "    fill: var(--button-hover-fill-color);\n",
              "  }\n",
              "\n",
              "  .colab-df-quickchart-complete:disabled,\n",
              "  .colab-df-quickchart-complete:disabled:hover {\n",
              "    background-color: var(--disabled-bg-color);\n",
              "    fill: var(--disabled-fill-color);\n",
              "    box-shadow: none;\n",
              "  }\n",
              "\n",
              "  .colab-df-spinner {\n",
              "    border: 2px solid var(--fill-color);\n",
              "    border-color: transparent;\n",
              "    border-bottom-color: var(--fill-color);\n",
              "    animation:\n",
              "      spin 1s steps(1) infinite;\n",
              "  }\n",
              "\n",
              "  @keyframes spin {\n",
              "    0% {\n",
              "      border-color: transparent;\n",
              "      border-bottom-color: var(--fill-color);\n",
              "      border-left-color: var(--fill-color);\n",
              "    }\n",
              "    20% {\n",
              "      border-color: transparent;\n",
              "      border-left-color: var(--fill-color);\n",
              "      border-top-color: var(--fill-color);\n",
              "    }\n",
              "    30% {\n",
              "      border-color: transparent;\n",
              "      border-left-color: var(--fill-color);\n",
              "      border-top-color: var(--fill-color);\n",
              "      border-right-color: var(--fill-color);\n",
              "    }\n",
              "    40% {\n",
              "      border-color: transparent;\n",
              "      border-right-color: var(--fill-color);\n",
              "      border-top-color: var(--fill-color);\n",
              "    }\n",
              "    60% {\n",
              "      border-color: transparent;\n",
              "      border-right-color: var(--fill-color);\n",
              "    }\n",
              "    80% {\n",
              "      border-color: transparent;\n",
              "      border-right-color: var(--fill-color);\n",
              "      border-bottom-color: var(--fill-color);\n",
              "    }\n",
              "    90% {\n",
              "      border-color: transparent;\n",
              "      border-bottom-color: var(--fill-color);\n",
              "    }\n",
              "  }\n",
              "</style>\n",
              "\n",
              "  <script>\n",
              "    async function quickchart(key) {\n",
              "      const quickchartButtonEl =\n",
              "        document.querySelector('#' + key + ' button');\n",
              "      quickchartButtonEl.disabled = true;  // To prevent multiple clicks.\n",
              "      quickchartButtonEl.classList.add('colab-df-spinner');\n",
              "      try {\n",
              "        const charts = await google.colab.kernel.invokeFunction(\n",
              "            'suggestCharts', [key], {});\n",
              "      } catch (error) {\n",
              "        console.error('Error during call to suggestCharts:', error);\n",
              "      }\n",
              "      quickchartButtonEl.classList.remove('colab-df-spinner');\n",
              "      quickchartButtonEl.classList.add('colab-df-quickchart-complete');\n",
              "    }\n",
              "    (() => {\n",
              "      let quickchartButtonEl =\n",
              "        document.querySelector('#df-fbd1344f-6ca7-4f6a-afc2-64ad427d9bc9 button');\n",
              "      quickchartButtonEl.style.display =\n",
              "        google.colab.kernel.accessAllowed ? 'block' : 'none';\n",
              "    })();\n",
              "  </script>\n",
              "</div>\n",
              "\n",
              "    </div>\n",
              "  </div>\n"
            ],
            "application/vnd.google.colaboratory.intrinsic+json": {
              "type": "dataframe",
              "variable_name": "shap_df",
              "summary": "{\n  \"name\": \"shap_df\",\n  \"rows\": 10788,\n  \"fields\": [\n    {\n      \"column\": \"carat\",\n      \"properties\": {\n        \"dtype\": \"number\",\n        \"std\": 1387.6567783361945,\n        \"min\": -1102.5317958250134,\n        \"max\": 6373.038366985494,\n        \"num_unique_values\": 8773,\n        \"samples\": [\n          -759.9710360098898,\n          -972.4596921979971,\n          615.0318000912574\n        ],\n        \"semantic_type\": \"\",\n        \"description\": \"\"\n      }\n    },\n    {\n      \"column\": \"cut\",\n      \"properties\": {\n        \"dtype\": \"number\",\n        \"std\": 49.90387584069734,\n        \"min\": -99.10404249981435,\n        \"max\": 156.2816828629313,\n        \"num_unique_values\": 1865,\n        \"samples\": [\n          -13.909403375132595,\n          32.71203065098006,\n          112.05146969490552\n        ],\n        \"semantic_type\": \"\",\n        \"description\": \"\"\n      }\n    },\n    {\n      \"column\": \"color\",\n      \"properties\": {\n        \"dtype\": \"number\",\n        \"std\": 558.9281664582978,\n        \"min\": -2916.1226903737697,\n        \"max\": 2138.6642747553096,\n        \"num_unique_values\": 7203,\n        \"samples\": [\n          -328.1698425711791,\n          301.83741274965,\n          273.8980907139184\n        ],\n        \"semantic_type\": \"\",\n        \"description\": \"\"\n      }\n    },\n    {\n      \"column\": \"clarity\",\n      \"properties\": {\n        \"dtype\": \"number\",\n        \"std\": 749.0445536014842,\n        \"min\": -4759.889794654343,\n        \"max\": 3552.1966632321573,\n        \"num_unique_values\": 6904,\n        \"samples\": [\n          1122.9874395834424,\n          501.19153415189265,\n          1288.1134934451547\n        ],\n        \"semantic_type\": \"\",\n        \"description\": \"\"\n      }\n    },\n    {\n      \"column\": \"depth\",\n      \"properties\": {\n        \"dtype\": \"number\",\n        \"std\": 59.909970136594545,\n        \"min\": -537.9136618651185,\n        \"max\": 74.98739654766024,\n        \"num_unique_values\": 6372,\n        \"samples\": [\n          -7.162071761267545,\n          17.512874570563724,\n          7.524301469633513\n        ],\n        \"semantic_type\": \"\",\n        \"description\": \"\"\n      }\n    },\n    {\n      \"column\": \"table\",\n      \"properties\": {\n        \"dtype\": \"number\",\n        \"std\": 17.530461226756184,\n        \"min\": -219.26024057395497,\n        \"max\": 27.15693062587089,\n        \"num_unique_values\": 1056,\n        \"samples\": [\n          11.595686010100263,\n          26.34575129197646,\n          -77.6034597247173\n        ],\n        \"semantic_type\": \"\",\n        \"description\": \"\"\n      }\n    },\n    {\n      \"column\": \"x\",\n      \"properties\": {\n        \"dtype\": \"number\",\n        \"std\": 735.8533800925314,\n        \"min\": -833.9857800210008,\n        \"max\": 2657.405246473116,\n        \"num_unique_values\": 8780,\n        \"samples\": [\n          168.13426416921618,\n          -341.7069446474546,\n          -727.7251942727837\n        ],\n        \"semantic_type\": \"\",\n        \"description\": \"\"\n      }\n    },\n    {\n      \"column\": \"y\",\n      \"properties\": {\n        \"dtype\": \"number\",\n        \"std\": 1333.408419741916,\n        \"min\": -1357.4242502228867,\n        \"max\": 4334.684074830686,\n        \"num_unique_values\": 8165,\n        \"samples\": [\n          -1198.7453741911986,\n          -53.823861993640925,\n          -1169.9003899898726\n        ],\n        \"semantic_type\": \"\",\n        \"description\": \"\"\n      }\n    },\n    {\n      \"column\": \"z\",\n      \"properties\": {\n        \"dtype\": \"number\",\n        \"std\": 759.8177603677245,\n        \"min\": -935.2660128503732,\n        \"max\": 2416.1992163790087,\n        \"num_unique_values\": 7622,\n        \"samples\": [\n          -692.6668948338981,\n          270.01075980923235,\n          -612.6935745550379\n        ],\n        \"semantic_type\": \"\",\n        \"description\": \"\"\n      }\n    }\n  ]\n}"
            }
          },
          "metadata": {},
          "execution_count": 32
        }
      ]
    },
    {
      "cell_type": "markdown",
      "source": [
        "##Inbuilt ***SHAP***\n",
        "\n",
        "---\n",
        "\n"
      ],
      "metadata": {
        "id": "otC6JK50ta6t"
      }
    },
    {
      "cell_type": "code",
      "source": [
        "shap_values = model.get_feature_importance(type='ShapValues', data=Pool(X_test, label=y_test, cat_features=cat_features))\n",
        "\n",
        "shap_values = np.array(shap_values)[:, :-1]\n",
        "\n",
        "shap_df = pd.DataFrame(shap_values, columns=X_test.columns)\n",
        "\n",
        "shap_df.head()"
      ],
      "metadata": {
        "colab": {
          "base_uri": "https://localhost:8080/",
          "height": 206
        },
        "id": "z1lyqHRptX2L",
        "outputId": "bcacba79-b5bc-49e5-a3ea-02ca814571ac"
      },
      "execution_count": 33,
      "outputs": [
        {
          "output_type": "execute_result",
          "data": {
            "text/plain": [
              "         carat         cut       color      clarity      depth      table  \\\n",
              "0  -948.309472   29.741374   13.264224   468.450833  13.774276   4.440762   \n",
              "1  -872.386291  -13.792160  187.856287   494.792624 -21.374457   4.403128   \n",
              "2  -803.731161   38.979537  305.603130   474.399168  13.581703   4.939796   \n",
              "3  -800.171139  -29.980288  306.019324   477.903521   7.919192   4.939796   \n",
              "4  2044.149312  113.501220  756.063096 -2052.375106  49.223020  27.156931   \n",
              "\n",
              "             x            y            z  \n",
              "0  -769.584888 -1260.040057  -778.928549  \n",
              "1  -140.526052  -777.427565  -483.892243  \n",
              "2  -667.499850 -1245.974355  -773.128318  \n",
              "3  -658.677611 -1131.463215  -782.910371  \n",
              "4  1164.615968  2333.085582  1486.637651  "
            ],
            "text/html": [
              "\n",
              "  <div id=\"df-8931b438-07b0-4fc1-be20-114ff5aa2f1b\" class=\"colab-df-container\">\n",
              "    <div>\n",
              "<style scoped>\n",
              "    .dataframe tbody tr th:only-of-type {\n",
              "        vertical-align: middle;\n",
              "    }\n",
              "\n",
              "    .dataframe tbody tr th {\n",
              "        vertical-align: top;\n",
              "    }\n",
              "\n",
              "    .dataframe thead th {\n",
              "        text-align: right;\n",
              "    }\n",
              "</style>\n",
              "<table border=\"1\" class=\"dataframe\">\n",
              "  <thead>\n",
              "    <tr style=\"text-align: right;\">\n",
              "      <th></th>\n",
              "      <th>carat</th>\n",
              "      <th>cut</th>\n",
              "      <th>color</th>\n",
              "      <th>clarity</th>\n",
              "      <th>depth</th>\n",
              "      <th>table</th>\n",
              "      <th>x</th>\n",
              "      <th>y</th>\n",
              "      <th>z</th>\n",
              "    </tr>\n",
              "  </thead>\n",
              "  <tbody>\n",
              "    <tr>\n",
              "      <th>0</th>\n",
              "      <td>-948.309472</td>\n",
              "      <td>29.741374</td>\n",
              "      <td>13.264224</td>\n",
              "      <td>468.450833</td>\n",
              "      <td>13.774276</td>\n",
              "      <td>4.440762</td>\n",
              "      <td>-769.584888</td>\n",
              "      <td>-1260.040057</td>\n",
              "      <td>-778.928549</td>\n",
              "    </tr>\n",
              "    <tr>\n",
              "      <th>1</th>\n",
              "      <td>-872.386291</td>\n",
              "      <td>-13.792160</td>\n",
              "      <td>187.856287</td>\n",
              "      <td>494.792624</td>\n",
              "      <td>-21.374457</td>\n",
              "      <td>4.403128</td>\n",
              "      <td>-140.526052</td>\n",
              "      <td>-777.427565</td>\n",
              "      <td>-483.892243</td>\n",
              "    </tr>\n",
              "    <tr>\n",
              "      <th>2</th>\n",
              "      <td>-803.731161</td>\n",
              "      <td>38.979537</td>\n",
              "      <td>305.603130</td>\n",
              "      <td>474.399168</td>\n",
              "      <td>13.581703</td>\n",
              "      <td>4.939796</td>\n",
              "      <td>-667.499850</td>\n",
              "      <td>-1245.974355</td>\n",
              "      <td>-773.128318</td>\n",
              "    </tr>\n",
              "    <tr>\n",
              "      <th>3</th>\n",
              "      <td>-800.171139</td>\n",
              "      <td>-29.980288</td>\n",
              "      <td>306.019324</td>\n",
              "      <td>477.903521</td>\n",
              "      <td>7.919192</td>\n",
              "      <td>4.939796</td>\n",
              "      <td>-658.677611</td>\n",
              "      <td>-1131.463215</td>\n",
              "      <td>-782.910371</td>\n",
              "    </tr>\n",
              "    <tr>\n",
              "      <th>4</th>\n",
              "      <td>2044.149312</td>\n",
              "      <td>113.501220</td>\n",
              "      <td>756.063096</td>\n",
              "      <td>-2052.375106</td>\n",
              "      <td>49.223020</td>\n",
              "      <td>27.156931</td>\n",
              "      <td>1164.615968</td>\n",
              "      <td>2333.085582</td>\n",
              "      <td>1486.637651</td>\n",
              "    </tr>\n",
              "  </tbody>\n",
              "</table>\n",
              "</div>\n",
              "    <div class=\"colab-df-buttons\">\n",
              "\n",
              "  <div class=\"colab-df-container\">\n",
              "    <button class=\"colab-df-convert\" onclick=\"convertToInteractive('df-8931b438-07b0-4fc1-be20-114ff5aa2f1b')\"\n",
              "            title=\"Convert this dataframe to an interactive table.\"\n",
              "            style=\"display:none;\">\n",
              "\n",
              "  <svg xmlns=\"http://www.w3.org/2000/svg\" height=\"24px\" viewBox=\"0 -960 960 960\">\n",
              "    <path d=\"M120-120v-720h720v720H120Zm60-500h600v-160H180v160Zm220 220h160v-160H400v160Zm0 220h160v-160H400v160ZM180-400h160v-160H180v160Zm440 0h160v-160H620v160ZM180-180h160v-160H180v160Zm440 0h160v-160H620v160Z\"/>\n",
              "  </svg>\n",
              "    </button>\n",
              "\n",
              "  <style>\n",
              "    .colab-df-container {\n",
              "      display:flex;\n",
              "      gap: 12px;\n",
              "    }\n",
              "\n",
              "    .colab-df-convert {\n",
              "      background-color: #E8F0FE;\n",
              "      border: none;\n",
              "      border-radius: 50%;\n",
              "      cursor: pointer;\n",
              "      display: none;\n",
              "      fill: #1967D2;\n",
              "      height: 32px;\n",
              "      padding: 0 0 0 0;\n",
              "      width: 32px;\n",
              "    }\n",
              "\n",
              "    .colab-df-convert:hover {\n",
              "      background-color: #E2EBFA;\n",
              "      box-shadow: 0px 1px 2px rgba(60, 64, 67, 0.3), 0px 1px 3px 1px rgba(60, 64, 67, 0.15);\n",
              "      fill: #174EA6;\n",
              "    }\n",
              "\n",
              "    .colab-df-buttons div {\n",
              "      margin-bottom: 4px;\n",
              "    }\n",
              "\n",
              "    [theme=dark] .colab-df-convert {\n",
              "      background-color: #3B4455;\n",
              "      fill: #D2E3FC;\n",
              "    }\n",
              "\n",
              "    [theme=dark] .colab-df-convert:hover {\n",
              "      background-color: #434B5C;\n",
              "      box-shadow: 0px 1px 3px 1px rgba(0, 0, 0, 0.15);\n",
              "      filter: drop-shadow(0px 1px 2px rgba(0, 0, 0, 0.3));\n",
              "      fill: #FFFFFF;\n",
              "    }\n",
              "  </style>\n",
              "\n",
              "    <script>\n",
              "      const buttonEl =\n",
              "        document.querySelector('#df-8931b438-07b0-4fc1-be20-114ff5aa2f1b button.colab-df-convert');\n",
              "      buttonEl.style.display =\n",
              "        google.colab.kernel.accessAllowed ? 'block' : 'none';\n",
              "\n",
              "      async function convertToInteractive(key) {\n",
              "        const element = document.querySelector('#df-8931b438-07b0-4fc1-be20-114ff5aa2f1b');\n",
              "        const dataTable =\n",
              "          await google.colab.kernel.invokeFunction('convertToInteractive',\n",
              "                                                    [key], {});\n",
              "        if (!dataTable) return;\n",
              "\n",
              "        const docLinkHtml = 'Like what you see? Visit the ' +\n",
              "          '<a target=\"_blank\" href=https://colab.research.google.com/notebooks/data_table.ipynb>data table notebook</a>'\n",
              "          + ' to learn more about interactive tables.';\n",
              "        element.innerHTML = '';\n",
              "        dataTable['output_type'] = 'display_data';\n",
              "        await google.colab.output.renderOutput(dataTable, element);\n",
              "        const docLink = document.createElement('div');\n",
              "        docLink.innerHTML = docLinkHtml;\n",
              "        element.appendChild(docLink);\n",
              "      }\n",
              "    </script>\n",
              "  </div>\n",
              "\n",
              "\n",
              "<div id=\"df-cfb34ded-c0d4-47a8-8d52-f068876361f9\">\n",
              "  <button class=\"colab-df-quickchart\" onclick=\"quickchart('df-cfb34ded-c0d4-47a8-8d52-f068876361f9')\"\n",
              "            title=\"Suggest charts\"\n",
              "            style=\"display:none;\">\n",
              "\n",
              "<svg xmlns=\"http://www.w3.org/2000/svg\" height=\"24px\"viewBox=\"0 0 24 24\"\n",
              "     width=\"24px\">\n",
              "    <g>\n",
              "        <path d=\"M19 3H5c-1.1 0-2 .9-2 2v14c0 1.1.9 2 2 2h14c1.1 0 2-.9 2-2V5c0-1.1-.9-2-2-2zM9 17H7v-7h2v7zm4 0h-2V7h2v10zm4 0h-2v-4h2v4z\"/>\n",
              "    </g>\n",
              "</svg>\n",
              "  </button>\n",
              "\n",
              "<style>\n",
              "  .colab-df-quickchart {\n",
              "      --bg-color: #E8F0FE;\n",
              "      --fill-color: #1967D2;\n",
              "      --hover-bg-color: #E2EBFA;\n",
              "      --hover-fill-color: #174EA6;\n",
              "      --disabled-fill-color: #AAA;\n",
              "      --disabled-bg-color: #DDD;\n",
              "  }\n",
              "\n",
              "  [theme=dark] .colab-df-quickchart {\n",
              "      --bg-color: #3B4455;\n",
              "      --fill-color: #D2E3FC;\n",
              "      --hover-bg-color: #434B5C;\n",
              "      --hover-fill-color: #FFFFFF;\n",
              "      --disabled-bg-color: #3B4455;\n",
              "      --disabled-fill-color: #666;\n",
              "  }\n",
              "\n",
              "  .colab-df-quickchart {\n",
              "    background-color: var(--bg-color);\n",
              "    border: none;\n",
              "    border-radius: 50%;\n",
              "    cursor: pointer;\n",
              "    display: none;\n",
              "    fill: var(--fill-color);\n",
              "    height: 32px;\n",
              "    padding: 0;\n",
              "    width: 32px;\n",
              "  }\n",
              "\n",
              "  .colab-df-quickchart:hover {\n",
              "    background-color: var(--hover-bg-color);\n",
              "    box-shadow: 0 1px 2px rgba(60, 64, 67, 0.3), 0 1px 3px 1px rgba(60, 64, 67, 0.15);\n",
              "    fill: var(--button-hover-fill-color);\n",
              "  }\n",
              "\n",
              "  .colab-df-quickchart-complete:disabled,\n",
              "  .colab-df-quickchart-complete:disabled:hover {\n",
              "    background-color: var(--disabled-bg-color);\n",
              "    fill: var(--disabled-fill-color);\n",
              "    box-shadow: none;\n",
              "  }\n",
              "\n",
              "  .colab-df-spinner {\n",
              "    border: 2px solid var(--fill-color);\n",
              "    border-color: transparent;\n",
              "    border-bottom-color: var(--fill-color);\n",
              "    animation:\n",
              "      spin 1s steps(1) infinite;\n",
              "  }\n",
              "\n",
              "  @keyframes spin {\n",
              "    0% {\n",
              "      border-color: transparent;\n",
              "      border-bottom-color: var(--fill-color);\n",
              "      border-left-color: var(--fill-color);\n",
              "    }\n",
              "    20% {\n",
              "      border-color: transparent;\n",
              "      border-left-color: var(--fill-color);\n",
              "      border-top-color: var(--fill-color);\n",
              "    }\n",
              "    30% {\n",
              "      border-color: transparent;\n",
              "      border-left-color: var(--fill-color);\n",
              "      border-top-color: var(--fill-color);\n",
              "      border-right-color: var(--fill-color);\n",
              "    }\n",
              "    40% {\n",
              "      border-color: transparent;\n",
              "      border-right-color: var(--fill-color);\n",
              "      border-top-color: var(--fill-color);\n",
              "    }\n",
              "    60% {\n",
              "      border-color: transparent;\n",
              "      border-right-color: var(--fill-color);\n",
              "    }\n",
              "    80% {\n",
              "      border-color: transparent;\n",
              "      border-right-color: var(--fill-color);\n",
              "      border-bottom-color: var(--fill-color);\n",
              "    }\n",
              "    90% {\n",
              "      border-color: transparent;\n",
              "      border-bottom-color: var(--fill-color);\n",
              "    }\n",
              "  }\n",
              "</style>\n",
              "\n",
              "  <script>\n",
              "    async function quickchart(key) {\n",
              "      const quickchartButtonEl =\n",
              "        document.querySelector('#' + key + ' button');\n",
              "      quickchartButtonEl.disabled = true;  // To prevent multiple clicks.\n",
              "      quickchartButtonEl.classList.add('colab-df-spinner');\n",
              "      try {\n",
              "        const charts = await google.colab.kernel.invokeFunction(\n",
              "            'suggestCharts', [key], {});\n",
              "      } catch (error) {\n",
              "        console.error('Error during call to suggestCharts:', error);\n",
              "      }\n",
              "      quickchartButtonEl.classList.remove('colab-df-spinner');\n",
              "      quickchartButtonEl.classList.add('colab-df-quickchart-complete');\n",
              "    }\n",
              "    (() => {\n",
              "      let quickchartButtonEl =\n",
              "        document.querySelector('#df-cfb34ded-c0d4-47a8-8d52-f068876361f9 button');\n",
              "      quickchartButtonEl.style.display =\n",
              "        google.colab.kernel.accessAllowed ? 'block' : 'none';\n",
              "    })();\n",
              "  </script>\n",
              "</div>\n",
              "\n",
              "    </div>\n",
              "  </div>\n"
            ],
            "application/vnd.google.colaboratory.intrinsic+json": {
              "type": "dataframe",
              "variable_name": "shap_df",
              "summary": "{\n  \"name\": \"shap_df\",\n  \"rows\": 10788,\n  \"fields\": [\n    {\n      \"column\": \"carat\",\n      \"properties\": {\n        \"dtype\": \"number\",\n        \"std\": 1387.6567783361945,\n        \"min\": -1102.5317958250134,\n        \"max\": 6373.038366985494,\n        \"num_unique_values\": 8773,\n        \"samples\": [\n          -759.9710360098898,\n          -972.4596921979971,\n          615.0318000912574\n        ],\n        \"semantic_type\": \"\",\n        \"description\": \"\"\n      }\n    },\n    {\n      \"column\": \"cut\",\n      \"properties\": {\n        \"dtype\": \"number\",\n        \"std\": 49.90387584069734,\n        \"min\": -99.10404249981435,\n        \"max\": 156.2816828629313,\n        \"num_unique_values\": 1865,\n        \"samples\": [\n          -13.909403375132595,\n          32.71203065098006,\n          112.05146969490552\n        ],\n        \"semantic_type\": \"\",\n        \"description\": \"\"\n      }\n    },\n    {\n      \"column\": \"color\",\n      \"properties\": {\n        \"dtype\": \"number\",\n        \"std\": 558.9281664582978,\n        \"min\": -2916.1226903737697,\n        \"max\": 2138.6642747553096,\n        \"num_unique_values\": 7203,\n        \"samples\": [\n          -328.1698425711791,\n          301.83741274965,\n          273.8980907139184\n        ],\n        \"semantic_type\": \"\",\n        \"description\": \"\"\n      }\n    },\n    {\n      \"column\": \"clarity\",\n      \"properties\": {\n        \"dtype\": \"number\",\n        \"std\": 749.0445536014842,\n        \"min\": -4759.889794654343,\n        \"max\": 3552.1966632321573,\n        \"num_unique_values\": 6904,\n        \"samples\": [\n          1122.9874395834424,\n          501.19153415189265,\n          1288.1134934451547\n        ],\n        \"semantic_type\": \"\",\n        \"description\": \"\"\n      }\n    },\n    {\n      \"column\": \"depth\",\n      \"properties\": {\n        \"dtype\": \"number\",\n        \"std\": 59.909970136594545,\n        \"min\": -537.9136618651185,\n        \"max\": 74.98739654766024,\n        \"num_unique_values\": 6372,\n        \"samples\": [\n          -7.162071761267545,\n          17.512874570563724,\n          7.524301469633513\n        ],\n        \"semantic_type\": \"\",\n        \"description\": \"\"\n      }\n    },\n    {\n      \"column\": \"table\",\n      \"properties\": {\n        \"dtype\": \"number\",\n        \"std\": 17.530461226756184,\n        \"min\": -219.26024057395497,\n        \"max\": 27.15693062587089,\n        \"num_unique_values\": 1056,\n        \"samples\": [\n          11.595686010100263,\n          26.34575129197646,\n          -77.6034597247173\n        ],\n        \"semantic_type\": \"\",\n        \"description\": \"\"\n      }\n    },\n    {\n      \"column\": \"x\",\n      \"properties\": {\n        \"dtype\": \"number\",\n        \"std\": 735.8533800925314,\n        \"min\": -833.9857800210008,\n        \"max\": 2657.405246473116,\n        \"num_unique_values\": 8780,\n        \"samples\": [\n          168.13426416921618,\n          -341.7069446474546,\n          -727.7251942727837\n        ],\n        \"semantic_type\": \"\",\n        \"description\": \"\"\n      }\n    },\n    {\n      \"column\": \"y\",\n      \"properties\": {\n        \"dtype\": \"number\",\n        \"std\": 1333.408419741916,\n        \"min\": -1357.4242502228867,\n        \"max\": 4334.684074830686,\n        \"num_unique_values\": 8165,\n        \"samples\": [\n          -1198.7453741911986,\n          -53.823861993640925,\n          -1169.9003899898726\n        ],\n        \"semantic_type\": \"\",\n        \"description\": \"\"\n      }\n    },\n    {\n      \"column\": \"z\",\n      \"properties\": {\n        \"dtype\": \"number\",\n        \"std\": 759.8177603677245,\n        \"min\": -935.2660128503732,\n        \"max\": 2416.1992163790087,\n        \"num_unique_values\": 7622,\n        \"samples\": [\n          -692.6668948338981,\n          270.01075980923235,\n          -612.6935745550379\n        ],\n        \"semantic_type\": \"\",\n        \"description\": \"\"\n      }\n    }\n  ]\n}"
            }
          },
          "metadata": {},
          "execution_count": 33
        }
      ]
    },
    {
      "cell_type": "code",
      "source": [],
      "metadata": {
        "id": "i5m6sCWXtoe0"
      },
      "execution_count": null,
      "outputs": []
    }
  ]
}