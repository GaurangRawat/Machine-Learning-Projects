{
  "cells": [
    {
      "cell_type": "markdown",
      "metadata": {
        "id": "view-in-github",
        "colab_type": "text"
      },
      "source": [
        "<a href=\"https://colab.research.google.com/github/GaurangRawat/Machine-Learning-Projects/blob/main/Numpy/NUMPY%201.ipynb\" target=\"_parent\"><img src=\"https://colab.research.google.com/assets/colab-badge.svg\" alt=\"Open In Colab\"/></a>"
      ]
    },
    {
      "cell_type": "markdown",
      "id": "55642b9e-95b2-47aa-9bc7-3976a00923e8",
      "metadata": {
        "id": "55642b9e-95b2-47aa-9bc7-3976a00923e8"
      },
      "source": [
        "### 1. Installing and Importing"
      ]
    },
    {
      "cell_type": "code",
      "execution_count": null,
      "id": "1a8ca7f4-4351-447e-a4e6-00c5172b25ff",
      "metadata": {
        "id": "1a8ca7f4-4351-447e-a4e6-00c5172b25ff"
      },
      "outputs": [],
      "source": [
        "!pip install numpy"
      ]
    },
    {
      "cell_type": "code",
      "execution_count": null,
      "id": "c2024ba4-e911-470a-95cc-926232c3df51",
      "metadata": {
        "id": "c2024ba4-e911-470a-95cc-926232c3df51"
      },
      "outputs": [],
      "source": [
        "import numpy as np"
      ]
    },
    {
      "cell_type": "code",
      "execution_count": null,
      "id": "93cec71a-908a-4619-9e27-53b2142572ae",
      "metadata": {
        "id": "93cec71a-908a-4619-9e27-53b2142572ae"
      },
      "outputs": [],
      "source": [
        "## Mean method\n",
        "numpy.mean()\n",
        "np.mean()"
      ]
    },
    {
      "cell_type": "code",
      "execution_count": null,
      "id": "072131be-f139-40d9-9ab0-084cb86fd9b0",
      "metadata": {
        "id": "072131be-f139-40d9-9ab0-084cb86fd9b0"
      },
      "outputs": [],
      "source": []
    },
    {
      "cell_type": "markdown",
      "id": "fe064b20-c350-4123-a0f0-b38260afc709",
      "metadata": {
        "id": "fe064b20-c350-4123-a0f0-b38260afc709"
      },
      "source": [
        "### 2. NUMPY VS LISTS"
      ]
    },
    {
      "cell_type": "code",
      "execution_count": null,
      "id": "7552a563-bbba-4f0e-8344-b73c280847d0",
      "metadata": {
        "id": "7552a563-bbba-4f0e-8344-b73c280847d0",
        "outputId": "699842fc-8fc0-4ea8-ef2a-ffc3a520ccba"
      },
      "outputs": [
        {
          "name": "stdout",
          "output_type": "stream",
          "text": [
            "Time taken for list: 0.1234433650970459 seconds\n",
            "Time taken for NumPy array: 0.005569934844970703 seconds\n"
          ]
        }
      ],
      "source": [
        "import time\n",
        "import numpy as np\n",
        "\n",
        "# Size of the array\n",
        "size = 1000000\n",
        "\n",
        "# Creating a list of numbers from 0 to size-1\n",
        "list_data = list(range(size))\n",
        "\n",
        "# Creating a NumPy array of numbers from 0 to size-1\n",
        "numpy_data = np.arange(size)\n",
        "\n",
        "# Timing the operation on the list\n",
        "start_time = time.time()\n",
        "list_result = [x * 2 for x in list_data]\n",
        "end_time = time.time()\n",
        "list_time = end_time - start_time\n",
        "\n",
        "# Timing the operation on the NumPy array\n",
        "start_time = time.time()\n",
        "numpy_result = numpy_data * 2\n",
        "end_time = time.time()\n",
        "numpy_time = end_time - start_time\n",
        "\n",
        "print(f\"Time taken for list: {list_time} seconds\")\n",
        "print(f\"Time taken for NumPy array: {numpy_time} seconds\")"
      ]
    },
    {
      "cell_type": "markdown",
      "id": "fa385aa8-9509-467c-904e-2c81029b6694",
      "metadata": {
        "id": "fa385aa8-9509-467c-904e-2c81029b6694"
      },
      "source": [
        "### 3. NUMPY VS MATH LIBRARY"
      ]
    },
    {
      "cell_type": "code",
      "execution_count": null,
      "id": "e09a2633-a5d1-47b4-bdfb-de60e66289da",
      "metadata": {
        "id": "e09a2633-a5d1-47b4-bdfb-de60e66289da",
        "outputId": "e05af5af-b6be-4330-bd66-2e0fae28885d"
      },
      "outputs": [
        {
          "name": "stdout",
          "output_type": "stream",
          "text": [
            "Time taken using math library: 0.26061248779296875 seconds\n",
            "Time taken using NumPy: 0.009945154190063477 seconds\n"
          ]
        }
      ],
      "source": [
        "import time\n",
        "import math\n",
        "import numpy as np\n",
        "\n",
        "# Size of the array\n",
        "size = 1000000\n",
        "\n",
        "# Creating a list of numbers from 0 to size-1\n",
        "list_data = list(range(size))\n",
        "\n",
        "# Creating a NumPy array of numbers from 0 to size-1\n",
        "numpy_data = np.arange(size)\n",
        "\n",
        "# Using math library to perform element-wise square root operation\n",
        "start_time = time.time()\n",
        "math_result = [math.sqrt(x) for x in list_data]\n",
        "end_time = time.time()\n",
        "math_time = end_time - start_time\n",
        "\n",
        "# Using NumPy to perform element-wise square root operation\n",
        "start_time = time.time()\n",
        "numpy_result = np.sqrt(numpy_data)\n",
        "end_time = time.time()\n",
        "numpy_time = end_time - start_time\n",
        "\n",
        "print(f\"Time taken using math library: {math_time} seconds\")\n",
        "print(f\"Time taken using NumPy: {numpy_time} seconds\")"
      ]
    },
    {
      "cell_type": "markdown",
      "id": "c50918d5-4f1d-4d44-86df-740f33093f52",
      "metadata": {
        "id": "c50918d5-4f1d-4d44-86df-740f33093f52"
      },
      "source": [
        "### 4. Creating ARRAYS"
      ]
    },
    {
      "cell_type": "code",
      "execution_count": null,
      "id": "4f148df8-a64a-4df0-ac19-31b2c98a88c5",
      "metadata": {
        "id": "4f148df8-a64a-4df0-ac19-31b2c98a88c5"
      },
      "outputs": [],
      "source": [
        "### Tensors"
      ]
    },
    {
      "cell_type": "code",
      "execution_count": null,
      "id": "8d565998-eb94-450a-8890-d6803fcb75d1",
      "metadata": {
        "id": "8d565998-eb94-450a-8890-d6803fcb75d1",
        "outputId": "a95b001a-0e6d-459f-c6aa-ae57c202aef6"
      },
      "outputs": [
        {
          "name": "stdout",
          "output_type": "stream",
          "text": [
            "5\n"
          ]
        }
      ],
      "source": [
        "### 0-D array\n",
        "import numpy as np\n",
        "arr = np.array(5)\n",
        "print(arr)"
      ]
    },
    {
      "cell_type": "code",
      "execution_count": null,
      "id": "edd9fbbb-eadb-40d5-8b85-7b09ab07b034",
      "metadata": {
        "id": "edd9fbbb-eadb-40d5-8b85-7b09ab07b034",
        "outputId": "be7d252f-c9ce-4f69-8c6e-44b5a5d41b42"
      },
      "outputs": [
        {
          "data": {
            "text/plain": [
              "numpy.ndarray"
            ]
          },
          "execution_count": 5,
          "metadata": {},
          "output_type": "execute_result"
        }
      ],
      "source": [
        "type(arr)"
      ]
    },
    {
      "cell_type": "code",
      "execution_count": null,
      "id": "5000cc24-187b-41e8-9a6e-a985280296f5",
      "metadata": {
        "id": "5000cc24-187b-41e8-9a6e-a985280296f5",
        "outputId": "7311f046-4d93-4545-d766-57b5ac3aac03"
      },
      "outputs": [
        {
          "name": "stdout",
          "output_type": "stream",
          "text": [
            "[1 2 3 4 5]\n"
          ]
        }
      ],
      "source": [
        "### 1-D array\n",
        "arr = np.array([1,2,3,4,5])\n",
        "print(arr)"
      ]
    },
    {
      "cell_type": "code",
      "execution_count": null,
      "id": "155e7bcc-ef8d-4265-a94e-da393173618b",
      "metadata": {
        "id": "155e7bcc-ef8d-4265-a94e-da393173618b",
        "outputId": "b685c349-5349-41b2-95dc-70bd6b25231b"
      },
      "outputs": [
        {
          "name": "stdout",
          "output_type": "stream",
          "text": [
            "[[ 1  2  3  4  5]\n",
            " [ 6  7  8  9 10]]\n"
          ]
        }
      ],
      "source": [
        "### 2-D array\n",
        "arr =np.array([ [1,2,3,4,5] , [6,7,8,9,10] ])\n",
        "print(arr)"
      ]
    },
    {
      "cell_type": "code",
      "execution_count": null,
      "id": "5bdbe8bb-6dd3-4de7-842d-4025d4d311c0",
      "metadata": {
        "id": "5bdbe8bb-6dd3-4de7-842d-4025d4d311c0"
      },
      "outputs": [],
      "source": [
        "### 3-D array\n",
        "arr = np.array([\n",
        "    [\n",
        "        [1,2,3,4,5],\n",
        "        [6,7,8,9,10]\n",
        "    ],\n",
        "    [\n",
        "        [11,12,13,14,15],\n",
        "        [16,17,18,19,20]\n",
        "    ]\n",
        "\n",
        "])"
      ]
    },
    {
      "cell_type": "code",
      "execution_count": null,
      "id": "de4328fc-6ed9-4622-9024-b0936c80749d",
      "metadata": {
        "id": "de4328fc-6ed9-4622-9024-b0936c80749d",
        "outputId": "710d05b6-bcf3-4d7d-eba0-4bdcfa0fae78"
      },
      "outputs": [
        {
          "name": "stdout",
          "output_type": "stream",
          "text": [
            "[[[ 1  2  3  4  5]\n",
            "  [ 6  7  8  9 10]]\n",
            "\n",
            " [[11 12 13 14 15]\n",
            "  [16 17 18 19 20]]]\n"
          ]
        }
      ],
      "source": [
        "print(arr)"
      ]
    },
    {
      "cell_type": "markdown",
      "id": "454869c2-873f-4333-a62e-2466c55d3fa3",
      "metadata": {
        "id": "454869c2-873f-4333-a62e-2466c55d3fa3"
      },
      "source": [
        "### 5. Acessing ARRAYS"
      ]
    },
    {
      "cell_type": "code",
      "execution_count": null,
      "id": "5c6c12f2-1dfa-430d-b8cb-0a906e50d647",
      "metadata": {
        "id": "5c6c12f2-1dfa-430d-b8cb-0a906e50d647"
      },
      "outputs": [],
      "source": [
        "arr = np.array(5)"
      ]
    },
    {
      "cell_type": "code",
      "execution_count": null,
      "id": "c31cb790-7928-4390-bd06-17de37b839f3",
      "metadata": {
        "id": "c31cb790-7928-4390-bd06-17de37b839f3",
        "outputId": "4e3aa771-f9d1-4581-afb5-8d5d88f6c345"
      },
      "outputs": [
        {
          "data": {
            "text/plain": [
              "array([1, 2, 3, 4, 5])"
            ]
          },
          "execution_count": 12,
          "metadata": {},
          "output_type": "execute_result"
        }
      ],
      "source": [
        "### 1-D array\n",
        "arr = np.array([1,2,3,4,5])\n",
        "arr"
      ]
    },
    {
      "cell_type": "code",
      "execution_count": null,
      "id": "7166eccb-ad5a-4a51-8fb8-93de044b51b4",
      "metadata": {
        "id": "7166eccb-ad5a-4a51-8fb8-93de044b51b4",
        "outputId": "003c870d-eb6a-474b-c792-fcda962a695d"
      },
      "outputs": [
        {
          "data": {
            "text/plain": [
              "4"
            ]
          },
          "execution_count": 16,
          "metadata": {},
          "output_type": "execute_result"
        }
      ],
      "source": [
        "arr[3]"
      ]
    },
    {
      "cell_type": "code",
      "execution_count": null,
      "id": "e5993b6c-b461-4a52-9818-5ad08a1b23fa",
      "metadata": {
        "id": "e5993b6c-b461-4a52-9818-5ad08a1b23fa",
        "outputId": "cf303ddd-6e86-4057-f98f-8a0fa2b5adc4"
      },
      "outputs": [
        {
          "name": "stdout",
          "output_type": "stream",
          "text": [
            "[[ 1  2  3  4  5]\n",
            " [ 6  7  8  9 10]]\n"
          ]
        }
      ],
      "source": [
        "### 2-D array\n",
        "arr =np.array([ [1,2,3,4,5] , [6,7,8,9,10] ])\n",
        "print(arr)"
      ]
    },
    {
      "cell_type": "code",
      "execution_count": null,
      "id": "076f787f-4831-4af2-893d-76d73d2c9417",
      "metadata": {
        "id": "076f787f-4831-4af2-893d-76d73d2c9417",
        "outputId": "881e22ff-a270-4ac5-e525-5ad693269003"
      },
      "outputs": [
        {
          "data": {
            "text/plain": [
              "7"
            ]
          },
          "execution_count": 19,
          "metadata": {},
          "output_type": "execute_result"
        }
      ],
      "source": [
        "arr[1,1]     ##row,column"
      ]
    },
    {
      "cell_type": "code",
      "execution_count": null,
      "id": "df8628f3-4c7e-47ae-80e0-5653e38de8d5",
      "metadata": {
        "id": "df8628f3-4c7e-47ae-80e0-5653e38de8d5",
        "outputId": "a400cc38-4ddc-4576-f2ad-e8345a61f7aa"
      },
      "outputs": [
        {
          "name": "stdout",
          "output_type": "stream",
          "text": [
            "[[[ 1  2  3  4  5]\n",
            "  [ 6  7  8  9 10]]\n",
            "\n",
            " [[11 12 13 14 15]\n",
            "  [16 17 18 19 20]]]\n"
          ]
        }
      ],
      "source": [
        "### 3-D array\n",
        "arr = np.array([\n",
        "    [\n",
        "        [1,2,3,4,5],\n",
        "        [6,7,8,9,10]\n",
        "    ],\n",
        "    [\n",
        "        [11,12,13,14,15],\n",
        "        [16,17,18,19,20]\n",
        "    ]\n",
        "\n",
        "])\n",
        "print(arr)"
      ]
    },
    {
      "cell_type": "code",
      "execution_count": null,
      "id": "69601a12-a3e2-4dbf-92fc-4c7bc43d8bdd",
      "metadata": {
        "id": "69601a12-a3e2-4dbf-92fc-4c7bc43d8bdd",
        "outputId": "3b3eec3b-7335-4487-ab18-bd18f94bf84e"
      },
      "outputs": [
        {
          "data": {
            "text/plain": [
              "15"
            ]
          },
          "execution_count": 21,
          "metadata": {},
          "output_type": "execute_result"
        }
      ],
      "source": [
        "arr[1 , 0 ,-1 ]"
      ]
    },
    {
      "cell_type": "code",
      "execution_count": null,
      "id": "57111b24-445a-4e57-b62a-b46542ed90e6",
      "metadata": {
        "id": "57111b24-445a-4e57-b62a-b46542ed90e6"
      },
      "outputs": [],
      "source": []
    },
    {
      "cell_type": "code",
      "execution_count": null,
      "id": "606000d5-7e2e-4045-ad8b-4d558c4a75b0",
      "metadata": {
        "id": "606000d5-7e2e-4045-ad8b-4d558c4a75b0"
      },
      "outputs": [],
      "source": []
    },
    {
      "cell_type": "markdown",
      "id": "0e217f4d-a2d7-4702-bfec-c5723f5d55da",
      "metadata": {
        "id": "0e217f4d-a2d7-4702-bfec-c5723f5d55da"
      },
      "source": [
        "### 6. Slicing ARRAYS"
      ]
    },
    {
      "cell_type": "code",
      "execution_count": null,
      "id": "f64e3d89-7e5e-4494-a8e2-f7776a96919f",
      "metadata": {
        "id": "f64e3d89-7e5e-4494-a8e2-f7776a96919f"
      },
      "outputs": [],
      "source": [
        "[array , row, col]"
      ]
    },
    {
      "cell_type": "code",
      "execution_count": null,
      "id": "461bd7e8-4d54-4e8e-8564-431089922acf",
      "metadata": {
        "id": "461bd7e8-4d54-4e8e-8564-431089922acf",
        "outputId": "27b9743e-f2f2-42de-c8d8-72584ec31c19"
      },
      "outputs": [
        {
          "data": {
            "text/plain": [
              "array([[[ 1,  2,  3,  4,  5],\n",
              "        [ 6,  7,  8,  9, 10]],\n",
              "\n",
              "       [[11, 12, 13, 14, 15],\n",
              "        [16, 17, 18, 19, 20]]])"
            ]
          },
          "execution_count": 22,
          "metadata": {},
          "output_type": "execute_result"
        }
      ],
      "source": [
        "arr"
      ]
    },
    {
      "cell_type": "code",
      "execution_count": null,
      "id": "84d3d666-e9f6-42df-93c0-a30f8c6da2b2",
      "metadata": {
        "id": "84d3d666-e9f6-42df-93c0-a30f8c6da2b2",
        "outputId": "0b0b65ff-2f24-4c11-8516-637871b8dda4"
      },
      "outputs": [
        {
          "data": {
            "text/plain": [
              "array([[11, 13],\n",
              "       [16, 18]])"
            ]
          },
          "execution_count": 26,
          "metadata": {},
          "output_type": "execute_result"
        }
      ],
      "source": [
        "arr[1 , 0:3 , 0:4:2]"
      ]
    },
    {
      "cell_type": "code",
      "execution_count": null,
      "id": "193a3e61-0dd3-4dc8-b2c4-a15459da0a57",
      "metadata": {
        "id": "193a3e61-0dd3-4dc8-b2c4-a15459da0a57",
        "outputId": "965f41f2-e062-4c57-fa25-67b23a53d7c5"
      },
      "outputs": [
        {
          "data": {
            "text/plain": [
              "array([6, 7, 8, 9])"
            ]
          },
          "execution_count": 25,
          "metadata": {},
          "output_type": "execute_result"
        }
      ],
      "source": [
        "arr[0,1,0:-1:]"
      ]
    },
    {
      "cell_type": "code",
      "execution_count": null,
      "id": "aafb90b1-cb91-4a48-9cb0-c515f44a47e3",
      "metadata": {
        "id": "aafb90b1-cb91-4a48-9cb0-c515f44a47e3",
        "outputId": "1ea077d7-fb97-441d-8b06-abd9451175ff"
      },
      "outputs": [
        {
          "data": {
            "text/plain": [
              "array([[[ 1,  2,  3,  4,  5],\n",
              "        [ 6,  7,  8,  9, 10]],\n",
              "\n",
              "       [[11, 12, 13, 14, 15],\n",
              "        [16, 17, 18, 19, 20]]])"
            ]
          },
          "execution_count": 27,
          "metadata": {},
          "output_type": "execute_result"
        }
      ],
      "source": [
        "### Check dimesnion\n",
        "\n",
        "arr"
      ]
    },
    {
      "cell_type": "code",
      "execution_count": null,
      "id": "6e9925d2-5430-490c-ad22-28aeb1b74170",
      "metadata": {
        "id": "6e9925d2-5430-490c-ad22-28aeb1b74170",
        "outputId": "9d8d9313-6f6c-4ffb-bb92-e533f7d2c4b4"
      },
      "outputs": [
        {
          "data": {
            "text/plain": [
              "3"
            ]
          },
          "execution_count": 28,
          "metadata": {},
          "output_type": "execute_result"
        }
      ],
      "source": [
        "arr.ndim"
      ]
    },
    {
      "cell_type": "markdown",
      "id": "549d67d0-78a0-4fce-8a0b-1a5d63046842",
      "metadata": {
        "id": "549d67d0-78a0-4fce-8a0b-1a5d63046842"
      },
      "source": [
        "### 7. Change Data Type in ARRAYS"
      ]
    },
    {
      "cell_type": "code",
      "execution_count": null,
      "id": "a5f2f013-f1fa-488d-a12a-6945d2550c8f",
      "metadata": {
        "id": "a5f2f013-f1fa-488d-a12a-6945d2550c8f"
      },
      "outputs": [],
      "source": [
        "arr=np.array([1.1,1.2,1.3,1.4,2.1,2.2,2.3,0])"
      ]
    },
    {
      "cell_type": "code",
      "execution_count": null,
      "id": "2ba79e62-3795-4309-adb4-0a689e3a4f41",
      "metadata": {
        "id": "2ba79e62-3795-4309-adb4-0a689e3a4f41",
        "outputId": "f8563332-0561-4323-8905-9bcf5b5a5c75"
      },
      "outputs": [
        {
          "data": {
            "text/plain": [
              "array([1.1, 1.2, 1.3, 1.4, 2.1, 2.2, 2.3, 0. ])"
            ]
          },
          "execution_count": 34,
          "metadata": {},
          "output_type": "execute_result"
        }
      ],
      "source": [
        "arr"
      ]
    },
    {
      "cell_type": "code",
      "execution_count": null,
      "id": "8bf283f5-590a-4010-ada1-9fbb0f083276",
      "metadata": {
        "id": "8bf283f5-590a-4010-ada1-9fbb0f083276",
        "outputId": "81048d14-d821-41d7-ad83-c4e2a9f633d3"
      },
      "outputs": [
        {
          "data": {
            "text/plain": [
              "array(['1.1', '1.2', '1.3', '1.4', '2.1', '2.2', '2.3', '0.0'],\n",
              "      dtype='<U32')"
            ]
          },
          "execution_count": 36,
          "metadata": {},
          "output_type": "execute_result"
        }
      ],
      "source": [
        "new_arr = arr.astype(\"str\")\n",
        "new_arr"
      ]
    },
    {
      "cell_type": "code",
      "execution_count": null,
      "id": "bcf5ded7-e806-49c1-86c9-e6fc01746a21",
      "metadata": {
        "id": "bcf5ded7-e806-49c1-86c9-e6fc01746a21",
        "outputId": "69f10202-912c-4650-da9f-4bf4640e2e3c"
      },
      "outputs": [
        {
          "data": {
            "text/plain": [
              "dtype('float64')"
            ]
          },
          "execution_count": 38,
          "metadata": {},
          "output_type": "execute_result"
        }
      ],
      "source": [
        "### Check data type\n",
        "arr.dtype"
      ]
    },
    {
      "cell_type": "markdown",
      "id": "89c550f4-2dbe-45c2-bbaf-b02ed59cce31",
      "metadata": {
        "id": "89c550f4-2dbe-45c2-bbaf-b02ed59cce31"
      },
      "source": [
        "### 8. Copy vs VIEW Function"
      ]
    },
    {
      "cell_type": "code",
      "execution_count": null,
      "id": "a7e9c2f6-ee53-4b01-9379-9377ba9fea95",
      "metadata": {
        "id": "a7e9c2f6-ee53-4b01-9379-9377ba9fea95",
        "outputId": "2c136e5a-bb51-4bcf-b542-e9ff6284e001"
      },
      "outputs": [
        {
          "data": {
            "text/plain": [
              "array([1, 2, 3, 4, 5])"
            ]
          },
          "execution_count": 40,
          "metadata": {},
          "output_type": "execute_result"
        }
      ],
      "source": [
        "arr= np.array([1,2,3,4,5])\n",
        "arr"
      ]
    },
    {
      "cell_type": "code",
      "execution_count": null,
      "id": "07ad8805-2fdd-409b-a895-c9d8b10699fb",
      "metadata": {
        "id": "07ad8805-2fdd-409b-a895-c9d8b10699fb",
        "outputId": "f9b258fe-50f0-496f-aea6-d2ae7261aa21"
      },
      "outputs": [
        {
          "data": {
            "text/plain": [
              "array([1, 2, 3, 4, 5])"
            ]
          },
          "execution_count": 42,
          "metadata": {},
          "output_type": "execute_result"
        }
      ],
      "source": [
        "new_arr = arr.copy()\n",
        "new_arr"
      ]
    },
    {
      "cell_type": "code",
      "execution_count": null,
      "id": "1e94c3ed-20d0-46c5-9d17-a33dc46ebfa9",
      "metadata": {
        "id": "1e94c3ed-20d0-46c5-9d17-a33dc46ebfa9",
        "outputId": "2fb52b9e-ae21-4818-bcdb-22dfabd809d5"
      },
      "outputs": [
        {
          "data": {
            "text/plain": [
              "array([15,  2,  3,  4,  5])"
            ]
          },
          "execution_count": 43,
          "metadata": {},
          "output_type": "execute_result"
        }
      ],
      "source": [
        "new_arr[0] = 15\n",
        "new_arr"
      ]
    },
    {
      "cell_type": "code",
      "execution_count": null,
      "id": "cfc6de2b-c296-4e8d-9995-07d64b1b059a",
      "metadata": {
        "id": "cfc6de2b-c296-4e8d-9995-07d64b1b059a",
        "outputId": "51721e77-3b1c-4997-ce77-bf18d42293cd"
      },
      "outputs": [
        {
          "data": {
            "text/plain": [
              "array([1, 2, 3, 4, 5])"
            ]
          },
          "execution_count": 44,
          "metadata": {},
          "output_type": "execute_result"
        }
      ],
      "source": [
        "arr"
      ]
    },
    {
      "cell_type": "code",
      "execution_count": null,
      "id": "fd3c83f5-bd6d-403e-9bcb-1ba76d284c1c",
      "metadata": {
        "id": "fd3c83f5-bd6d-403e-9bcb-1ba76d284c1c",
        "outputId": "bf2cc68e-8fe9-4c0d-e120-1dcf489978f4"
      },
      "outputs": [
        {
          "data": {
            "text/plain": [
              "array([1, 2, 3, 4, 5])"
            ]
          },
          "execution_count": 45,
          "metadata": {},
          "output_type": "execute_result"
        }
      ],
      "source": [
        "### View\n",
        "arr"
      ]
    },
    {
      "cell_type": "code",
      "execution_count": null,
      "id": "f15b9c54-b950-4d58-badb-959b0ad41227",
      "metadata": {
        "id": "f15b9c54-b950-4d58-badb-959b0ad41227",
        "outputId": "f24db05d-6ccc-4f41-ab35-8cbe36bde489"
      },
      "outputs": [
        {
          "data": {
            "text/plain": [
              "array([1, 2, 3, 4, 5])"
            ]
          },
          "execution_count": 46,
          "metadata": {},
          "output_type": "execute_result"
        }
      ],
      "source": [
        "new_arr = arr.view()\n",
        "new_arr"
      ]
    },
    {
      "cell_type": "code",
      "execution_count": null,
      "id": "d71e26a9-d09b-4bf6-a960-561e33cadd34",
      "metadata": {
        "id": "d71e26a9-d09b-4bf6-a960-561e33cadd34",
        "outputId": "0e122517-d2a5-45ed-b0f4-49c4cf181618"
      },
      "outputs": [
        {
          "data": {
            "text/plain": [
              "array([15,  2,  3,  4,  5])"
            ]
          },
          "execution_count": 47,
          "metadata": {},
          "output_type": "execute_result"
        }
      ],
      "source": [
        "new_arr[0] = 15\n",
        "new_arr"
      ]
    },
    {
      "cell_type": "code",
      "execution_count": null,
      "id": "55c36441-e4a8-4b41-879f-635de76c8da3",
      "metadata": {
        "id": "55c36441-e4a8-4b41-879f-635de76c8da3",
        "outputId": "15d924ae-b4c3-45e7-ce10-3b9f90a165e5"
      },
      "outputs": [
        {
          "data": {
            "text/plain": [
              "array([15,  2,  3,  4,  5])"
            ]
          },
          "execution_count": 48,
          "metadata": {},
          "output_type": "execute_result"
        }
      ],
      "source": [
        "arr"
      ]
    },
    {
      "cell_type": "code",
      "execution_count": null,
      "id": "5600d214-c8d1-4083-8d29-095f4ba64b45",
      "metadata": {
        "id": "5600d214-c8d1-4083-8d29-095f4ba64b45"
      },
      "outputs": [],
      "source": []
    },
    {
      "cell_type": "code",
      "execution_count": null,
      "id": "07e883f0-703d-4cc7-8e97-660738820037",
      "metadata": {
        "id": "07e883f0-703d-4cc7-8e97-660738820037"
      },
      "outputs": [],
      "source": []
    },
    {
      "cell_type": "code",
      "execution_count": null,
      "id": "cba1fe55-4792-4a30-8018-01fffb3dfdbe",
      "metadata": {
        "id": "cba1fe55-4792-4a30-8018-01fffb3dfdbe"
      },
      "outputs": [],
      "source": []
    },
    {
      "cell_type": "markdown",
      "id": "2a70ac94-ee39-45f5-a591-77a575ce0eb3",
      "metadata": {
        "id": "2a70ac94-ee39-45f5-a591-77a575ce0eb3"
      },
      "source": [
        "### 9. Check ARRAY SHAPE"
      ]
    },
    {
      "cell_type": "code",
      "execution_count": null,
      "id": "a117536c-4872-4a7d-aed5-0b0dec3ee0a5",
      "metadata": {
        "id": "a117536c-4872-4a7d-aed5-0b0dec3ee0a5"
      },
      "outputs": [],
      "source": [
        "array , row , column"
      ]
    },
    {
      "cell_type": "code",
      "execution_count": null,
      "id": "73e64c95-6253-4a44-96f8-d7dbb981e993",
      "metadata": {
        "id": "73e64c95-6253-4a44-96f8-d7dbb981e993"
      },
      "outputs": [],
      "source": [
        "### 3-D array\n",
        "arr = np.array([\n",
        "    [\n",
        "        [1,2,3,4,5],\n",
        "        [6,7,8,9,10]\n",
        "    ],\n",
        "    [\n",
        "        [11,12,13,14,15],\n",
        "        [16,17,18,19,20]\n",
        "    ]\n",
        "\n",
        "])"
      ]
    },
    {
      "cell_type": "code",
      "execution_count": null,
      "id": "4840cfa1-bcd6-4229-9e54-85e018e00dbb",
      "metadata": {
        "id": "4840cfa1-bcd6-4229-9e54-85e018e00dbb",
        "outputId": "220be910-4087-46b6-9a3b-c0df425712a1"
      },
      "outputs": [
        {
          "data": {
            "text/plain": [
              "3"
            ]
          },
          "execution_count": 50,
          "metadata": {},
          "output_type": "execute_result"
        }
      ],
      "source": [
        "arr.ndim"
      ]
    },
    {
      "cell_type": "code",
      "execution_count": null,
      "id": "c0b5f30d-e7a7-482a-b66d-2a7f498e7f9e",
      "metadata": {
        "id": "c0b5f30d-e7a7-482a-b66d-2a7f498e7f9e",
        "outputId": "1f9197c4-4d9b-423b-e7f1-37e691282d85"
      },
      "outputs": [
        {
          "data": {
            "text/plain": [
              "(2, 2, 5)"
            ]
          },
          "execution_count": 51,
          "metadata": {},
          "output_type": "execute_result"
        }
      ],
      "source": [
        "arr.shape"
      ]
    },
    {
      "cell_type": "code",
      "execution_count": null,
      "id": "c9eab922-5067-4b8c-aec0-36fcd85edf40",
      "metadata": {
        "id": "c9eab922-5067-4b8c-aec0-36fcd85edf40"
      },
      "outputs": [],
      "source": []
    },
    {
      "cell_type": "markdown",
      "id": "090d4c45-ab2c-45a8-879e-3dd136a991fa",
      "metadata": {
        "id": "090d4c45-ab2c-45a8-879e-3dd136a991fa"
      },
      "source": [
        "### 10. ARRAY RESHAPE"
      ]
    },
    {
      "cell_type": "code",
      "execution_count": null,
      "id": "5985e7e1-4fe1-4187-8ffe-6c94a75c7452",
      "metadata": {
        "id": "5985e7e1-4fe1-4187-8ffe-6c94a75c7452",
        "outputId": "e8b93c01-2fbc-4830-d769-ceb3cbfec5ef"
      },
      "outputs": [
        {
          "data": {
            "text/plain": [
              "array([ 1,  2,  3,  4,  5,  6,  7,  8,  9, 10, 11, 12])"
            ]
          },
          "execution_count": 52,
          "metadata": {},
          "output_type": "execute_result"
        }
      ],
      "source": [
        "arr = np.array([1,2,3,4,5,6,7,8,9,10,11,12])\n",
        "arr"
      ]
    },
    {
      "cell_type": "code",
      "execution_count": null,
      "id": "af32072f-a465-4084-bc87-583757278663",
      "metadata": {
        "id": "af32072f-a465-4084-bc87-583757278663",
        "outputId": "01bf4bbc-5895-412a-c55d-7c22ef723af0"
      },
      "outputs": [
        {
          "data": {
            "text/plain": [
              "1"
            ]
          },
          "execution_count": 54,
          "metadata": {},
          "output_type": "execute_result"
        }
      ],
      "source": [
        "arr.ndim"
      ]
    },
    {
      "cell_type": "code",
      "execution_count": null,
      "id": "cb242757-4523-4595-985d-acd164cc30cd",
      "metadata": {
        "id": "cb242757-4523-4595-985d-acd164cc30cd",
        "outputId": "feab243d-4516-410c-d633-a848e65b1a74"
      },
      "outputs": [
        {
          "data": {
            "text/plain": [
              "array([[ 1,  2,  3],\n",
              "       [ 4,  5,  6],\n",
              "       [ 7,  8,  9],\n",
              "       [10, 11, 12]])"
            ]
          },
          "execution_count": 61,
          "metadata": {},
          "output_type": "execute_result"
        }
      ],
      "source": [
        "new_arr = arr.reshape(4,3)\n",
        "new_arr"
      ]
    },
    {
      "cell_type": "code",
      "execution_count": null,
      "id": "e0f37e4b-d156-4928-85a3-baf16fc41139",
      "metadata": {
        "id": "e0f37e4b-d156-4928-85a3-baf16fc41139",
        "outputId": "e12d452e-ded4-46b7-b72f-3e16f8bb4b5b"
      },
      "outputs": [
        {
          "data": {
            "text/plain": [
              "2"
            ]
          },
          "execution_count": 55,
          "metadata": {},
          "output_type": "execute_result"
        }
      ],
      "source": [
        "new_arr.ndim"
      ]
    },
    {
      "cell_type": "code",
      "execution_count": null,
      "id": "b647ea8f-e3ce-4bf6-a691-9414ae594da5",
      "metadata": {
        "id": "b647ea8f-e3ce-4bf6-a691-9414ae594da5",
        "outputId": "bdbfa09f-a875-4aad-e396-00aec4c58a8b"
      },
      "outputs": [
        {
          "data": {
            "text/plain": [
              "array([[ 1,  2,  3],\n",
              "       [ 4,  5,  6],\n",
              "       [ 7,  8,  9],\n",
              "       [10, 11, 12]])"
            ]
          },
          "execution_count": 62,
          "metadata": {},
          "output_type": "execute_result"
        }
      ],
      "source": [
        "new_arr"
      ]
    },
    {
      "cell_type": "markdown",
      "id": "7cdffd77-f477-4f4a-b12d-b6eb0cd9f4e3",
      "metadata": {
        "id": "7cdffd77-f477-4f4a-b12d-b6eb0cd9f4e3"
      },
      "source": []
    },
    {
      "cell_type": "code",
      "execution_count": null,
      "id": "dcca15e4-852a-459f-86dd-22ca5d8e895d",
      "metadata": {
        "id": "dcca15e4-852a-459f-86dd-22ca5d8e895d",
        "outputId": "932ffea1-3ead-4717-9ac9-3e0cf1cf4b2e"
      },
      "outputs": [
        {
          "data": {
            "text/plain": [
              "array([[ 1,  2,  3,  4,  5,  6,  7,  8,  9, 10, 11, 12]])"
            ]
          },
          "execution_count": 63,
          "metadata": {},
          "output_type": "execute_result"
        }
      ],
      "source": [
        "arr1 = new_arr.reshape(1,-1)\n",
        "arr1"
      ]
    },
    {
      "cell_type": "code",
      "execution_count": null,
      "id": "11c8af1c-e4db-4969-8c15-b0c4b4e660fd",
      "metadata": {
        "id": "11c8af1c-e4db-4969-8c15-b0c4b4e660fd"
      },
      "outputs": [],
      "source": []
    },
    {
      "cell_type": "code",
      "execution_count": null,
      "id": "378b12cb-c573-4afa-8ac7-7a90e02de39d",
      "metadata": {
        "id": "378b12cb-c573-4afa-8ac7-7a90e02de39d"
      },
      "outputs": [],
      "source": []
    },
    {
      "cell_type": "code",
      "execution_count": null,
      "id": "c2a48f15-a918-4f5a-8a35-01f3213ca113",
      "metadata": {
        "id": "c2a48f15-a918-4f5a-8a35-01f3213ca113"
      },
      "outputs": [],
      "source": []
    },
    {
      "cell_type": "code",
      "execution_count": null,
      "id": "df01f711-29fb-4d7e-af33-5f8545e2c02a",
      "metadata": {
        "id": "df01f711-29fb-4d7e-af33-5f8545e2c02a",
        "outputId": "9b5e7bcd-281f-458c-c6fd-cc633f947cb7"
      },
      "outputs": [
        {
          "data": {
            "text/plain": [
              "array([[[ 1,  2],\n",
              "        [ 3,  4],\n",
              "        [ 5,  6]],\n",
              "\n",
              "       [[ 7,  8],\n",
              "        [ 9, 10],\n",
              "        [11, 12]]])"
            ]
          },
          "execution_count": 69,
          "metadata": {},
          "output_type": "execute_result"
        }
      ],
      "source": [
        "new_arr = arr.reshape(2,3,2)\n",
        "new_arr"
      ]
    },
    {
      "cell_type": "code",
      "execution_count": null,
      "id": "58bae3b0-25b2-4036-a9b5-efa483ad65b8",
      "metadata": {
        "id": "58bae3b0-25b2-4036-a9b5-efa483ad65b8",
        "outputId": "e00e1a5d-52ac-4da1-a541-e09c03268fac"
      },
      "outputs": [
        {
          "data": {
            "text/plain": [
              "3"
            ]
          },
          "execution_count": 67,
          "metadata": {},
          "output_type": "execute_result"
        }
      ],
      "source": [
        "new_arr.ndim"
      ]
    },
    {
      "cell_type": "code",
      "execution_count": null,
      "id": "5d9662c6-1b78-449b-9f4c-f57c10d40436",
      "metadata": {
        "id": "5d9662c6-1b78-449b-9f4c-f57c10d40436",
        "outputId": "e58a3954-b2c5-4031-873f-7a3d7c03fbc3"
      },
      "outputs": [
        {
          "data": {
            "text/plain": [
              "array([[ 1,  2,  3,  4,  5,  6,  7,  8,  9, 10, 11, 12]])"
            ]
          },
          "execution_count": 68,
          "metadata": {},
          "output_type": "execute_result"
        }
      ],
      "source": [
        "arr1 = new_arr.reshape(1,-1)\n",
        "arr1"
      ]
    },
    {
      "cell_type": "markdown",
      "id": "f1adf7fc-7544-49cc-8cd1-edf851fc90bb",
      "metadata": {
        "id": "f1adf7fc-7544-49cc-8cd1-edf851fc90bb"
      },
      "source": [
        "### 11. LOOPING INTO ARRAYS"
      ]
    },
    {
      "cell_type": "code",
      "execution_count": null,
      "id": "bf9e5020-ca6e-4c40-8751-2e9b1fcb5b13",
      "metadata": {
        "id": "bf9e5020-ca6e-4c40-8751-2e9b1fcb5b13"
      },
      "outputs": [],
      "source": [
        "### FOR LOOPS"
      ]
    },
    {
      "cell_type": "code",
      "execution_count": null,
      "id": "c39753aa-b8e7-441c-88cf-1bc8b63617ca",
      "metadata": {
        "id": "c39753aa-b8e7-441c-88cf-1bc8b63617ca",
        "outputId": "f4847654-72bb-41b5-f64b-3e22cfc0a3cb"
      },
      "outputs": [
        {
          "data": {
            "text/plain": [
              "array([[[ 1,  2],\n",
              "        [ 3,  4],\n",
              "        [ 5,  6]],\n",
              "\n",
              "       [[ 7,  8],\n",
              "        [ 9, 10],\n",
              "        [11, 12]]])"
            ]
          },
          "execution_count": 70,
          "metadata": {},
          "output_type": "execute_result"
        }
      ],
      "source": [
        "new_arr"
      ]
    },
    {
      "cell_type": "code",
      "execution_count": null,
      "id": "e08a7192-426d-423e-b2c2-4d9a23580cf8",
      "metadata": {
        "id": "e08a7192-426d-423e-b2c2-4d9a23580cf8",
        "outputId": "07527ac8-91d7-4030-f7de-3de7d1eec829"
      },
      "outputs": [
        {
          "name": "stdout",
          "output_type": "stream",
          "text": [
            "1\n",
            "2\n",
            "3\n",
            "4\n",
            "5\n",
            "6\n",
            "7\n",
            "8\n",
            "9\n",
            "10\n",
            "11\n",
            "12\n"
          ]
        }
      ],
      "source": [
        "for i in new_arr:\n",
        "    for j in i:\n",
        "        for k in j:\n",
        "            print(k)"
      ]
    },
    {
      "cell_type": "code",
      "execution_count": null,
      "id": "4cf29215-f994-4cd2-9b3f-7bb807ed8ccd",
      "metadata": {
        "id": "4cf29215-f994-4cd2-9b3f-7bb807ed8ccd",
        "outputId": "78a3cd61-2089-4f25-dad8-e9317b3b3e6a"
      },
      "outputs": [
        {
          "data": {
            "text/plain": [
              "array([[[ 1,  2],\n",
              "        [ 3,  4],\n",
              "        [ 5,  6]],\n",
              "\n",
              "       [[ 7,  8],\n",
              "        [ 9, 10],\n",
              "        [11, 12]]])"
            ]
          },
          "execution_count": 73,
          "metadata": {},
          "output_type": "execute_result"
        }
      ],
      "source": [
        "new_arr"
      ]
    },
    {
      "cell_type": "code",
      "execution_count": null,
      "id": "3dff3c73-4ba1-4061-b27e-29bd33402812",
      "metadata": {
        "id": "3dff3c73-4ba1-4061-b27e-29bd33402812",
        "outputId": "a187dc40-49c5-4732-b5ec-b40451e2cdf2"
      },
      "outputs": [
        {
          "name": "stdout",
          "output_type": "stream",
          "text": [
            "1\n",
            "2\n",
            "3\n",
            "4\n",
            "5\n",
            "6\n",
            "7\n",
            "8\n",
            "9\n",
            "10\n",
            "11\n",
            "12\n"
          ]
        }
      ],
      "source": [
        "## nditer\n",
        "for i in np.nditer(new_arr):\n",
        "    print(i)"
      ]
    },
    {
      "cell_type": "markdown",
      "id": "0ae8272d-34b0-44ed-826a-806685c1193f",
      "metadata": {
        "id": "0ae8272d-34b0-44ed-826a-806685c1193f"
      },
      "source": [
        "### 12. SORTING ARRAYS"
      ]
    },
    {
      "cell_type": "code",
      "execution_count": null,
      "id": "57412d0b-bb89-4c7d-a753-624edc801769",
      "metadata": {
        "id": "57412d0b-bb89-4c7d-a753-624edc801769",
        "outputId": "0319ce01-05e1-44bc-8bc1-c8362b613975"
      },
      "outputs": [
        {
          "data": {
            "text/plain": [
              "array([ 1,  2,  3,  4,  5, 10, 11,  8,  9,  2, 12,  0])"
            ]
          },
          "execution_count": 75,
          "metadata": {},
          "output_type": "execute_result"
        }
      ],
      "source": [
        "arr = np.array([1,2,3,4,5,10,11,8,9,2,12,0])\n",
        "arr"
      ]
    },
    {
      "cell_type": "code",
      "execution_count": null,
      "id": "b3cf6e27-2adb-4c01-a197-dab20804fbcc",
      "metadata": {
        "id": "b3cf6e27-2adb-4c01-a197-dab20804fbcc"
      },
      "outputs": [],
      "source": [
        "new_arr=np.sort(arr)"
      ]
    },
    {
      "cell_type": "code",
      "execution_count": null,
      "id": "5b7532f1-bf2e-423a-b8da-2e02f5448753",
      "metadata": {
        "id": "5b7532f1-bf2e-423a-b8da-2e02f5448753",
        "outputId": "270c8e87-8438-48c3-b99f-e74f17b8c10e"
      },
      "outputs": [
        {
          "data": {
            "text/plain": [
              "array([ 0,  1,  2,  2,  3,  4,  5,  8,  9, 10, 11, 12])"
            ]
          },
          "execution_count": 78,
          "metadata": {},
          "output_type": "execute_result"
        }
      ],
      "source": [
        "new_arr"
      ]
    },
    {
      "cell_type": "code",
      "execution_count": null,
      "id": "80368c5c-a26c-4f88-9d5a-c1688a9fb948",
      "metadata": {
        "id": "80368c5c-a26c-4f88-9d5a-c1688a9fb948",
        "outputId": "97f12226-7863-4dd8-bf94-a8ddbd2a1fd7"
      },
      "outputs": [
        {
          "data": {
            "text/plain": [
              "array([12, 11, 10,  9,  8,  5,  4,  3,  2,  2,  1,  0])"
            ]
          },
          "execution_count": 80,
          "metadata": {},
          "output_type": "execute_result"
        }
      ],
      "source": [
        "### Descending\n",
        "np.sort(arr)[ : :-1]"
      ]
    },
    {
      "cell_type": "code",
      "execution_count": null,
      "id": "f703a85f-e207-4e0a-92c0-b7e6aa08f174",
      "metadata": {
        "id": "f703a85f-e207-4e0a-92c0-b7e6aa08f174"
      },
      "outputs": [],
      "source": []
    },
    {
      "cell_type": "markdown",
      "id": "f4f45056-2426-4051-8eb4-7c3030412f42",
      "metadata": {
        "id": "f4f45056-2426-4051-8eb4-7c3030412f42"
      },
      "source": [
        "### 13. ARRAY SEARCH"
      ]
    },
    {
      "cell_type": "code",
      "execution_count": null,
      "id": "2dff1fc5-a80e-4768-be1e-2a81dd2809c9",
      "metadata": {
        "id": "2dff1fc5-a80e-4768-be1e-2a81dd2809c9"
      },
      "outputs": [],
      "source": [
        "### where method\n"
      ]
    },
    {
      "cell_type": "code",
      "execution_count": null,
      "id": "71382f04-ee46-49fa-8735-38fbd22fb4eb",
      "metadata": {
        "id": "71382f04-ee46-49fa-8735-38fbd22fb4eb",
        "outputId": "d429039f-f71e-41e7-f87d-f4779ddc9c50"
      },
      "outputs": [
        {
          "data": {
            "text/plain": [
              "array([ 1,  2,  3,  4,  5, 10, 11,  8,  9,  2, 12,  0])"
            ]
          },
          "execution_count": 81,
          "metadata": {},
          "output_type": "execute_result"
        }
      ],
      "source": [
        "arr"
      ]
    },
    {
      "cell_type": "code",
      "execution_count": null,
      "id": "d66e52fb-74a1-475e-8e44-b76754dbb9d5",
      "metadata": {
        "id": "d66e52fb-74a1-475e-8e44-b76754dbb9d5"
      },
      "outputs": [],
      "source": [
        "x = np.where(arr==12)"
      ]
    },
    {
      "cell_type": "code",
      "execution_count": null,
      "id": "b385d3e8-d7e7-4beb-b216-b095932fd764",
      "metadata": {
        "id": "b385d3e8-d7e7-4beb-b216-b095932fd764",
        "outputId": "5afbe19a-7b57-44a1-8cce-0c4e166f2904"
      },
      "outputs": [
        {
          "data": {
            "text/plain": [
              "(array([10], dtype=int64),)"
            ]
          },
          "execution_count": 83,
          "metadata": {},
          "output_type": "execute_result"
        }
      ],
      "source": [
        "x"
      ]
    },
    {
      "cell_type": "code",
      "execution_count": null,
      "id": "7496132d-267a-4520-b8a3-204c94ff23a3",
      "metadata": {
        "id": "7496132d-267a-4520-b8a3-204c94ff23a3",
        "outputId": "17e23945-6af4-4e37-83f8-9e2cecad957d"
      },
      "outputs": [
        {
          "data": {
            "text/plain": [
              "array([ 1,  2,  3,  4,  5,  6,  7,  8,  9, 10])"
            ]
          },
          "execution_count": 84,
          "metadata": {},
          "output_type": "execute_result"
        }
      ],
      "source": [
        "arr = np.array([1,2,3,4,5,6,7,8,9,10])\n",
        "arr"
      ]
    },
    {
      "cell_type": "code",
      "execution_count": null,
      "id": "9e70916e-13cb-4f65-853c-89f21e757611",
      "metadata": {
        "id": "9e70916e-13cb-4f65-853c-89f21e757611",
        "outputId": "96178995-505e-42ba-d161-c45d5ec512eb"
      },
      "outputs": [
        {
          "data": {
            "text/plain": [
              "(array([1, 3, 5, 7, 9], dtype=int64),)"
            ]
          },
          "execution_count": 85,
          "metadata": {},
          "output_type": "execute_result"
        }
      ],
      "source": [
        "np.where(arr%2==0)"
      ]
    },
    {
      "cell_type": "code",
      "execution_count": null,
      "id": "b6459005-b6f8-4655-ac4d-805c76c2e752",
      "metadata": {
        "id": "b6459005-b6f8-4655-ac4d-805c76c2e752",
        "outputId": "b35f1d10-0c3f-4f6f-e3e3-71630e95f354"
      },
      "outputs": [
        {
          "data": {
            "text/plain": [
              "array([0, 1, 2, 3, 4, 6, 7, 8, 9])"
            ]
          },
          "execution_count": 90,
          "metadata": {},
          "output_type": "execute_result"
        }
      ],
      "source": [
        "### searchsorted\n",
        "arr = np.array([0,1,2,3,4,6,7,8,9])\n",
        "arr"
      ]
    },
    {
      "cell_type": "code",
      "execution_count": null,
      "id": "c442de60-a938-4e99-b628-e1b98475a2d2",
      "metadata": {
        "id": "c442de60-a938-4e99-b628-e1b98475a2d2",
        "outputId": "9e330ad1-5798-47f5-ea96-95b33d9274c3"
      },
      "outputs": [
        {
          "data": {
            "text/plain": [
              "9"
            ]
          },
          "execution_count": 92,
          "metadata": {},
          "output_type": "execute_result"
        }
      ],
      "source": [
        "np.searchsorted(arr,11,side=)"
      ]
    },
    {
      "cell_type": "code",
      "execution_count": null,
      "id": "bd3dbdd7-9342-42e9-8857-c244df53a9d3",
      "metadata": {
        "id": "bd3dbdd7-9342-42e9-8857-c244df53a9d3"
      },
      "outputs": [],
      "source": []
    },
    {
      "cell_type": "code",
      "execution_count": null,
      "id": "d88f7e62-4b9b-4892-878b-3de5cbc24cf1",
      "metadata": {
        "id": "d88f7e62-4b9b-4892-878b-3de5cbc24cf1"
      },
      "outputs": [],
      "source": []
    },
    {
      "cell_type": "code",
      "execution_count": null,
      "id": "54ee37c2-17e1-42bb-9e9f-c915707947c1",
      "metadata": {
        "id": "54ee37c2-17e1-42bb-9e9f-c915707947c1"
      },
      "outputs": [],
      "source": []
    },
    {
      "cell_type": "code",
      "execution_count": null,
      "id": "9019dbb6-211d-4494-93cd-0bdbf4e1a8c1",
      "metadata": {
        "id": "9019dbb6-211d-4494-93cd-0bdbf4e1a8c1"
      },
      "outputs": [],
      "source": []
    },
    {
      "cell_type": "markdown",
      "id": "861c28b8-54d6-4977-bc68-d33fe4a6ece2",
      "metadata": {
        "id": "861c28b8-54d6-4977-bc68-d33fe4a6ece2"
      },
      "source": [
        "### 14. ARRAY FILTER"
      ]
    },
    {
      "cell_type": "code",
      "execution_count": null,
      "id": "8fd22ffc-d2de-4898-8ac0-97f85dc67c57",
      "metadata": {
        "id": "8fd22ffc-d2de-4898-8ac0-97f85dc67c57",
        "outputId": "83cf9593-262e-4869-ed9b-5d1a839593ec"
      },
      "outputs": [
        {
          "data": {
            "text/plain": [
              "array([41, 42, 43, 44])"
            ]
          },
          "execution_count": 93,
          "metadata": {},
          "output_type": "execute_result"
        }
      ],
      "source": [
        "arr = np.array([41,42,43,44])\n",
        "arr"
      ]
    },
    {
      "cell_type": "code",
      "execution_count": null,
      "id": "f394fbf8-6144-4418-b04a-776a9e3adbd6",
      "metadata": {
        "id": "f394fbf8-6144-4418-b04a-776a9e3adbd6",
        "outputId": "eb6e6111-d680-4417-8bcb-186b4db55d13"
      },
      "outputs": [
        {
          "data": {
            "text/plain": [
              "[True, False, True, False]"
            ]
          },
          "execution_count": 94,
          "metadata": {},
          "output_type": "execute_result"
        }
      ],
      "source": [
        "x = [True,False,True,False]\n",
        "x"
      ]
    },
    {
      "cell_type": "code",
      "execution_count": null,
      "id": "fca91542-7edd-49e8-8b0e-1e39186cb467",
      "metadata": {
        "id": "fca91542-7edd-49e8-8b0e-1e39186cb467"
      },
      "outputs": [],
      "source": [
        "new_arr = arr[x]"
      ]
    },
    {
      "cell_type": "code",
      "execution_count": null,
      "id": "df39bb1c-bb11-4271-8f99-9d780ec4a780",
      "metadata": {
        "id": "df39bb1c-bb11-4271-8f99-9d780ec4a780",
        "outputId": "b8c46e18-a059-44fa-9a41-f6184f4789cb"
      },
      "outputs": [
        {
          "data": {
            "text/plain": [
              "array([41, 43])"
            ]
          },
          "execution_count": 96,
          "metadata": {},
          "output_type": "execute_result"
        }
      ],
      "source": [
        "new_arr"
      ]
    },
    {
      "cell_type": "code",
      "execution_count": null,
      "id": "e2902210-a4ca-4b50-9f35-b2dd862ef1db",
      "metadata": {
        "id": "e2902210-a4ca-4b50-9f35-b2dd862ef1db"
      },
      "outputs": [],
      "source": [
        "##### Practiacal\n",
        "\n",
        "arr = np.array([1,2,3,4,5,6,7,8,9,10])\n",
        "x = []"
      ]
    },
    {
      "cell_type": "code",
      "execution_count": null,
      "id": "c44ed952-fdfd-4e41-a5f3-5540d65249a2",
      "metadata": {
        "id": "c44ed952-fdfd-4e41-a5f3-5540d65249a2"
      },
      "outputs": [],
      "source": [
        "for i in arr:\n",
        "    if i%2==0:\n",
        "        x.append(True)\n",
        "    else:\n",
        "        x.append(False)"
      ]
    },
    {
      "cell_type": "code",
      "execution_count": null,
      "id": "277c6a8d-e1a5-4a1b-8162-ffbbd52e7126",
      "metadata": {
        "id": "277c6a8d-e1a5-4a1b-8162-ffbbd52e7126",
        "outputId": "64f551e2-a1bc-4348-ba3b-43f1510a85a5"
      },
      "outputs": [
        {
          "data": {
            "text/plain": [
              "[False, True, False, True, False, True, False, True, False, True]"
            ]
          },
          "execution_count": 99,
          "metadata": {},
          "output_type": "execute_result"
        }
      ],
      "source": [
        "x"
      ]
    },
    {
      "cell_type": "code",
      "execution_count": null,
      "id": "367573f0-06ed-426f-93ff-40388e1b6c18",
      "metadata": {
        "id": "367573f0-06ed-426f-93ff-40388e1b6c18",
        "outputId": "a5dbecb9-3b22-46dd-8b7c-e11e13f1011d"
      },
      "outputs": [
        {
          "data": {
            "text/plain": [
              "array([ 1,  2,  3,  4,  5,  6,  7,  8,  9, 10])"
            ]
          },
          "execution_count": 100,
          "metadata": {},
          "output_type": "execute_result"
        }
      ],
      "source": [
        "arr"
      ]
    },
    {
      "cell_type": "code",
      "execution_count": null,
      "id": "543c77b7-84af-4801-922a-60a1d34adfb7",
      "metadata": {
        "id": "543c77b7-84af-4801-922a-60a1d34adfb7"
      },
      "outputs": [],
      "source": [
        "new_arr = arr[x]"
      ]
    },
    {
      "cell_type": "code",
      "execution_count": null,
      "id": "1df45208-3383-43c5-be7e-cca9ed03f7ef",
      "metadata": {
        "id": "1df45208-3383-43c5-be7e-cca9ed03f7ef",
        "outputId": "4ef84c2c-1116-44ff-dd83-19261d4f5728"
      },
      "outputs": [
        {
          "data": {
            "text/plain": [
              "array([ 2,  4,  6,  8, 10])"
            ]
          },
          "execution_count": 102,
          "metadata": {},
          "output_type": "execute_result"
        }
      ],
      "source": [
        "new_arr"
      ]
    },
    {
      "cell_type": "code",
      "execution_count": null,
      "id": "496c0853-3dfc-4abe-a3be-60efb98aea4b",
      "metadata": {
        "id": "496c0853-3dfc-4abe-a3be-60efb98aea4b"
      },
      "outputs": [],
      "source": []
    },
    {
      "cell_type": "markdown",
      "id": "4666d221-d469-4b02-baa0-92b8ebd9df4b",
      "metadata": {
        "id": "4666d221-d469-4b02-baa0-92b8ebd9df4b"
      },
      "source": [
        "### 15. RANDOM NUMBERS"
      ]
    },
    {
      "cell_type": "code",
      "execution_count": null,
      "id": "98730b8b-0b8e-4020-8f50-64c1d676f9b2",
      "metadata": {
        "id": "98730b8b-0b8e-4020-8f50-64c1d676f9b2"
      },
      "outputs": [],
      "source": [
        "from numpy import random"
      ]
    },
    {
      "cell_type": "code",
      "execution_count": null,
      "id": "fb3678e8-3dd2-46d1-9c18-03100cb83a6e",
      "metadata": {
        "id": "fb3678e8-3dd2-46d1-9c18-03100cb83a6e"
      },
      "outputs": [],
      "source": [
        "x = random.randint(100)"
      ]
    },
    {
      "cell_type": "code",
      "execution_count": null,
      "id": "91f34370-5bff-4fb2-86e0-91c310358992",
      "metadata": {
        "id": "91f34370-5bff-4fb2-86e0-91c310358992",
        "outputId": "c587b788-e37a-4fe0-82ba-1b10e081c047"
      },
      "outputs": [
        {
          "data": {
            "text/plain": [
              "33"
            ]
          },
          "execution_count": 109,
          "metadata": {},
          "output_type": "execute_result"
        }
      ],
      "source": [
        "x"
      ]
    },
    {
      "cell_type": "code",
      "execution_count": null,
      "id": "bf5bb11b-7598-4b44-b4ea-a95db9caf685",
      "metadata": {
        "id": "bf5bb11b-7598-4b44-b4ea-a95db9caf685"
      },
      "outputs": [],
      "source": [
        "x = random.randint(0,5,size=(2,3,4))"
      ]
    },
    {
      "cell_type": "code",
      "execution_count": null,
      "id": "5ec683fa-00ba-405b-82ea-a03047ec4a02",
      "metadata": {
        "id": "5ec683fa-00ba-405b-82ea-a03047ec4a02",
        "outputId": "23df63e0-7290-4d64-9837-c9e1e703aea0"
      },
      "outputs": [
        {
          "data": {
            "text/plain": [
              "array([[[2, 3, 3, 4],\n",
              "        [3, 0, 0, 2],\n",
              "        [1, 2, 1, 0]],\n",
              "\n",
              "       [[4, 0, 0, 3],\n",
              "        [1, 4, 2, 0],\n",
              "        [3, 4, 1, 2]]])"
            ]
          },
          "execution_count": 125,
          "metadata": {},
          "output_type": "execute_result"
        }
      ],
      "source": [
        "x"
      ]
    },
    {
      "cell_type": "markdown",
      "id": "e998aa1e-ea52-41c1-ae4f-9619137fdaec",
      "metadata": {
        "id": "e998aa1e-ea52-41c1-ae4f-9619137fdaec"
      },
      "source": [
        "### 16. JOIN ARRAYS"
      ]
    },
    {
      "cell_type": "markdown",
      "id": "5e954ad2-7282-4b34-827b-acccd825112d",
      "metadata": {
        "id": "5e954ad2-7282-4b34-827b-acccd825112d"
      },
      "source": [
        "#### a. Concatenation"
      ]
    },
    {
      "cell_type": "code",
      "execution_count": null,
      "id": "c033b966-85b3-479a-b045-270ae9980a2a",
      "metadata": {
        "id": "c033b966-85b3-479a-b045-270ae9980a2a"
      },
      "outputs": [],
      "source": [
        "a = np.array([[1,2,],[3,4]])\n",
        "b = np.array([[5,6,],[7,8]])"
      ]
    },
    {
      "cell_type": "code",
      "execution_count": null,
      "id": "4d3ff02b-a11a-4b1b-bc73-7d4ae120e655",
      "metadata": {
        "id": "4d3ff02b-a11a-4b1b-bc73-7d4ae120e655",
        "outputId": "0ea08f50-6b81-4d8d-a2e6-d1c1919bfc2c"
      },
      "outputs": [
        {
          "name": "stdout",
          "output_type": "stream",
          "text": [
            "2 2\n"
          ]
        }
      ],
      "source": [
        "print(a.ndim,b.ndim)"
      ]
    },
    {
      "cell_type": "code",
      "execution_count": null,
      "id": "845eacfb-fa9f-4539-bfb8-0182502698c0",
      "metadata": {
        "id": "845eacfb-fa9f-4539-bfb8-0182502698c0",
        "outputId": "04ee20df-3bc4-4f70-bd5f-861f47d96d50"
      },
      "outputs": [
        {
          "data": {
            "text/plain": [
              "array([[1, 2],\n",
              "       [3, 4]])"
            ]
          },
          "execution_count": 129,
          "metadata": {},
          "output_type": "execute_result"
        }
      ],
      "source": [
        "a"
      ]
    },
    {
      "cell_type": "code",
      "execution_count": null,
      "id": "a05efb9d-2a7b-4c35-afe8-8d24edf68c93",
      "metadata": {
        "id": "a05efb9d-2a7b-4c35-afe8-8d24edf68c93",
        "outputId": "7a232dc3-599a-4049-d2bc-f83a3ab7a41b"
      },
      "outputs": [
        {
          "data": {
            "text/plain": [
              "array([[5, 6],\n",
              "       [7, 8]])"
            ]
          },
          "execution_count": 130,
          "metadata": {},
          "output_type": "execute_result"
        }
      ],
      "source": [
        "b"
      ]
    },
    {
      "cell_type": "code",
      "execution_count": null,
      "id": "4aaddb54-4be2-45ca-b994-26b10ca6e1bc",
      "metadata": {
        "id": "4aaddb54-4be2-45ca-b994-26b10ca6e1bc",
        "outputId": "bb5e685a-bf92-4897-832e-5d263a6b7380"
      },
      "outputs": [
        {
          "name": "stdout",
          "output_type": "stream",
          "text": [
            "[[1 2]\n",
            " [3 4]\n",
            " [5 6]\n",
            " [7 8]]\n"
          ]
        }
      ],
      "source": [
        "arr1 = np.concatenate((a,b) , axis=0)  #row-wise   #vertically\n",
        "print(arr1)"
      ]
    },
    {
      "cell_type": "code",
      "execution_count": null,
      "id": "1d13487e-3ce6-49d6-ab53-62cfa6ae56d8",
      "metadata": {
        "id": "1d13487e-3ce6-49d6-ab53-62cfa6ae56d8",
        "outputId": "004c4a7b-783f-4f5f-fe4a-003702bc5a7f"
      },
      "outputs": [
        {
          "name": "stdout",
          "output_type": "stream",
          "text": [
            "[[1 2 5 6]\n",
            " [3 4 7 8]]\n"
          ]
        }
      ],
      "source": [
        "arr1 = np.concatenate((a,b) , axis=1)  #column-wise   #sidebyside\n",
        "print(arr1)"
      ]
    },
    {
      "cell_type": "code",
      "execution_count": null,
      "id": "ed4349e2-6d02-4828-b3e8-70ee3189f924",
      "metadata": {
        "id": "ed4349e2-6d02-4828-b3e8-70ee3189f924",
        "outputId": "ea44535d-bba3-4bdf-bc74-abf21f378758"
      },
      "outputs": [
        {
          "data": {
            "text/plain": [
              "2"
            ]
          },
          "execution_count": 134,
          "metadata": {},
          "output_type": "execute_result"
        }
      ],
      "source": [
        "arr1.ndim"
      ]
    },
    {
      "cell_type": "markdown",
      "id": "671b67ca-1102-41c9-aaff-3d8428e0688e",
      "metadata": {
        "id": "671b67ca-1102-41c9-aaff-3d8428e0688e"
      },
      "source": [
        "#### Stacking"
      ]
    },
    {
      "cell_type": "code",
      "execution_count": null,
      "id": "f57eae2f-8229-4dcf-8cd2-dbfcccccef74",
      "metadata": {
        "id": "f57eae2f-8229-4dcf-8cd2-dbfcccccef74",
        "outputId": "99a7028f-1e8e-4dc5-8b93-b6db8cb408d3"
      },
      "outputs": [
        {
          "data": {
            "text/plain": [
              "array([[1, 2],\n",
              "       [3, 4]])"
            ]
          },
          "execution_count": 132,
          "metadata": {},
          "output_type": "execute_result"
        }
      ],
      "source": [
        "a"
      ]
    },
    {
      "cell_type": "code",
      "execution_count": null,
      "id": "eadc3348-8763-47e9-9f53-1c43c1db0f4f",
      "metadata": {
        "id": "eadc3348-8763-47e9-9f53-1c43c1db0f4f",
        "outputId": "d3c1d7ba-4895-42ff-f16e-ca7c3b9c9cab"
      },
      "outputs": [
        {
          "data": {
            "text/plain": [
              "array([[5, 6],\n",
              "       [7, 8]])"
            ]
          },
          "execution_count": 133,
          "metadata": {},
          "output_type": "execute_result"
        }
      ],
      "source": [
        "b"
      ]
    },
    {
      "cell_type": "code",
      "execution_count": null,
      "id": "f2527ac3-3b9b-4b51-b900-f9ffeeac0f23",
      "metadata": {
        "id": "f2527ac3-3b9b-4b51-b900-f9ffeeac0f23",
        "outputId": "4e9baa26-0821-4258-cd17-05e8d1a10df7"
      },
      "outputs": [
        {
          "name": "stdout",
          "output_type": "stream",
          "text": [
            "2 2\n"
          ]
        }
      ],
      "source": [
        "print(a.ndim,b.ndim)"
      ]
    },
    {
      "cell_type": "code",
      "execution_count": null,
      "id": "770e503c-5f1a-4db2-a1c2-14be69299af4",
      "metadata": {
        "id": "770e503c-5f1a-4db2-a1c2-14be69299af4",
        "outputId": "22d3fec8-4ba7-40f3-b836-fe3c7c290067"
      },
      "outputs": [
        {
          "data": {
            "text/plain": [
              "array([[[1, 2],\n",
              "        [5, 6]],\n",
              "\n",
              "       [[3, 4],\n",
              "        [7, 8]]])"
            ]
          },
          "execution_count": 140,
          "metadata": {},
          "output_type": "execute_result"
        }
      ],
      "source": [
        "arr1 = np.stack((a,b) , axis=1)\n",
        "arr1"
      ]
    },
    {
      "cell_type": "code",
      "execution_count": null,
      "id": "57971997-4b1a-4804-b604-554c37644854",
      "metadata": {
        "id": "57971997-4b1a-4804-b604-554c37644854",
        "outputId": "8bf5d2b5-a03e-4db3-d4e9-04fe4e2425ec"
      },
      "outputs": [
        {
          "data": {
            "text/plain": [
              "(2, 2, 2)"
            ]
          },
          "execution_count": 142,
          "metadata": {},
          "output_type": "execute_result"
        }
      ],
      "source": [
        "arr1.shape"
      ]
    },
    {
      "cell_type": "code",
      "execution_count": null,
      "id": "33209196-807b-4a4c-9682-4b7b8cdadb67",
      "metadata": {
        "id": "33209196-807b-4a4c-9682-4b7b8cdadb67"
      },
      "outputs": [],
      "source": [
        "arr.hstack(a,b)  axis=0"
      ]
    },
    {
      "cell_type": "code",
      "execution_count": null,
      "id": "de32de3b-b661-486c-9dce-f7d1c48d1fee",
      "metadata": {
        "id": "de32de3b-b661-486c-9dce-f7d1c48d1fee"
      },
      "outputs": [],
      "source": []
    },
    {
      "cell_type": "code",
      "execution_count": null,
      "id": "5a378265-6ea8-464b-90b1-fbf29b1c86ae",
      "metadata": {
        "id": "5a378265-6ea8-464b-90b1-fbf29b1c86ae"
      },
      "outputs": [],
      "source": []
    },
    {
      "cell_type": "code",
      "execution_count": null,
      "id": "57caeb90-a125-4f06-bd43-bd61738ce5d8",
      "metadata": {
        "id": "57caeb90-a125-4f06-bd43-bd61738ce5d8"
      },
      "outputs": [],
      "source": []
    },
    {
      "cell_type": "code",
      "execution_count": null,
      "id": "f13f4ccd-1a94-455a-9a8a-c99de44aba6b",
      "metadata": {
        "id": "f13f4ccd-1a94-455a-9a8a-c99de44aba6b"
      },
      "outputs": [],
      "source": []
    },
    {
      "cell_type": "markdown",
      "id": "2733a920-c8a9-4994-b219-b60b94c14c34",
      "metadata": {
        "id": "2733a920-c8a9-4994-b219-b60b94c14c34"
      },
      "source": [
        "### 17. Splitting ARRAYS"
      ]
    },
    {
      "cell_type": "code",
      "execution_count": null,
      "id": "e41395be-ca66-422b-9021-3eadb60eb9f7",
      "metadata": {
        "id": "e41395be-ca66-422b-9021-3eadb60eb9f7"
      },
      "outputs": [],
      "source": [
        "### array_split"
      ]
    },
    {
      "cell_type": "code",
      "execution_count": null,
      "id": "7fa9cfba-a601-4712-8115-7f85c7a98ce3",
      "metadata": {
        "id": "7fa9cfba-a601-4712-8115-7f85c7a98ce3",
        "outputId": "6f43d93e-421a-492e-c506-bb213d29741a"
      },
      "outputs": [
        {
          "data": {
            "text/plain": [
              "array([1, 2, 3, 4, 5, 6])"
            ]
          },
          "execution_count": 144,
          "metadata": {},
          "output_type": "execute_result"
        }
      ],
      "source": [
        "arr = np.array([1,2,3,4,5,6])\n",
        "arr"
      ]
    },
    {
      "cell_type": "code",
      "execution_count": null,
      "id": "c6e86899-33ed-4f40-8a6e-0a65d52a1168",
      "metadata": {
        "id": "c6e86899-33ed-4f40-8a6e-0a65d52a1168"
      },
      "outputs": [],
      "source": [
        "new_arr = np.array_split(arr , 2)"
      ]
    },
    {
      "cell_type": "code",
      "execution_count": null,
      "id": "39394455-52b0-4d35-aeee-d3a6f35ccb5b",
      "metadata": {
        "id": "39394455-52b0-4d35-aeee-d3a6f35ccb5b",
        "outputId": "8fc9d458-e06b-418c-bc0c-2f040a1d4bb9"
      },
      "outputs": [
        {
          "data": {
            "text/plain": [
              "[array([1, 2, 3]), array([4, 5, 6])]"
            ]
          },
          "execution_count": 148,
          "metadata": {},
          "output_type": "execute_result"
        }
      ],
      "source": [
        "new_arr"
      ]
    },
    {
      "cell_type": "code",
      "execution_count": null,
      "id": "eab2f7b3-2e66-4d67-8a9a-76d44e69eb0d",
      "metadata": {
        "id": "eab2f7b3-2e66-4d67-8a9a-76d44e69eb0d",
        "outputId": "e6d376c3-ff00-4ba6-8ab7-eb1b80990169"
      },
      "outputs": [
        {
          "data": {
            "text/plain": [
              "array([1, 2, 3])"
            ]
          },
          "execution_count": 149,
          "metadata": {},
          "output_type": "execute_result"
        }
      ],
      "source": [
        "new_arr[0]"
      ]
    },
    {
      "cell_type": "code",
      "execution_count": null,
      "id": "796aeda3-6b5b-4981-b9fa-bbf1026bd562",
      "metadata": {
        "id": "796aeda3-6b5b-4981-b9fa-bbf1026bd562",
        "outputId": "a264bfb4-c84c-4316-db77-a365e3dff406"
      },
      "outputs": [
        {
          "data": {
            "text/plain": [
              "array([4, 5, 6])"
            ]
          },
          "execution_count": 150,
          "metadata": {},
          "output_type": "execute_result"
        }
      ],
      "source": [
        "new_arr[1]"
      ]
    },
    {
      "cell_type": "code",
      "execution_count": null,
      "id": "da531979-c278-46d4-b8d7-40dc48761569",
      "metadata": {
        "id": "da531979-c278-46d4-b8d7-40dc48761569"
      },
      "outputs": [],
      "source": [
        "arr = np.array([\n",
        "    [1,2],\n",
        "    [3,4],\n",
        "    [5,6],\n",
        "    [7,8],\n",
        "    [9,10],\n",
        "    [11,12]\n",
        "])"
      ]
    },
    {
      "cell_type": "code",
      "execution_count": null,
      "id": "0bce5af1-4bd7-43d2-bade-1f5b87dfdbe9",
      "metadata": {
        "id": "0bce5af1-4bd7-43d2-bade-1f5b87dfdbe9",
        "outputId": "dafb2796-5c89-4300-9004-07de0ac527d6"
      },
      "outputs": [
        {
          "data": {
            "text/plain": [
              "array([[ 1,  2],\n",
              "       [ 3,  4],\n",
              "       [ 5,  6],\n",
              "       [ 7,  8],\n",
              "       [ 9, 10],\n",
              "       [11, 12]])"
            ]
          },
          "execution_count": 152,
          "metadata": {},
          "output_type": "execute_result"
        }
      ],
      "source": [
        "arr"
      ]
    },
    {
      "cell_type": "code",
      "execution_count": null,
      "id": "d1fd343f-e5e8-4843-9085-4974ce423f63",
      "metadata": {
        "id": "d1fd343f-e5e8-4843-9085-4974ce423f63"
      },
      "outputs": [],
      "source": [
        "new_arr = np.array_split(arr , 3)"
      ]
    },
    {
      "cell_type": "code",
      "execution_count": null,
      "id": "235f03d3-7388-431c-afdc-5acb78659ec1",
      "metadata": {
        "id": "235f03d3-7388-431c-afdc-5acb78659ec1",
        "outputId": "10c688dd-16ea-45c7-e6a5-466d2e99a803"
      },
      "outputs": [
        {
          "data": {
            "text/plain": [
              "[array([[1, 2],\n",
              "        [3, 4]]),\n",
              " array([[5, 6],\n",
              "        [7, 8]]),\n",
              " array([[ 9, 10],\n",
              "        [11, 12]])]"
            ]
          },
          "execution_count": 154,
          "metadata": {},
          "output_type": "execute_result"
        }
      ],
      "source": [
        "new_arr"
      ]
    },
    {
      "cell_type": "code",
      "execution_count": null,
      "id": "9914d838-f60d-41e8-94fb-08fea7c7fa1b",
      "metadata": {
        "id": "9914d838-f60d-41e8-94fb-08fea7c7fa1b"
      },
      "outputs": [],
      "source": [
        "arr = np.array([\n",
        "    [1,2],\n",
        "    [3,4],\n",
        "    [5,6],\n",
        "    [7,8],\n",
        "    [9,10],\n",
        "    [11,12]\n",
        "])"
      ]
    },
    {
      "cell_type": "code",
      "execution_count": null,
      "id": "3273635f-2dcb-4db6-bf6e-6b375cf3b4ce",
      "metadata": {
        "id": "3273635f-2dcb-4db6-bf6e-6b375cf3b4ce",
        "outputId": "9c362e18-6f95-4abc-c7ce-6776f0842eb5"
      },
      "outputs": [
        {
          "data": {
            "text/plain": [
              "array([[ 1,  2],\n",
              "       [ 3,  4],\n",
              "       [ 5,  6],\n",
              "       [ 7,  8],\n",
              "       [ 9, 10],\n",
              "       [11, 12]])"
            ]
          },
          "execution_count": 157,
          "metadata": {},
          "output_type": "execute_result"
        }
      ],
      "source": [
        "arr"
      ]
    },
    {
      "cell_type": "code",
      "execution_count": null,
      "id": "8a1cc3ec-2824-4ed2-9e04-9386a4c90a76",
      "metadata": {
        "id": "8a1cc3ec-2824-4ed2-9e04-9386a4c90a76",
        "outputId": "1c890b93-11b4-46a4-e2f9-6db82e0698c8"
      },
      "outputs": [
        {
          "data": {
            "text/plain": [
              "[array([[ 1],\n",
              "        [ 3],\n",
              "        [ 5],\n",
              "        [ 7],\n",
              "        [ 9],\n",
              "        [11]]),\n",
              " array([[ 2],\n",
              "        [ 4],\n",
              "        [ 6],\n",
              "        [ 8],\n",
              "        [10],\n",
              "        [12]]),\n",
              " array([], shape=(6, 0), dtype=int32)]"
            ]
          },
          "execution_count": 159,
          "metadata": {},
          "output_type": "execute_result"
        }
      ],
      "source": [
        "new_arr = np.array_split(arr,3,axis=1)\n",
        "new_arr"
      ]
    },
    {
      "cell_type": "code",
      "execution_count": null,
      "id": "b8c100c5-68f0-4d4c-82fa-e659a3e1aefa",
      "metadata": {
        "id": "b8c100c5-68f0-4d4c-82fa-e659a3e1aefa"
      },
      "outputs": [],
      "source": []
    }
  ],
  "metadata": {
    "kernelspec": {
      "display_name": "Python 3 (ipykernel)",
      "language": "python",
      "name": "python3"
    },
    "language_info": {
      "codemirror_mode": {
        "name": "ipython",
        "version": 3
      },
      "file_extension": ".py",
      "mimetype": "text/x-python",
      "name": "python",
      "nbconvert_exporter": "python",
      "pygments_lexer": "ipython3",
      "version": "3.11.7"
    },
    "colab": {
      "provenance": [],
      "include_colab_link": true
    }
  },
  "nbformat": 4,
  "nbformat_minor": 5
}