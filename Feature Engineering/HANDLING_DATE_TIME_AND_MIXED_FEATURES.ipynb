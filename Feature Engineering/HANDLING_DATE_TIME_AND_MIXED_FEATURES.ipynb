{
  "cells": [
    {
      "cell_type": "markdown",
      "metadata": {
        "id": "view-in-github",
        "colab_type": "text"
      },
      "source": [
        "<a href=\"https://colab.research.google.com/github/GaurangRawat/Machine-Learning-Projects/blob/main/Feature%20Engineering/HANDLING_DATE_TIME_AND_MIXED_FEATURES.ipynb\" target=\"_parent\"><img src=\"https://colab.research.google.com/assets/colab-badge.svg\" alt=\"Open In Colab\"/></a>"
      ]
    },
    {
      "cell_type": "markdown",
      "id": "33f71563-f589-4993-86ac-f9c4d30aabeb",
      "metadata": {
        "id": "33f71563-f589-4993-86ac-f9c4d30aabeb"
      },
      "source": [
        "### HANDLING DATE FEATURES"
      ]
    },
    {
      "cell_type": "code",
      "execution_count": null,
      "id": "19ae1a01-3104-49b9-8583-1b588be33787",
      "metadata": {
        "id": "19ae1a01-3104-49b9-8583-1b588be33787"
      },
      "outputs": [],
      "source": [
        "import pandas as pd\n",
        "import numpy as np"
      ]
    },
    {
      "cell_type": "code",
      "execution_count": null,
      "id": "e1aca92b-d6ca-4bfa-b5b4-e99c22313bdd",
      "metadata": {
        "id": "e1aca92b-d6ca-4bfa-b5b4-e99c22313bdd"
      },
      "outputs": [],
      "source": [
        "np.random.seed(0)\n",
        "num_days = 100\n",
        "date_rng = pd.date_range(start='2023-01-01', end='2023-04-10', freq='D')\n",
        "df = pd.DataFrame(date_rng, columns=['date'])"
      ]
    },
    {
      "cell_type": "code",
      "execution_count": null,
      "id": "9496e166-1a4e-4173-94b4-54de6f243cd3",
      "metadata": {
        "id": "9496e166-1a4e-4173-94b4-54de6f243cd3",
        "outputId": "05fe6094-2b96-4014-991c-a3f84e3d6c26"
      },
      "outputs": [
        {
          "data": {
            "text/html": [
              "<div>\n",
              "<style scoped>\n",
              "    .dataframe tbody tr th:only-of-type {\n",
              "        vertical-align: middle;\n",
              "    }\n",
              "\n",
              "    .dataframe tbody tr th {\n",
              "        vertical-align: top;\n",
              "    }\n",
              "\n",
              "    .dataframe thead th {\n",
              "        text-align: right;\n",
              "    }\n",
              "</style>\n",
              "<table border=\"1\" class=\"dataframe\">\n",
              "  <thead>\n",
              "    <tr style=\"text-align: right;\">\n",
              "      <th></th>\n",
              "      <th>date</th>\n",
              "    </tr>\n",
              "  </thead>\n",
              "  <tbody>\n",
              "    <tr>\n",
              "      <th>0</th>\n",
              "      <td>2023-01-01</td>\n",
              "    </tr>\n",
              "    <tr>\n",
              "      <th>1</th>\n",
              "      <td>2023-01-02</td>\n",
              "    </tr>\n",
              "    <tr>\n",
              "      <th>2</th>\n",
              "      <td>2023-01-03</td>\n",
              "    </tr>\n",
              "    <tr>\n",
              "      <th>3</th>\n",
              "      <td>2023-01-04</td>\n",
              "    </tr>\n",
              "    <tr>\n",
              "      <th>4</th>\n",
              "      <td>2023-01-05</td>\n",
              "    </tr>\n",
              "  </tbody>\n",
              "</table>\n",
              "</div>"
            ],
            "text/plain": [
              "        date\n",
              "0 2023-01-01\n",
              "1 2023-01-02\n",
              "2 2023-01-03\n",
              "3 2023-01-04\n",
              "4 2023-01-05"
            ]
          },
          "execution_count": 3,
          "metadata": {},
          "output_type": "execute_result"
        }
      ],
      "source": [
        "df.head()"
      ]
    },
    {
      "cell_type": "code",
      "execution_count": null,
      "id": "dc9ca484-8c14-4f9c-9604-f6dd079aa620",
      "metadata": {
        "id": "dc9ca484-8c14-4f9c-9604-f6dd079aa620"
      },
      "outputs": [],
      "source": [
        "import datetime\n",
        "\n",
        "df['year'] = df['date'].dt.year\n",
        "df['month'] = df['date'].dt.month\n",
        "df['day'] = df['date'].dt.day\n",
        "\n",
        "# Generate extra feature\n",
        "df['day_of_week'] = df['date'].dt.dayofweek  # Monday=0, Sunday=6"
      ]
    },
    {
      "cell_type": "code",
      "execution_count": null,
      "id": "7f71a379-5929-4f1d-9cfc-058be15e72a5",
      "metadata": {
        "id": "7f71a379-5929-4f1d-9cfc-058be15e72a5",
        "outputId": "cc9ad00d-4e2c-49ec-eb4f-a995e252695b"
      },
      "outputs": [
        {
          "data": {
            "text/html": [
              "<div>\n",
              "<style scoped>\n",
              "    .dataframe tbody tr th:only-of-type {\n",
              "        vertical-align: middle;\n",
              "    }\n",
              "\n",
              "    .dataframe tbody tr th {\n",
              "        vertical-align: top;\n",
              "    }\n",
              "\n",
              "    .dataframe thead th {\n",
              "        text-align: right;\n",
              "    }\n",
              "</style>\n",
              "<table border=\"1\" class=\"dataframe\">\n",
              "  <thead>\n",
              "    <tr style=\"text-align: right;\">\n",
              "      <th></th>\n",
              "      <th>date</th>\n",
              "      <th>year</th>\n",
              "      <th>month</th>\n",
              "      <th>day</th>\n",
              "      <th>day_of_week</th>\n",
              "    </tr>\n",
              "  </thead>\n",
              "  <tbody>\n",
              "    <tr>\n",
              "      <th>0</th>\n",
              "      <td>2023-01-01</td>\n",
              "      <td>2023</td>\n",
              "      <td>1</td>\n",
              "      <td>1</td>\n",
              "      <td>6</td>\n",
              "    </tr>\n",
              "    <tr>\n",
              "      <th>1</th>\n",
              "      <td>2023-01-02</td>\n",
              "      <td>2023</td>\n",
              "      <td>1</td>\n",
              "      <td>2</td>\n",
              "      <td>0</td>\n",
              "    </tr>\n",
              "    <tr>\n",
              "      <th>2</th>\n",
              "      <td>2023-01-03</td>\n",
              "      <td>2023</td>\n",
              "      <td>1</td>\n",
              "      <td>3</td>\n",
              "      <td>1</td>\n",
              "    </tr>\n",
              "    <tr>\n",
              "      <th>3</th>\n",
              "      <td>2023-01-04</td>\n",
              "      <td>2023</td>\n",
              "      <td>1</td>\n",
              "      <td>4</td>\n",
              "      <td>2</td>\n",
              "    </tr>\n",
              "    <tr>\n",
              "      <th>4</th>\n",
              "      <td>2023-01-05</td>\n",
              "      <td>2023</td>\n",
              "      <td>1</td>\n",
              "      <td>5</td>\n",
              "      <td>3</td>\n",
              "    </tr>\n",
              "  </tbody>\n",
              "</table>\n",
              "</div>"
            ],
            "text/plain": [
              "        date  year  month  day  day_of_week\n",
              "0 2023-01-01  2023      1    1            6\n",
              "1 2023-01-02  2023      1    2            0\n",
              "2 2023-01-03  2023      1    3            1\n",
              "3 2023-01-04  2023      1    4            2\n",
              "4 2023-01-05  2023      1    5            3"
            ]
          },
          "execution_count": 5,
          "metadata": {},
          "output_type": "execute_result"
        }
      ],
      "source": [
        "df.head()"
      ]
    },
    {
      "cell_type": "markdown",
      "id": "4201e37e-baf1-472d-a34a-f8d27a9c559f",
      "metadata": {
        "id": "4201e37e-baf1-472d-a34a-f8d27a9c559f"
      },
      "source": [
        "### HANDLING TIME SERIES DATA"
      ]
    },
    {
      "cell_type": "code",
      "execution_count": null,
      "id": "8c8157d6-8874-4ed0-9f35-a92c76c79e58",
      "metadata": {
        "id": "8c8157d6-8874-4ed0-9f35-a92c76c79e58",
        "outputId": "a65c0a7a-d613-4d26-d471-272c2c848b9a"
      },
      "outputs": [
        {
          "data": {
            "text/html": [
              "<div>\n",
              "<style scoped>\n",
              "    .dataframe tbody tr th:only-of-type {\n",
              "        vertical-align: middle;\n",
              "    }\n",
              "\n",
              "    .dataframe tbody tr th {\n",
              "        vertical-align: top;\n",
              "    }\n",
              "\n",
              "    .dataframe thead th {\n",
              "        text-align: right;\n",
              "    }\n",
              "</style>\n",
              "<table border=\"1\" class=\"dataframe\">\n",
              "  <thead>\n",
              "    <tr style=\"text-align: right;\">\n",
              "      <th></th>\n",
              "      <th>timestamp</th>\n",
              "    </tr>\n",
              "  </thead>\n",
              "  <tbody>\n",
              "    <tr>\n",
              "      <th>0</th>\n",
              "      <td>2023-01-01 00:00:00</td>\n",
              "    </tr>\n",
              "    <tr>\n",
              "      <th>1</th>\n",
              "      <td>2023-01-01 01:00:00</td>\n",
              "    </tr>\n",
              "    <tr>\n",
              "      <th>2</th>\n",
              "      <td>2023-01-01 02:00:00</td>\n",
              "    </tr>\n",
              "    <tr>\n",
              "      <th>3</th>\n",
              "      <td>2023-01-01 03:00:00</td>\n",
              "    </tr>\n",
              "    <tr>\n",
              "      <th>4</th>\n",
              "      <td>2023-01-01 04:00:00</td>\n",
              "    </tr>\n",
              "  </tbody>\n",
              "</table>\n",
              "</div>"
            ],
            "text/plain": [
              "            timestamp\n",
              "0 2023-01-01 00:00:00\n",
              "1 2023-01-01 01:00:00\n",
              "2 2023-01-01 02:00:00\n",
              "3 2023-01-01 03:00:00\n",
              "4 2023-01-01 04:00:00"
            ]
          },
          "execution_count": 6,
          "metadata": {},
          "output_type": "execute_result"
        }
      ],
      "source": [
        "num_periods = 100\n",
        "date_rng = pd.date_range(start='2023-01-01', periods=num_periods, freq='H')\n",
        "df = pd.DataFrame(date_rng, columns=['timestamp'])\n",
        "df.head()\n"
      ]
    },
    {
      "cell_type": "code",
      "execution_count": null,
      "id": "d8f5ef5f-94db-4af1-805f-3838bcb32d72",
      "metadata": {
        "id": "d8f5ef5f-94db-4af1-805f-3838bcb32d72"
      },
      "outputs": [],
      "source": [
        "# Step 2: Extract features from the time series\n",
        "df['year'] = df['timestamp'].dt.year\n",
        "df['month'] = df['timestamp'].dt.month\n",
        "df['day'] = df['timestamp'].dt.day\n",
        "\n",
        "df['hour'] = df['timestamp'].dt.hour\n",
        "df['minute'] = df['timestamp'].dt.minute\n",
        "df['second'] = df['timestamp'].dt.second\n"
      ]
    },
    {
      "cell_type": "code",
      "execution_count": null,
      "id": "0518db50-3b26-481a-8548-87ed03c35d58",
      "metadata": {
        "id": "0518db50-3b26-481a-8548-87ed03c35d58",
        "outputId": "054f8b83-eac8-4291-b06f-df59a82f5572"
      },
      "outputs": [
        {
          "data": {
            "text/html": [
              "<div>\n",
              "<style scoped>\n",
              "    .dataframe tbody tr th:only-of-type {\n",
              "        vertical-align: middle;\n",
              "    }\n",
              "\n",
              "    .dataframe tbody tr th {\n",
              "        vertical-align: top;\n",
              "    }\n",
              "\n",
              "    .dataframe thead th {\n",
              "        text-align: right;\n",
              "    }\n",
              "</style>\n",
              "<table border=\"1\" class=\"dataframe\">\n",
              "  <thead>\n",
              "    <tr style=\"text-align: right;\">\n",
              "      <th></th>\n",
              "      <th>timestamp</th>\n",
              "      <th>year</th>\n",
              "      <th>month</th>\n",
              "      <th>day</th>\n",
              "      <th>hour</th>\n",
              "      <th>minute</th>\n",
              "      <th>second</th>\n",
              "    </tr>\n",
              "  </thead>\n",
              "  <tbody>\n",
              "    <tr>\n",
              "      <th>0</th>\n",
              "      <td>2023-01-01 00:00:00</td>\n",
              "      <td>2023</td>\n",
              "      <td>1</td>\n",
              "      <td>1</td>\n",
              "      <td>0</td>\n",
              "      <td>0</td>\n",
              "      <td>0</td>\n",
              "    </tr>\n",
              "    <tr>\n",
              "      <th>1</th>\n",
              "      <td>2023-01-01 01:00:00</td>\n",
              "      <td>2023</td>\n",
              "      <td>1</td>\n",
              "      <td>1</td>\n",
              "      <td>1</td>\n",
              "      <td>0</td>\n",
              "      <td>0</td>\n",
              "    </tr>\n",
              "    <tr>\n",
              "      <th>2</th>\n",
              "      <td>2023-01-01 02:00:00</td>\n",
              "      <td>2023</td>\n",
              "      <td>1</td>\n",
              "      <td>1</td>\n",
              "      <td>2</td>\n",
              "      <td>0</td>\n",
              "      <td>0</td>\n",
              "    </tr>\n",
              "    <tr>\n",
              "      <th>3</th>\n",
              "      <td>2023-01-01 03:00:00</td>\n",
              "      <td>2023</td>\n",
              "      <td>1</td>\n",
              "      <td>1</td>\n",
              "      <td>3</td>\n",
              "      <td>0</td>\n",
              "      <td>0</td>\n",
              "    </tr>\n",
              "    <tr>\n",
              "      <th>4</th>\n",
              "      <td>2023-01-01 04:00:00</td>\n",
              "      <td>2023</td>\n",
              "      <td>1</td>\n",
              "      <td>1</td>\n",
              "      <td>4</td>\n",
              "      <td>0</td>\n",
              "      <td>0</td>\n",
              "    </tr>\n",
              "  </tbody>\n",
              "</table>\n",
              "</div>"
            ],
            "text/plain": [
              "            timestamp  year  month  day  hour  minute  second\n",
              "0 2023-01-01 00:00:00  2023      1    1     0       0       0\n",
              "1 2023-01-01 01:00:00  2023      1    1     1       0       0\n",
              "2 2023-01-01 02:00:00  2023      1    1     2       0       0\n",
              "3 2023-01-01 03:00:00  2023      1    1     3       0       0\n",
              "4 2023-01-01 04:00:00  2023      1    1     4       0       0"
            ]
          },
          "execution_count": 8,
          "metadata": {},
          "output_type": "execute_result"
        }
      ],
      "source": [
        "df.head()"
      ]
    },
    {
      "cell_type": "markdown",
      "id": "dc8e08e7-6821-455f-aa41-a48c91f12821",
      "metadata": {
        "id": "dc8e08e7-6821-455f-aa41-a48c91f12821"
      },
      "source": [
        "### HANDLING MIXED FEATURES"
      ]
    },
    {
      "cell_type": "code",
      "execution_count": null,
      "id": "47f1d39b-fed5-4e15-919c-3041044dfd28",
      "metadata": {
        "id": "47f1d39b-fed5-4e15-919c-3041044dfd28",
        "outputId": "72ddbcab-26d1-4aec-8df1-5f22da591112"
      },
      "outputs": [
        {
          "data": {
            "text/html": [
              "<div>\n",
              "<style scoped>\n",
              "    .dataframe tbody tr th:only-of-type {\n",
              "        vertical-align: middle;\n",
              "    }\n",
              "\n",
              "    .dataframe tbody tr th {\n",
              "        vertical-align: top;\n",
              "    }\n",
              "\n",
              "    .dataframe thead th {\n",
              "        text-align: right;\n",
              "    }\n",
              "</style>\n",
              "<table border=\"1\" class=\"dataframe\">\n",
              "  <thead>\n",
              "    <tr style=\"text-align: right;\">\n",
              "      <th></th>\n",
              "      <th>Mixed_Feature</th>\n",
              "    </tr>\n",
              "  </thead>\n",
              "  <tbody>\n",
              "    <tr>\n",
              "      <th>0</th>\n",
              "      <td>B123</td>\n",
              "    </tr>\n",
              "    <tr>\n",
              "      <th>1</th>\n",
              "      <td>C124</td>\n",
              "    </tr>\n",
              "    <tr>\n",
              "      <th>2</th>\n",
              "      <td>A120</td>\n",
              "    </tr>\n",
              "    <tr>\n",
              "      <th>3</th>\n",
              "      <td>B125</td>\n",
              "    </tr>\n",
              "    <tr>\n",
              "      <th>4</th>\n",
              "      <td>C126</td>\n",
              "    </tr>\n",
              "  </tbody>\n",
              "</table>\n",
              "</div>"
            ],
            "text/plain": [
              "  Mixed_Feature\n",
              "0          B123\n",
              "1          C124\n",
              "2          A120\n",
              "3          B125\n",
              "4          C126"
            ]
          },
          "execution_count": 9,
          "metadata": {},
          "output_type": "execute_result"
        }
      ],
      "source": [
        "data = {\n",
        "    'Mixed_Feature': ['B123', 'C124', 'A120', 'B125', 'C126'],\n",
        "}\n",
        "df = pd.DataFrame(data)\n",
        "df.head()"
      ]
    },
    {
      "cell_type": "code",
      "execution_count": null,
      "id": "200bb589-d2f6-4c23-aafb-88fff6a97864",
      "metadata": {
        "id": "200bb589-d2f6-4c23-aafb-88fff6a97864",
        "outputId": "94eec4fd-2e24-46b6-9498-0233a4e277dc"
      },
      "outputs": [
        {
          "data": {
            "text/plain": [
              "dtype('O')"
            ]
          },
          "execution_count": 10,
          "metadata": {},
          "output_type": "execute_result"
        }
      ],
      "source": [
        "df[\"Mixed_Feature\"].dtype"
      ]
    },
    {
      "cell_type": "code",
      "execution_count": null,
      "id": "4e65ca72-89a2-480c-92e3-96464f59a124",
      "metadata": {
        "id": "4e65ca72-89a2-480c-92e3-96464f59a124"
      },
      "outputs": [],
      "source": [
        "df['Category'] = df['Mixed_Feature'].str[0]\n",
        "df['Numerical'] = df['Mixed_Feature'].str[1:].astype(int)"
      ]
    },
    {
      "cell_type": "code",
      "execution_count": null,
      "id": "230e83d6-570f-45aa-9a9f-665d957b2b13",
      "metadata": {
        "id": "230e83d6-570f-45aa-9a9f-665d957b2b13",
        "outputId": "6f995262-b2b6-4a8a-d8f5-c00d45404213"
      },
      "outputs": [
        {
          "data": {
            "text/html": [
              "<div>\n",
              "<style scoped>\n",
              "    .dataframe tbody tr th:only-of-type {\n",
              "        vertical-align: middle;\n",
              "    }\n",
              "\n",
              "    .dataframe tbody tr th {\n",
              "        vertical-align: top;\n",
              "    }\n",
              "\n",
              "    .dataframe thead th {\n",
              "        text-align: right;\n",
              "    }\n",
              "</style>\n",
              "<table border=\"1\" class=\"dataframe\">\n",
              "  <thead>\n",
              "    <tr style=\"text-align: right;\">\n",
              "      <th></th>\n",
              "      <th>Mixed_Feature</th>\n",
              "      <th>Category</th>\n",
              "      <th>Numerical</th>\n",
              "    </tr>\n",
              "  </thead>\n",
              "  <tbody>\n",
              "    <tr>\n",
              "      <th>0</th>\n",
              "      <td>B123</td>\n",
              "      <td>B</td>\n",
              "      <td>123</td>\n",
              "    </tr>\n",
              "    <tr>\n",
              "      <th>1</th>\n",
              "      <td>C124</td>\n",
              "      <td>C</td>\n",
              "      <td>124</td>\n",
              "    </tr>\n",
              "    <tr>\n",
              "      <th>2</th>\n",
              "      <td>A120</td>\n",
              "      <td>A</td>\n",
              "      <td>120</td>\n",
              "    </tr>\n",
              "    <tr>\n",
              "      <th>3</th>\n",
              "      <td>B125</td>\n",
              "      <td>B</td>\n",
              "      <td>125</td>\n",
              "    </tr>\n",
              "    <tr>\n",
              "      <th>4</th>\n",
              "      <td>C126</td>\n",
              "      <td>C</td>\n",
              "      <td>126</td>\n",
              "    </tr>\n",
              "  </tbody>\n",
              "</table>\n",
              "</div>"
            ],
            "text/plain": [
              "  Mixed_Feature Category  Numerical\n",
              "0          B123        B        123\n",
              "1          C124        C        124\n",
              "2          A120        A        120\n",
              "3          B125        B        125\n",
              "4          C126        C        126"
            ]
          },
          "execution_count": 12,
          "metadata": {},
          "output_type": "execute_result"
        }
      ],
      "source": [
        "df.head()"
      ]
    },
    {
      "cell_type": "code",
      "execution_count": null,
      "id": "ab56ca5a-933e-4316-a31d-dd24ab11ee57",
      "metadata": {
        "id": "ab56ca5a-933e-4316-a31d-dd24ab11ee57",
        "outputId": "b4b190e9-0aba-4c25-be8c-d833bdfeb08d"
      },
      "outputs": [
        {
          "data": {
            "text/plain": [
              "dtype('int32')"
            ]
          },
          "execution_count": 13,
          "metadata": {},
          "output_type": "execute_result"
        }
      ],
      "source": [
        "df[\"Numerical\"].dtype"
      ]
    },
    {
      "cell_type": "code",
      "execution_count": null,
      "id": "63e872db-d76c-47f9-9b46-e1301f9dde43",
      "metadata": {
        "id": "63e872db-d76c-47f9-9b46-e1301f9dde43"
      },
      "outputs": [],
      "source": []
    }
  ],
  "metadata": {
    "kernelspec": {
      "display_name": "Python 3 (ipykernel)",
      "language": "python",
      "name": "python3"
    },
    "language_info": {
      "codemirror_mode": {
        "name": "ipython",
        "version": 3
      },
      "file_extension": ".py",
      "mimetype": "text/x-python",
      "name": "python",
      "nbconvert_exporter": "python",
      "pygments_lexer": "ipython3",
      "version": "3.11.7"
    },
    "colab": {
      "provenance": [],
      "include_colab_link": true
    }
  },
  "nbformat": 4,
  "nbformat_minor": 5
}