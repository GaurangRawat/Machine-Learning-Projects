{
  "cells": [
    {
      "cell_type": "markdown",
      "metadata": {
        "id": "view-in-github",
        "colab_type": "text"
      },
      "source": [
        "<a href=\"https://colab.research.google.com/github/GaurangRawat/Machine-Learning-Projects/blob/main/Python/PYTHON_1.ipynb\" target=\"_parent\"><img src=\"https://colab.research.google.com/assets/colab-badge.svg\" alt=\"Open In Colab\"/></a>"
      ]
    },
    {
      "cell_type": "markdown",
      "id": "569cfd00-354d-45e5-a233-eb2b1e379aa5",
      "metadata": {
        "id": "569cfd00-354d-45e5-a233-eb2b1e379aa5"
      },
      "source": [
        "### 1. Printing in Python"
      ]
    },
    {
      "cell_type": "code",
      "execution_count": null,
      "id": "081937cc-16ff-4e24-a8ab-c26dff154548",
      "metadata": {
        "id": "081937cc-16ff-4e24-a8ab-c26dff154548",
        "outputId": "2f318a86-06e3-421b-ea76-3c2749f4a2dd",
        "colab": {
          "base_uri": "https://localhost:8080/"
        }
      },
      "outputs": [
        {
          "output_type": "stream",
          "name": "stdout",
          "text": [
            "Hello World\n"
          ]
        }
      ],
      "source": [
        "print(\"Hello World\")"
      ]
    },
    {
      "cell_type": "markdown",
      "id": "34a3bfc2-b077-4b25-8396-c555eb000103",
      "metadata": {
        "id": "34a3bfc2-b077-4b25-8396-c555eb000103"
      },
      "source": [
        "### 2. Comments in Python"
      ]
    },
    {
      "cell_type": "code",
      "execution_count": null,
      "id": "a7d82054-7603-41d1-b9a2-15379b5666b8",
      "metadata": {
        "id": "a7d82054-7603-41d1-b9a2-15379b5666b8"
      },
      "outputs": [],
      "source": [
        "### Single Line"
      ]
    },
    {
      "cell_type": "code",
      "execution_count": null,
      "id": "3d89bf54-43b4-41ab-b7f4-d9aef66de24d",
      "metadata": {
        "id": "3d89bf54-43b4-41ab-b7f4-d9aef66de24d",
        "outputId": "2d754b6e-e8a5-4591-e8e2-faca57c0c9f9",
        "colab": {
          "base_uri": "https://localhost:8080/"
        }
      },
      "outputs": [
        {
          "output_type": "stream",
          "name": "stdout",
          "text": [
            "Hello world\n"
          ]
        }
      ],
      "source": [
        "print(\"Hello world\") #It prints hello world"
      ]
    },
    {
      "cell_type": "code",
      "execution_count": null,
      "id": "ea07785e-b40f-4bd0-81ea-39b51aefca00",
      "metadata": {
        "id": "ea07785e-b40f-4bd0-81ea-39b51aefca00"
      },
      "outputs": [],
      "source": [
        "### Multiline comments- No"
      ]
    },
    {
      "cell_type": "code",
      "execution_count": null,
      "id": "da278bda-de15-427c-99d1-c7821b926a32",
      "metadata": {
        "id": "da278bda-de15-427c-99d1-c7821b926a32"
      },
      "outputs": [],
      "source": [
        "# This is a comment\n",
        "# This is a comment"
      ]
    },
    {
      "cell_type": "code",
      "execution_count": null,
      "id": "52981771-b6a5-4602-9772-f7184e5a5eca",
      "metadata": {
        "id": "52981771-b6a5-4602-9772-f7184e5a5eca"
      },
      "outputs": [],
      "source": [
        "### Docstrings"
      ]
    },
    {
      "cell_type": "code",
      "execution_count": null,
      "id": "a6cd69c0-7fae-4f25-a737-4bb817a7fb3c",
      "metadata": {
        "id": "a6cd69c0-7fae-4f25-a737-4bb817a7fb3c",
        "outputId": "66114a90-4c3e-492f-b001-28ee9ad1049e",
        "colab": {
          "base_uri": "https://localhost:8080/",
          "height": 36
        }
      },
      "outputs": [
        {
          "output_type": "execute_result",
          "data": {
            "text/plain": [
              "'\\nThis is a docstring\\nThis is a docstring\\n'"
            ],
            "application/vnd.google.colaboratory.intrinsic+json": {
              "type": "string"
            }
          },
          "metadata": {},
          "execution_count": 926
        }
      ],
      "source": [
        "\"\"\"\n",
        "This is a docstring\n",
        "This is a docstring\n",
        "\"\"\""
      ]
    },
    {
      "cell_type": "markdown",
      "id": "5b6b6997-d38c-47fc-8e40-2d87d92e2355",
      "metadata": {
        "id": "5b6b6997-d38c-47fc-8e40-2d87d92e2355"
      },
      "source": [
        "### 3. Variables in Python"
      ]
    },
    {
      "cell_type": "code",
      "execution_count": null,
      "id": "4ea980c3-2c61-47df-9b4a-92700d7977a5",
      "metadata": {
        "id": "4ea980c3-2c61-47df-9b4a-92700d7977a5"
      },
      "outputs": [],
      "source": [
        "## Containers for storing value"
      ]
    },
    {
      "cell_type": "code",
      "execution_count": null,
      "id": "4aa87f3a-dda4-467f-98be-f114f02183c9",
      "metadata": {
        "id": "4aa87f3a-dda4-467f-98be-f114f02183c9"
      },
      "outputs": [],
      "source": [
        "## Case sensitive : abc , ABC"
      ]
    },
    {
      "cell_type": "code",
      "execution_count": null,
      "id": "bf299ecb-ada7-4ab9-af5d-7bce328afa5f",
      "metadata": {
        "id": "bf299ecb-ada7-4ab9-af5d-7bce328afa5f"
      },
      "outputs": [],
      "source": [
        "var_name = 'value'"
      ]
    },
    {
      "cell_type": "code",
      "execution_count": null,
      "id": "cb16a0ae-f9cc-45df-aaf7-ce7237099923",
      "metadata": {
        "id": "cb16a0ae-f9cc-45df-aaf7-ce7237099923"
      },
      "outputs": [],
      "source": [
        "abc = 5"
      ]
    },
    {
      "cell_type": "code",
      "execution_count": null,
      "id": "45024cf2-5470-478e-a357-03753a304c9a",
      "metadata": {
        "id": "45024cf2-5470-478e-a357-03753a304c9a",
        "outputId": "e2ef4564-ef9a-4293-fa5d-e4f077fc2f96",
        "colab": {
          "base_uri": "https://localhost:8080/"
        }
      },
      "outputs": [
        {
          "output_type": "stream",
          "name": "stdout",
          "text": [
            "5\n"
          ]
        }
      ],
      "source": [
        "print(abc)"
      ]
    },
    {
      "cell_type": "code",
      "execution_count": null,
      "id": "914d4629-790e-4065-9d6f-aa622f93969e",
      "metadata": {
        "id": "914d4629-790e-4065-9d6f-aa622f93969e"
      },
      "outputs": [],
      "source": [
        "a=5\n",
        "b=10\n",
        "c=12"
      ]
    },
    {
      "cell_type": "code",
      "execution_count": null,
      "id": "faf708b9-9476-4c15-999b-f2536cccb207",
      "metadata": {
        "id": "faf708b9-9476-4c15-999b-f2536cccb207",
        "outputId": "ec9d03e6-64d5-41f1-d4e7-8edcf4e794b0",
        "colab": {
          "base_uri": "https://localhost:8080/"
        }
      },
      "outputs": [
        {
          "output_type": "stream",
          "name": "stdout",
          "text": [
            "12\n"
          ]
        }
      ],
      "source": [
        "a,b,c = 5,10,12\n",
        "print(c)"
      ]
    },
    {
      "cell_type": "code",
      "execution_count": null,
      "id": "23c44925-76d4-4c4e-a8e6-d76ddb193bbd",
      "metadata": {
        "id": "23c44925-76d4-4c4e-a8e6-d76ddb193bbd",
        "outputId": "05e408cb-aea8-4dce-e007-ca754c54da8d",
        "colab": {
          "base_uri": "https://localhost:8080/"
        }
      },
      "outputs": [
        {
          "output_type": "stream",
          "name": "stdout",
          "text": [
            "5 10 12\n"
          ]
        }
      ],
      "source": [
        "print(a,b,c)"
      ]
    },
    {
      "cell_type": "code",
      "execution_count": null,
      "id": "8b6cbde0-2be4-496d-9c29-1c26dd5f1777",
      "metadata": {
        "id": "8b6cbde0-2be4-496d-9c29-1c26dd5f1777",
        "outputId": "f29229d6-3523-4c38-ce96-9695cd5d5df0",
        "colab": {
          "base_uri": "https://localhost:8080/"
        }
      },
      "outputs": [
        {
          "output_type": "stream",
          "name": "stdout",
          "text": [
            "5\n"
          ]
        }
      ],
      "source": [
        "a = b = c = 5\n",
        "print(c)"
      ]
    },
    {
      "cell_type": "markdown",
      "id": "17864ff9-6ff4-49b1-b82f-260f8e7792f3",
      "metadata": {
        "id": "17864ff9-6ff4-49b1-b82f-260f8e7792f3"
      },
      "source": [
        "### Global variables"
      ]
    },
    {
      "cell_type": "code",
      "execution_count": null,
      "id": "08e5e757-3301-490e-bac9-00d3af8eff02",
      "metadata": {
        "id": "08e5e757-3301-490e-bac9-00d3af8eff02"
      },
      "outputs": [],
      "source": [
        "x = \"We are learning Java\"\n",
        "\n",
        "def print_name():\n",
        "    global x\n",
        "    x = \"We are learning Python\"\n",
        "    print(x)"
      ]
    },
    {
      "cell_type": "code",
      "execution_count": null,
      "id": "0db765e8-dae6-45b2-a7a5-6be3e862106c",
      "metadata": {
        "id": "0db765e8-dae6-45b2-a7a5-6be3e862106c",
        "outputId": "94a017dc-39e5-4c93-fa6b-f9dc5b60fc82",
        "colab": {
          "base_uri": "https://localhost:8080/"
        }
      },
      "outputs": [
        {
          "output_type": "stream",
          "name": "stdout",
          "text": [
            "We are learning Python\n"
          ]
        }
      ],
      "source": [
        "print_name()"
      ]
    },
    {
      "cell_type": "code",
      "execution_count": null,
      "id": "49d68ae4-94d9-4ae9-a0fe-a4cf84545608",
      "metadata": {
        "id": "49d68ae4-94d9-4ae9-a0fe-a4cf84545608",
        "outputId": "1de47c9d-6dca-4efd-d329-d6acc3b67ca7",
        "colab": {
          "base_uri": "https://localhost:8080/"
        }
      },
      "outputs": [
        {
          "output_type": "stream",
          "name": "stdout",
          "text": [
            "We are learning Python\n"
          ]
        }
      ],
      "source": [
        "print(x)"
      ]
    },
    {
      "cell_type": "markdown",
      "id": "ba94dfd4-8286-4b40-94d9-2157d2862041",
      "metadata": {
        "id": "ba94dfd4-8286-4b40-94d9-2157d2862041"
      },
      "source": [
        "### 4. Built-In Data Types in Python"
      ]
    },
    {
      "cell_type": "code",
      "execution_count": null,
      "id": "622ee396-a27a-471b-ad6a-29be1dec3768",
      "metadata": {
        "id": "622ee396-a27a-471b-ad6a-29be1dec3768"
      },
      "outputs": [],
      "source": [
        "## type function"
      ]
    },
    {
      "cell_type": "code",
      "execution_count": null,
      "id": "8ffa827a-459b-4371-aa57-7cf5cd3034a7",
      "metadata": {
        "id": "8ffa827a-459b-4371-aa57-7cf5cd3034a7",
        "outputId": "f8d23746-bbc6-46eb-986a-d21115be3fc8",
        "colab": {
          "base_uri": "https://localhost:8080/"
        }
      },
      "outputs": [
        {
          "output_type": "execute_result",
          "data": {
            "text/plain": [
              "str"
            ]
          },
          "metadata": {},
          "execution_count": 940
        }
      ],
      "source": [
        "x = \"We are learning\"\n",
        "type(x)"
      ]
    },
    {
      "cell_type": "markdown",
      "id": "8b0a9b1b-6935-4459-b71c-5846bc87b7ca",
      "metadata": {
        "id": "8b0a9b1b-6935-4459-b71c-5846bc87b7ca"
      },
      "source": [
        "### 5. Numerical Data Types"
      ]
    },
    {
      "cell_type": "code",
      "execution_count": null,
      "id": "ed06d7b7-d65c-437b-a55f-1df8f7f26795",
      "metadata": {
        "id": "ed06d7b7-d65c-437b-a55f-1df8f7f26795"
      },
      "outputs": [],
      "source": [
        "### int , float , complex"
      ]
    },
    {
      "cell_type": "code",
      "execution_count": null,
      "id": "5aed15cf-a2f7-4896-b5ac-b4ef41a03dec",
      "metadata": {
        "id": "5aed15cf-a2f7-4896-b5ac-b4ef41a03dec",
        "outputId": "bd0fd506-0a44-48e5-cd59-00ae80834e03",
        "colab": {
          "base_uri": "https://localhost:8080/"
        }
      },
      "outputs": [
        {
          "output_type": "stream",
          "name": "stdout",
          "text": [
            "1j\n"
          ]
        },
        {
          "output_type": "execute_result",
          "data": {
            "text/plain": [
              "complex"
            ]
          },
          "metadata": {},
          "execution_count": 942
        }
      ],
      "source": [
        "x = 1j\n",
        "print(x)\n",
        "type(x)"
      ]
    },
    {
      "cell_type": "code",
      "execution_count": null,
      "id": "b1dbe72d-aa77-4414-bc3d-1dfbdfaef36e",
      "metadata": {
        "id": "b1dbe72d-aa77-4414-bc3d-1dfbdfaef36e",
        "outputId": "0ffe9cf9-71dd-4f76-d9a8-bfd1e5007e2b",
        "colab": {
          "base_uri": "https://localhost:8080/"
        }
      },
      "outputs": [
        {
          "output_type": "stream",
          "name": "stdout",
          "text": [
            "None\n"
          ]
        },
        {
          "output_type": "execute_result",
          "data": {
            "text/plain": [
              "NoneType"
            ]
          },
          "metadata": {},
          "execution_count": 943
        }
      ],
      "source": [
        "### None\n",
        "\n",
        "x = None\n",
        "print(x)\n",
        "type(x)"
      ]
    },
    {
      "cell_type": "markdown",
      "id": "3412a30a-5fa7-4080-a8c9-da4a3a68c2ce",
      "metadata": {
        "id": "3412a30a-5fa7-4080-a8c9-da4a3a68c2ce"
      },
      "source": [
        "### 6. Python Strings"
      ]
    },
    {
      "cell_type": "code",
      "execution_count": null,
      "id": "05002ea6-db3e-4906-9cab-3023ec9ef509",
      "metadata": {
        "id": "05002ea6-db3e-4906-9cab-3023ec9ef509",
        "colab": {
          "base_uri": "https://localhost:8080/"
        },
        "outputId": "8f4e908b-a33e-4306-9817-08aefc0ae92c"
      },
      "outputs": [
        {
          "output_type": "execute_result",
          "data": {
            "text/plain": [
              "('', '')"
            ]
          },
          "metadata": {},
          "execution_count": 944
        }
      ],
      "source": [
        "\"\" , ''"
      ]
    },
    {
      "cell_type": "code",
      "execution_count": null,
      "id": "da216e5f-caf4-406d-9514-608030cbc074",
      "metadata": {
        "id": "da216e5f-caf4-406d-9514-608030cbc074",
        "colab": {
          "base_uri": "https://localhost:8080/",
          "height": 36
        },
        "outputId": "dc827abd-7bd9-4e9d-d141-1b0b8a097516"
      },
      "outputs": [
        {
          "output_type": "execute_result",
          "data": {
            "text/plain": [
              "'\\n'"
            ],
            "application/vnd.google.colaboratory.intrinsic+json": {
              "type": "string"
            }
          },
          "metadata": {},
          "execution_count": 945
        }
      ],
      "source": [
        "\"\"\"\n",
        "\"\"\""
      ]
    },
    {
      "cell_type": "code",
      "execution_count": null,
      "id": "64ee6a7f-51a5-4bc4-b7e9-6f31c5ce4c9f",
      "metadata": {
        "id": "64ee6a7f-51a5-4bc4-b7e9-6f31c5ce4c9f",
        "outputId": "195ab7d4-4111-47a9-d5ae-92d6da30b2a9",
        "colab": {
          "base_uri": "https://localhost:8080/"
        }
      },
      "outputs": [
        {
          "output_type": "stream",
          "name": "stdout",
          "text": [
            "Hello World\n"
          ]
        },
        {
          "output_type": "execute_result",
          "data": {
            "text/plain": [
              "str"
            ]
          },
          "metadata": {},
          "execution_count": 946
        }
      ],
      "source": [
        "a = \"Hello World\"\n",
        "print(a)\n",
        "type(a)"
      ]
    },
    {
      "cell_type": "code",
      "execution_count": null,
      "id": "dfce40e8-f7f8-42c5-917e-2115126df31d",
      "metadata": {
        "id": "dfce40e8-f7f8-42c5-917e-2115126df31d",
        "outputId": "66060fb7-b04e-4438-b0cb-c8c2c9aaae4c",
        "colab": {
          "base_uri": "https://localhost:8080/"
        }
      },
      "outputs": [
        {
          "output_type": "stream",
          "name": "stdout",
          "text": [
            "Hello World\n"
          ]
        }
      ],
      "source": [
        "print(a)"
      ]
    },
    {
      "cell_type": "code",
      "execution_count": null,
      "id": "0691ac06-95e3-4b54-9557-be275d38763f",
      "metadata": {
        "id": "0691ac06-95e3-4b54-9557-be275d38763f",
        "outputId": "dbb49664-f5f4-4f88-e058-31c3a08a669f",
        "colab": {
          "base_uri": "https://localhost:8080/",
          "height": 36
        }
      },
      "outputs": [
        {
          "output_type": "execute_result",
          "data": {
            "text/plain": [
              "'r'"
            ],
            "application/vnd.google.colaboratory.intrinsic+json": {
              "type": "string"
            }
          },
          "metadata": {},
          "execution_count": 948
        }
      ],
      "source": [
        "### Indexing\n",
        "a[-3]"
      ]
    },
    {
      "cell_type": "code",
      "execution_count": null,
      "id": "f517b5cf-75bd-4eed-8ed4-f6c2dd7cb2c6",
      "metadata": {
        "id": "f517b5cf-75bd-4eed-8ed4-f6c2dd7cb2c6",
        "outputId": "df7487cf-d3dd-40e7-b4f1-d6aeb343b5b0",
        "colab": {
          "base_uri": "https://localhost:8080/",
          "height": 36
        }
      },
      "outputs": [
        {
          "output_type": "execute_result",
          "data": {
            "text/plain": [
              "'Hello World'"
            ],
            "application/vnd.google.colaboratory.intrinsic+json": {
              "type": "string"
            }
          },
          "metadata": {},
          "execution_count": 949
        }
      ],
      "source": [
        "a"
      ]
    },
    {
      "cell_type": "code",
      "execution_count": null,
      "id": "31af6646-ef19-4251-8ba3-a06617dbeaae",
      "metadata": {
        "id": "31af6646-ef19-4251-8ba3-a06617dbeaae",
        "outputId": "f22b19bd-571d-4a40-fb9b-c3e0a1200866",
        "colab": {
          "base_uri": "https://localhost:8080/",
          "height": 36
        }
      },
      "outputs": [
        {
          "output_type": "execute_result",
          "data": {
            "text/plain": [
              "'HloW'"
            ],
            "application/vnd.google.colaboratory.intrinsic+json": {
              "type": "string"
            }
          },
          "metadata": {},
          "execution_count": 950
        }
      ],
      "source": [
        "### Slicing of String\n",
        "a[0:8:2]"
      ]
    },
    {
      "cell_type": "code",
      "execution_count": null,
      "id": "0763a793-2718-4b9e-b782-469fba4b1897",
      "metadata": {
        "id": "0763a793-2718-4b9e-b782-469fba4b1897"
      },
      "outputs": [],
      "source": [
        "#### Methods of Strings"
      ]
    },
    {
      "cell_type": "code",
      "execution_count": null,
      "id": "1e568108-4776-46fb-b933-8d1fad659679",
      "metadata": {
        "id": "1e568108-4776-46fb-b933-8d1fad659679",
        "outputId": "9466f326-596a-4e80-be78-e8802ca56fb5",
        "colab": {
          "base_uri": "https://localhost:8080/",
          "height": 36
        }
      },
      "outputs": [
        {
          "output_type": "execute_result",
          "data": {
            "text/plain": [
              "'HELLO WORLD'"
            ],
            "application/vnd.google.colaboratory.intrinsic+json": {
              "type": "string"
            }
          },
          "metadata": {},
          "execution_count": 952
        }
      ],
      "source": [
        "### 1. upper()\n",
        "x = \"hello world\"\n",
        "x.upper()"
      ]
    },
    {
      "cell_type": "code",
      "execution_count": null,
      "id": "6d478255-bbcd-4619-961f-fbbe3b9c4559",
      "metadata": {
        "id": "6d478255-bbcd-4619-961f-fbbe3b9c4559",
        "outputId": "f2febc47-fa32-4d4c-fa8d-ddb20bd1f97f",
        "colab": {
          "base_uri": "https://localhost:8080/",
          "height": 36
        }
      },
      "outputs": [
        {
          "output_type": "execute_result",
          "data": {
            "text/plain": [
              "'hello'"
            ],
            "application/vnd.google.colaboratory.intrinsic+json": {
              "type": "string"
            }
          },
          "metadata": {},
          "execution_count": 953
        }
      ],
      "source": [
        "####2. lower()\n",
        "x =\"Hello\"\n",
        "x.lower()"
      ]
    },
    {
      "cell_type": "code",
      "execution_count": null,
      "id": "06e106d6-746b-44ba-9881-cf59021f2526",
      "metadata": {
        "id": "06e106d6-746b-44ba-9881-cf59021f2526",
        "outputId": "9e8cc1d3-53f8-4cfe-ea62-43d7afbc5c72",
        "colab": {
          "base_uri": "https://localhost:8080/"
        }
      },
      "outputs": [
        {
          "output_type": "stream",
          "name": "stdout",
          "text": [
            "Hello\n"
          ]
        }
      ],
      "source": [
        "### len()\n",
        "print(x)"
      ]
    },
    {
      "cell_type": "code",
      "execution_count": null,
      "id": "70564b74-a81b-4bba-94e7-6bc313d9cf4c",
      "metadata": {
        "id": "70564b74-a81b-4bba-94e7-6bc313d9cf4c",
        "outputId": "f150d9fd-4ac2-4583-ea66-d8120db56248",
        "colab": {
          "base_uri": "https://localhost:8080/"
        }
      },
      "outputs": [
        {
          "output_type": "execute_result",
          "data": {
            "text/plain": [
              "5"
            ]
          },
          "metadata": {},
          "execution_count": 955
        }
      ],
      "source": [
        "len(x)"
      ]
    },
    {
      "cell_type": "code",
      "execution_count": null,
      "id": "2804e977-4a28-4de0-9f27-12ea223eacef",
      "metadata": {
        "id": "2804e977-4a28-4de0-9f27-12ea223eacef",
        "outputId": "e62be3ba-80e1-4187-ffdd-748b18e39bd2",
        "colab": {
          "base_uri": "https://localhost:8080/",
          "height": 36
        }
      },
      "outputs": [
        {
          "output_type": "execute_result",
          "data": {
            "text/plain": [
              "'Hello world'"
            ],
            "application/vnd.google.colaboratory.intrinsic+json": {
              "type": "string"
            }
          },
          "metadata": {},
          "execution_count": 956
        }
      ],
      "source": [
        "### captialise\n",
        "\n",
        "x= \"hello world\"\n",
        "x.capitalize()"
      ]
    },
    {
      "cell_type": "code",
      "execution_count": null,
      "id": "22c59aac-c747-43f8-83dc-e6649c9ee780",
      "metadata": {
        "id": "22c59aac-c747-43f8-83dc-e6649c9ee780",
        "outputId": "62ced1a7-499f-4ffb-dc71-907d62889d1a",
        "colab": {
          "base_uri": "https://localhost:8080/",
          "height": 36
        }
      },
      "outputs": [
        {
          "output_type": "execute_result",
          "data": {
            "text/plain": [
              "'HEllo'"
            ],
            "application/vnd.google.colaboratory.intrinsic+json": {
              "type": "string"
            }
          },
          "metadata": {},
          "execution_count": 957
        }
      ],
      "source": [
        "### strip()\n",
        "x = \"            HEllo   \"\n",
        "x.strip()"
      ]
    },
    {
      "cell_type": "code",
      "execution_count": null,
      "id": "173eeb1c-d7c9-4971-9db2-fa876e53e2e1",
      "metadata": {
        "id": "173eeb1c-d7c9-4971-9db2-fa876e53e2e1",
        "outputId": "9bc78a22-df00-42a3-deef-672983716782",
        "colab": {
          "base_uri": "https://localhost:8080/",
          "height": 36
        }
      },
      "outputs": [
        {
          "output_type": "execute_result",
          "data": {
            "text/plain": [
              "'We are learning Python'"
            ],
            "application/vnd.google.colaboratory.intrinsic+json": {
              "type": "string"
            }
          },
          "metadata": {},
          "execution_count": 958
        }
      ],
      "source": [
        "### replace\n",
        "x = \"We are learning Java\"\n",
        "x.replace(\"Java\" , \"Python\")"
      ]
    },
    {
      "cell_type": "code",
      "execution_count": null,
      "id": "f0638689-78d4-4812-8d84-7db5b464c9e8",
      "metadata": {
        "id": "f0638689-78d4-4812-8d84-7db5b464c9e8",
        "outputId": "dceb9161-5f43-4fbc-e4b0-5ccfae9310d7",
        "colab": {
          "base_uri": "https://localhost:8080/"
        }
      },
      "outputs": [
        {
          "output_type": "execute_result",
          "data": {
            "text/plain": [
              "['We are ', ' learning ', ' Java']"
            ]
          },
          "metadata": {},
          "execution_count": 959
        }
      ],
      "source": [
        "### split()\n",
        "x = \"We are , learning , Java\"\n",
        "x.split(\",\")\n"
      ]
    },
    {
      "cell_type": "code",
      "execution_count": null,
      "id": "a0666bae-26ca-4d84-81ee-39d099862607",
      "metadata": {
        "id": "a0666bae-26ca-4d84-81ee-39d099862607",
        "outputId": "74d8dc44-1dfa-455f-bfc2-56494c79698b",
        "colab": {
          "base_uri": "https://localhost:8080/"
        }
      },
      "outputs": [
        {
          "output_type": "stream",
          "name": "stdout",
          "text": [
            "We are learning Python\n"
          ]
        }
      ],
      "source": [
        "### String concatenation\n",
        "a = \"We are \"\n",
        "b =\"learning Python\"\n",
        "\n",
        "c=a+b\n",
        "print(c)"
      ]
    },
    {
      "cell_type": "markdown",
      "id": "92738834-3667-42c7-968f-d6944e62cf3e",
      "metadata": {
        "id": "92738834-3667-42c7-968f-d6944e62cf3e"
      },
      "source": [
        "#### Formatting Strings"
      ]
    },
    {
      "cell_type": "code",
      "execution_count": null,
      "id": "1f5ec90b-d74f-416c-85c9-98e08bbc5b01",
      "metadata": {
        "id": "1f5ec90b-d74f-416c-85c9-98e08bbc5b01",
        "outputId": "66e8c64c-6369-4fbb-e2ab-eae87c78139e",
        "colab": {
          "base_uri": "https://localhost:8080/"
        }
      },
      "outputs": [
        {
          "output_type": "stream",
          "name": "stdout",
          "text": [
            "Rohan is 18 years old\n"
          ]
        }
      ],
      "source": [
        "###### 1. format method\n",
        "name=\"Rohan\"\n",
        "age = 18\n",
        "# Rohan is 18 years old\n",
        "c = \"{} is {} years old\".format(name,age)\n",
        "print(c)"
      ]
    },
    {
      "cell_type": "code",
      "execution_count": null,
      "id": "cd0be7cb-8c71-4960-9d93-6658ba73b4f8",
      "metadata": {
        "id": "cd0be7cb-8c71-4960-9d93-6658ba73b4f8",
        "outputId": "466174ea-9b57-4695-e001-742a1160a116",
        "colab": {
          "base_uri": "https://localhost:8080/"
        }
      },
      "outputs": [
        {
          "output_type": "stream",
          "name": "stdout",
          "text": [
            "Rohan is 18 years old\n"
          ]
        }
      ],
      "source": [
        "##### f strings\n",
        "name=\"Rohan\"\n",
        "age = 18\n",
        "c = f\"{name} is {age} years old\"\n",
        "print(c)"
      ]
    },
    {
      "cell_type": "code",
      "execution_count": null,
      "id": "a80066b1-1b4e-4512-b960-9b6640763dec",
      "metadata": {
        "id": "a80066b1-1b4e-4512-b960-9b6640763dec"
      },
      "outputs": [],
      "source": [
        "### Escape chracters\n",
        "### We are learning Python\n",
        "### We are doing good"
      ]
    },
    {
      "cell_type": "code",
      "execution_count": null,
      "id": "3debe5f9-1e05-4a35-a34c-87470b71b78e",
      "metadata": {
        "id": "3debe5f9-1e05-4a35-a34c-87470b71b78e",
        "outputId": "a340e795-f0e1-4176-cf32-bccf01ecfe02",
        "colab": {
          "base_uri": "https://localhost:8080/"
        }
      },
      "outputs": [
        {
          "output_type": "stream",
          "name": "stdout",
          "text": [
            "We are learning Python. \n",
            "We are doing good\n"
          ]
        }
      ],
      "source": [
        "a = \"We are learning Python. \\nWe are doing good\"\n",
        "print(a)"
      ]
    },
    {
      "cell_type": "code",
      "execution_count": null,
      "id": "a0114c55-25bf-4154-a51d-670d2a71d43d",
      "metadata": {
        "id": "a0114c55-25bf-4154-a51d-670d2a71d43d"
      },
      "outputs": [],
      "source": [
        "### He said \"I am fine\""
      ]
    },
    {
      "cell_type": "code",
      "execution_count": null,
      "id": "8ebbdbc6-1dcd-443c-b539-054b18c0adef",
      "metadata": {
        "id": "8ebbdbc6-1dcd-443c-b539-054b18c0adef",
        "outputId": "6b65a004-84e4-4a56-a009-845377b718d4",
        "colab": {
          "base_uri": "https://localhost:8080/"
        }
      },
      "outputs": [
        {
          "output_type": "stream",
          "name": "stdout",
          "text": [
            "He said \"I am fine\" \n"
          ]
        }
      ],
      "source": [
        "c = \"He said \\\"I am fine\\\" \"\n",
        "print(c)"
      ]
    },
    {
      "cell_type": "markdown",
      "id": "379ff65c-a158-4189-b47b-585e3232f663",
      "metadata": {
        "id": "379ff65c-a158-4189-b47b-585e3232f663"
      },
      "source": [
        "### 7. Python Booleans"
      ]
    },
    {
      "cell_type": "code",
      "execution_count": null,
      "id": "fedf8007-26c0-48e1-9ade-6b18d442fa6a",
      "metadata": {
        "id": "fedf8007-26c0-48e1-9ade-6b18d442fa6a",
        "colab": {
          "base_uri": "https://localhost:8080/"
        },
        "outputId": "0a07a254-3ab6-4984-f5cf-e731809b5bff"
      },
      "outputs": [
        {
          "output_type": "execute_result",
          "data": {
            "text/plain": [
              "(True, False)"
            ]
          },
          "metadata": {},
          "execution_count": 967
        }
      ],
      "source": [
        "True , False"
      ]
    },
    {
      "cell_type": "code",
      "execution_count": null,
      "id": "58ab64db-52ea-406f-b6b9-1a53d26da344",
      "metadata": {
        "id": "58ab64db-52ea-406f-b6b9-1a53d26da344",
        "outputId": "7d576a52-6b0b-4572-cc2c-bdf0ee0c5211",
        "colab": {
          "base_uri": "https://localhost:8080/"
        }
      },
      "outputs": [
        {
          "output_type": "stream",
          "name": "stdout",
          "text": [
            "True\n"
          ]
        }
      ],
      "source": [
        "a = True\n",
        "b = False\n",
        "print(a)"
      ]
    },
    {
      "cell_type": "code",
      "execution_count": null,
      "id": "c765ff6b-6755-4e22-a9e5-ffe27fc70686",
      "metadata": {
        "id": "c765ff6b-6755-4e22-a9e5-ffe27fc70686",
        "outputId": "1797df18-acea-4133-8ca9-99b861596b26",
        "colab": {
          "base_uri": "https://localhost:8080/"
        }
      },
      "outputs": [
        {
          "output_type": "execute_result",
          "data": {
            "text/plain": [
              "bool"
            ]
          },
          "metadata": {},
          "execution_count": 969
        }
      ],
      "source": [
        "type(b)"
      ]
    },
    {
      "cell_type": "code",
      "execution_count": null,
      "id": "6e9f9ddc-9bb8-43bc-b823-31b9461b8d7a",
      "metadata": {
        "id": "6e9f9ddc-9bb8-43bc-b823-31b9461b8d7a"
      },
      "outputs": [],
      "source": [
        "### 0-False , Rest all numbers are true"
      ]
    },
    {
      "cell_type": "code",
      "execution_count": null,
      "id": "c8f473e0-a419-4729-86f9-9a56e7588ab6",
      "metadata": {
        "id": "c8f473e0-a419-4729-86f9-9a56e7588ab6"
      },
      "outputs": [],
      "source": [
        "a = 0\n",
        "b = 1"
      ]
    },
    {
      "cell_type": "code",
      "execution_count": null,
      "id": "ceec37e6-ca63-4cbf-b207-7ac9283a0332",
      "metadata": {
        "id": "ceec37e6-ca63-4cbf-b207-7ac9283a0332"
      },
      "outputs": [],
      "source": []
    },
    {
      "cell_type": "code",
      "execution_count": null,
      "id": "2db25874-690e-4214-91df-beb8c5f1a8fc",
      "metadata": {
        "id": "2db25874-690e-4214-91df-beb8c5f1a8fc",
        "outputId": "d14c6772-dad2-4635-e34b-a709c8273e47",
        "colab": {
          "base_uri": "https://localhost:8080/"
        }
      },
      "outputs": [
        {
          "output_type": "execute_result",
          "data": {
            "text/plain": [
              "int"
            ]
          },
          "metadata": {},
          "execution_count": 972
        }
      ],
      "source": [
        "type(a)"
      ]
    },
    {
      "cell_type": "code",
      "execution_count": null,
      "id": "4433d6ec-43f2-4ea6-a6eb-5ecf99f04bdb",
      "metadata": {
        "id": "4433d6ec-43f2-4ea6-a6eb-5ecf99f04bdb"
      },
      "outputs": [],
      "source": [
        "c = bool(a)\n",
        "d = bool(b)"
      ]
    },
    {
      "cell_type": "code",
      "execution_count": null,
      "id": "0a3cb0d6-b595-403f-abf4-821731e119b6",
      "metadata": {
        "id": "0a3cb0d6-b595-403f-abf4-821731e119b6",
        "outputId": "cf514510-7249-4341-8448-dd03b1c9ac7a",
        "colab": {
          "base_uri": "https://localhost:8080/"
        }
      },
      "outputs": [
        {
          "output_type": "execute_result",
          "data": {
            "text/plain": [
              "bool"
            ]
          },
          "metadata": {},
          "execution_count": 974
        }
      ],
      "source": [
        "type(c)"
      ]
    },
    {
      "cell_type": "code",
      "execution_count": null,
      "id": "7429731a-4f67-4270-b8cb-a529fae4bd24",
      "metadata": {
        "id": "7429731a-4f67-4270-b8cb-a529fae4bd24",
        "outputId": "ffa7b068-af96-4ea7-cc43-af94fbede964",
        "colab": {
          "base_uri": "https://localhost:8080/"
        }
      },
      "outputs": [
        {
          "output_type": "stream",
          "name": "stdout",
          "text": [
            "True\n"
          ]
        }
      ],
      "source": [
        "print(d)"
      ]
    },
    {
      "cell_type": "markdown",
      "id": "80fe5039-8f70-4bc3-bd50-f81c52cdea6b",
      "metadata": {
        "id": "80fe5039-8f70-4bc3-bd50-f81c52cdea6b"
      },
      "source": [
        "### 8. Python Operators"
      ]
    },
    {
      "cell_type": "code",
      "execution_count": null,
      "id": "54a7a4c0-3141-447f-b2fb-31b35ec1a663",
      "metadata": {
        "id": "54a7a4c0-3141-447f-b2fb-31b35ec1a663"
      },
      "outputs": [],
      "source": [
        "### 1. Arithamtic : +,-,*,/,**"
      ]
    },
    {
      "cell_type": "code",
      "execution_count": null,
      "id": "af039865-75fa-4717-831b-85dd44f9d9a8",
      "metadata": {
        "id": "af039865-75fa-4717-831b-85dd44f9d9a8"
      },
      "outputs": [],
      "source": [
        "a=5\n",
        "b=3"
      ]
    },
    {
      "cell_type": "code",
      "execution_count": null,
      "id": "b1494776-0d02-4f22-a77d-a96cd5233ead",
      "metadata": {
        "id": "b1494776-0d02-4f22-a77d-a96cd5233ead",
        "outputId": "3ebfa020-bf77-4803-8aa7-43ab98dffb42",
        "colab": {
          "base_uri": "https://localhost:8080/"
        }
      },
      "outputs": [
        {
          "output_type": "stream",
          "name": "stdout",
          "text": [
            "15\n"
          ]
        }
      ],
      "source": [
        "print(a*b)"
      ]
    },
    {
      "cell_type": "code",
      "execution_count": null,
      "id": "1c409140-c2bc-42dd-a3f9-4be3fb1393f6",
      "metadata": {
        "id": "1c409140-c2bc-42dd-a3f9-4be3fb1393f6"
      },
      "outputs": [],
      "source": [
        "###2. Assignment operater\n",
        "a = 5"
      ]
    },
    {
      "cell_type": "code",
      "execution_count": null,
      "id": "18893c4e-25b8-4426-8c4e-ddbe4e77f285",
      "metadata": {
        "id": "18893c4e-25b8-4426-8c4e-ddbe4e77f285"
      },
      "outputs": [],
      "source": [
        "#### 3. Comparison operator\n",
        "a=10\n",
        "b=8"
      ]
    },
    {
      "cell_type": "code",
      "execution_count": null,
      "id": "4704631a-c98f-48e3-835e-a41662c5db0a",
      "metadata": {
        "id": "4704631a-c98f-48e3-835e-a41662c5db0a",
        "outputId": "00a02d2d-32f4-46ae-a753-2f155d492758",
        "colab": {
          "base_uri": "https://localhost:8080/"
        }
      },
      "outputs": [
        {
          "output_type": "execute_result",
          "data": {
            "text/plain": [
              "True"
            ]
          },
          "metadata": {},
          "execution_count": 981
        }
      ],
      "source": [
        "a!=b"
      ]
    },
    {
      "cell_type": "code",
      "execution_count": null,
      "id": "bb5a7705-9336-48ab-985b-5e71e316f486",
      "metadata": {
        "id": "bb5a7705-9336-48ab-985b-5e71e316f486"
      },
      "outputs": [],
      "source": [
        "### Logical operators :"
      ]
    },
    {
      "cell_type": "code",
      "execution_count": null,
      "id": "9e9880e8-1ec1-4dff-9d64-cdc53ed713e4",
      "metadata": {
        "id": "9e9880e8-1ec1-4dff-9d64-cdc53ed713e4"
      },
      "outputs": [],
      "source": [
        "### 1. and\n",
        "age = 17\n",
        "license=\"no\""
      ]
    },
    {
      "cell_type": "code",
      "execution_count": null,
      "id": "0a11a168-2d7b-4315-a65e-44fab011a7f3",
      "metadata": {
        "id": "0a11a168-2d7b-4315-a65e-44fab011a7f3",
        "outputId": "a57c1906-840d-4c7a-b593-43d3dd1c8dc7",
        "colab": {
          "base_uri": "https://localhost:8080/"
        }
      },
      "outputs": [
        {
          "output_type": "execute_result",
          "data": {
            "text/plain": [
              "True"
            ]
          },
          "metadata": {},
          "execution_count": 984
        }
      ],
      "source": [
        "not(age>18 and license==\"yes\")"
      ]
    },
    {
      "cell_type": "code",
      "execution_count": null,
      "id": "db345a7b-a192-4fc0-bc52-ab462aaaf4b0",
      "metadata": {
        "id": "db345a7b-a192-4fc0-bc52-ab462aaaf4b0"
      },
      "outputs": [],
      "source": [
        "\n",
        "### or"
      ]
    },
    {
      "cell_type": "code",
      "execution_count": null,
      "id": "1e7e3bf9-b359-40a5-9e13-2c06953d946d",
      "metadata": {
        "id": "1e7e3bf9-b359-40a5-9e13-2c06953d946d",
        "outputId": "34944b9b-e424-4a17-cc6e-c5565fac6e4a",
        "colab": {
          "base_uri": "https://localhost:8080/"
        }
      },
      "outputs": [
        {
          "output_type": "execute_result",
          "data": {
            "text/plain": [
              "True"
            ]
          },
          "metadata": {},
          "execution_count": 986
        }
      ],
      "source": [
        "\n",
        "not(age>18 or license==\"yes\")"
      ]
    },
    {
      "cell_type": "code",
      "execution_count": null,
      "id": "511932e0-a05d-4d4f-bcb2-b0f6717e12e0",
      "metadata": {
        "id": "511932e0-a05d-4d4f-bcb2-b0f6717e12e0",
        "outputId": "de6b38db-8a08-40a7-a311-987598646c08",
        "colab": {
          "base_uri": "https://localhost:8080/"
        }
      },
      "outputs": [
        {
          "output_type": "execute_result",
          "data": {
            "text/plain": [
              "True"
            ]
          },
          "metadata": {},
          "execution_count": 987
        }
      ],
      "source": [
        "### Membership Operators\n",
        "list1=[1,2,3,4,5]\n",
        "\n",
        "12 not in list1"
      ]
    },
    {
      "cell_type": "code",
      "execution_count": null,
      "id": "003bc4b6-1742-4a70-b6bd-691ed16f5399",
      "metadata": {
        "id": "003bc4b6-1742-4a70-b6bd-691ed16f5399"
      },
      "outputs": [],
      "source": []
    },
    {
      "cell_type": "code",
      "execution_count": null,
      "id": "36f8b34c-2b8b-477c-817a-11d2789d2066",
      "metadata": {
        "id": "36f8b34c-2b8b-477c-817a-11d2789d2066"
      },
      "outputs": [],
      "source": []
    },
    {
      "cell_type": "markdown",
      "id": "16fab34b-9eb4-4325-8a7b-bc992d4cd8c1",
      "metadata": {
        "id": "16fab34b-9eb4-4325-8a7b-bc992d4cd8c1"
      },
      "source": [
        "### 9. Python Lists"
      ]
    },
    {
      "cell_type": "code",
      "execution_count": null,
      "id": "e0a14ca8-5d21-4820-b599-a198d84924d8",
      "metadata": {
        "id": "e0a14ca8-5d21-4820-b599-a198d84924d8"
      },
      "outputs": [],
      "source": [
        "list1 = [1,2,3,4,5,1,1,5]"
      ]
    },
    {
      "cell_type": "code",
      "execution_count": null,
      "id": "2c780e3e-a3e1-49ad-bf46-0fd1fdd40752",
      "metadata": {
        "id": "2c780e3e-a3e1-49ad-bf46-0fd1fdd40752",
        "outputId": "7dd11f9a-52af-49ec-c00d-735fc06f540f",
        "colab": {
          "base_uri": "https://localhost:8080/"
        }
      },
      "outputs": [
        {
          "output_type": "execute_result",
          "data": {
            "text/plain": [
              "5"
            ]
          },
          "metadata": {},
          "execution_count": 989
        }
      ],
      "source": [
        "list1[-1]"
      ]
    },
    {
      "cell_type": "code",
      "execution_count": null,
      "id": "694096af-0559-4d85-80cb-9490200546b7",
      "metadata": {
        "id": "694096af-0559-4d85-80cb-9490200546b7",
        "outputId": "13b36c45-f2d6-47c4-cb0c-3279270300a6",
        "colab": {
          "base_uri": "https://localhost:8080/"
        }
      },
      "outputs": [
        {
          "output_type": "stream",
          "name": "stdout",
          "text": [
            "[1, 2, 3, 4, 5, 1, 1, 5]\n"
          ]
        }
      ],
      "source": [
        "print(list1)"
      ]
    },
    {
      "cell_type": "code",
      "execution_count": null,
      "id": "e485203a-2eef-4b77-87e8-e888ee065323",
      "metadata": {
        "id": "e485203a-2eef-4b77-87e8-e888ee065323"
      },
      "outputs": [],
      "source": [
        "list1[0] = 15"
      ]
    },
    {
      "cell_type": "code",
      "execution_count": null,
      "id": "442ffdb1-73a7-4149-abb2-c210b718f882",
      "metadata": {
        "id": "442ffdb1-73a7-4149-abb2-c210b718f882",
        "outputId": "e57efa35-0800-4335-95f9-20b011395154",
        "colab": {
          "base_uri": "https://localhost:8080/"
        }
      },
      "outputs": [
        {
          "output_type": "stream",
          "name": "stdout",
          "text": [
            "[15, 2, 3, 4, 5, 1, 1, 5]\n"
          ]
        }
      ],
      "source": [
        "print(list1)"
      ]
    },
    {
      "cell_type": "code",
      "execution_count": null,
      "id": "02dc2ae9-39d3-418d-91bb-0962f7c9e687",
      "metadata": {
        "id": "02dc2ae9-39d3-418d-91bb-0962f7c9e687",
        "outputId": "bdc5c356-ce87-45d4-bebe-efb83a12725f",
        "colab": {
          "base_uri": "https://localhost:8080/"
        }
      },
      "outputs": [
        {
          "output_type": "execute_result",
          "data": {
            "text/plain": [
              "[15, 2, 3, 4, 5, 1, 1, 5]"
            ]
          },
          "metadata": {},
          "execution_count": 993
        }
      ],
      "source": [
        "### acessing list\n",
        "list1"
      ]
    },
    {
      "cell_type": "code",
      "execution_count": null,
      "id": "b804486b-88a7-4e93-8de1-e54f2865bb57",
      "metadata": {
        "id": "b804486b-88a7-4e93-8de1-e54f2865bb57",
        "outputId": "1c6403f3-6222-4c28-f63b-f1798d44cd01",
        "colab": {
          "base_uri": "https://localhost:8080/"
        }
      },
      "outputs": [
        {
          "output_type": "execute_result",
          "data": {
            "text/plain": [
              "[15, 3, 5]"
            ]
          },
          "metadata": {},
          "execution_count": 994
        }
      ],
      "source": [
        "list1[0:5:2]"
      ]
    },
    {
      "cell_type": "code",
      "execution_count": null,
      "id": "0b9331b7-4726-4674-b81d-9791f5119904",
      "metadata": {
        "id": "0b9331b7-4726-4674-b81d-9791f5119904",
        "outputId": "a3437107-ac71-4677-a34a-fb72004d330f",
        "colab": {
          "base_uri": "https://localhost:8080/"
        }
      },
      "outputs": [
        {
          "output_type": "execute_result",
          "data": {
            "text/plain": [
              "[15, 2, 3, 4, 5, 1, 1, 5]"
            ]
          },
          "metadata": {},
          "execution_count": 995
        }
      ],
      "source": [
        "list1"
      ]
    },
    {
      "cell_type": "code",
      "execution_count": null,
      "id": "38a64fd2-8589-44dc-b8e2-460ec59a1c23",
      "metadata": {
        "id": "38a64fd2-8589-44dc-b8e2-460ec59a1c23"
      },
      "outputs": [],
      "source": [
        "list1[0:3] = [\"Ram\" , \"Rohan\" , \"Sohan\"]"
      ]
    },
    {
      "cell_type": "code",
      "execution_count": null,
      "id": "2214ae6c-5a46-4e8d-ae9b-f2f65058e0fb",
      "metadata": {
        "id": "2214ae6c-5a46-4e8d-ae9b-f2f65058e0fb",
        "outputId": "cfe60723-cd25-4ee6-a26b-609486c3900d",
        "colab": {
          "base_uri": "https://localhost:8080/"
        }
      },
      "outputs": [
        {
          "output_type": "execute_result",
          "data": {
            "text/plain": [
              "['Ram', 'Rohan', 'Sohan', 4, 5, 1, 1, 5]"
            ]
          },
          "metadata": {},
          "execution_count": 997
        }
      ],
      "source": [
        "list1"
      ]
    },
    {
      "cell_type": "code",
      "execution_count": null,
      "id": "d4db520f-bef4-4281-ad8d-b855e55da80d",
      "metadata": {
        "id": "d4db520f-bef4-4281-ad8d-b855e55da80d"
      },
      "outputs": [],
      "source": [
        "### Add list items"
      ]
    },
    {
      "cell_type": "code",
      "execution_count": null,
      "id": "5f20a46f-b3c8-4aac-8981-9970ebf37ae8",
      "metadata": {
        "id": "5f20a46f-b3c8-4aac-8981-9970ebf37ae8",
        "outputId": "e98e61d7-26e7-47f0-cd2d-87562ba7f3a2",
        "colab": {
          "base_uri": "https://localhost:8080/"
        }
      },
      "outputs": [
        {
          "output_type": "stream",
          "name": "stdout",
          "text": [
            "['Ram', 'rahul', 'sohan']\n"
          ]
        }
      ],
      "source": [
        "##1.append\n",
        "list1 = [\"Ram\",\"rahul\",\"sohan\"]\n",
        "print(list1)"
      ]
    },
    {
      "cell_type": "code",
      "execution_count": null,
      "id": "8f0c3520-288a-4ff7-8b0d-1b7def7326c5",
      "metadata": {
        "id": "8f0c3520-288a-4ff7-8b0d-1b7def7326c5"
      },
      "outputs": [],
      "source": [
        "list1.append(\"Mohan\")"
      ]
    },
    {
      "cell_type": "code",
      "execution_count": null,
      "id": "4ee6cd1d-46d7-4b4a-9bdf-9a980eba693b",
      "metadata": {
        "id": "4ee6cd1d-46d7-4b4a-9bdf-9a980eba693b",
        "outputId": "2f974133-da91-4323-bba1-82731810c4a3",
        "colab": {
          "base_uri": "https://localhost:8080/"
        }
      },
      "outputs": [
        {
          "output_type": "execute_result",
          "data": {
            "text/plain": [
              "['Ram', 'rahul', 'sohan', 'Mohan']"
            ]
          },
          "metadata": {},
          "execution_count": 1001
        }
      ],
      "source": [
        "list1"
      ]
    },
    {
      "cell_type": "code",
      "execution_count": null,
      "id": "d49f32ad-43fa-4b89-98ce-3bbf2929849f",
      "metadata": {
        "id": "d49f32ad-43fa-4b89-98ce-3bbf2929849f",
        "outputId": "20b4944a-4cd8-40af-f0b1-30425c2b77be",
        "colab": {
          "base_uri": "https://localhost:8080/"
        }
      },
      "outputs": [
        {
          "output_type": "execute_result",
          "data": {
            "text/plain": [
              "['Ram', 'rahul', 'sohan', 'Mohan']"
            ]
          },
          "metadata": {},
          "execution_count": 1002
        }
      ],
      "source": [
        "### insert\n",
        "list1"
      ]
    },
    {
      "cell_type": "code",
      "execution_count": null,
      "id": "5afee4ca-3482-45f1-91d3-5f6130a4138a",
      "metadata": {
        "id": "5afee4ca-3482-45f1-91d3-5f6130a4138a"
      },
      "outputs": [],
      "source": [
        "list1.insert(0 , \"Aryan\")"
      ]
    },
    {
      "cell_type": "code",
      "execution_count": null,
      "id": "6ea9bd5c-d732-4e12-8ce9-e82a589bb5b5",
      "metadata": {
        "id": "6ea9bd5c-d732-4e12-8ce9-e82a589bb5b5",
        "outputId": "44eab616-bcdd-410c-cf78-b24b39750b81",
        "colab": {
          "base_uri": "https://localhost:8080/"
        }
      },
      "outputs": [
        {
          "output_type": "execute_result",
          "data": {
            "text/plain": [
              "['Aryan', 'Ram', 'rahul', 'sohan', 'Mohan']"
            ]
          },
          "metadata": {},
          "execution_count": 1004
        }
      ],
      "source": [
        "list1"
      ]
    },
    {
      "cell_type": "code",
      "execution_count": null,
      "id": "51662808-3a4d-445b-99c1-7fae1029ff3f",
      "metadata": {
        "id": "51662808-3a4d-445b-99c1-7fae1029ff3f",
        "outputId": "56ba59c0-14ef-4cd9-c3e2-9a83c3fe2336",
        "colab": {
          "base_uri": "https://localhost:8080/"
        }
      },
      "outputs": [
        {
          "output_type": "execute_result",
          "data": {
            "text/plain": [
              "['Aryan', 'Ram', 'rahul', 'sohan', 'Mohan']"
            ]
          },
          "metadata": {},
          "execution_count": 1005
        }
      ],
      "source": [
        "### extend\n",
        "list1"
      ]
    },
    {
      "cell_type": "code",
      "execution_count": null,
      "id": "0e39af59-33e7-4da3-9076-4b91c761461f",
      "metadata": {
        "id": "0e39af59-33e7-4da3-9076-4b91c761461f"
      },
      "outputs": [],
      "source": [
        "list2=[1,2,3,4,5]"
      ]
    },
    {
      "cell_type": "code",
      "execution_count": null,
      "id": "8c4cce23-e13a-401f-ba77-f6b63884806c",
      "metadata": {
        "id": "8c4cce23-e13a-401f-ba77-f6b63884806c"
      },
      "outputs": [],
      "source": [
        "list1.extend(list2)"
      ]
    },
    {
      "cell_type": "code",
      "execution_count": null,
      "id": "3a885d19-6394-46ef-9ede-11636ec2aa06",
      "metadata": {
        "id": "3a885d19-6394-46ef-9ede-11636ec2aa06",
        "outputId": "4741792e-6b06-47b5-f8a6-f7d277b5b252",
        "colab": {
          "base_uri": "https://localhost:8080/"
        }
      },
      "outputs": [
        {
          "output_type": "execute_result",
          "data": {
            "text/plain": [
              "['Aryan', 'Ram', 'rahul', 'sohan', 'Mohan', 1, 2, 3, 4, 5]"
            ]
          },
          "metadata": {},
          "execution_count": 1008
        }
      ],
      "source": [
        "list1"
      ]
    },
    {
      "cell_type": "code",
      "execution_count": null,
      "id": "8e220229-a58e-4000-bcd7-b701cbd03ffb",
      "metadata": {
        "id": "8e220229-a58e-4000-bcd7-b701cbd03ffb",
        "outputId": "ffb460b5-4420-4e18-b3b6-be7d560ddb40",
        "colab": {
          "base_uri": "https://localhost:8080/"
        }
      },
      "outputs": [
        {
          "output_type": "execute_result",
          "data": {
            "text/plain": [
              "['Aryan', 'Ram', 'rahul', 'sohan', 'Mohan', 1, 2, 3, 4, 5]"
            ]
          },
          "metadata": {},
          "execution_count": 1009
        }
      ],
      "source": [
        "### Remove list items\n",
        "##1 .remove\n",
        "list1"
      ]
    },
    {
      "cell_type": "code",
      "execution_count": null,
      "id": "cc11dfb2-00ef-4ba1-acb6-5370ac764324",
      "metadata": {
        "id": "cc11dfb2-00ef-4ba1-acb6-5370ac764324",
        "outputId": "1bd4755d-ce07-4d47-91a5-5d808592530a",
        "colab": {
          "base_uri": "https://localhost:8080/"
        }
      },
      "outputs": [
        {
          "output_type": "stream",
          "name": "stdout",
          "text": [
            "['Aryan', 'Ram', 'rahul', 'Mohan', 1, 2, 3, 4, 5]\n"
          ]
        }
      ],
      "source": [
        "list1.remove(\"sohan\")\n",
        "print(list1)"
      ]
    },
    {
      "cell_type": "code",
      "execution_count": null,
      "id": "1b32844b-18a9-49c6-ac34-01af93e38ae3",
      "metadata": {
        "id": "1b32844b-18a9-49c6-ac34-01af93e38ae3",
        "outputId": "a29165f9-d2ba-411b-9ef3-83703af2c146",
        "colab": {
          "base_uri": "https://localhost:8080/"
        }
      },
      "outputs": [
        {
          "output_type": "execute_result",
          "data": {
            "text/plain": [
              "['Aryan', 'Ram', 'rahul', 'Mohan', 1, 2, 3, 4, 5]"
            ]
          },
          "metadata": {},
          "execution_count": 1011
        }
      ],
      "source": [
        "### 2. pop\n",
        "list1"
      ]
    },
    {
      "cell_type": "code",
      "execution_count": null,
      "id": "6c928929-dfa6-4869-909b-8fdeb11f9ccc",
      "metadata": {
        "id": "6c928929-dfa6-4869-909b-8fdeb11f9ccc",
        "outputId": "db7817c4-3c5c-489e-b4fe-c1d9ac0b73f0",
        "colab": {
          "base_uri": "https://localhost:8080/"
        }
      },
      "outputs": [
        {
          "output_type": "stream",
          "name": "stdout",
          "text": [
            "['Ram', 'rahul', 'Mohan', 1, 2, 3, 4, 5]\n"
          ]
        }
      ],
      "source": [
        "list1.pop(0)\n",
        "print(list1)"
      ]
    },
    {
      "cell_type": "code",
      "execution_count": null,
      "id": "78eb37a3-26c4-4c32-b808-445b9c0a9407",
      "metadata": {
        "id": "78eb37a3-26c4-4c32-b808-445b9c0a9407"
      },
      "outputs": [],
      "source": [
        "#### clear , del"
      ]
    },
    {
      "cell_type": "code",
      "execution_count": null,
      "id": "c3fb6d5c-fd8c-4db4-9979-757aa59dcdd0",
      "metadata": {
        "id": "c3fb6d5c-fd8c-4db4-9979-757aa59dcdd0",
        "outputId": "e684dc72-db4d-40e0-83ac-8b919f2cd077",
        "colab": {
          "base_uri": "https://localhost:8080/"
        }
      },
      "outputs": [
        {
          "output_type": "execute_result",
          "data": {
            "text/plain": [
              "['Ram', 'rahul', 'Mohan', 1, 2, 3, 4, 5]"
            ]
          },
          "metadata": {},
          "execution_count": 1014
        }
      ],
      "source": [
        "list1"
      ]
    },
    {
      "cell_type": "code",
      "execution_count": null,
      "id": "8cb00a17-6693-4295-9ff0-1200791f3778",
      "metadata": {
        "id": "8cb00a17-6693-4295-9ff0-1200791f3778"
      },
      "outputs": [],
      "source": [
        "list1.clear()"
      ]
    },
    {
      "cell_type": "code",
      "execution_count": null,
      "id": "c539eab0-ed16-48ab-bd49-69a196c1ca0a",
      "metadata": {
        "id": "c539eab0-ed16-48ab-bd49-69a196c1ca0a",
        "outputId": "5c2f5d41-88cc-4943-a640-dc1ffaaef9dc",
        "colab": {
          "base_uri": "https://localhost:8080/"
        }
      },
      "outputs": [
        {
          "output_type": "stream",
          "name": "stdout",
          "text": [
            "[]\n"
          ]
        }
      ],
      "source": [
        "print(list1)"
      ]
    },
    {
      "cell_type": "code",
      "execution_count": null,
      "id": "0d15c8cf-a0ca-43c1-800b-6f2227d42561",
      "metadata": {
        "id": "0d15c8cf-a0ca-43c1-800b-6f2227d42561"
      },
      "outputs": [],
      "source": [
        "del list1"
      ]
    },
    {
      "cell_type": "code",
      "execution_count": null,
      "id": "b59ee854-6f5e-44f5-8f58-66af3d3793cf",
      "metadata": {
        "id": "b59ee854-6f5e-44f5-8f58-66af3d3793cf"
      },
      "outputs": [],
      "source": [
        "## print(list1)"
      ]
    },
    {
      "cell_type": "code",
      "execution_count": null,
      "id": "e87008da-bcf8-4431-93e0-e1adaa9cd0d3",
      "metadata": {
        "id": "e87008da-bcf8-4431-93e0-e1adaa9cd0d3",
        "outputId": "de2794c4-602a-443c-d6c5-34d3fef2104e",
        "colab": {
          "base_uri": "https://localhost:8080/"
        }
      },
      "outputs": [
        {
          "output_type": "stream",
          "name": "stdout",
          "text": [
            "[1, 2, 3, 4, 5, 6, 7, 8, 9, 11, 15, 0, 99, 80, 62, 55, 41, 18]\n"
          ]
        }
      ],
      "source": [
        "### Sorting in Lists\n",
        "\n",
        "list1= [ 1,2,3,4,5,6,7,8,9,11,15,0,99,80,62,55,41,18]\n",
        "print(list1)"
      ]
    },
    {
      "cell_type": "code",
      "execution_count": null,
      "id": "148e7b81-e31b-4b06-834d-d3ba61fe1aa3",
      "metadata": {
        "id": "148e7b81-e31b-4b06-834d-d3ba61fe1aa3"
      },
      "outputs": [],
      "source": [
        "list1.sort(reverse=True)"
      ]
    },
    {
      "cell_type": "code",
      "execution_count": null,
      "id": "062393ec-bfd5-408a-93aa-4c7fb610a5ca",
      "metadata": {
        "id": "062393ec-bfd5-408a-93aa-4c7fb610a5ca",
        "outputId": "ddc19e55-53f8-4eb2-bd5d-aa430a145bc0",
        "colab": {
          "base_uri": "https://localhost:8080/"
        }
      },
      "outputs": [
        {
          "output_type": "execute_result",
          "data": {
            "text/plain": [
              "[99, 80, 62, 55, 41, 18, 15, 11, 9, 8, 7, 6, 5, 4, 3, 2, 1, 0]"
            ]
          },
          "metadata": {},
          "execution_count": 1021
        }
      ],
      "source": [
        "list1"
      ]
    },
    {
      "cell_type": "code",
      "execution_count": null,
      "id": "5bbcdc24-e9c1-4421-93d2-20fc911d0bae",
      "metadata": {
        "id": "5bbcdc24-e9c1-4421-93d2-20fc911d0bae",
        "outputId": "b205fd41-232b-49eb-800b-e5df74780665",
        "colab": {
          "base_uri": "https://localhost:8080/"
        }
      },
      "outputs": [
        {
          "output_type": "stream",
          "name": "stdout",
          "text": [
            "[1, 2, 3, 4, 5, 6, 7, 8, 9, 11, 15, 0, 99, 80, 62, 55, 41, 18]\n"
          ]
        }
      ],
      "source": [
        "list1= [ 1,2,3,4,5,6,7,8,9,11,15,0,99,80,62,55,41,18]\n",
        "print(list1)"
      ]
    },
    {
      "cell_type": "code",
      "execution_count": null,
      "id": "55a35706-ace5-404a-8734-604edbccf103",
      "metadata": {
        "id": "55a35706-ace5-404a-8734-604edbccf103"
      },
      "outputs": [],
      "source": [
        "list1.reverse()"
      ]
    },
    {
      "cell_type": "code",
      "execution_count": null,
      "id": "842285c1-3945-4f06-8f25-db5fba9d93c3",
      "metadata": {
        "id": "842285c1-3945-4f06-8f25-db5fba9d93c3",
        "outputId": "91d83e17-ed73-4782-9ea9-3e77d31d3cf6",
        "colab": {
          "base_uri": "https://localhost:8080/"
        }
      },
      "outputs": [
        {
          "output_type": "execute_result",
          "data": {
            "text/plain": [
              "[18, 41, 55, 62, 80, 99, 0, 15, 11, 9, 8, 7, 6, 5, 4, 3, 2, 1]"
            ]
          },
          "metadata": {},
          "execution_count": 1024
        }
      ],
      "source": [
        "list1"
      ]
    },
    {
      "cell_type": "code",
      "execution_count": null,
      "id": "bc9001ad-19c5-4ff8-be04-0337957e5c33",
      "metadata": {
        "id": "bc9001ad-19c5-4ff8-be04-0337957e5c33"
      },
      "outputs": [],
      "source": [
        "##3 Copy Lists\n",
        "\n",
        "list1=[1,2,3,4,5]"
      ]
    },
    {
      "cell_type": "code",
      "execution_count": null,
      "id": "69a76312-fb46-4d37-be1f-6ddc30e18bf4",
      "metadata": {
        "id": "69a76312-fb46-4d37-be1f-6ddc30e18bf4"
      },
      "outputs": [],
      "source": [
        "list2=list1.copy()"
      ]
    },
    {
      "cell_type": "code",
      "execution_count": null,
      "id": "418b5fa3-60b6-439e-aca7-576ca66407b8",
      "metadata": {
        "id": "418b5fa3-60b6-439e-aca7-576ca66407b8",
        "outputId": "b1c4a559-d2bd-486b-feb4-616aee9faac2",
        "colab": {
          "base_uri": "https://localhost:8080/"
        }
      },
      "outputs": [
        {
          "output_type": "execute_result",
          "data": {
            "text/plain": [
              "[1, 2, 3, 4, 5]"
            ]
          },
          "metadata": {},
          "execution_count": 1027
        }
      ],
      "source": [
        "list2"
      ]
    },
    {
      "cell_type": "code",
      "execution_count": null,
      "id": "a4610dc3-845d-4a4e-8bf3-e7d247f2bc0c",
      "metadata": {
        "id": "a4610dc3-845d-4a4e-8bf3-e7d247f2bc0c"
      },
      "outputs": [],
      "source": [
        "list1=[1,2,3,4,5]\n",
        "list2=[7,8,9,10,11]"
      ]
    },
    {
      "cell_type": "code",
      "execution_count": null,
      "id": "5c808592-1a77-4166-9af4-6f17a50b3ed3",
      "metadata": {
        "id": "5c808592-1a77-4166-9af4-6f17a50b3ed3",
        "outputId": "c23bf76f-5ad3-4b77-bba2-75663e00fcaf",
        "colab": {
          "base_uri": "https://localhost:8080/"
        }
      },
      "outputs": [
        {
          "output_type": "execute_result",
          "data": {
            "text/plain": [
              "[1, 2, 3, 4, 5, 7, 8, 9, 10, 11]"
            ]
          },
          "metadata": {},
          "execution_count": 1029
        }
      ],
      "source": [
        "list1+list2"
      ]
    },
    {
      "cell_type": "code",
      "execution_count": null,
      "id": "2a5e69c5-04a1-4252-82dc-ae4ae1f5bb28",
      "metadata": {
        "id": "2a5e69c5-04a1-4252-82dc-ae4ae1f5bb28"
      },
      "outputs": [],
      "source": []
    },
    {
      "cell_type": "code",
      "execution_count": null,
      "id": "16be8c16-f5b1-42c6-9bac-46163f922056",
      "metadata": {
        "id": "16be8c16-f5b1-42c6-9bac-46163f922056"
      },
      "outputs": [],
      "source": []
    },
    {
      "cell_type": "code",
      "execution_count": null,
      "id": "7160440d-1fbc-40ba-bb03-18f4248d1319",
      "metadata": {
        "id": "7160440d-1fbc-40ba-bb03-18f4248d1319"
      },
      "outputs": [],
      "source": []
    },
    {
      "cell_type": "markdown",
      "id": "4ebc347a-3fdd-4bf3-96a7-2090d2ac44fb",
      "metadata": {
        "id": "4ebc347a-3fdd-4bf3-96a7-2090d2ac44fb"
      },
      "source": [
        "### 10. Python Tuples"
      ]
    },
    {
      "cell_type": "code",
      "execution_count": null,
      "id": "4e00b059-5362-424e-b357-b2187cc71e13",
      "metadata": {
        "id": "4e00b059-5362-424e-b357-b2187cc71e13",
        "outputId": "774a2131-83d4-453f-c02c-4e493e1cd348",
        "colab": {
          "base_uri": "https://localhost:8080/"
        }
      },
      "outputs": [
        {
          "output_type": "stream",
          "name": "stdout",
          "text": [
            "(1, 2, 3, 4, 5, 5, 5)\n"
          ]
        }
      ],
      "source": [
        "tuple1=(1,2,3,4,5,5,5)\n",
        "print(tuple1)"
      ]
    },
    {
      "cell_type": "code",
      "execution_count": null,
      "id": "f5f26fe3-a1d6-4619-a249-a2e3a04eff1c",
      "metadata": {
        "id": "f5f26fe3-a1d6-4619-a249-a2e3a04eff1c",
        "outputId": "c0ddea50-f379-4516-d9a6-197ca8b3cf67",
        "colab": {
          "base_uri": "https://localhost:8080/"
        }
      },
      "outputs": [
        {
          "output_type": "execute_result",
          "data": {
            "text/plain": [
              "1"
            ]
          },
          "metadata": {},
          "execution_count": 1031
        }
      ],
      "source": [
        "tuple1[0]"
      ]
    },
    {
      "cell_type": "code",
      "execution_count": null,
      "id": "9b71d033-3a78-4de1-bb2f-f07dbff9c376",
      "metadata": {
        "id": "9b71d033-3a78-4de1-bb2f-f07dbff9c376"
      },
      "outputs": [],
      "source": [
        "## tuple1[0] = \"Mohan\""
      ]
    },
    {
      "cell_type": "code",
      "execution_count": null,
      "id": "8b9d8e58-c121-4a1b-b98a-648ac016da5e",
      "metadata": {
        "id": "8b9d8e58-c121-4a1b-b98a-648ac016da5e",
        "outputId": "321f7ea8-561b-4422-b9f6-60c113563550",
        "colab": {
          "base_uri": "https://localhost:8080/"
        }
      },
      "outputs": [
        {
          "output_type": "execute_result",
          "data": {
            "text/plain": [
              "(1, 4)"
            ]
          },
          "metadata": {},
          "execution_count": 1033
        }
      ],
      "source": [
        "## acessing Tuple\n",
        "tuple1[0:5:3]"
      ]
    },
    {
      "cell_type": "code",
      "execution_count": null,
      "id": "cceb91dd-4679-48a9-abd3-166ebc0f5e1f",
      "metadata": {
        "id": "cceb91dd-4679-48a9-abd3-166ebc0f5e1f",
        "outputId": "7bb3d9bb-d0f2-494d-c5d4-f38ba9de2420",
        "colab": {
          "base_uri": "https://localhost:8080/"
        }
      },
      "outputs": [
        {
          "output_type": "stream",
          "name": "stdout",
          "text": [
            "(1, 2, 3, 4, 5)\n"
          ]
        },
        {
          "output_type": "execute_result",
          "data": {
            "text/plain": [
              "tuple"
            ]
          },
          "metadata": {},
          "execution_count": 1034
        }
      ],
      "source": [
        "a = (1,2,3,4,5)\n",
        "print(a)\n",
        "type(a)"
      ]
    },
    {
      "cell_type": "code",
      "execution_count": null,
      "id": "f3d045bd-ff60-487b-9602-d454214af5bb",
      "metadata": {
        "id": "f3d045bd-ff60-487b-9602-d454214af5bb"
      },
      "outputs": [],
      "source": [
        "a = list(a)"
      ]
    },
    {
      "cell_type": "code",
      "execution_count": null,
      "id": "207baa13-9d79-4f99-9cad-09845214121b",
      "metadata": {
        "id": "207baa13-9d79-4f99-9cad-09845214121b",
        "outputId": "224080e2-c9de-433d-d93b-81358d72524f",
        "colab": {
          "base_uri": "https://localhost:8080/"
        }
      },
      "outputs": [
        {
          "output_type": "execute_result",
          "data": {
            "text/plain": [
              "list"
            ]
          },
          "metadata": {},
          "execution_count": 1036
        }
      ],
      "source": [
        "type(a)"
      ]
    },
    {
      "cell_type": "code",
      "execution_count": null,
      "id": "93770d07-961c-49b2-9260-bb74f17e93a4",
      "metadata": {
        "id": "93770d07-961c-49b2-9260-bb74f17e93a4"
      },
      "outputs": [],
      "source": [
        "a.append(6)"
      ]
    },
    {
      "cell_type": "code",
      "execution_count": null,
      "id": "bf0c26da-0f94-4f1d-bf4c-f01ad04fc30b",
      "metadata": {
        "id": "bf0c26da-0f94-4f1d-bf4c-f01ad04fc30b"
      },
      "outputs": [],
      "source": [
        "a = tuple(a)"
      ]
    },
    {
      "cell_type": "code",
      "execution_count": null,
      "id": "e9c824ab-37ec-43ef-98b1-df7b43ff8699",
      "metadata": {
        "id": "e9c824ab-37ec-43ef-98b1-df7b43ff8699",
        "outputId": "2a08f598-b87f-412f-f30b-8856b18f23e4",
        "colab": {
          "base_uri": "https://localhost:8080/"
        }
      },
      "outputs": [
        {
          "output_type": "stream",
          "name": "stdout",
          "text": [
            "(1, 2, 3, 4, 5, 6)\n"
          ]
        }
      ],
      "source": [
        "print(a)"
      ]
    },
    {
      "cell_type": "code",
      "execution_count": null,
      "id": "f0e649f5-52cf-4dad-8875-e1c491c49095",
      "metadata": {
        "id": "f0e649f5-52cf-4dad-8875-e1c491c49095",
        "outputId": "51a458df-a5b9-4be1-b45d-4e0083acd8df",
        "colab": {
          "base_uri": "https://localhost:8080/"
        }
      },
      "outputs": [
        {
          "output_type": "execute_result",
          "data": {
            "text/plain": [
              "tuple"
            ]
          },
          "metadata": {},
          "execution_count": 1040
        }
      ],
      "source": [
        "type(a)"
      ]
    },
    {
      "cell_type": "code",
      "execution_count": null,
      "id": "712747c8-6170-45eb-a147-78a6f9f845e1",
      "metadata": {
        "id": "712747c8-6170-45eb-a147-78a6f9f845e1",
        "outputId": "84297393-a8c3-4e56-89cf-4c6301eca694",
        "colab": {
          "base_uri": "https://localhost:8080/"
        }
      },
      "outputs": [
        {
          "output_type": "execute_result",
          "data": {
            "text/plain": [
              "(1, 3, 4, 5, 12, 11, 10)"
            ]
          },
          "metadata": {},
          "execution_count": 1041
        }
      ],
      "source": [
        "### Join tuples\n",
        "tup1 = (1,3,4,5)\n",
        "tup2 = (12,11,10)\n",
        "\n",
        "tup1+tup2"
      ]
    },
    {
      "cell_type": "code",
      "execution_count": null,
      "id": "ec5a0717-af8b-4c2d-87c9-b22759f54261",
      "metadata": {
        "id": "ec5a0717-af8b-4c2d-87c9-b22759f54261",
        "outputId": "fb507b3d-1876-4a92-e136-dd436fbefd07",
        "colab": {
          "base_uri": "https://localhost:8080/"
        }
      },
      "outputs": [
        {
          "output_type": "execute_result",
          "data": {
            "text/plain": [
              "4"
            ]
          },
          "metadata": {},
          "execution_count": 1042
        }
      ],
      "source": [
        "### Some methods\n",
        "### 1. count\n",
        "a =(1,3,3,3,3,4,5,6,7)\n",
        "a.count(3)"
      ]
    },
    {
      "cell_type": "code",
      "execution_count": null,
      "id": "dbfce5c5-b77f-4799-b49d-0c9cd33fde68",
      "metadata": {
        "id": "dbfce5c5-b77f-4799-b49d-0c9cd33fde68",
        "outputId": "75191e7d-a4ff-4725-a00e-b812cec1690b",
        "colab": {
          "base_uri": "https://localhost:8080/"
        }
      },
      "outputs": [
        {
          "output_type": "execute_result",
          "data": {
            "text/plain": [
              "6"
            ]
          },
          "metadata": {},
          "execution_count": 1043
        }
      ],
      "source": [
        "### 2. index\n",
        "a =(1,3,3,3,3,4,5,6,7)\n",
        "a.index(5)"
      ]
    },
    {
      "cell_type": "markdown",
      "id": "3ad340e2-59d6-4ae8-b5f0-a26545570b24",
      "metadata": {
        "id": "3ad340e2-59d6-4ae8-b5f0-a26545570b24"
      },
      "source": [
        "### 11. Python Sets"
      ]
    },
    {
      "cell_type": "code",
      "execution_count": null,
      "id": "a317f26a-6048-446d-95c7-dfdc455f40ae",
      "metadata": {
        "id": "a317f26a-6048-446d-95c7-dfdc455f40ae",
        "outputId": "ce11bab3-aa35-40e8-f967-df7498ff915b",
        "colab": {
          "base_uri": "https://localhost:8080/"
        }
      },
      "outputs": [
        {
          "output_type": "stream",
          "name": "stdout",
          "text": [
            "{1, 2, 3, 4, 5}\n"
          ]
        }
      ],
      "source": [
        "set1 = {1,2,3,4,5,5,5,5,5,5}\n",
        "print(set1)"
      ]
    },
    {
      "cell_type": "code",
      "execution_count": null,
      "id": "185f4778-3e12-4521-b32f-64810c0bd916",
      "metadata": {
        "id": "185f4778-3e12-4521-b32f-64810c0bd916"
      },
      "outputs": [],
      "source": [
        "# set1[0]"
      ]
    },
    {
      "cell_type": "code",
      "execution_count": null,
      "id": "7dab2225-0377-4819-8674-fe759924d43c",
      "metadata": {
        "id": "7dab2225-0377-4819-8674-fe759924d43c",
        "outputId": "e180467e-11fe-4bb5-eb8e-82b65046cf9d",
        "colab": {
          "base_uri": "https://localhost:8080/"
        }
      },
      "outputs": [
        {
          "output_type": "execute_result",
          "data": {
            "text/plain": [
              "{'student1', 'student2'}"
            ]
          },
          "metadata": {},
          "execution_count": 1046
        }
      ],
      "source": [
        "### ADD ITEMS\n",
        "set1 = {\"student1\" , \"student2\"}\n",
        "set1"
      ]
    },
    {
      "cell_type": "code",
      "execution_count": null,
      "id": "301f9f11-3082-4dfe-a9d0-dbbe832603d5",
      "metadata": {
        "id": "301f9f11-3082-4dfe-a9d0-dbbe832603d5"
      },
      "outputs": [],
      "source": [
        "### 1. add\n",
        "set1.add(\"student3\")"
      ]
    },
    {
      "cell_type": "code",
      "execution_count": null,
      "id": "874c2fc5-a10a-46c0-b4c7-b80d452cce75",
      "metadata": {
        "id": "874c2fc5-a10a-46c0-b4c7-b80d452cce75",
        "outputId": "bbdfeb51-24e8-487e-82ce-8689dfd06beb",
        "colab": {
          "base_uri": "https://localhost:8080/"
        }
      },
      "outputs": [
        {
          "output_type": "execute_result",
          "data": {
            "text/plain": [
              "{'student1', 'student2', 'student3'}"
            ]
          },
          "metadata": {},
          "execution_count": 1048
        }
      ],
      "source": [
        "set1"
      ]
    },
    {
      "cell_type": "code",
      "execution_count": null,
      "id": "7f068b14-7501-429f-901b-263b761b0531",
      "metadata": {
        "id": "7f068b14-7501-429f-901b-263b761b0531",
        "outputId": "9cff0b0b-8704-4632-b718-cf30b4cf6a11",
        "colab": {
          "base_uri": "https://localhost:8080/"
        }
      },
      "outputs": [
        {
          "output_type": "execute_result",
          "data": {
            "text/plain": [
              "{'student1', 'student2', 'student3'}"
            ]
          },
          "metadata": {},
          "execution_count": 1049
        }
      ],
      "source": [
        "### update\n",
        "set1"
      ]
    },
    {
      "cell_type": "code",
      "execution_count": null,
      "id": "ef379c5b-b304-43f6-baa9-fc3b7f0eae1d",
      "metadata": {
        "id": "ef379c5b-b304-43f6-baa9-fc3b7f0eae1d"
      },
      "outputs": [],
      "source": [
        "set2 = {\"student4\",\"student5\",\"student6\"}"
      ]
    },
    {
      "cell_type": "code",
      "execution_count": null,
      "id": "127d8af6-2913-48ef-b37a-45d8a64524e3",
      "metadata": {
        "id": "127d8af6-2913-48ef-b37a-45d8a64524e3"
      },
      "outputs": [],
      "source": [
        "set1.update(set2)"
      ]
    },
    {
      "cell_type": "code",
      "execution_count": null,
      "id": "2e15d44e-3f4e-4ddb-8ab9-567a9d0b7dd9",
      "metadata": {
        "id": "2e15d44e-3f4e-4ddb-8ab9-567a9d0b7dd9",
        "outputId": "1013caa9-67f6-4cd7-d394-e6e50301058d",
        "colab": {
          "base_uri": "https://localhost:8080/"
        }
      },
      "outputs": [
        {
          "output_type": "stream",
          "name": "stdout",
          "text": [
            "{'student4', 'student2', 'student6', 'student5', 'student1', 'student3'}\n"
          ]
        }
      ],
      "source": [
        "print(set1)"
      ]
    },
    {
      "cell_type": "code",
      "execution_count": null,
      "id": "30308db8-ede6-4a24-99a0-f641f71a2eef",
      "metadata": {
        "id": "30308db8-ede6-4a24-99a0-f641f71a2eef",
        "outputId": "83634f85-6e00-4ed9-abec-0f57f3b9a380",
        "colab": {
          "base_uri": "https://localhost:8080/"
        }
      },
      "outputs": [
        {
          "output_type": "execute_result",
          "data": {
            "text/plain": [
              "{'student1', 'student2', 'student3', 'student4', 'student5', 'student6'}"
            ]
          },
          "metadata": {},
          "execution_count": 1053
        }
      ],
      "source": [
        "### Remove Items in Sets\n",
        "## 1. remove\n",
        "\n",
        "set1"
      ]
    },
    {
      "cell_type": "code",
      "execution_count": null,
      "id": "7693daf8-2e29-4540-ad39-1a376c13ecf9",
      "metadata": {
        "id": "7693daf8-2e29-4540-ad39-1a376c13ecf9"
      },
      "outputs": [],
      "source": [
        "set1.remove(\"student1\")"
      ]
    },
    {
      "cell_type": "code",
      "execution_count": null,
      "id": "d3ac5a00-e24c-4cac-9a02-56325c80374a",
      "metadata": {
        "id": "d3ac5a00-e24c-4cac-9a02-56325c80374a",
        "outputId": "683411a9-d778-477b-bb1f-29eda5ff4c6a",
        "colab": {
          "base_uri": "https://localhost:8080/"
        }
      },
      "outputs": [
        {
          "output_type": "execute_result",
          "data": {
            "text/plain": [
              "{'student2', 'student3', 'student4', 'student5', 'student6'}"
            ]
          },
          "metadata": {},
          "execution_count": 1055
        }
      ],
      "source": [
        "set1"
      ]
    },
    {
      "cell_type": "code",
      "execution_count": null,
      "id": "a260dc8d-1ccb-4e0b-97d0-d783015e0118",
      "metadata": {
        "id": "a260dc8d-1ccb-4e0b-97d0-d783015e0118"
      },
      "outputs": [],
      "source": [
        "# set1.remove(\"student10\")"
      ]
    },
    {
      "cell_type": "code",
      "execution_count": null,
      "id": "ba9836b8-cd99-4c03-8763-b33d1d90256f",
      "metadata": {
        "id": "ba9836b8-cd99-4c03-8763-b33d1d90256f",
        "outputId": "03edfced-9fc2-4add-f374-ddd3474bb943",
        "colab": {
          "base_uri": "https://localhost:8080/"
        }
      },
      "outputs": [
        {
          "output_type": "execute_result",
          "data": {
            "text/plain": [
              "{'student2', 'student3', 'student4', 'student5', 'student6'}"
            ]
          },
          "metadata": {},
          "execution_count": 1057
        }
      ],
      "source": [
        "### discard\n",
        "set1"
      ]
    },
    {
      "cell_type": "code",
      "execution_count": null,
      "id": "c9bd10e0-f10f-4d3d-a925-63f72d28c0a1",
      "metadata": {
        "id": "c9bd10e0-f10f-4d3d-a925-63f72d28c0a1"
      },
      "outputs": [],
      "source": [
        "set1.discard(\"student2\")"
      ]
    },
    {
      "cell_type": "code",
      "execution_count": null,
      "id": "041c7c12-6093-4960-a41b-fd7779a278c2",
      "metadata": {
        "id": "041c7c12-6093-4960-a41b-fd7779a278c2",
        "outputId": "53be51d5-d35b-4e99-d4ee-3b7c8578a85a",
        "colab": {
          "base_uri": "https://localhost:8080/"
        }
      },
      "outputs": [
        {
          "output_type": "execute_result",
          "data": {
            "text/plain": [
              "{'student3', 'student4', 'student5', 'student6'}"
            ]
          },
          "metadata": {},
          "execution_count": 1059
        }
      ],
      "source": [
        "set1"
      ]
    },
    {
      "cell_type": "code",
      "execution_count": null,
      "id": "c6254aee-bd80-48a2-aff0-5dd9d6709fd0",
      "metadata": {
        "id": "c6254aee-bd80-48a2-aff0-5dd9d6709fd0"
      },
      "outputs": [],
      "source": [
        "set1.discard(\"student10\")"
      ]
    },
    {
      "cell_type": "code",
      "execution_count": null,
      "id": "970a5cab-8328-46c4-9d60-03f8e36dcc90",
      "metadata": {
        "id": "970a5cab-8328-46c4-9d60-03f8e36dcc90"
      },
      "outputs": [],
      "source": []
    },
    {
      "cell_type": "code",
      "execution_count": null,
      "id": "e19e1fda-b47f-455e-ac45-7a7095c8cde6",
      "metadata": {
        "id": "e19e1fda-b47f-455e-ac45-7a7095c8cde6",
        "outputId": "ea27ce47-57ce-4e91-d118-89195a2784f4",
        "colab": {
          "base_uri": "https://localhost:8080/",
          "height": 36
        }
      },
      "outputs": [
        {
          "output_type": "execute_result",
          "data": {
            "text/plain": [
              "'student4'"
            ],
            "application/vnd.google.colaboratory.intrinsic+json": {
              "type": "string"
            }
          },
          "metadata": {},
          "execution_count": 1061
        }
      ],
      "source": [
        "### pop method\n",
        "set1.pop()"
      ]
    },
    {
      "cell_type": "code",
      "execution_count": null,
      "id": "d69a8bba-e4f1-4f14-afad-1183f5642f2a",
      "metadata": {
        "id": "d69a8bba-e4f1-4f14-afad-1183f5642f2a",
        "outputId": "606c14a6-e596-47f1-861d-6f1d4374ae75",
        "colab": {
          "base_uri": "https://localhost:8080/"
        }
      },
      "outputs": [
        {
          "output_type": "execute_result",
          "data": {
            "text/plain": [
              "{'student3', 'student5', 'student6'}"
            ]
          },
          "metadata": {},
          "execution_count": 1062
        }
      ],
      "source": [
        "set1"
      ]
    },
    {
      "cell_type": "code",
      "execution_count": null,
      "id": "727d7046-bf62-497d-b7a6-d653f053fda6",
      "metadata": {
        "id": "727d7046-bf62-497d-b7a6-d653f053fda6",
        "outputId": "f32d8847-7040-4f01-8e0c-fb6a8711b0e4",
        "colab": {
          "base_uri": "https://localhost:8080/"
        }
      },
      "outputs": [
        {
          "output_type": "execute_result",
          "data": {
            "text/plain": [
              "{1, 2, 3, 4, 5, 6, 7}"
            ]
          },
          "metadata": {},
          "execution_count": 1063
        }
      ],
      "source": [
        "### JOINING IN SETS\n",
        "a ={1,2,3,4}\n",
        "b= {4,5,6,7}\n",
        "\n",
        "a | b"
      ]
    },
    {
      "cell_type": "code",
      "execution_count": null,
      "id": "52fe0827-fb70-4d83-a137-420aa6c09fad",
      "metadata": {
        "id": "52fe0827-fb70-4d83-a137-420aa6c09fad",
        "outputId": "6dc4408f-fbe1-4608-e702-f6e95795b24b",
        "colab": {
          "base_uri": "https://localhost:8080/"
        }
      },
      "outputs": [
        {
          "output_type": "execute_result",
          "data": {
            "text/plain": [
              "{3, 4}"
            ]
          },
          "metadata": {},
          "execution_count": 1064
        }
      ],
      "source": [
        "### 2. Intersection\n",
        "a = {1,2,3,4}\n",
        "b={3,4,5,6}\n",
        "a & b"
      ]
    },
    {
      "cell_type": "code",
      "execution_count": null,
      "id": "a2a7bc99-4960-4c75-9f99-8ed84ae57815",
      "metadata": {
        "id": "a2a7bc99-4960-4c75-9f99-8ed84ae57815",
        "outputId": "4ab40118-3b17-4d8f-cb24-9e5b8bc2e85d",
        "colab": {
          "base_uri": "https://localhost:8080/"
        }
      },
      "outputs": [
        {
          "output_type": "execute_result",
          "data": {
            "text/plain": [
              "{1, 2, 3}"
            ]
          },
          "metadata": {},
          "execution_count": 1065
        }
      ],
      "source": [
        "### 3. differnece\n",
        "a={1,2,3,4,5}\n",
        "b={4,5,6,7,8}\n",
        "a-b"
      ]
    },
    {
      "cell_type": "code",
      "execution_count": null,
      "id": "15515aeb-bbb8-48ac-818b-3aec9d45c59a",
      "metadata": {
        "id": "15515aeb-bbb8-48ac-818b-3aec9d45c59a",
        "outputId": "05ab3b76-2d3e-42fb-ab48-66a7c195446c",
        "colab": {
          "base_uri": "https://localhost:8080/"
        }
      },
      "outputs": [
        {
          "output_type": "execute_result",
          "data": {
            "text/plain": [
              "{1, 2, 3, 6, 7, 8}"
            ]
          },
          "metadata": {},
          "execution_count": 1066
        }
      ],
      "source": [
        "### 4. symmetric difference\n",
        "a={1,2,3,4,5}\n",
        "b={4,5,6,7,8}\n",
        "a^b"
      ]
    },
    {
      "cell_type": "code",
      "execution_count": null,
      "id": "7c40866c-942a-4dc8-9f75-a4f8ce2fc0b7",
      "metadata": {
        "id": "7c40866c-942a-4dc8-9f75-a4f8ce2fc0b7"
      },
      "outputs": [],
      "source": [
        "## Sets Important methods\n",
        "##1. issubset\n",
        "a = {1,2,3,4,5,6,7,8,9,10}\n",
        "b= {1,5,15,8}"
      ]
    },
    {
      "cell_type": "code",
      "execution_count": null,
      "id": "94250c37-da4f-4213-b7ca-a69919e2ae0d",
      "metadata": {
        "id": "94250c37-da4f-4213-b7ca-a69919e2ae0d",
        "outputId": "ed76084e-b50c-4150-f2eb-b8beaf3eb582",
        "colab": {
          "base_uri": "https://localhost:8080/"
        }
      },
      "outputs": [
        {
          "output_type": "execute_result",
          "data": {
            "text/plain": [
              "False"
            ]
          },
          "metadata": {},
          "execution_count": 1068
        }
      ],
      "source": [
        "b.issubset(a)"
      ]
    },
    {
      "cell_type": "code",
      "execution_count": null,
      "id": "a494eeee-b530-47da-a4a6-f755c5f1ed0c",
      "metadata": {
        "id": "a494eeee-b530-47da-a4a6-f755c5f1ed0c",
        "outputId": "23fce022-57f6-4f9a-a914-9af74d816456",
        "colab": {
          "base_uri": "https://localhost:8080/"
        }
      },
      "outputs": [
        {
          "output_type": "execute_result",
          "data": {
            "text/plain": [
              "False"
            ]
          },
          "metadata": {},
          "execution_count": 1069
        }
      ],
      "source": [
        "### isdisjoint\n",
        "a = {1,2,3,4,5}\n",
        "b= {3,4,5,6,7,8}\n",
        "a.isdisjoint(b)"
      ]
    },
    {
      "cell_type": "code",
      "execution_count": null,
      "id": "01bc839b-29d0-4bb6-a20e-11af3b79bce8",
      "metadata": {
        "id": "01bc839b-29d0-4bb6-a20e-11af3b79bce8"
      },
      "outputs": [],
      "source": [
        "### False : intersection is there\n",
        "### True : no intersection"
      ]
    },
    {
      "cell_type": "code",
      "execution_count": null,
      "id": "8b4323d3-a462-4fc5-bf33-63f344224802",
      "metadata": {
        "id": "8b4323d3-a462-4fc5-bf33-63f344224802"
      },
      "outputs": [],
      "source": []
    },
    {
      "cell_type": "markdown",
      "id": "da4b13fa-9456-4b8c-9a40-ded64cbbed77",
      "metadata": {
        "id": "da4b13fa-9456-4b8c-9a40-ded64cbbed77"
      },
      "source": [
        "### 12. Python Dictionaries"
      ]
    },
    {
      "cell_type": "code",
      "execution_count": null,
      "id": "c5ba6a9c-1532-4b6c-82d5-a9b46401e201",
      "metadata": {
        "id": "c5ba6a9c-1532-4b6c-82d5-a9b46401e201"
      },
      "outputs": [],
      "source": [
        "a = {\n",
        "    \"brand\" : \"Ford\",\n",
        "    \"model\" : \"Ecossport\",\n",
        "    \"year\" : 2004,\n",
        "}"
      ]
    },
    {
      "cell_type": "code",
      "execution_count": null,
      "id": "31c42780-c88d-479c-a1b2-910498cc57bb",
      "metadata": {
        "id": "31c42780-c88d-479c-a1b2-910498cc57bb",
        "outputId": "b927fe47-9af9-4072-a482-e1d4edbd941c",
        "colab": {
          "base_uri": "https://localhost:8080/"
        }
      },
      "outputs": [
        {
          "output_type": "execute_result",
          "data": {
            "text/plain": [
              "{'brand': 'Ford', 'model': 'Ecossport', 'year': 2004}"
            ]
          },
          "metadata": {},
          "execution_count": 1072
        }
      ],
      "source": [
        "a"
      ]
    },
    {
      "cell_type": "code",
      "execution_count": null,
      "id": "8d93db92-c2ee-448e-b18b-c11b4c9b486c",
      "metadata": {
        "id": "8d93db92-c2ee-448e-b18b-c11b4c9b486c",
        "outputId": "9e060cea-3aa4-4c9f-b2a6-7c642023aba3",
        "colab": {
          "base_uri": "https://localhost:8080/"
        }
      },
      "outputs": [
        {
          "output_type": "execute_result",
          "data": {
            "text/plain": [
              "2004"
            ]
          },
          "metadata": {},
          "execution_count": 1073
        }
      ],
      "source": [
        "a[\"year\"]"
      ]
    },
    {
      "cell_type": "code",
      "execution_count": null,
      "id": "4bade0bf-4274-4796-97ed-bd0d2a4c285e",
      "metadata": {
        "id": "4bade0bf-4274-4796-97ed-bd0d2a4c285e"
      },
      "outputs": [],
      "source": [
        "a[\"year\"] = 2010"
      ]
    },
    {
      "cell_type": "code",
      "execution_count": null,
      "id": "80aac79e-acc4-49a9-a0b5-22b12abbcced",
      "metadata": {
        "id": "80aac79e-acc4-49a9-a0b5-22b12abbcced",
        "outputId": "92aff576-7341-4343-bd3b-67983a23b753",
        "colab": {
          "base_uri": "https://localhost:8080/"
        }
      },
      "outputs": [
        {
          "output_type": "stream",
          "name": "stdout",
          "text": [
            "{'brand': 'Ford', 'model': 'Ecossport', 'year': 2010}\n"
          ]
        }
      ],
      "source": [
        "print(a)"
      ]
    },
    {
      "cell_type": "code",
      "execution_count": null,
      "id": "55abbc3e-a982-4818-9439-c03bff447cb8",
      "metadata": {
        "id": "55abbc3e-a982-4818-9439-c03bff447cb8",
        "outputId": "66360f86-1b1c-484b-fead-0bacd8348849",
        "colab": {
          "base_uri": "https://localhost:8080/",
          "height": 36
        }
      },
      "outputs": [
        {
          "output_type": "execute_result",
          "data": {
            "text/plain": [
              "'Ford'"
            ],
            "application/vnd.google.colaboratory.intrinsic+json": {
              "type": "string"
            }
          },
          "metadata": {},
          "execution_count": 1076
        }
      ],
      "source": [
        "a[\"brand\"]"
      ]
    },
    {
      "cell_type": "code",
      "execution_count": null,
      "id": "d0509daf-3828-4471-a920-865a87125a77",
      "metadata": {
        "id": "d0509daf-3828-4471-a920-865a87125a77",
        "outputId": "774e595d-6e2c-4fbc-ea20-4249d88b36a6",
        "colab": {
          "base_uri": "https://localhost:8080/",
          "height": 36
        }
      },
      "outputs": [
        {
          "output_type": "execute_result",
          "data": {
            "text/plain": [
              "'Ford'"
            ],
            "application/vnd.google.colaboratory.intrinsic+json": {
              "type": "string"
            }
          },
          "metadata": {},
          "execution_count": 1077
        }
      ],
      "source": [
        "##get method()\n",
        "a.get(\"brand\")"
      ]
    },
    {
      "cell_type": "code",
      "execution_count": null,
      "id": "9b0cb369-42e8-4971-8e44-fc4dc7345397",
      "metadata": {
        "id": "9b0cb369-42e8-4971-8e44-fc4dc7345397",
        "outputId": "ecbda35f-b3ff-4cc1-a2bc-b6c7523c651b",
        "colab": {
          "base_uri": "https://localhost:8080/"
        }
      },
      "outputs": [
        {
          "output_type": "execute_result",
          "data": {
            "text/plain": [
              "dict_keys(['brand', 'model', 'year'])"
            ]
          },
          "metadata": {},
          "execution_count": 1078
        }
      ],
      "source": [
        "a.keys()"
      ]
    },
    {
      "cell_type": "code",
      "execution_count": null,
      "id": "44efd7ef-7c68-4320-8440-cede8714d237",
      "metadata": {
        "id": "44efd7ef-7c68-4320-8440-cede8714d237",
        "outputId": "5c7e6e6f-3c14-414e-b5cc-db12a092864a",
        "colab": {
          "base_uri": "https://localhost:8080/"
        }
      },
      "outputs": [
        {
          "output_type": "execute_result",
          "data": {
            "text/plain": [
              "dict_values(['Ford', 'Ecossport', 2010])"
            ]
          },
          "metadata": {},
          "execution_count": 1079
        }
      ],
      "source": [
        "a.values()"
      ]
    },
    {
      "cell_type": "code",
      "execution_count": null,
      "id": "594a7dd1-25cc-4ec6-b4a9-763f320f22bf",
      "metadata": {
        "id": "594a7dd1-25cc-4ec6-b4a9-763f320f22bf",
        "outputId": "435f1680-25b7-4ca9-be57-2056887e6a42",
        "colab": {
          "base_uri": "https://localhost:8080/"
        }
      },
      "outputs": [
        {
          "output_type": "execute_result",
          "data": {
            "text/plain": [
              "dict_items([('brand', 'Ford'), ('model', 'Ecossport'), ('year', 2010)])"
            ]
          },
          "metadata": {},
          "execution_count": 1080
        }
      ],
      "source": [
        "a.items()"
      ]
    },
    {
      "cell_type": "code",
      "execution_count": null,
      "id": "acfae925-7b7c-4655-9dbf-eae9cab876b3",
      "metadata": {
        "id": "acfae925-7b7c-4655-9dbf-eae9cab876b3"
      },
      "outputs": [],
      "source": [
        "### Change in dictionary\n",
        "a[\"year\"] = 2011"
      ]
    },
    {
      "cell_type": "code",
      "execution_count": null,
      "id": "bfee7cf3-52d4-415d-803a-927c2221b58e",
      "metadata": {
        "id": "bfee7cf3-52d4-415d-803a-927c2221b58e",
        "outputId": "5f53623a-f8f1-4a2e-ed56-02ff448c119b",
        "colab": {
          "base_uri": "https://localhost:8080/"
        }
      },
      "outputs": [
        {
          "output_type": "execute_result",
          "data": {
            "text/plain": [
              "{'brand': 'Ford', 'model': 'Ecossport', 'year': 2011}"
            ]
          },
          "metadata": {},
          "execution_count": 1082
        }
      ],
      "source": [
        "a"
      ]
    },
    {
      "cell_type": "code",
      "execution_count": null,
      "id": "b14b28d4-40fa-4df5-a45d-289dd13a8017",
      "metadata": {
        "id": "b14b28d4-40fa-4df5-a45d-289dd13a8017",
        "outputId": "198fd3c0-9ce1-4178-96d9-e29b80f4aa8e",
        "colab": {
          "base_uri": "https://localhost:8080/"
        }
      },
      "outputs": [
        {
          "output_type": "execute_result",
          "data": {
            "text/plain": [
              "{'brand': 'Ford', 'model': 'Ecossport', 'year': 2011}"
            ]
          },
          "metadata": {},
          "execution_count": 1083
        }
      ],
      "source": [
        "### add items in dictionary\n",
        "a"
      ]
    },
    {
      "cell_type": "code",
      "execution_count": null,
      "id": "8f4d7d2a-bfd3-405a-91ff-baab45ba1f37",
      "metadata": {
        "id": "8f4d7d2a-bfd3-405a-91ff-baab45ba1f37"
      },
      "outputs": [],
      "source": [
        "a[\"color\"] = \"red\""
      ]
    },
    {
      "cell_type": "code",
      "execution_count": null,
      "id": "fd27010f-3b7e-4cdc-8f95-15e875fef14a",
      "metadata": {
        "id": "fd27010f-3b7e-4cdc-8f95-15e875fef14a",
        "outputId": "d2a46a74-5056-41a2-e1a5-d7242734aaa2",
        "colab": {
          "base_uri": "https://localhost:8080/"
        }
      },
      "outputs": [
        {
          "output_type": "execute_result",
          "data": {
            "text/plain": [
              "{'brand': 'Ford', 'model': 'Ecossport', 'year': 2011, 'color': 'red'}"
            ]
          },
          "metadata": {},
          "execution_count": 1085
        }
      ],
      "source": [
        "a"
      ]
    },
    {
      "cell_type": "code",
      "execution_count": null,
      "id": "a89cc117-b6a9-40de-aaa7-559c66d00341",
      "metadata": {
        "id": "a89cc117-b6a9-40de-aaa7-559c66d00341"
      },
      "outputs": [],
      "source": [
        "### update method\n",
        "a.update({\"wheels\" : 4 , \"engine\":\"4400cc\"})"
      ]
    },
    {
      "cell_type": "code",
      "execution_count": null,
      "id": "3704470d-30d5-4d5e-8c57-73fe312d7d54",
      "metadata": {
        "id": "3704470d-30d5-4d5e-8c57-73fe312d7d54",
        "outputId": "18d67490-6766-4131-b59b-8c8ca72c1f2d",
        "colab": {
          "base_uri": "https://localhost:8080/"
        }
      },
      "outputs": [
        {
          "output_type": "execute_result",
          "data": {
            "text/plain": [
              "{'brand': 'Ford',\n",
              " 'model': 'Ecossport',\n",
              " 'year': 2011,\n",
              " 'color': 'red',\n",
              " 'wheels': 4,\n",
              " 'engine': '4400cc'}"
            ]
          },
          "metadata": {},
          "execution_count": 1087
        }
      ],
      "source": [
        "a"
      ]
    },
    {
      "cell_type": "code",
      "execution_count": null,
      "id": "606ff88f-45df-406a-b226-2f3043d9e07c",
      "metadata": {
        "id": "606ff88f-45df-406a-b226-2f3043d9e07c",
        "outputId": "af4857c3-8532-40eb-fcac-78366c355e0c",
        "colab": {
          "base_uri": "https://localhost:8080/",
          "height": 36
        }
      },
      "outputs": [
        {
          "output_type": "execute_result",
          "data": {
            "text/plain": [
              "'4400cc'"
            ],
            "application/vnd.google.colaboratory.intrinsic+json": {
              "type": "string"
            }
          },
          "metadata": {},
          "execution_count": 1088
        }
      ],
      "source": [
        "### Remove items\n",
        "## 1. pop method\n",
        "a.pop(\"engine\")"
      ]
    },
    {
      "cell_type": "code",
      "execution_count": null,
      "id": "13b63700-11be-4bcf-9973-19fb71e362b3",
      "metadata": {
        "id": "13b63700-11be-4bcf-9973-19fb71e362b3",
        "outputId": "a9fa422e-0e2f-4c63-f9fa-94ca86385beb",
        "colab": {
          "base_uri": "https://localhost:8080/"
        }
      },
      "outputs": [
        {
          "output_type": "execute_result",
          "data": {
            "text/plain": [
              "{'brand': 'Ford',\n",
              " 'model': 'Ecossport',\n",
              " 'year': 2011,\n",
              " 'color': 'red',\n",
              " 'wheels': 4}"
            ]
          },
          "metadata": {},
          "execution_count": 1089
        }
      ],
      "source": [
        "a"
      ]
    },
    {
      "cell_type": "code",
      "execution_count": null,
      "id": "e20822ae-7750-4918-8bab-9fe3a1fb9bfd",
      "metadata": {
        "id": "e20822ae-7750-4918-8bab-9fe3a1fb9bfd",
        "outputId": "2011f444-5d55-430a-a9dc-1718b915e4b0",
        "colab": {
          "base_uri": "https://localhost:8080/"
        }
      },
      "outputs": [
        {
          "output_type": "execute_result",
          "data": {
            "text/plain": [
              "('wheels', 4)"
            ]
          },
          "metadata": {},
          "execution_count": 1090
        }
      ],
      "source": [
        "### 2. popitem\n",
        "a.popitem()"
      ]
    },
    {
      "cell_type": "code",
      "execution_count": null,
      "id": "52e90d91-4de5-4ccf-be9e-8a7976970f7c",
      "metadata": {
        "id": "52e90d91-4de5-4ccf-be9e-8a7976970f7c",
        "outputId": "425a9a11-15fe-4f90-f569-c5aac3b769c4",
        "colab": {
          "base_uri": "https://localhost:8080/"
        }
      },
      "outputs": [
        {
          "output_type": "execute_result",
          "data": {
            "text/plain": [
              "{'brand': 'Ford', 'model': 'Ecossport', 'year': 2011, 'color': 'red'}"
            ]
          },
          "metadata": {},
          "execution_count": 1091
        }
      ],
      "source": [
        "a"
      ]
    },
    {
      "cell_type": "code",
      "execution_count": null,
      "id": "2590d749-2a03-4d19-9263-7e3a2b799ee5",
      "metadata": {
        "id": "2590d749-2a03-4d19-9263-7e3a2b799ee5",
        "outputId": "3df8023f-cd6d-4c25-ca4a-3d757e257eb1",
        "colab": {
          "base_uri": "https://localhost:8080/"
        }
      },
      "outputs": [
        {
          "output_type": "execute_result",
          "data": {
            "text/plain": [
              "{'brand': 'Ford', 'model': 'Ecossport', 'year': 2011, 'color': 'red'}"
            ]
          },
          "metadata": {},
          "execution_count": 1092
        }
      ],
      "source": [
        "### copy\n",
        "a"
      ]
    },
    {
      "cell_type": "code",
      "execution_count": null,
      "id": "5a7d96de-add7-44a2-b8c4-7b2716bf17fb",
      "metadata": {
        "id": "5a7d96de-add7-44a2-b8c4-7b2716bf17fb"
      },
      "outputs": [],
      "source": [
        "b = a.copy()"
      ]
    },
    {
      "cell_type": "code",
      "execution_count": null,
      "id": "96477399-472e-4ae4-8bd6-643fe5c96763",
      "metadata": {
        "id": "96477399-472e-4ae4-8bd6-643fe5c96763",
        "outputId": "66b23954-2357-4d7d-e31a-e2b295d2261e",
        "colab": {
          "base_uri": "https://localhost:8080/"
        }
      },
      "outputs": [
        {
          "output_type": "stream",
          "name": "stdout",
          "text": [
            "{'brand': 'Ford', 'model': 'Ecossport', 'year': 2011, 'color': 'red'}\n"
          ]
        }
      ],
      "source": [
        "print(b)"
      ]
    },
    {
      "cell_type": "markdown",
      "id": "5952ab45-e61f-447e-8d0b-3daa266372fc",
      "metadata": {
        "id": "5952ab45-e61f-447e-8d0b-3daa266372fc"
      },
      "source": [
        "### NESTED DICTIONARIES"
      ]
    },
    {
      "cell_type": "code",
      "execution_count": null,
      "id": "ee830aaf-8aaf-4f3c-a0b7-b7f52bafd67c",
      "metadata": {
        "id": "ee830aaf-8aaf-4f3c-a0b7-b7f52bafd67c",
        "outputId": "2d964b85-63eb-4510-e4fe-ae70eedb1d89",
        "colab": {
          "base_uri": "https://localhost:8080/"
        }
      },
      "outputs": [
        {
          "output_type": "stream",
          "name": "stdout",
          "text": [
            "{'student1': {'english': 99, 'hindi': 88}, 'student2': {'english': 87, 'hindi': 55}}\n"
          ]
        }
      ],
      "source": [
        "exams = {\n",
        "    \"student1\" : {\"english\" : 99 , \"hindi\":88},\n",
        "    \"student2\" : {\"english\" : 87 , \"hindi\" :55}\n",
        "}\n",
        "print(exams)"
      ]
    },
    {
      "cell_type": "code",
      "execution_count": null,
      "id": "aafb369f-c3ae-402c-8b38-e635498106ab",
      "metadata": {
        "id": "aafb369f-c3ae-402c-8b38-e635498106ab",
        "outputId": "64140def-f710-4f20-ee66-b94778173075",
        "colab": {
          "base_uri": "https://localhost:8080/"
        }
      },
      "outputs": [
        {
          "output_type": "execute_result",
          "data": {
            "text/plain": [
              "88"
            ]
          },
          "metadata": {},
          "execution_count": 1096
        }
      ],
      "source": [
        "exams[\"student1\"][\"hindi\"]"
      ]
    },
    {
      "cell_type": "code",
      "execution_count": null,
      "id": "f355b420-fbfa-4025-b924-d78d1ac4f09c",
      "metadata": {
        "id": "f355b420-fbfa-4025-b924-d78d1ac4f09c",
        "outputId": "966cc443-7a1a-4b49-9ead-0b2482cddd8d",
        "colab": {
          "base_uri": "https://localhost:8080/"
        }
      },
      "outputs": [
        {
          "output_type": "execute_result",
          "data": {
            "text/plain": [
              "87"
            ]
          },
          "metadata": {},
          "execution_count": 1097
        }
      ],
      "source": [
        "exams[\"student2\"][\"english\"]"
      ]
    },
    {
      "cell_type": "code",
      "execution_count": null,
      "id": "af6a6364-9e03-4ee3-889b-b73306087eb0",
      "metadata": {
        "id": "af6a6364-9e03-4ee3-889b-b73306087eb0"
      },
      "outputs": [],
      "source": []
    },
    {
      "cell_type": "code",
      "execution_count": null,
      "id": "a3d3832d-21d3-4d8c-a30a-a7aeb3ebaf4e",
      "metadata": {
        "id": "a3d3832d-21d3-4d8c-a30a-a7aeb3ebaf4e"
      },
      "outputs": [],
      "source": []
    },
    {
      "cell_type": "markdown",
      "id": "77dc9148-118c-447f-9dd2-98b74e84c671",
      "metadata": {
        "id": "77dc9148-118c-447f-9dd2-98b74e84c671"
      },
      "source": [
        "### 13. Python Conditional Statements"
      ]
    },
    {
      "cell_type": "code",
      "execution_count": null,
      "id": "34009db0-dd3b-4750-971c-2578303d6e86",
      "metadata": {
        "id": "34009db0-dd3b-4750-971c-2578303d6e86",
        "outputId": "c5260dae-c61a-4fc3-89a9-1b5bb02ac0fa",
        "colab": {
          "base_uri": "https://localhost:8080/"
        }
      },
      "outputs": [
        {
          "output_type": "stream",
          "name": "stdout",
          "text": [
            "Cant drive\n"
          ]
        }
      ],
      "source": [
        "age = 16\n",
        "if age>18:\n",
        "    print(\"Can Drive\")\n",
        "else:\n",
        "    print(\"Cant drive\")"
      ]
    },
    {
      "cell_type": "code",
      "execution_count": null,
      "id": "28232bf5-8e61-4cd9-940b-c04a8d4c5d38",
      "metadata": {
        "id": "28232bf5-8e61-4cd9-940b-c04a8d4c5d38",
        "outputId": "5f8058f5-69c6-432f-81db-e8bb05c90386",
        "colab": {
          "base_uri": "https://localhost:8080/"
        }
      },
      "outputs": [
        {
          "output_type": "stream",
          "name": "stdout",
          "text": [
            "He can neither drive nor vote\n"
          ]
        }
      ],
      "source": [
        "age = 19\n",
        "voter_card=\"no\"\n",
        "license=\"no\"\n",
        "\n",
        "if (age>18 and license==\"yes\" and voter_card==\"yes\"):\n",
        "    print(\"He can drive and Vote\")\n",
        "\n",
        "elif (age>18 and license==\"yes\" and voter_card!=\"yes\"):\n",
        "    print(\"He can drive but cant vote\")\n",
        "\n",
        "elif (age>18 and license!=\"yes\" and voter_card==\"yes\"):\n",
        "    print(\"He can vote but cant drive\")\n",
        "\n",
        "else:\n",
        "    print(\"He can neither drive nor vote\")"
      ]
    },
    {
      "cell_type": "code",
      "execution_count": null,
      "id": "4fddf704-c4fb-4d15-a9ef-6cdc963ab14c",
      "metadata": {
        "id": "4fddf704-c4fb-4d15-a9ef-6cdc963ab14c"
      },
      "outputs": [],
      "source": [
        "## NESTED IF_ELSE\n",
        "\n",
        "debarred = \"no\"\n",
        "percentage = 99"
      ]
    },
    {
      "cell_type": "code",
      "execution_count": null,
      "id": "00a5aab6-b63a-4d4a-aa09-b765d9e7a33a",
      "metadata": {
        "id": "00a5aab6-b63a-4d4a-aa09-b765d9e7a33a",
        "outputId": "ac6358eb-7447-4a05-8e64-1cf667e65a4a",
        "colab": {
          "base_uri": "https://localhost:8080/"
        }
      },
      "outputs": [
        {
          "output_type": "stream",
          "name": "stdout",
          "text": [
            "A+\n"
          ]
        }
      ],
      "source": [
        "if debarred!=\"yes\":\n",
        "\n",
        "    if percentage>90:\n",
        "        print(\"A+\")\n",
        "    elif percentage>70:\n",
        "        print(\"A\")\n",
        "    else:\n",
        "        print(\"B\")\n",
        "else:\n",
        "    print(\"You cannot get any grade due to low attendance\")"
      ]
    },
    {
      "cell_type": "code",
      "execution_count": null,
      "id": "ea386319-8310-4310-8b76-c3a170cc1f77",
      "metadata": {
        "id": "ea386319-8310-4310-8b76-c3a170cc1f77"
      },
      "outputs": [],
      "source": [
        "### pass statements\n",
        "age=18\n",
        "if age>18:\n",
        "   pass"
      ]
    },
    {
      "cell_type": "code",
      "execution_count": null,
      "id": "f1d8d1d0-3788-4904-8d2a-b6b56e990734",
      "metadata": {
        "id": "f1d8d1d0-3788-4904-8d2a-b6b56e990734",
        "outputId": "6f5ce404-49b5-4f98-f95b-d099d908e7b8",
        "colab": {
          "base_uri": "https://localhost:8080/"
        }
      },
      "outputs": [
        {
          "output_type": "stream",
          "name": "stdout",
          "text": [
            "Not prresent\n"
          ]
        }
      ],
      "source": [
        "list1= [1,3,5,8,9,10]\n",
        "\n",
        "if 11 in list1:\n",
        "    print(\"Present\")\n",
        "else:\n",
        "    print(\"Not prresent\")"
      ]
    },
    {
      "cell_type": "code",
      "execution_count": null,
      "id": "d018a2b1-e0bd-474d-a489-3be0ecb0f46b",
      "metadata": {
        "id": "d018a2b1-e0bd-474d-a489-3be0ecb0f46b"
      },
      "outputs": [],
      "source": []
    },
    {
      "cell_type": "code",
      "execution_count": null,
      "id": "901ab958-2d35-4da5-8e02-dda66886dc61",
      "metadata": {
        "id": "901ab958-2d35-4da5-8e02-dda66886dc61"
      },
      "outputs": [],
      "source": []
    },
    {
      "cell_type": "code",
      "execution_count": null,
      "id": "e2323cc9-9207-4305-a7cc-27044363884f",
      "metadata": {
        "id": "e2323cc9-9207-4305-a7cc-27044363884f"
      },
      "outputs": [],
      "source": []
    },
    {
      "cell_type": "code",
      "execution_count": null,
      "id": "4ff2aea1-1451-4220-ad81-151619d429a0",
      "metadata": {
        "id": "4ff2aea1-1451-4220-ad81-151619d429a0",
        "outputId": "11c141c5-da45-471b-9e08-3e0354964053",
        "colab": {
          "base_uri": "https://localhost:8080/"
        }
      },
      "outputs": [
        {
          "output_type": "stream",
          "name": "stdout",
          "text": [
            "Execution time for if statement approach: 0.05254232400000092\n",
            "Execution time for if-elif statement approach: 0.02700892699999713\n"
          ]
        }
      ],
      "source": [
        "#### IF_IF VS IF_ELIF\n",
        "import timeit\n",
        "# Define the code for the if statement approach\n",
        "if_statement_code = \"\"\"\n",
        "score = 75\n",
        "\n",
        "if score >= 90:\n",
        "    grade = \"A\"\n",
        "if score >= 80 and score < 90:\n",
        "    grade = \"B\"\n",
        "if score >= 70 and score < 80:\n",
        "    grade = \"C\"\n",
        "if score >= 60 and score < 70:\n",
        "    grade = \"D\"\n",
        "if score < 60:\n",
        "    grade = \"F\"\n",
        "\"\"\"\n",
        "\n",
        "# Define the code for the if-elif statement approach\n",
        "if_elif_statement_code = \"\"\"\n",
        "score = 75\n",
        "\n",
        "if score >= 90:\n",
        "    grade = \"A\"\n",
        "elif score >= 80:\n",
        "    grade = \"B\"\n",
        "elif score >= 70:\n",
        "    grade = \"C\"\n",
        "elif score >= 60:\n",
        "    grade = \"D\"\n",
        "else:\n",
        "    grade = \"F\"\n",
        "\"\"\"\n",
        "\n",
        "# Measure the execution time for the if statement approach\n",
        "if_time = timeit.timeit(stmt=if_statement_code, number=100000)\n",
        "\n",
        "# Measure the execution time for the if-elif statement approach\n",
        "if_elif_time = timeit.timeit(stmt=if_elif_statement_code, number=100000)\n",
        "\n",
        "print(\"Execution time for if statement approach:\", if_time)\n",
        "print(\"Execution time for if-elif statement approach:\", if_elif_time)"
      ]
    },
    {
      "cell_type": "markdown",
      "id": "e185333e-5583-4dbd-b2f8-029f22a24ce2",
      "metadata": {
        "id": "e185333e-5583-4dbd-b2f8-029f22a24ce2"
      },
      "source": [
        "### 14. Python Looping Statements"
      ]
    },
    {
      "cell_type": "markdown",
      "id": "1b9e2578-4832-4fe7-b79c-09ef7ffcf33c",
      "metadata": {
        "id": "1b9e2578-4832-4fe7-b79c-09ef7ffcf33c"
      },
      "source": [
        "#### a. FOR LOOPS"
      ]
    },
    {
      "cell_type": "code",
      "execution_count": null,
      "id": "4c372e69-6ad2-4b3d-88fe-36cf92c1aef9",
      "metadata": {
        "id": "4c372e69-6ad2-4b3d-88fe-36cf92c1aef9",
        "outputId": "f2c8c61b-2435-4596-bb11-abc56991dc73",
        "colab": {
          "base_uri": "https://localhost:8080/"
        }
      },
      "outputs": [
        {
          "output_type": "stream",
          "name": "stdout",
          "text": [
            "R\n",
            "a\n",
            "g\n",
            "h\n",
            "a\n",
            "v\n",
            " \n",
            "S\n",
            "h\n",
            "a\n",
            "r\n",
            "m\n",
            "a\n"
          ]
        }
      ],
      "source": [
        "name = \"Raghav Sharma\"\n",
        "for i in name:\n",
        "    print(i)"
      ]
    },
    {
      "cell_type": "code",
      "execution_count": null,
      "id": "f10b1cf9-5307-4e36-a045-cbc35b7a0dd3",
      "metadata": {
        "id": "f10b1cf9-5307-4e36-a045-cbc35b7a0dd3",
        "outputId": "543000dc-d76b-4a87-b3c1-44ab08f1898b",
        "colab": {
          "base_uri": "https://localhost:8080/"
        }
      },
      "outputs": [
        {
          "output_type": "stream",
          "name": "stdout",
          "text": [
            "1\n",
            "2\n",
            "3\n",
            "4\n",
            "5\n"
          ]
        }
      ],
      "source": [
        "list1=[1,2,3,4,5]\n",
        "for i in list1:\n",
        "    print(i)"
      ]
    },
    {
      "cell_type": "code",
      "execution_count": null,
      "id": "5a906ccb-f24e-431a-81b3-a853ac9f6020",
      "metadata": {
        "id": "5a906ccb-f24e-431a-81b3-a853ac9f6020"
      },
      "outputs": [],
      "source": [
        "### range(start,end)"
      ]
    },
    {
      "cell_type": "code",
      "execution_count": null,
      "id": "7c42cfc9-2503-4b21-abc9-1dc10406bd85",
      "metadata": {
        "id": "7c42cfc9-2503-4b21-abc9-1dc10406bd85",
        "outputId": "313c2a39-8cd6-40f4-f889-d163ea98c344",
        "colab": {
          "base_uri": "https://localhost:8080/"
        }
      },
      "outputs": [
        {
          "output_type": "stream",
          "name": "stdout",
          "text": [
            "Hello World\n",
            "Hello World\n",
            "Hello World\n",
            "Hello World\n",
            "Hello World\n",
            "Hello World\n",
            "Hello World\n",
            "Hello World\n",
            "Hello World\n",
            "Hello World\n"
          ]
        }
      ],
      "source": [
        "for i in range(0,10):\n",
        "    print(\"Hello World\")"
      ]
    },
    {
      "cell_type": "code",
      "execution_count": null,
      "id": "9598fb78-f8d0-48f6-8c2d-180890c7dc64",
      "metadata": {
        "id": "9598fb78-f8d0-48f6-8c2d-180890c7dc64",
        "outputId": "7ccb440b-e2f2-4799-ff6d-1cbbe6e03f39",
        "colab": {
          "base_uri": "https://localhost:8080/"
        }
      },
      "outputs": [
        {
          "output_type": "stream",
          "name": "stdout",
          "text": [
            "1\n",
            "2\n",
            "3\n",
            "4\n"
          ]
        }
      ],
      "source": [
        "### break and continue\n",
        "### 1. break : terminate the loop if condition is true\n",
        "\n",
        "list1 = [1,2,3,4,5,6,7,8,9]\n",
        "for i in list1:\n",
        "    if i==5:\n",
        "        break\n",
        "    else:\n",
        "        print(i)"
      ]
    },
    {
      "cell_type": "code",
      "execution_count": null,
      "id": "66cc1e4e-f280-4bf7-844c-29ad4ad4f159",
      "metadata": {
        "id": "66cc1e4e-f280-4bf7-844c-29ad4ad4f159",
        "outputId": "28970cab-918e-4cfe-e7e2-87ef392cd885",
        "colab": {
          "base_uri": "https://localhost:8080/"
        }
      },
      "outputs": [
        {
          "output_type": "stream",
          "name": "stdout",
          "text": [
            "1\n",
            "2\n",
            "3\n",
            "4\n",
            "6\n",
            "7\n",
            "8\n",
            "9\n"
          ]
        }
      ],
      "source": [
        "### 2. continue : skips the element according to condition\n",
        "list1 = [1,2,3,4,5,6,7,8,9]\n",
        "for i in list1:\n",
        "    if i==5:\n",
        "        continue\n",
        "    else:\n",
        "        print(i)"
      ]
    },
    {
      "cell_type": "code",
      "execution_count": null,
      "id": "a8c7fee1-b048-494d-8ac4-5641d6856fdb",
      "metadata": {
        "id": "a8c7fee1-b048-494d-8ac4-5641d6856fdb"
      },
      "outputs": [],
      "source": [
        "for i in  list1:\n",
        "    pass"
      ]
    },
    {
      "cell_type": "code",
      "execution_count": null,
      "id": "ac3f5380-5fee-4c52-964e-3936e1f5d1b4",
      "metadata": {
        "id": "ac3f5380-5fee-4c52-964e-3936e1f5d1b4"
      },
      "outputs": [],
      "source": [
        "### Nested FOR LOOPS"
      ]
    },
    {
      "cell_type": "code",
      "execution_count": null,
      "id": "09fbb8fd-3cd0-45a1-b0df-ec7f22844715",
      "metadata": {
        "id": "09fbb8fd-3cd0-45a1-b0df-ec7f22844715",
        "outputId": "fa563e7b-7ce1-4483-e33f-9c49bd9ab849",
        "colab": {
          "base_uri": "https://localhost:8080/"
        }
      },
      "outputs": [
        {
          "output_type": "stream",
          "name": "stdout",
          "text": [
            "red apple\n",
            "red banana\n",
            "red guava\n",
            "yellow apple\n",
            "yellow banana\n",
            "yellow guava\n",
            "green apple\n",
            "green banana\n",
            "green guava\n"
          ]
        }
      ],
      "source": [
        "adj = [\"red\" , \"yellow\" , \"green\"]\n",
        "fruits=[\"apple\",\"banana\",\"guava\"]\n",
        "\n",
        "for i in adj:\n",
        "    for j in fruits:\n",
        "        print(i,j)"
      ]
    },
    {
      "cell_type": "code",
      "execution_count": null,
      "id": "31d35a74-9b40-4f37-9778-f782b802a519",
      "metadata": {
        "id": "31d35a74-9b40-4f37-9778-f782b802a519"
      },
      "outputs": [],
      "source": []
    },
    {
      "cell_type": "markdown",
      "id": "a427b3df-19a4-42c3-82f7-0c5433f325d9",
      "metadata": {
        "id": "a427b3df-19a4-42c3-82f7-0c5433f325d9"
      },
      "source": [
        "#### b. While Loops"
      ]
    },
    {
      "cell_type": "code",
      "execution_count": null,
      "id": "f28d6bde-82ab-4226-95b6-8327ceb26f88",
      "metadata": {
        "id": "f28d6bde-82ab-4226-95b6-8327ceb26f88",
        "outputId": "e7bff3e1-b961-44a5-9193-874fb20a3c73",
        "colab": {
          "base_uri": "https://localhost:8080/"
        }
      },
      "outputs": [
        {
          "output_type": "stream",
          "name": "stdout",
          "text": [
            "1\n",
            "2\n",
            "3\n",
            "4\n",
            "5\n",
            "Number is no longer less than 6\n"
          ]
        }
      ],
      "source": [
        "i=1\n",
        "\n",
        "while i<6:\n",
        "    print(i)\n",
        "    i=i+1\n",
        "else:\n",
        "    print(\"Number is no longer less than 6\")"
      ]
    },
    {
      "cell_type": "markdown",
      "id": "adde0d62-1603-452c-8158-9e9b1c7d6d9e",
      "metadata": {
        "id": "adde0d62-1603-452c-8158-9e9b1c7d6d9e"
      },
      "source": [
        "### 15. Python Functions"
      ]
    },
    {
      "cell_type": "code",
      "execution_count": null,
      "id": "1535b780-2bb1-4a54-95c0-00c40fadc90a",
      "metadata": {
        "id": "1535b780-2bb1-4a54-95c0-00c40fadc90a"
      },
      "outputs": [],
      "source": [
        "def my_function():\n",
        "    print(\"Hello from a function\")"
      ]
    },
    {
      "cell_type": "code",
      "execution_count": null,
      "id": "084b7651-de9e-45a0-9c33-43f292b523a3",
      "metadata": {
        "id": "084b7651-de9e-45a0-9c33-43f292b523a3",
        "outputId": "dd9f5feb-7aec-44a9-9095-9f8df4c72072",
        "colab": {
          "base_uri": "https://localhost:8080/"
        }
      },
      "outputs": [
        {
          "output_type": "stream",
          "name": "stdout",
          "text": [
            "Hello from a function\n"
          ]
        }
      ],
      "source": [
        "my_function()"
      ]
    },
    {
      "cell_type": "code",
      "execution_count": null,
      "id": "b5186b48-364d-4c1a-999b-d6b8e35812a0",
      "metadata": {
        "id": "b5186b48-364d-4c1a-999b-d6b8e35812a0",
        "outputId": "77587bc8-4c54-4f9a-b3c7-3f6a66a53f8b",
        "colab": {
          "base_uri": "https://localhost:8080/"
        }
      },
      "outputs": [
        {
          "output_type": "stream",
          "name": "stdout",
          "text": [
            "Hello from a function\n"
          ]
        }
      ],
      "source": [
        "my_function()"
      ]
    },
    {
      "cell_type": "code",
      "execution_count": null,
      "id": "ef0c480e-146f-415c-b6c5-4eb473a2bf08",
      "metadata": {
        "id": "ef0c480e-146f-415c-b6c5-4eb473a2bf08"
      },
      "outputs": [],
      "source": [
        "### Arguements\n",
        "\n",
        "def my_function(name,age):\n",
        "    print(f\"{name} is {age} years old\")"
      ]
    },
    {
      "cell_type": "code",
      "execution_count": null,
      "id": "8917f59d-f803-4aa6-9217-52cf807e8fa8",
      "metadata": {
        "id": "8917f59d-f803-4aa6-9217-52cf807e8fa8",
        "outputId": "eba560ff-0f32-4cd8-ea67-0c479650548b",
        "colab": {
          "base_uri": "https://localhost:8080/"
        }
      },
      "outputs": [
        {
          "output_type": "stream",
          "name": "stdout",
          "text": [
            "Rohan is 18 years old\n"
          ]
        }
      ],
      "source": [
        "my_function(\"Rohan\",18)   ### Positional args"
      ]
    },
    {
      "cell_type": "code",
      "execution_count": null,
      "id": "66a2b838-a741-4836-a23a-bdb3844c6565",
      "metadata": {
        "id": "66a2b838-a741-4836-a23a-bdb3844c6565",
        "outputId": "6b1f6343-f89d-4334-c8a3-7d3c7c39ffce",
        "colab": {
          "base_uri": "https://localhost:8080/"
        }
      },
      "outputs": [
        {
          "output_type": "stream",
          "name": "stdout",
          "text": [
            "sohan is 18 years old\n"
          ]
        }
      ],
      "source": [
        "my_function(age=18,name=\"sohan\")   # Keyword arguements"
      ]
    },
    {
      "cell_type": "code",
      "execution_count": null,
      "id": "c5aed7b6-c0c0-4414-801f-9fe78ffb2c4e",
      "metadata": {
        "id": "c5aed7b6-c0c0-4414-801f-9fe78ffb2c4e"
      },
      "outputs": [],
      "source": [
        "def my_function(*students):\n",
        "    print(\"Topper : \",students[0])\n",
        "    print(\"Failure : \",students[-1])"
      ]
    },
    {
      "cell_type": "code",
      "execution_count": null,
      "id": "0f56caa0-397a-4fab-9ee3-42180cd39503",
      "metadata": {
        "id": "0f56caa0-397a-4fab-9ee3-42180cd39503",
        "outputId": "0845f03d-d1ed-457b-d8ef-d769a1b3b0a1",
        "colab": {
          "base_uri": "https://localhost:8080/"
        }
      },
      "outputs": [
        {
          "output_type": "stream",
          "name": "stdout",
          "text": [
            "Topper :  studennt0\n",
            "Failure :  student5\n"
          ]
        }
      ],
      "source": [
        "my_function(\"studennt0\",\"student1\",\"student2\",\"student3\",\"student4\",\"student5\")"
      ]
    },
    {
      "cell_type": "code",
      "execution_count": null,
      "id": "df5aa335-da5d-44cf-9309-24d85697420e",
      "metadata": {
        "id": "df5aa335-da5d-44cf-9309-24d85697420e"
      },
      "outputs": [],
      "source": [
        "### Deafault value\n",
        "def my_function(name=\"None\",age=18):\n",
        "    print(f\"{name} is {age} years old\")"
      ]
    },
    {
      "cell_type": "code",
      "execution_count": null,
      "id": "1704eae5-ce6a-4772-837e-830aa6dcc844",
      "metadata": {
        "id": "1704eae5-ce6a-4772-837e-830aa6dcc844",
        "outputId": "dec95795-ca2d-43ff-92ea-53a322e9a5f8",
        "colab": {
          "base_uri": "https://localhost:8080/"
        }
      },
      "outputs": [
        {
          "output_type": "stream",
          "name": "stdout",
          "text": [
            "None is 18 years old\n"
          ]
        }
      ],
      "source": [
        "my_function()"
      ]
    },
    {
      "cell_type": "code",
      "execution_count": null,
      "id": "a4a5e7b5-8604-4109-9a6a-72cbb050a50b",
      "metadata": {
        "id": "a4a5e7b5-8604-4109-9a6a-72cbb050a50b"
      },
      "outputs": [],
      "source": [
        "def my_function():\n",
        "    pass"
      ]
    },
    {
      "cell_type": "code",
      "execution_count": null,
      "id": "6af5311e-c646-4677-8ae7-1bdf36eec142",
      "metadata": {
        "id": "6af5311e-c646-4677-8ae7-1bdf36eec142"
      },
      "outputs": [],
      "source": [
        "### Return statement\n",
        "def adder(a,b,c):\n",
        "    return a+b+c"
      ]
    },
    {
      "cell_type": "code",
      "execution_count": null,
      "id": "0b22b486-49cd-46de-8c8e-8a9e80236f63",
      "metadata": {
        "id": "0b22b486-49cd-46de-8c8e-8a9e80236f63"
      },
      "outputs": [],
      "source": [
        "z=adder(2,3,4)"
      ]
    },
    {
      "cell_type": "code",
      "execution_count": null,
      "id": "0f22c08a-e125-48d6-8aaa-4d08aadb3ed3",
      "metadata": {
        "id": "0f22c08a-e125-48d6-8aaa-4d08aadb3ed3",
        "outputId": "9412d8f4-e9c1-429f-e84f-2f468f00a78a",
        "colab": {
          "base_uri": "https://localhost:8080/"
        }
      },
      "outputs": [
        {
          "output_type": "stream",
          "name": "stdout",
          "text": [
            "9\n"
          ]
        }
      ],
      "source": [
        "print(z)"
      ]
    },
    {
      "cell_type": "code",
      "execution_count": null,
      "id": "f4b494d5-495b-45d9-91a0-6761f0633cac",
      "metadata": {
        "id": "f4b494d5-495b-45d9-91a0-6761f0633cac"
      },
      "outputs": [],
      "source": []
    },
    {
      "cell_type": "code",
      "execution_count": null,
      "id": "c9d7bed1-bb18-4c9a-acfc-602f7aa135fe",
      "metadata": {
        "id": "c9d7bed1-bb18-4c9a-acfc-602f7aa135fe"
      },
      "outputs": [],
      "source": []
    },
    {
      "cell_type": "code",
      "execution_count": null,
      "id": "3e180288-1ac3-478c-9fd6-c12497b2b4d4",
      "metadata": {
        "id": "3e180288-1ac3-478c-9fd6-c12497b2b4d4"
      },
      "outputs": [],
      "source": []
    },
    {
      "cell_type": "code",
      "execution_count": null,
      "id": "9f4fca0f-002d-429b-99fb-019928867c0a",
      "metadata": {
        "id": "9f4fca0f-002d-429b-99fb-019928867c0a"
      },
      "outputs": [],
      "source": []
    },
    {
      "cell_type": "markdown",
      "id": "9d858aa6-09ba-4bb8-a097-6500a219ae1c",
      "metadata": {
        "id": "9d858aa6-09ba-4bb8-a097-6500a219ae1c"
      },
      "source": [
        "### 16. Lambda Functions"
      ]
    },
    {
      "cell_type": "code",
      "execution_count": null,
      "id": "333532bd-e424-4ba1-877b-8ba92f9adde1",
      "metadata": {
        "id": "333532bd-e424-4ba1-877b-8ba92f9adde1"
      },
      "outputs": [],
      "source": [
        "x = lambda a : a+10"
      ]
    },
    {
      "cell_type": "code",
      "execution_count": null,
      "id": "7171df51-d464-47e6-91c9-e84af62e3b68",
      "metadata": {
        "id": "7171df51-d464-47e6-91c9-e84af62e3b68",
        "outputId": "7f326919-56f8-432c-8f85-b670a2ad5b59",
        "colab": {
          "base_uri": "https://localhost:8080/"
        }
      },
      "outputs": [
        {
          "output_type": "execute_result",
          "data": {
            "text/plain": [
              "30"
            ]
          },
          "metadata": {},
          "execution_count": 1130
        }
      ],
      "source": [
        "x(20)"
      ]
    },
    {
      "cell_type": "code",
      "execution_count": null,
      "id": "a76d16d7-c990-407f-88d7-2135872b9466",
      "metadata": {
        "id": "a76d16d7-c990-407f-88d7-2135872b9466"
      },
      "outputs": [],
      "source": [
        "x = lambda a,b,c : a+b+c"
      ]
    },
    {
      "cell_type": "code",
      "execution_count": null,
      "id": "586021da-02f1-43b2-b68e-7639d11bdbf0",
      "metadata": {
        "id": "586021da-02f1-43b2-b68e-7639d11bdbf0",
        "outputId": "6d4c344e-5a50-4793-ef88-5ae13f68327b",
        "colab": {
          "base_uri": "https://localhost:8080/"
        }
      },
      "outputs": [
        {
          "output_type": "execute_result",
          "data": {
            "text/plain": [
              "41"
            ]
          },
          "metadata": {},
          "execution_count": 1132
        }
      ],
      "source": [
        "x(1,20,20)"
      ]
    },
    {
      "cell_type": "markdown",
      "id": "05cbd566-395a-45c3-9e2c-8afc3674990b",
      "metadata": {
        "id": "05cbd566-395a-45c3-9e2c-8afc3674990b"
      },
      "source": [
        "### 17. Map Function"
      ]
    },
    {
      "cell_type": "code",
      "execution_count": null,
      "id": "dae922fe-bccc-41f3-8f33-e104c6b8668b",
      "metadata": {
        "id": "dae922fe-bccc-41f3-8f33-e104c6b8668b"
      },
      "outputs": [],
      "source": [
        "numbers = [1,2,3,4,5]\n",
        "square = list(map(lambda x:x*x  , numbers))"
      ]
    },
    {
      "cell_type": "code",
      "execution_count": null,
      "id": "b0246943-b706-4058-b16c-51e9fed9d23e",
      "metadata": {
        "id": "b0246943-b706-4058-b16c-51e9fed9d23e",
        "outputId": "7fbf2da9-e5fe-4ac4-9f72-3d462270a39e",
        "colab": {
          "base_uri": "https://localhost:8080/"
        }
      },
      "outputs": [
        {
          "output_type": "execute_result",
          "data": {
            "text/plain": [
              "[1, 4, 9, 16, 25]"
            ]
          },
          "metadata": {},
          "execution_count": 1134
        }
      ],
      "source": [
        "square"
      ]
    },
    {
      "cell_type": "markdown",
      "id": "2b9712d6-6b1c-41e7-b2ac-79d1764f2c00",
      "metadata": {
        "id": "2b9712d6-6b1c-41e7-b2ac-79d1764f2c00"
      },
      "source": [
        "### 18. Filter Function"
      ]
    },
    {
      "cell_type": "code",
      "execution_count": null,
      "id": "74564cff-51cc-43e7-aeb8-d31e7ca78d21",
      "metadata": {
        "id": "74564cff-51cc-43e7-aeb8-d31e7ca78d21"
      },
      "outputs": [],
      "source": [
        "list1 = [1,2,3,4,5,6,7,8,9,10]\n",
        "\n",
        "even = list(filter(lambda x:x%2==0 , list1))"
      ]
    },
    {
      "cell_type": "code",
      "execution_count": null,
      "id": "db9a8ebc-3809-4f86-807b-c9ead3be9a40",
      "metadata": {
        "id": "db9a8ebc-3809-4f86-807b-c9ead3be9a40",
        "outputId": "4a126624-dd45-4180-83de-530ed4ca4f6b",
        "colab": {
          "base_uri": "https://localhost:8080/"
        }
      },
      "outputs": [
        {
          "output_type": "execute_result",
          "data": {
            "text/plain": [
              "[2, 4, 6, 8, 10]"
            ]
          },
          "metadata": {},
          "execution_count": 1136
        }
      ],
      "source": [
        "even"
      ]
    },
    {
      "cell_type": "markdown",
      "id": "64005458-1dd3-4867-80a0-e5ad6d4d23c6",
      "metadata": {
        "id": "64005458-1dd3-4867-80a0-e5ad6d4d23c6"
      },
      "source": [
        "### 19. User Input"
      ]
    },
    {
      "cell_type": "code",
      "execution_count": null,
      "id": "1ba00702-ded3-457c-accc-4ac5cc4cae9d",
      "metadata": {
        "id": "1ba00702-ded3-457c-accc-4ac5cc4cae9d",
        "outputId": "7b5fa4cc-4ecf-4ce3-cea0-3ab53a18a02f",
        "colab": {
          "base_uri": "https://localhost:8080/"
        }
      },
      "outputs": [
        {
          "name": "stdout",
          "output_type": "stream",
          "text": [
            "Enter your name10\n"
          ]
        }
      ],
      "source": [
        "string1 = int(input(\"Enter your name\"))"
      ]
    },
    {
      "cell_type": "code",
      "execution_count": null,
      "id": "b6ea6dd1-555c-47b8-940b-74d5a4558313",
      "metadata": {
        "id": "b6ea6dd1-555c-47b8-940b-74d5a4558313",
        "outputId": "96ae305e-0384-479b-c05e-ec0b00a423d9",
        "colab": {
          "base_uri": "https://localhost:8080/"
        }
      },
      "outputs": [
        {
          "output_type": "execute_result",
          "data": {
            "text/plain": [
              "10"
            ]
          },
          "metadata": {},
          "execution_count": 1140
        }
      ],
      "source": [
        "string1"
      ]
    },
    {
      "cell_type": "markdown",
      "id": "4a6bb81d-1a2e-4693-853a-eb3476a0c797",
      "metadata": {
        "id": "4a6bb81d-1a2e-4693-853a-eb3476a0c797"
      },
      "source": [
        "### 20. Python Modules`"
      ]
    },
    {
      "cell_type": "code",
      "execution_count": null,
      "id": "dbc62e87-4f7b-48db-865c-3344eb27b30a",
      "metadata": {
        "id": "dbc62e87-4f7b-48db-865c-3344eb27b30a"
      },
      "outputs": [],
      "source": [
        "### from function import *"
      ]
    },
    {
      "cell_type": "code",
      "execution_count": null,
      "id": "8ec19bd8-6e55-41a1-a5e5-8a1817e8c267",
      "metadata": {
        "id": "8ec19bd8-6e55-41a1-a5e5-8a1817e8c267",
        "outputId": "a918ede2-2aa8-4afa-caaf-08f0c1456bf7",
        "colab": {
          "base_uri": "https://localhost:8080/",
          "height": 141
        }
      },
      "outputs": [
        {
          "output_type": "error",
          "ename": "NameError",
          "evalue": "name 'say_name' is not defined",
          "traceback": [
            "\u001b[0;31m---------------------------------------------------------------------------\u001b[0m",
            "\u001b[0;31mNameError\u001b[0m                                 Traceback (most recent call last)",
            "\u001b[0;32m<ipython-input-1143-dd5165a04969>\u001b[0m in \u001b[0;36m<cell line: 1>\u001b[0;34m()\u001b[0m\n\u001b[0;32m----> 1\u001b[0;31m \u001b[0msay_name\u001b[0m\u001b[0;34m(\u001b[0m\u001b[0;34m\"Rohan\"\u001b[0m\u001b[0;34m)\u001b[0m\u001b[0;34m\u001b[0m\u001b[0;34m\u001b[0m\u001b[0m\n\u001b[0m",
            "\u001b[0;31mNameError\u001b[0m: name 'say_name' is not defined"
          ]
        }
      ],
      "source": [
        "say_name(\"Rohan\")"
      ]
    },
    {
      "cell_type": "code",
      "execution_count": null,
      "id": "2c77b0ec-bfa9-4aab-9132-e2494e5197d5",
      "metadata": {
        "id": "2c77b0ec-bfa9-4aab-9132-e2494e5197d5",
        "outputId": "bbba0574-e2e3-4c13-81a1-20722758cba0",
        "colab": {
          "base_uri": "https://localhost:8080/",
          "height": 141
        }
      },
      "outputs": [
        {
          "output_type": "error",
          "ename": "NameError",
          "evalue": "name 'hello_world' is not defined",
          "traceback": [
            "\u001b[0;31m---------------------------------------------------------------------------\u001b[0m",
            "\u001b[0;31mNameError\u001b[0m                                 Traceback (most recent call last)",
            "\u001b[0;32m<ipython-input-1144-cb3310fd1801>\u001b[0m in \u001b[0;36m<cell line: 1>\u001b[0;34m()\u001b[0m\n\u001b[0;32m----> 1\u001b[0;31m \u001b[0mhello_world\u001b[0m\u001b[0;34m(\u001b[0m\u001b[0;34m)\u001b[0m\u001b[0;34m\u001b[0m\u001b[0;34m\u001b[0m\u001b[0m\n\u001b[0m",
            "\u001b[0;31mNameError\u001b[0m: name 'hello_world' is not defined"
          ]
        }
      ],
      "source": [
        "hello_world()"
      ]
    },
    {
      "cell_type": "markdown",
      "id": "b532e503-6cf5-4b82-85f6-2c8fe0d46a6e",
      "metadata": {
        "id": "b532e503-6cf5-4b82-85f6-2c8fe0d46a6e"
      },
      "source": [
        "### 21. PIP Package"
      ]
    },
    {
      "cell_type": "code",
      "execution_count": null,
      "id": "50733f3c-d4d0-4ddd-be7b-3796fb7268d3",
      "metadata": {
        "id": "50733f3c-d4d0-4ddd-be7b-3796fb7268d3"
      },
      "outputs": [],
      "source": [
        "!pip install numpy"
      ]
    },
    {
      "cell_type": "code",
      "execution_count": null,
      "id": "b8e26f04-34b4-4af1-b4de-c3030ce01ad8",
      "metadata": {
        "id": "b8e26f04-34b4-4af1-b4de-c3030ce01ad8"
      },
      "outputs": [],
      "source": [
        "!pip uninstall numpy"
      ]
    },
    {
      "cell_type": "markdown",
      "id": "2d64b05e-3ee8-4fcc-9919-053adc5c44ea",
      "metadata": {
        "id": "2d64b05e-3ee8-4fcc-9919-053adc5c44ea"
      },
      "source": [
        "### 22. Python Dates"
      ]
    },
    {
      "cell_type": "code",
      "execution_count": null,
      "id": "484733d4-f25a-4641-9afe-629831679d4e",
      "metadata": {
        "id": "484733d4-f25a-4641-9afe-629831679d4e"
      },
      "outputs": [],
      "source": [
        "import datetime"
      ]
    },
    {
      "cell_type": "code",
      "execution_count": null,
      "id": "d7c93dd6-c7f0-4ae2-a06c-61497a7171d3",
      "metadata": {
        "id": "d7c93dd6-c7f0-4ae2-a06c-61497a7171d3"
      },
      "outputs": [],
      "source": [
        "x=datetime.datetime.now()"
      ]
    },
    {
      "cell_type": "code",
      "execution_count": null,
      "id": "ac7e96b9-7e8d-41ab-8244-440bdbbb8e94",
      "metadata": {
        "id": "ac7e96b9-7e8d-41ab-8244-440bdbbb8e94",
        "outputId": "fe8d4cff-3ba3-4823-d925-48ad4251b8c8",
        "colab": {
          "base_uri": "https://localhost:8080/"
        }
      },
      "outputs": [
        {
          "output_type": "stream",
          "name": "stdout",
          "text": [
            "2024-12-01 13:04:43.445531\n"
          ]
        }
      ],
      "source": [
        "print(x)"
      ]
    },
    {
      "cell_type": "code",
      "execution_count": null,
      "id": "03beabb9-fe27-4267-8057-ac1563a54ee1",
      "metadata": {
        "id": "03beabb9-fe27-4267-8057-ac1563a54ee1",
        "outputId": "6906abcf-fe1a-434a-9432-43c64d073d26",
        "colab": {
          "base_uri": "https://localhost:8080/"
        }
      },
      "outputs": [
        {
          "output_type": "execute_result",
          "data": {
            "text/plain": [
              "43"
            ]
          },
          "metadata": {},
          "execution_count": 1148
        }
      ],
      "source": [
        "x.second"
      ]
    },
    {
      "cell_type": "code",
      "execution_count": null,
      "id": "df6a413d-3d52-4500-8bdc-d22cec79527c",
      "metadata": {
        "id": "df6a413d-3d52-4500-8bdc-d22cec79527c"
      },
      "outputs": [],
      "source": [
        "### Create Date Objects\n",
        "a = datetime.datetime(2024,9,8)"
      ]
    },
    {
      "cell_type": "code",
      "execution_count": null,
      "id": "655da8c1-7f5c-4928-b32d-735acb96db8b",
      "metadata": {
        "id": "655da8c1-7f5c-4928-b32d-735acb96db8b",
        "outputId": "3c769c3c-2562-4e43-8caa-42cfd774bf37",
        "colab": {
          "base_uri": "https://localhost:8080/"
        }
      },
      "outputs": [
        {
          "output_type": "stream",
          "name": "stdout",
          "text": [
            "2024-09-08 00:00:00\n"
          ]
        }
      ],
      "source": [
        "print(a)"
      ]
    },
    {
      "cell_type": "code",
      "execution_count": null,
      "id": "faa01e7b-f91d-46d9-aec5-442e9870fe58",
      "metadata": {
        "id": "faa01e7b-f91d-46d9-aec5-442e9870fe58"
      },
      "outputs": [],
      "source": [
        "## strftime method"
      ]
    },
    {
      "cell_type": "code",
      "execution_count": null,
      "id": "dec06b5d-a3e1-401e-8c00-d9c5f797852e",
      "metadata": {
        "id": "dec06b5d-a3e1-401e-8c00-d9c5f797852e",
        "outputId": "7b8d6eac-4d3d-4e79-bd34-0bdb14b08193",
        "colab": {
          "base_uri": "https://localhost:8080/"
        }
      },
      "outputs": [
        {
          "output_type": "stream",
          "name": "stdout",
          "text": [
            "2024-09-08 00:00:00\n"
          ]
        }
      ],
      "source": [
        "print(a)"
      ]
    },
    {
      "cell_type": "code",
      "execution_count": null,
      "id": "003d7a05-3a16-4d47-816e-027418ccda3b",
      "metadata": {
        "id": "003d7a05-3a16-4d47-816e-027418ccda3b",
        "outputId": "7797c724-efca-4296-f6d9-6ca29707865d",
        "colab": {
          "base_uri": "https://localhost:8080/"
        }
      },
      "outputs": [
        {
          "output_type": "execute_result",
          "data": {
            "text/plain": [
              "8"
            ]
          },
          "metadata": {},
          "execution_count": 1153
        }
      ],
      "source": [
        "a.day"
      ]
    },
    {
      "cell_type": "code",
      "execution_count": null,
      "id": "ade3da17-228b-4e2c-8a2a-4594ba624f36",
      "metadata": {
        "id": "ade3da17-228b-4e2c-8a2a-4594ba624f36",
        "outputId": "8de35e46-d515-45e5-8b60-2ec8f59f3b52",
        "colab": {
          "base_uri": "https://localhost:8080/",
          "height": 36
        }
      },
      "outputs": [
        {
          "output_type": "execute_result",
          "data": {
            "text/plain": [
              "'September'"
            ],
            "application/vnd.google.colaboratory.intrinsic+json": {
              "type": "string"
            }
          },
          "metadata": {},
          "execution_count": 1154
        }
      ],
      "source": [
        "a.strftime(\"%B\")"
      ]
    },
    {
      "cell_type": "markdown",
      "id": "28f69d73-bf99-45b5-92d0-0ca819f4bfcd",
      "metadata": {
        "id": "28f69d73-bf99-45b5-92d0-0ca819f4bfcd"
      },
      "source": [
        "### 23. Python JSON"
      ]
    },
    {
      "cell_type": "code",
      "execution_count": null,
      "id": "1aca153f-fd5a-4da7-aa7d-a07006c48a5f",
      "metadata": {
        "id": "1aca153f-fd5a-4da7-aa7d-a07006c48a5f"
      },
      "outputs": [],
      "source": [
        "import json"
      ]
    },
    {
      "cell_type": "code",
      "execution_count": null,
      "id": "e71bfb6d-7f4c-4846-82c8-3ae06c177c8b",
      "metadata": {
        "id": "e71bfb6d-7f4c-4846-82c8-3ae06c177c8b"
      },
      "outputs": [],
      "source": [
        "api = '{ \"name\":\"Rohan\" , \"age\":19 , \"Grade\" : \"A+\" }'"
      ]
    },
    {
      "cell_type": "code",
      "execution_count": null,
      "id": "82b6fb19-5a55-421f-8776-234910724474",
      "metadata": {
        "id": "82b6fb19-5a55-421f-8776-234910724474",
        "outputId": "18abe979-521d-47af-9dcd-2221c7d0839c",
        "colab": {
          "base_uri": "https://localhost:8080/"
        }
      },
      "outputs": [
        {
          "output_type": "execute_result",
          "data": {
            "text/plain": [
              "str"
            ]
          },
          "metadata": {},
          "execution_count": 1157
        }
      ],
      "source": [
        "type(api)"
      ]
    },
    {
      "cell_type": "code",
      "execution_count": null,
      "id": "15b0f065-0968-4582-bea9-201153b2e2b4",
      "metadata": {
        "id": "15b0f065-0968-4582-bea9-201153b2e2b4"
      },
      "outputs": [],
      "source": [
        "#### Convert it to dictionary\n",
        "dict1 = json.loads(api)"
      ]
    },
    {
      "cell_type": "code",
      "execution_count": null,
      "id": "8795a432-9869-4732-bb84-25500d86e601",
      "metadata": {
        "id": "8795a432-9869-4732-bb84-25500d86e601",
        "outputId": "55c3f11f-c973-4183-d35c-cc36f8a4f3cc",
        "colab": {
          "base_uri": "https://localhost:8080/"
        }
      },
      "outputs": [
        {
          "output_type": "execute_result",
          "data": {
            "text/plain": [
              "{'name': 'Rohan', 'age': 19, 'Grade': 'A+'}"
            ]
          },
          "metadata": {},
          "execution_count": 1159
        }
      ],
      "source": [
        "dict1"
      ]
    },
    {
      "cell_type": "code",
      "execution_count": null,
      "id": "1dcfd8f5-ed44-4557-991f-a208de41ed1f",
      "metadata": {
        "id": "1dcfd8f5-ed44-4557-991f-a208de41ed1f",
        "outputId": "05115490-186e-4f4d-9753-23a6530e37c1",
        "colab": {
          "base_uri": "https://localhost:8080/"
        }
      },
      "outputs": [
        {
          "output_type": "execute_result",
          "data": {
            "text/plain": [
              "dict"
            ]
          },
          "metadata": {},
          "execution_count": 1160
        }
      ],
      "source": [
        "type(dict1)"
      ]
    },
    {
      "cell_type": "code",
      "execution_count": null,
      "id": "84d8767f-d3ed-4485-a0fb-e7701c5c81fd",
      "metadata": {
        "id": "84d8767f-d3ed-4485-a0fb-e7701c5c81fd",
        "outputId": "c702a854-9015-44a3-d68f-1ab8fb5da089",
        "colab": {
          "base_uri": "https://localhost:8080/"
        }
      },
      "outputs": [
        {
          "output_type": "execute_result",
          "data": {
            "text/plain": [
              "19"
            ]
          },
          "metadata": {},
          "execution_count": 1161
        }
      ],
      "source": [
        "dict1[\"age\"]"
      ]
    },
    {
      "cell_type": "code",
      "execution_count": null,
      "id": "2984f88c-9a5f-4042-a220-366d881696a2",
      "metadata": {
        "id": "2984f88c-9a5f-4042-a220-366d881696a2",
        "outputId": "339355ff-6d27-47ac-e26c-be68af775baf",
        "colab": {
          "base_uri": "https://localhost:8080/"
        }
      },
      "outputs": [
        {
          "output_type": "execute_result",
          "data": {
            "text/plain": [
              "{'name': 'Rohan', 'age': 19, 'Grade': 'A+'}"
            ]
          },
          "metadata": {},
          "execution_count": 1162
        }
      ],
      "source": [
        "#### Reconvert back to api\n",
        "dict1"
      ]
    },
    {
      "cell_type": "code",
      "execution_count": null,
      "id": "44c36023-e4ef-4ef5-aa81-4f7695a8ea0b",
      "metadata": {
        "id": "44c36023-e4ef-4ef5-aa81-4f7695a8ea0b"
      },
      "outputs": [],
      "source": [
        "api = json.dumps(dict1)"
      ]
    },
    {
      "cell_type": "code",
      "execution_count": null,
      "id": "6ebc1f7a-2396-4f6c-bcaf-e5b1aced06d9",
      "metadata": {
        "id": "6ebc1f7a-2396-4f6c-bcaf-e5b1aced06d9",
        "outputId": "a833f0de-6a9a-4019-e08d-e41c81ad464e",
        "colab": {
          "base_uri": "https://localhost:8080/",
          "height": 36
        }
      },
      "outputs": [
        {
          "output_type": "execute_result",
          "data": {
            "text/plain": [
              "'{\"name\": \"Rohan\", \"age\": 19, \"Grade\": \"A+\"}'"
            ],
            "application/vnd.google.colaboratory.intrinsic+json": {
              "type": "string"
            }
          },
          "metadata": {},
          "execution_count": 1164
        }
      ],
      "source": [
        "api"
      ]
    },
    {
      "cell_type": "code",
      "execution_count": null,
      "id": "70e60c96-6880-43f2-a759-b3c92b94b8b4",
      "metadata": {
        "id": "70e60c96-6880-43f2-a759-b3c92b94b8b4",
        "outputId": "a5cc6f58-e2e3-48ae-c738-6eea3daa8607",
        "colab": {
          "base_uri": "https://localhost:8080/"
        }
      },
      "outputs": [
        {
          "output_type": "execute_result",
          "data": {
            "text/plain": [
              "str"
            ]
          },
          "metadata": {},
          "execution_count": 1165
        }
      ],
      "source": [
        "type(api)"
      ]
    },
    {
      "cell_type": "markdown",
      "id": "de6209bb-4a2c-4dfd-b153-df2f3082f667",
      "metadata": {
        "id": "de6209bb-4a2c-4dfd-b153-df2f3082f667"
      },
      "source": [
        "### 24. Python Try-Except"
      ]
    },
    {
      "cell_type": "code",
      "execution_count": null,
      "id": "b4fb3d7c-1639-49c6-bb14-916a940d9768",
      "metadata": {
        "id": "b4fb3d7c-1639-49c6-bb14-916a940d9768"
      },
      "outputs": [],
      "source": [
        "a=10\n",
        "b=0"
      ]
    },
    {
      "cell_type": "code",
      "execution_count": null,
      "id": "9cf36de5-6313-4751-b77a-17f419b8b4f9",
      "metadata": {
        "id": "9cf36de5-6313-4751-b77a-17f419b8b4f9"
      },
      "outputs": [],
      "source": [
        "### c = a/b"
      ]
    },
    {
      "cell_type": "code",
      "execution_count": null,
      "id": "724d7415-3d74-4b4e-9898-111c6fb56c84",
      "metadata": {
        "id": "724d7415-3d74-4b4e-9898-111c6fb56c84"
      },
      "outputs": [],
      "source": [
        "def my_function(a,b):\n",
        "    return a/b"
      ]
    },
    {
      "cell_type": "code",
      "execution_count": null,
      "id": "65b68de1-d0ac-4219-9ddc-7088dd195e64",
      "metadata": {
        "id": "65b68de1-d0ac-4219-9ddc-7088dd195e64"
      },
      "outputs": [],
      "source": [
        "def my_function(a,b):\n",
        "    try:\n",
        "        return a/b\n",
        "    except:\n",
        "        print(\"Cannot divide by zero\")"
      ]
    },
    {
      "cell_type": "code",
      "execution_count": null,
      "id": "8c844ba9-4c53-47b5-a9b4-0f15c414a8ad",
      "metadata": {
        "id": "8c844ba9-4c53-47b5-a9b4-0f15c414a8ad",
        "outputId": "b099703b-4259-4b6f-9a4e-c69960b9a49b",
        "colab": {
          "base_uri": "https://localhost:8080/"
        }
      },
      "outputs": [
        {
          "output_type": "stream",
          "name": "stdout",
          "text": [
            "Cannot divide by zero\n"
          ]
        }
      ],
      "source": [
        "my_function(10,0)"
      ]
    },
    {
      "cell_type": "code",
      "execution_count": null,
      "id": "5e64e4a8-553f-40bc-b0b2-786e6b5ee944",
      "metadata": {
        "id": "5e64e4a8-553f-40bc-b0b2-786e6b5ee944"
      },
      "outputs": [],
      "source": []
    },
    {
      "cell_type": "code",
      "execution_count": null,
      "id": "0e1947c2-c836-4509-8ba1-51e0ece495b8",
      "metadata": {
        "id": "0e1947c2-c836-4509-8ba1-51e0ece495b8"
      },
      "outputs": [],
      "source": []
    },
    {
      "cell_type": "code",
      "execution_count": null,
      "id": "e690840a-8307-49fe-b0c3-b6cff8545518",
      "metadata": {
        "id": "e690840a-8307-49fe-b0c3-b6cff8545518"
      },
      "outputs": [],
      "source": []
    },
    {
      "cell_type": "markdown",
      "id": "16b77447-b265-4f60-b30e-9278104ab7cd",
      "metadata": {
        "id": "16b77447-b265-4f60-b30e-9278104ab7cd"
      },
      "source": [
        "### 25. File Handling"
      ]
    },
    {
      "cell_type": "code",
      "execution_count": null,
      "id": "344984ca-bfe4-45a9-ad92-da477f9dc2cb",
      "metadata": {
        "id": "344984ca-bfe4-45a9-ad92-da477f9dc2cb",
        "colab": {
          "base_uri": "https://localhost:8080/",
          "height": 158
        },
        "outputId": "9966b5a1-78da-4af3-f20a-161560bb4e6f"
      },
      "outputs": [
        {
          "output_type": "error",
          "ename": "FileNotFoundError",
          "evalue": "[Errno 2] No such file or directory: 'practice.txt'",
          "traceback": [
            "\u001b[0;31m---------------------------------------------------------------------------\u001b[0m",
            "\u001b[0;31mFileNotFoundError\u001b[0m                         Traceback (most recent call last)",
            "\u001b[0;32m<ipython-input-1176-778ca6941c81>\u001b[0m in \u001b[0;36m<cell line: 2>\u001b[0;34m()\u001b[0m\n\u001b[1;32m      1\u001b[0m \u001b[0;31m#### Open a file\u001b[0m\u001b[0;34m\u001b[0m\u001b[0;34m\u001b[0m\u001b[0m\n\u001b[0;32m----> 2\u001b[0;31m \u001b[0mf\u001b[0m \u001b[0;34m=\u001b[0m \u001b[0mopen\u001b[0m\u001b[0;34m(\u001b[0m\u001b[0;34m\"practice.txt\"\u001b[0m\u001b[0;34m,\u001b[0m\u001b[0;34m\"r\"\u001b[0m\u001b[0;34m)\u001b[0m\u001b[0;34m\u001b[0m\u001b[0;34m\u001b[0m\u001b[0m\n\u001b[0m",
            "\u001b[0;31mFileNotFoundError\u001b[0m: [Errno 2] No such file or directory: 'practice.txt'"
          ]
        }
      ],
      "source": [
        "#### Open a file\n",
        "f = open(\"practice.txt\",\"r\")"
      ]
    },
    {
      "cell_type": "code",
      "execution_count": null,
      "id": "3dcc253d-cb7a-4c5b-ae96-9decd5f7e24b",
      "metadata": {
        "id": "3dcc253d-cb7a-4c5b-ae96-9decd5f7e24b"
      },
      "outputs": [],
      "source": [
        "### Read file\n",
        "print(f.read())"
      ]
    },
    {
      "cell_type": "code",
      "execution_count": null,
      "id": "0728d4a1-2dc1-4bb4-a00d-9f45dab35436",
      "metadata": {
        "id": "0728d4a1-2dc1-4bb4-a00d-9f45dab35436",
        "colab": {
          "base_uri": "https://localhost:8080/",
          "height": 158
        },
        "outputId": "0350504a-ec9e-4162-98c0-679fcbc08ada"
      },
      "outputs": [
        {
          "output_type": "error",
          "ename": "NameError",
          "evalue": "name 'f' is not defined",
          "traceback": [
            "\u001b[0;31m---------------------------------------------------------------------------\u001b[0m",
            "\u001b[0;31mNameError\u001b[0m                                 Traceback (most recent call last)",
            "\u001b[0;32m<ipython-input-1177-e3bc59c8b596>\u001b[0m in \u001b[0;36m<cell line: 2>\u001b[0;34m()\u001b[0m\n\u001b[1;32m      1\u001b[0m \u001b[0;31m### Close a file\u001b[0m\u001b[0;34m\u001b[0m\u001b[0;34m\u001b[0m\u001b[0m\n\u001b[0;32m----> 2\u001b[0;31m \u001b[0mf\u001b[0m\u001b[0;34m.\u001b[0m\u001b[0mclose\u001b[0m\u001b[0;34m(\u001b[0m\u001b[0;34m)\u001b[0m\u001b[0;34m\u001b[0m\u001b[0;34m\u001b[0m\u001b[0m\n\u001b[0m",
            "\u001b[0;31mNameError\u001b[0m: name 'f' is not defined"
          ]
        }
      ],
      "source": [
        "### Close a file\n",
        "f.close()"
      ]
    },
    {
      "cell_type": "code",
      "execution_count": null,
      "id": "9d949df2-416b-4be7-b1f2-507abb9f1e88",
      "metadata": {
        "id": "9d949df2-416b-4be7-b1f2-507abb9f1e88"
      },
      "outputs": [],
      "source": [
        "print(f.readline())\n",
        "print(f.readline())"
      ]
    },
    {
      "cell_type": "code",
      "execution_count": null,
      "id": "90d72c72-f98a-4991-9d86-aaccc4607e8d",
      "metadata": {
        "id": "90d72c72-f98a-4991-9d86-aaccc4607e8d"
      },
      "outputs": [],
      "source": [
        "for i in f:\n",
        "    print(i)"
      ]
    },
    {
      "cell_type": "code",
      "execution_count": null,
      "id": "0b5d029e-100e-4cd3-a7e9-51530bee6ea5",
      "metadata": {
        "id": "0b5d029e-100e-4cd3-a7e9-51530bee6ea5"
      },
      "outputs": [],
      "source": [
        "### \"a\" , \"w\""
      ]
    },
    {
      "cell_type": "code",
      "execution_count": null,
      "id": "58212778-8696-46d2-8868-68ab3d18406a",
      "metadata": {
        "id": "58212778-8696-46d2-8868-68ab3d18406a"
      },
      "outputs": [],
      "source": [
        "f = open(\"practice.txt\",\"a\")\n",
        "f.write(\"This is new content\")\n",
        "f.close()"
      ]
    },
    {
      "cell_type": "code",
      "execution_count": null,
      "id": "2514fb27-d704-48e2-a2d9-c66dd839697b",
      "metadata": {
        "id": "2514fb27-d704-48e2-a2d9-c66dd839697b"
      },
      "outputs": [],
      "source": [
        "f = open(\"practice.txt\",\"w\")\n",
        "f.write(\"This is new content\")\n",
        "f.close()"
      ]
    },
    {
      "cell_type": "code",
      "execution_count": null,
      "id": "c85dd581-2056-41de-832a-2e4172ad2e12",
      "metadata": {
        "id": "c85dd581-2056-41de-832a-2e4172ad2e12"
      },
      "outputs": [],
      "source": [
        "f = open(\"practice2.txt\" , \"x\")"
      ]
    },
    {
      "cell_type": "code",
      "execution_count": null,
      "id": "2470e0fd-073a-4888-ae21-73873af9bda3",
      "metadata": {
        "id": "2470e0fd-073a-4888-ae21-73873af9bda3"
      },
      "outputs": [],
      "source": [
        "f = open(\"practice.txt\",\"x\")"
      ]
    },
    {
      "cell_type": "code",
      "execution_count": null,
      "id": "cf0849b7-11a4-43b4-aca0-4b4b50e80d18",
      "metadata": {
        "id": "cf0849b7-11a4-43b4-aca0-4b4b50e80d18"
      },
      "outputs": [],
      "source": []
    }
  ],
  "metadata": {
    "kernelspec": {
      "display_name": "Python 3 (ipykernel)",
      "language": "python",
      "name": "python3"
    },
    "language_info": {
      "codemirror_mode": {
        "name": "ipython",
        "version": 3
      },
      "file_extension": ".py",
      "mimetype": "text/x-python",
      "name": "python",
      "nbconvert_exporter": "python",
      "pygments_lexer": "ipython3",
      "version": "3.11.7"
    },
    "colab": {
      "provenance": [],
      "include_colab_link": true
    }
  },
  "nbformat": 4,
  "nbformat_minor": 5
}